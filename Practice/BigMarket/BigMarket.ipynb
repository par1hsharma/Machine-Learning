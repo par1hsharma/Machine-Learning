{
 "cells": [
  {
   "cell_type": "code",
   "execution_count": 1,
   "id": "6717ddca",
   "metadata": {},
   "outputs": [],
   "source": [
    "import numpy as np\n",
    "import pandas as pd\n",
    "import matplotlib.pyplot as plt"
   ]
  },
  {
   "cell_type": "code",
   "execution_count": 2,
   "id": "59cc10b1",
   "metadata": {},
   "outputs": [
    {
     "data": {
      "text/html": [
       "<div>\n",
       "<style scoped>\n",
       "    .dataframe tbody tr th:only-of-type {\n",
       "        vertical-align: middle;\n",
       "    }\n",
       "\n",
       "    .dataframe tbody tr th {\n",
       "        vertical-align: top;\n",
       "    }\n",
       "\n",
       "    .dataframe thead th {\n",
       "        text-align: right;\n",
       "    }\n",
       "</style>\n",
       "<table border=\"1\" class=\"dataframe\">\n",
       "  <thead>\n",
       "    <tr style=\"text-align: right;\">\n",
       "      <th></th>\n",
       "      <th>Item_Identifier</th>\n",
       "      <th>Item_Weight</th>\n",
       "      <th>Item_Fat_Content</th>\n",
       "      <th>Item_Visibility</th>\n",
       "      <th>Item_Type</th>\n",
       "      <th>Item_MRP</th>\n",
       "      <th>Outlet_Identifier</th>\n",
       "      <th>Outlet_Establishment_Year</th>\n",
       "      <th>Outlet_Size</th>\n",
       "      <th>Outlet_Location_Type</th>\n",
       "      <th>Outlet_Type</th>\n",
       "      <th>Item_Outlet_Sales</th>\n",
       "    </tr>\n",
       "  </thead>\n",
       "  <tbody>\n",
       "    <tr>\n",
       "      <th>0</th>\n",
       "      <td>FDA15</td>\n",
       "      <td>9.30</td>\n",
       "      <td>Low Fat</td>\n",
       "      <td>0.016047</td>\n",
       "      <td>Dairy</td>\n",
       "      <td>249.8092</td>\n",
       "      <td>OUT049</td>\n",
       "      <td>1999</td>\n",
       "      <td>Medium</td>\n",
       "      <td>Tier 1</td>\n",
       "      <td>Supermarket Type1</td>\n",
       "      <td>3735.1380</td>\n",
       "    </tr>\n",
       "    <tr>\n",
       "      <th>1</th>\n",
       "      <td>DRC01</td>\n",
       "      <td>5.92</td>\n",
       "      <td>Regular</td>\n",
       "      <td>0.019278</td>\n",
       "      <td>Soft Drinks</td>\n",
       "      <td>48.2692</td>\n",
       "      <td>OUT018</td>\n",
       "      <td>2009</td>\n",
       "      <td>Medium</td>\n",
       "      <td>Tier 3</td>\n",
       "      <td>Supermarket Type2</td>\n",
       "      <td>443.4228</td>\n",
       "    </tr>\n",
       "    <tr>\n",
       "      <th>2</th>\n",
       "      <td>FDN15</td>\n",
       "      <td>17.50</td>\n",
       "      <td>Low Fat</td>\n",
       "      <td>0.016760</td>\n",
       "      <td>Meat</td>\n",
       "      <td>141.6180</td>\n",
       "      <td>OUT049</td>\n",
       "      <td>1999</td>\n",
       "      <td>Medium</td>\n",
       "      <td>Tier 1</td>\n",
       "      <td>Supermarket Type1</td>\n",
       "      <td>2097.2700</td>\n",
       "    </tr>\n",
       "    <tr>\n",
       "      <th>3</th>\n",
       "      <td>FDX07</td>\n",
       "      <td>19.20</td>\n",
       "      <td>Regular</td>\n",
       "      <td>0.000000</td>\n",
       "      <td>Fruits and Vegetables</td>\n",
       "      <td>182.0950</td>\n",
       "      <td>OUT010</td>\n",
       "      <td>1998</td>\n",
       "      <td>NaN</td>\n",
       "      <td>Tier 3</td>\n",
       "      <td>Grocery Store</td>\n",
       "      <td>732.3800</td>\n",
       "    </tr>\n",
       "    <tr>\n",
       "      <th>4</th>\n",
       "      <td>NCD19</td>\n",
       "      <td>8.93</td>\n",
       "      <td>Low Fat</td>\n",
       "      <td>0.000000</td>\n",
       "      <td>Household</td>\n",
       "      <td>53.8614</td>\n",
       "      <td>OUT013</td>\n",
       "      <td>1987</td>\n",
       "      <td>High</td>\n",
       "      <td>Tier 3</td>\n",
       "      <td>Supermarket Type1</td>\n",
       "      <td>994.7052</td>\n",
       "    </tr>\n",
       "  </tbody>\n",
       "</table>\n",
       "</div>"
      ],
      "text/plain": [
       "  Item_Identifier  Item_Weight Item_Fat_Content  Item_Visibility  \\\n",
       "0           FDA15         9.30          Low Fat         0.016047   \n",
       "1           DRC01         5.92          Regular         0.019278   \n",
       "2           FDN15        17.50          Low Fat         0.016760   \n",
       "3           FDX07        19.20          Regular         0.000000   \n",
       "4           NCD19         8.93          Low Fat         0.000000   \n",
       "\n",
       "               Item_Type  Item_MRP Outlet_Identifier  \\\n",
       "0                  Dairy  249.8092            OUT049   \n",
       "1            Soft Drinks   48.2692            OUT018   \n",
       "2                   Meat  141.6180            OUT049   \n",
       "3  Fruits and Vegetables  182.0950            OUT010   \n",
       "4              Household   53.8614            OUT013   \n",
       "\n",
       "   Outlet_Establishment_Year Outlet_Size Outlet_Location_Type  \\\n",
       "0                       1999      Medium               Tier 1   \n",
       "1                       2009      Medium               Tier 3   \n",
       "2                       1999      Medium               Tier 1   \n",
       "3                       1998         NaN               Tier 3   \n",
       "4                       1987        High               Tier 3   \n",
       "\n",
       "         Outlet_Type  Item_Outlet_Sales  \n",
       "0  Supermarket Type1          3735.1380  \n",
       "1  Supermarket Type2           443.4228  \n",
       "2  Supermarket Type1          2097.2700  \n",
       "3      Grocery Store           732.3800  \n",
       "4  Supermarket Type1           994.7052  "
      ]
     },
     "execution_count": 2,
     "metadata": {},
     "output_type": "execute_result"
    }
   ],
   "source": [
    "df=pd.read_csv('/Users/parthsharma/Desktop/Data Science CB/Practice/archive/Train.csv')\n",
    "df.head()"
   ]
  },
  {
   "cell_type": "code",
   "execution_count": 3,
   "id": "e17fc328",
   "metadata": {},
   "outputs": [
    {
     "data": {
      "text/plain": [
       "(8523, 12)"
      ]
     },
     "execution_count": 3,
     "metadata": {},
     "output_type": "execute_result"
    }
   ],
   "source": [
    "df.shape"
   ]
  },
  {
   "cell_type": "code",
   "execution_count": 4,
   "id": "0417d251",
   "metadata": {},
   "outputs": [
    {
     "name": "stdout",
     "output_type": "stream",
     "text": [
      "<class 'pandas.core.frame.DataFrame'>\n",
      "RangeIndex: 8523 entries, 0 to 8522\n",
      "Data columns (total 12 columns):\n",
      " #   Column                     Non-Null Count  Dtype  \n",
      "---  ------                     --------------  -----  \n",
      " 0   Item_Identifier            8523 non-null   object \n",
      " 1   Item_Weight                7060 non-null   float64\n",
      " 2   Item_Fat_Content           8523 non-null   object \n",
      " 3   Item_Visibility            8523 non-null   float64\n",
      " 4   Item_Type                  8523 non-null   object \n",
      " 5   Item_MRP                   8523 non-null   float64\n",
      " 6   Outlet_Identifier          8523 non-null   object \n",
      " 7   Outlet_Establishment_Year  8523 non-null   int64  \n",
      " 8   Outlet_Size                6113 non-null   object \n",
      " 9   Outlet_Location_Type       8523 non-null   object \n",
      " 10  Outlet_Type                8523 non-null   object \n",
      " 11  Item_Outlet_Sales          8523 non-null   float64\n",
      "dtypes: float64(4), int64(1), object(7)\n",
      "memory usage: 799.2+ KB\n"
     ]
    }
   ],
   "source": [
    "df.info()"
   ]
  },
  {
   "cell_type": "code",
   "execution_count": 5,
   "id": "e86a911b",
   "metadata": {},
   "outputs": [],
   "source": [
    "import seaborn as sns"
   ]
  },
  {
   "cell_type": "code",
   "execution_count": 6,
   "id": "fbc1936f",
   "metadata": {},
   "outputs": [],
   "source": [
    "df_corr=df.corr()"
   ]
  },
  {
   "cell_type": "code",
   "execution_count": 7,
   "id": "721cfea3",
   "metadata": {},
   "outputs": [
    {
     "data": {
      "text/html": [
       "<div>\n",
       "<style scoped>\n",
       "    .dataframe tbody tr th:only-of-type {\n",
       "        vertical-align: middle;\n",
       "    }\n",
       "\n",
       "    .dataframe tbody tr th {\n",
       "        vertical-align: top;\n",
       "    }\n",
       "\n",
       "    .dataframe thead th {\n",
       "        text-align: right;\n",
       "    }\n",
       "</style>\n",
       "<table border=\"1\" class=\"dataframe\">\n",
       "  <thead>\n",
       "    <tr style=\"text-align: right;\">\n",
       "      <th></th>\n",
       "      <th>Item_Weight</th>\n",
       "      <th>Item_Visibility</th>\n",
       "      <th>Item_MRP</th>\n",
       "      <th>Outlet_Establishment_Year</th>\n",
       "      <th>Item_Outlet_Sales</th>\n",
       "    </tr>\n",
       "  </thead>\n",
       "  <tbody>\n",
       "    <tr>\n",
       "      <th>Item_Weight</th>\n",
       "      <td>1.000000</td>\n",
       "      <td>-0.014048</td>\n",
       "      <td>0.027141</td>\n",
       "      <td>-0.011588</td>\n",
       "      <td>0.014123</td>\n",
       "    </tr>\n",
       "    <tr>\n",
       "      <th>Item_Visibility</th>\n",
       "      <td>-0.014048</td>\n",
       "      <td>1.000000</td>\n",
       "      <td>-0.001315</td>\n",
       "      <td>-0.074834</td>\n",
       "      <td>-0.128625</td>\n",
       "    </tr>\n",
       "    <tr>\n",
       "      <th>Item_MRP</th>\n",
       "      <td>0.027141</td>\n",
       "      <td>-0.001315</td>\n",
       "      <td>1.000000</td>\n",
       "      <td>0.005020</td>\n",
       "      <td>0.567574</td>\n",
       "    </tr>\n",
       "    <tr>\n",
       "      <th>Outlet_Establishment_Year</th>\n",
       "      <td>-0.011588</td>\n",
       "      <td>-0.074834</td>\n",
       "      <td>0.005020</td>\n",
       "      <td>1.000000</td>\n",
       "      <td>-0.049135</td>\n",
       "    </tr>\n",
       "    <tr>\n",
       "      <th>Item_Outlet_Sales</th>\n",
       "      <td>0.014123</td>\n",
       "      <td>-0.128625</td>\n",
       "      <td>0.567574</td>\n",
       "      <td>-0.049135</td>\n",
       "      <td>1.000000</td>\n",
       "    </tr>\n",
       "  </tbody>\n",
       "</table>\n",
       "</div>"
      ],
      "text/plain": [
       "                           Item_Weight  Item_Visibility  Item_MRP  \\\n",
       "Item_Weight                   1.000000        -0.014048  0.027141   \n",
       "Item_Visibility              -0.014048         1.000000 -0.001315   \n",
       "Item_MRP                      0.027141        -0.001315  1.000000   \n",
       "Outlet_Establishment_Year    -0.011588        -0.074834  0.005020   \n",
       "Item_Outlet_Sales             0.014123        -0.128625  0.567574   \n",
       "\n",
       "                           Outlet_Establishment_Year  Item_Outlet_Sales  \n",
       "Item_Weight                                -0.011588           0.014123  \n",
       "Item_Visibility                            -0.074834          -0.128625  \n",
       "Item_MRP                                    0.005020           0.567574  \n",
       "Outlet_Establishment_Year                   1.000000          -0.049135  \n",
       "Item_Outlet_Sales                          -0.049135           1.000000  "
      ]
     },
     "execution_count": 7,
     "metadata": {},
     "output_type": "execute_result"
    }
   ],
   "source": [
    "df_corr"
   ]
  },
  {
   "cell_type": "code",
   "execution_count": 8,
   "id": "bbc7d8ca",
   "metadata": {},
   "outputs": [],
   "source": [
    "from sklearn.feature_selection import chi2"
   ]
  },
  {
   "cell_type": "code",
   "execution_count": 9,
   "id": "564aaf5c",
   "metadata": {},
   "outputs": [],
   "source": [
    "x=df.iloc[:,0:11]\n",
    "\n",
    "\n"
   ]
  },
  {
   "cell_type": "code",
   "execution_count": 10,
   "id": "0de95ef0",
   "metadata": {},
   "outputs": [
    {
     "data": {
      "text/plain": [
       "0    3735.1380\n",
       "1     443.4228\n",
       "2    2097.2700\n",
       "3     732.3800\n",
       "4     994.7052\n",
       "Name: Item_Outlet_Sales, dtype: float64"
      ]
     },
     "execution_count": 10,
     "metadata": {},
     "output_type": "execute_result"
    }
   ],
   "source": [
    "y=df.iloc[:,11]\n",
    "y.head()"
   ]
  },
  {
   "cell_type": "code",
   "execution_count": 11,
   "id": "22d5c845",
   "metadata": {},
   "outputs": [],
   "source": [
    "from sklearn.feature_selection import SelectKBest\n",
    "best_features=SelectKBest(chi2,k=11)"
   ]
  },
  {
   "cell_type": "code",
   "execution_count": 12,
   "id": "6a00e195",
   "metadata": {},
   "outputs": [
    {
     "data": {
      "text/plain": [
       "Outlet_Type\n",
       "Grocery Store        1083\n",
       "Supermarket Type1    5577\n",
       "Supermarket Type2     928\n",
       "Supermarket Type3     935\n",
       "dtype: int64"
      ]
     },
     "execution_count": 12,
     "metadata": {},
     "output_type": "execute_result"
    }
   ],
   "source": [
    "df.groupby('Outlet_Type').size()"
   ]
  },
  {
   "cell_type": "code",
   "execution_count": 13,
   "id": "9f37bfd4",
   "metadata": {},
   "outputs": [
    {
     "data": {
      "text/plain": [
       "<AxesSubplot:ylabel='Outlet_Type'>"
      ]
     },
     "execution_count": 13,
     "metadata": {},
     "output_type": "execute_result"
    },
    {
     "data": {
      "image/png": "[encoded data removed]",
      "text/plain": [
       "<Figure size 432x288 with 1 Axes>"
      ]
     },
     "metadata": {},
     "output_type": "display_data"
    }
   ],
   "source": [
    "df['Outlet_Type'].value_counts().plot(kind='pie')"
   ]
  },
  {
   "cell_type": "code",
   "execution_count": 14,
   "id": "5b7fcd90",
   "metadata": {},
   "outputs": [
    {
     "data": {
      "text/plain": [
       "<AxesSubplot:ylabel='Outlet_Type'>"
      ]
     },
     "execution_count": 14,
     "metadata": {},
     "output_type": "execute_result"
    },
    {
     "data": {
      "image/png": "[encoded data removed]",
      "text/plain": [
       "<Figure size 432x288 with 1 Axes>"
      ]
     },
     "metadata": {},
     "output_type": "display_data"
    }
   ],
   "source": [
    "df.groupby(['Outlet_Location_Type'])['Outlet_Type'].value_counts().plot(kind='pie')"
   ]
  },
  {
   "cell_type": "code",
   "execution_count": 15,
   "id": "6d7f1c85",
   "metadata": {},
   "outputs": [
    {
     "data": {
      "text/plain": [
       "Low Fat    5089\n",
       "Regular    2889\n",
       "LF          316\n",
       "reg         117\n",
       "low fat     112\n",
       "Name: Item_Fat_Content, dtype: int64"
      ]
     },
     "execution_count": 15,
     "metadata": {},
     "output_type": "execute_result"
    }
   ],
   "source": [
    "df['Item_Fat_Content'].value_counts()"
   ]
  },
  {
   "cell_type": "code",
   "execution_count": 16,
   "id": "09da617f",
   "metadata": {},
   "outputs": [],
   "source": [
    "df['Item_Fat_Content']=df['Item_Fat_Content'].map({'Low Fat':1,'low fat':1,'LF':1,'Regular':2,'reg':2})"
   ]
  },
  {
   "cell_type": "code",
   "execution_count": 17,
   "id": "b22f888c",
   "metadata": {},
   "outputs": [
    {
     "data": {
      "text/plain": [
       "1    5517\n",
       "2    3006\n",
       "Name: Item_Fat_Content, dtype: int64"
      ]
     },
     "execution_count": 17,
     "metadata": {},
     "output_type": "execute_result"
    }
   ],
   "source": [
    "df['Item_Fat_Content'].value_counts()"
   ]
  },
  {
   "cell_type": "code",
   "execution_count": 18,
   "id": "a0e198f6",
   "metadata": {},
   "outputs": [
    {
     "data": {
      "text/plain": [
       "Medium    2793\n",
       "Small     2388\n",
       "High       932\n",
       "Name: Outlet_Size, dtype: int64"
      ]
     },
     "execution_count": 18,
     "metadata": {},
     "output_type": "execute_result"
    }
   ],
   "source": [
    "df['Outlet_Size'].value_counts()"
   ]
  },
  {
   "cell_type": "code",
   "execution_count": 19,
   "id": "9f6de1b9",
   "metadata": {},
   "outputs": [
    {
     "data": {
      "text/plain": [
       "1.0    2793\n",
       "2.0    2388\n",
       "3.0     932\n",
       "Name: Outlet_Size, dtype: int64"
      ]
     },
     "execution_count": 19,
     "metadata": {},
     "output_type": "execute_result"
    }
   ],
   "source": [
    "df['Outlet_Size']=df['Outlet_Size'].map({'Medium':1,'Small':2,'High':3})\n",
    "df['Outlet_Size'].value_counts()"
   ]
  },
  {
   "cell_type": "code",
   "execution_count": 20,
   "id": "783ad8ee",
   "metadata": {},
   "outputs": [
    {
     "data": {
      "text/html": [
       "<div>\n",
       "<style scoped>\n",
       "    .dataframe tbody tr th:only-of-type {\n",
       "        vertical-align: middle;\n",
       "    }\n",
       "\n",
       "    .dataframe tbody tr th {\n",
       "        vertical-align: top;\n",
       "    }\n",
       "\n",
       "    .dataframe thead th {\n",
       "        text-align: right;\n",
       "    }\n",
       "</style>\n",
       "<table border=\"1\" class=\"dataframe\">\n",
       "  <thead>\n",
       "    <tr style=\"text-align: right;\">\n",
       "      <th></th>\n",
       "      <th>Item_Identifier</th>\n",
       "      <th>Item_Weight</th>\n",
       "      <th>Item_Fat_Content</th>\n",
       "      <th>Item_Visibility</th>\n",
       "      <th>Item_Type</th>\n",
       "      <th>Item_MRP</th>\n",
       "      <th>Outlet_Identifier</th>\n",
       "      <th>Outlet_Establishment_Year</th>\n",
       "      <th>Outlet_Size</th>\n",
       "      <th>Outlet_Location_Type</th>\n",
       "      <th>Outlet_Type</th>\n",
       "      <th>Item_Outlet_Sales</th>\n",
       "    </tr>\n",
       "  </thead>\n",
       "  <tbody>\n",
       "    <tr>\n",
       "      <th>0</th>\n",
       "      <td>FDA15</td>\n",
       "      <td>9.30</td>\n",
       "      <td>1</td>\n",
       "      <td>0.016047</td>\n",
       "      <td>Dairy</td>\n",
       "      <td>249.8092</td>\n",
       "      <td>OUT049</td>\n",
       "      <td>1999</td>\n",
       "      <td>1.0</td>\n",
       "      <td>Tier 1</td>\n",
       "      <td>Supermarket Type1</td>\n",
       "      <td>3735.1380</td>\n",
       "    </tr>\n",
       "    <tr>\n",
       "      <th>1</th>\n",
       "      <td>DRC01</td>\n",
       "      <td>5.92</td>\n",
       "      <td>2</td>\n",
       "      <td>0.019278</td>\n",
       "      <td>Soft Drinks</td>\n",
       "      <td>48.2692</td>\n",
       "      <td>OUT018</td>\n",
       "      <td>2009</td>\n",
       "      <td>1.0</td>\n",
       "      <td>Tier 3</td>\n",
       "      <td>Supermarket Type2</td>\n",
       "      <td>443.4228</td>\n",
       "    </tr>\n",
       "    <tr>\n",
       "      <th>2</th>\n",
       "      <td>FDN15</td>\n",
       "      <td>17.50</td>\n",
       "      <td>1</td>\n",
       "      <td>0.016760</td>\n",
       "      <td>Meat</td>\n",
       "      <td>141.6180</td>\n",
       "      <td>OUT049</td>\n",
       "      <td>1999</td>\n",
       "      <td>1.0</td>\n",
       "      <td>Tier 1</td>\n",
       "      <td>Supermarket Type1</td>\n",
       "      <td>2097.2700</td>\n",
       "    </tr>\n",
       "    <tr>\n",
       "      <th>3</th>\n",
       "      <td>FDX07</td>\n",
       "      <td>19.20</td>\n",
       "      <td>2</td>\n",
       "      <td>0.000000</td>\n",
       "      <td>Fruits and Vegetables</td>\n",
       "      <td>182.0950</td>\n",
       "      <td>OUT010</td>\n",
       "      <td>1998</td>\n",
       "      <td>NaN</td>\n",
       "      <td>Tier 3</td>\n",
       "      <td>Grocery Store</td>\n",
       "      <td>732.3800</td>\n",
       "    </tr>\n",
       "    <tr>\n",
       "      <th>4</th>\n",
       "      <td>NCD19</td>\n",
       "      <td>8.93</td>\n",
       "      <td>1</td>\n",
       "      <td>0.000000</td>\n",
       "      <td>Household</td>\n",
       "      <td>53.8614</td>\n",
       "      <td>OUT013</td>\n",
       "      <td>1987</td>\n",
       "      <td>3.0</td>\n",
       "      <td>Tier 3</td>\n",
       "      <td>Supermarket Type1</td>\n",
       "      <td>994.7052</td>\n",
       "    </tr>\n",
       "  </tbody>\n",
       "</table>\n",
       "</div>"
      ],
      "text/plain": [
       "  Item_Identifier  Item_Weight  Item_Fat_Content  Item_Visibility  \\\n",
       "0           FDA15         9.30                 1         0.016047   \n",
       "1           DRC01         5.92                 2         0.019278   \n",
       "2           FDN15        17.50                 1         0.016760   \n",
       "3           FDX07        19.20                 2         0.000000   \n",
       "4           NCD19         8.93                 1         0.000000   \n",
       "\n",
       "               Item_Type  Item_MRP Outlet_Identifier  \\\n",
       "0                  Dairy  249.8092            OUT049   \n",
       "1            Soft Drinks   48.2692            OUT018   \n",
       "2                   Meat  141.6180            OUT049   \n",
       "3  Fruits and Vegetables  182.0950            OUT010   \n",
       "4              Household   53.8614            OUT013   \n",
       "\n",
       "   Outlet_Establishment_Year  Outlet_Size Outlet_Location_Type  \\\n",
       "0                       1999          1.0               Tier 1   \n",
       "1                       2009          1.0               Tier 3   \n",
       "2                       1999          1.0               Tier 1   \n",
       "3                       1998          NaN               Tier 3   \n",
       "4                       1987          3.0               Tier 3   \n",
       "\n",
       "         Outlet_Type  Item_Outlet_Sales  \n",
       "0  Supermarket Type1          3735.1380  \n",
       "1  Supermarket Type2           443.4228  \n",
       "2  Supermarket Type1          2097.2700  \n",
       "3      Grocery Store           732.3800  \n",
       "4  Supermarket Type1           994.7052  "
      ]
     },
     "execution_count": 20,
     "metadata": {},
     "output_type": "execute_result"
    }
   ],
   "source": [
    "df.head()"
   ]
  },
  {
   "cell_type": "code",
   "execution_count": 21,
   "id": "e39bbf88",
   "metadata": {},
   "outputs": [
    {
     "data": {
      "text/plain": [
       "Fruits and Vegetables    1232\n",
       "Snack Foods              1200\n",
       "Household                 910\n",
       "Frozen Foods              856\n",
       "Dairy                     682\n",
       "Canned                    649\n",
       "Baking Goods              648\n",
       "Health and Hygiene        520\n",
       "Soft Drinks               445\n",
       "Meat                      425\n",
       "Breads                    251\n",
       "Hard Drinks               214\n",
       "Others                    169\n",
       "Starchy Foods             148\n",
       "Breakfast                 110\n",
       "Seafood                    64\n",
       "Name: Item_Type, dtype: int64"
      ]
     },
     "execution_count": 21,
     "metadata": {},
     "output_type": "execute_result"
    }
   ],
   "source": [
    "df['Item_Type'].value_counts()"
   ]
  },
  {
   "cell_type": "code",
   "execution_count": 22,
   "id": "382b68e3",
   "metadata": {},
   "outputs": [
    {
     "data": {
      "text/html": [
       "<div>\n",
       "<style scoped>\n",
       "    .dataframe tbody tr th:only-of-type {\n",
       "        vertical-align: middle;\n",
       "    }\n",
       "\n",
       "    .dataframe tbody tr th {\n",
       "        vertical-align: top;\n",
       "    }\n",
       "\n",
       "    .dataframe thead th {\n",
       "        text-align: right;\n",
       "    }\n",
       "</style>\n",
       "<table border=\"1\" class=\"dataframe\">\n",
       "  <thead>\n",
       "    <tr style=\"text-align: right;\">\n",
       "      <th></th>\n",
       "      <th>Item_Weight</th>\n",
       "      <th>Item_Fat_Content</th>\n",
       "      <th>Item_Type</th>\n",
       "      <th>Item_MRP</th>\n",
       "      <th>Outlet_Size</th>\n",
       "      <th>Outlet_Location_Type</th>\n",
       "      <th>Outlet_Type</th>\n",
       "      <th>Item_Outlet_Sales</th>\n",
       "    </tr>\n",
       "  </thead>\n",
       "  <tbody>\n",
       "    <tr>\n",
       "      <th>0</th>\n",
       "      <td>9.30</td>\n",
       "      <td>1</td>\n",
       "      <td>Dairy</td>\n",
       "      <td>249.8092</td>\n",
       "      <td>1.0</td>\n",
       "      <td>Tier 1</td>\n",
       "      <td>Supermarket Type1</td>\n",
       "      <td>3735.1380</td>\n",
       "    </tr>\n",
       "    <tr>\n",
       "      <th>1</th>\n",
       "      <td>5.92</td>\n",
       "      <td>2</td>\n",
       "      <td>Soft Drinks</td>\n",
       "      <td>48.2692</td>\n",
       "      <td>1.0</td>\n",
       "      <td>Tier 3</td>\n",
       "      <td>Supermarket Type2</td>\n",
       "      <td>443.4228</td>\n",
       "    </tr>\n",
       "    <tr>\n",
       "      <th>2</th>\n",
       "      <td>17.50</td>\n",
       "      <td>1</td>\n",
       "      <td>Meat</td>\n",
       "      <td>141.6180</td>\n",
       "      <td>1.0</td>\n",
       "      <td>Tier 1</td>\n",
       "      <td>Supermarket Type1</td>\n",
       "      <td>2097.2700</td>\n",
       "    </tr>\n",
       "    <tr>\n",
       "      <th>3</th>\n",
       "      <td>19.20</td>\n",
       "      <td>2</td>\n",
       "      <td>Fruits and Vegetables</td>\n",
       "      <td>182.0950</td>\n",
       "      <td>NaN</td>\n",
       "      <td>Tier 3</td>\n",
       "      <td>Grocery Store</td>\n",
       "      <td>732.3800</td>\n",
       "    </tr>\n",
       "    <tr>\n",
       "      <th>4</th>\n",
       "      <td>8.93</td>\n",
       "      <td>1</td>\n",
       "      <td>Household</td>\n",
       "      <td>53.8614</td>\n",
       "      <td>3.0</td>\n",
       "      <td>Tier 3</td>\n",
       "      <td>Supermarket Type1</td>\n",
       "      <td>994.7052</td>\n",
       "    </tr>\n",
       "  </tbody>\n",
       "</table>\n",
       "</div>"
      ],
      "text/plain": [
       "   Item_Weight  Item_Fat_Content              Item_Type  Item_MRP  \\\n",
       "0         9.30                 1                  Dairy  249.8092   \n",
       "1         5.92                 2            Soft Drinks   48.2692   \n",
       "2        17.50                 1                   Meat  141.6180   \n",
       "3        19.20                 2  Fruits and Vegetables  182.0950   \n",
       "4         8.93                 1              Household   53.8614   \n",
       "\n",
       "   Outlet_Size Outlet_Location_Type        Outlet_Type  Item_Outlet_Sales  \n",
       "0          1.0               Tier 1  Supermarket Type1          3735.1380  \n",
       "1          1.0               Tier 3  Supermarket Type2           443.4228  \n",
       "2          1.0               Tier 1  Supermarket Type1          2097.2700  \n",
       "3          NaN               Tier 3      Grocery Store           732.3800  \n",
       "4          3.0               Tier 3  Supermarket Type1           994.7052  "
      ]
     },
     "execution_count": 22,
     "metadata": {},
     "output_type": "execute_result"
    }
   ],
   "source": [
    "col_to_drop=['Item_Identifier','Item_Visibility','Outlet_Identifier','Outlet_Establishment_Year']\n",
    "df=df.drop(col_to_drop,axis=1)\n",
    "df.head()"
   ]
  },
  {
   "cell_type": "code",
   "execution_count": 23,
   "id": "e00eb252",
   "metadata": {},
   "outputs": [
    {
     "data": {
      "text/plain": [
       "(8523, 8)"
      ]
     },
     "execution_count": 23,
     "metadata": {},
     "output_type": "execute_result"
    }
   ],
   "source": [
    "df.shape"
   ]
  },
  {
   "cell_type": "code",
   "execution_count": 24,
   "id": "0d218b2b",
   "metadata": {},
   "outputs": [
    {
     "name": "stdout",
     "output_type": "stream",
     "text": [
      "<class 'pandas.core.frame.DataFrame'>\n",
      "RangeIndex: 8523 entries, 0 to 8522\n",
      "Data columns (total 8 columns):\n",
      " #   Column                Non-Null Count  Dtype  \n",
      "---  ------                --------------  -----  \n",
      " 0   Item_Weight           7060 non-null   float64\n",
      " 1   Item_Fat_Content      8523 non-null   int64  \n",
      " 2   Item_Type             8523 non-null   object \n",
      " 3   Item_MRP              8523 non-null   float64\n",
      " 4   Outlet_Size           6113 non-null   float64\n",
      " 5   Outlet_Location_Type  8523 non-null   object \n",
      " 6   Outlet_Type           8523 non-null   object \n",
      " 7   Item_Outlet_Sales     8523 non-null   float64\n",
      "dtypes: float64(4), int64(1), object(3)\n",
      "memory usage: 532.8+ KB\n"
     ]
    }
   ],
   "source": [
    "df.info()"
   ]
  },
  {
   "cell_type": "code",
   "execution_count": 25,
   "id": "b7354266",
   "metadata": {},
   "outputs": [],
   "source": [
    "from sklearn.preprocessing import LabelEncoder\n",
    "le=LabelEncoder()\n",
    "\n",
    "df['Outlet_Type']=le.fit_transform(df['Outlet_Type'])"
   ]
  },
  {
   "cell_type": "code",
   "execution_count": 26,
   "id": "ca32cb54",
   "metadata": {},
   "outputs": [
    {
     "data": {
      "text/html": [
       "<div>\n",
       "<style scoped>\n",
       "    .dataframe tbody tr th:only-of-type {\n",
       "        vertical-align: middle;\n",
       "    }\n",
       "\n",
       "    .dataframe tbody tr th {\n",
       "        vertical-align: top;\n",
       "    }\n",
       "\n",
       "    .dataframe thead th {\n",
       "        text-align: right;\n",
       "    }\n",
       "</style>\n",
       "<table border=\"1\" class=\"dataframe\">\n",
       "  <thead>\n",
       "    <tr style=\"text-align: right;\">\n",
       "      <th></th>\n",
       "      <th>Item_Weight</th>\n",
       "      <th>Item_Fat_Content</th>\n",
       "      <th>Item_Type</th>\n",
       "      <th>Item_MRP</th>\n",
       "      <th>Outlet_Size</th>\n",
       "      <th>Outlet_Location_Type</th>\n",
       "      <th>Outlet_Type</th>\n",
       "      <th>Item_Outlet_Sales</th>\n",
       "    </tr>\n",
       "  </thead>\n",
       "  <tbody>\n",
       "    <tr>\n",
       "      <th>0</th>\n",
       "      <td>9.30</td>\n",
       "      <td>1</td>\n",
       "      <td>Dairy</td>\n",
       "      <td>249.8092</td>\n",
       "      <td>1.0</td>\n",
       "      <td>Tier 1</td>\n",
       "      <td>1</td>\n",
       "      <td>3735.1380</td>\n",
       "    </tr>\n",
       "    <tr>\n",
       "      <th>1</th>\n",
       "      <td>5.92</td>\n",
       "      <td>2</td>\n",
       "      <td>Soft Drinks</td>\n",
       "      <td>48.2692</td>\n",
       "      <td>1.0</td>\n",
       "      <td>Tier 3</td>\n",
       "      <td>2</td>\n",
       "      <td>443.4228</td>\n",
       "    </tr>\n",
       "    <tr>\n",
       "      <th>2</th>\n",
       "      <td>17.50</td>\n",
       "      <td>1</td>\n",
       "      <td>Meat</td>\n",
       "      <td>141.6180</td>\n",
       "      <td>1.0</td>\n",
       "      <td>Tier 1</td>\n",
       "      <td>1</td>\n",
       "      <td>2097.2700</td>\n",
       "    </tr>\n",
       "    <tr>\n",
       "      <th>3</th>\n",
       "      <td>19.20</td>\n",
       "      <td>2</td>\n",
       "      <td>Fruits and Vegetables</td>\n",
       "      <td>182.0950</td>\n",
       "      <td>NaN</td>\n",
       "      <td>Tier 3</td>\n",
       "      <td>0</td>\n",
       "      <td>732.3800</td>\n",
       "    </tr>\n",
       "    <tr>\n",
       "      <th>4</th>\n",
       "      <td>8.93</td>\n",
       "      <td>1</td>\n",
       "      <td>Household</td>\n",
       "      <td>53.8614</td>\n",
       "      <td>3.0</td>\n",
       "      <td>Tier 3</td>\n",
       "      <td>1</td>\n",
       "      <td>994.7052</td>\n",
       "    </tr>\n",
       "  </tbody>\n",
       "</table>\n",
       "</div>"
      ],
      "text/plain": [
       "   Item_Weight  Item_Fat_Content              Item_Type  Item_MRP  \\\n",
       "0         9.30                 1                  Dairy  249.8092   \n",
       "1         5.92                 2            Soft Drinks   48.2692   \n",
       "2        17.50                 1                   Meat  141.6180   \n",
       "3        19.20                 2  Fruits and Vegetables  182.0950   \n",
       "4         8.93                 1              Household   53.8614   \n",
       "\n",
       "   Outlet_Size Outlet_Location_Type  Outlet_Type  Item_Outlet_Sales  \n",
       "0          1.0               Tier 1            1          3735.1380  \n",
       "1          1.0               Tier 3            2           443.4228  \n",
       "2          1.0               Tier 1            1          2097.2700  \n",
       "3          NaN               Tier 3            0           732.3800  \n",
       "4          3.0               Tier 3            1           994.7052  "
      ]
     },
     "execution_count": 26,
     "metadata": {},
     "output_type": "execute_result"
    }
   ],
   "source": [
    "df.head()"
   ]
  },
  {
   "cell_type": "code",
   "execution_count": 27,
   "id": "cfe421f1",
   "metadata": {},
   "outputs": [
    {
     "data": {
      "text/plain": [
       "1    5577\n",
       "0    1083\n",
       "3     935\n",
       "2     928\n",
       "Name: Outlet_Type, dtype: int64"
      ]
     },
     "execution_count": 27,
     "metadata": {},
     "output_type": "execute_result"
    }
   ],
   "source": [
    "df['Outlet_Type'].value_counts()"
   ]
  },
  {
   "cell_type": "code",
   "execution_count": 28,
   "id": "9b78f231",
   "metadata": {},
   "outputs": [],
   "source": [
    "df['Item_Type']=le.fit_transform(df['Item_Type'])\n",
    "df['Outlet_Location_Type']=le.fit_transform(df['Outlet_Location_Type'])\n"
   ]
  },
  {
   "cell_type": "code",
   "execution_count": 29,
   "id": "9f388143",
   "metadata": {},
   "outputs": [
    {
     "data": {
      "text/html": [
       "<div>\n",
       "<style scoped>\n",
       "    .dataframe tbody tr th:only-of-type {\n",
       "        vertical-align: middle;\n",
       "    }\n",
       "\n",
       "    .dataframe tbody tr th {\n",
       "        vertical-align: top;\n",
       "    }\n",
       "\n",
       "    .dataframe thead th {\n",
       "        text-align: right;\n",
       "    }\n",
       "</style>\n",
       "<table border=\"1\" class=\"dataframe\">\n",
       "  <thead>\n",
       "    <tr style=\"text-align: right;\">\n",
       "      <th></th>\n",
       "      <th>Item_Weight</th>\n",
       "      <th>Item_Fat_Content</th>\n",
       "      <th>Item_Type</th>\n",
       "      <th>Item_MRP</th>\n",
       "      <th>Outlet_Size</th>\n",
       "      <th>Outlet_Location_Type</th>\n",
       "      <th>Outlet_Type</th>\n",
       "      <th>Item_Outlet_Sales</th>\n",
       "    </tr>\n",
       "  </thead>\n",
       "  <tbody>\n",
       "    <tr>\n",
       "      <th>0</th>\n",
       "      <td>9.30</td>\n",
       "      <td>1</td>\n",
       "      <td>4</td>\n",
       "      <td>249.8092</td>\n",
       "      <td>1.0</td>\n",
       "      <td>0</td>\n",
       "      <td>1</td>\n",
       "      <td>3735.1380</td>\n",
       "    </tr>\n",
       "    <tr>\n",
       "      <th>1</th>\n",
       "      <td>5.92</td>\n",
       "      <td>2</td>\n",
       "      <td>14</td>\n",
       "      <td>48.2692</td>\n",
       "      <td>1.0</td>\n",
       "      <td>2</td>\n",
       "      <td>2</td>\n",
       "      <td>443.4228</td>\n",
       "    </tr>\n",
       "    <tr>\n",
       "      <th>2</th>\n",
       "      <td>17.50</td>\n",
       "      <td>1</td>\n",
       "      <td>10</td>\n",
       "      <td>141.6180</td>\n",
       "      <td>1.0</td>\n",
       "      <td>0</td>\n",
       "      <td>1</td>\n",
       "      <td>2097.2700</td>\n",
       "    </tr>\n",
       "    <tr>\n",
       "      <th>3</th>\n",
       "      <td>19.20</td>\n",
       "      <td>2</td>\n",
       "      <td>6</td>\n",
       "      <td>182.0950</td>\n",
       "      <td>NaN</td>\n",
       "      <td>2</td>\n",
       "      <td>0</td>\n",
       "      <td>732.3800</td>\n",
       "    </tr>\n",
       "    <tr>\n",
       "      <th>4</th>\n",
       "      <td>8.93</td>\n",
       "      <td>1</td>\n",
       "      <td>9</td>\n",
       "      <td>53.8614</td>\n",
       "      <td>3.0</td>\n",
       "      <td>2</td>\n",
       "      <td>1</td>\n",
       "      <td>994.7052</td>\n",
       "    </tr>\n",
       "  </tbody>\n",
       "</table>\n",
       "</div>"
      ],
      "text/plain": [
       "   Item_Weight  Item_Fat_Content  Item_Type  Item_MRP  Outlet_Size  \\\n",
       "0         9.30                 1          4  249.8092          1.0   \n",
       "1         5.92                 2         14   48.2692          1.0   \n",
       "2        17.50                 1         10  141.6180          1.0   \n",
       "3        19.20                 2          6  182.0950          NaN   \n",
       "4         8.93                 1          9   53.8614          3.0   \n",
       "\n",
       "   Outlet_Location_Type  Outlet_Type  Item_Outlet_Sales  \n",
       "0                     0            1          3735.1380  \n",
       "1                     2            2           443.4228  \n",
       "2                     0            1          2097.2700  \n",
       "3                     2            0           732.3800  \n",
       "4                     2            1           994.7052  "
      ]
     },
     "execution_count": 29,
     "metadata": {},
     "output_type": "execute_result"
    }
   ],
   "source": [
    "df.head()"
   ]
  },
  {
   "cell_type": "code",
   "execution_count": 30,
   "id": "9325ed65",
   "metadata": {},
   "outputs": [
    {
     "data": {
      "text/plain": [
       "6     1232\n",
       "13    1200\n",
       "9      910\n",
       "5      856\n",
       "4      682\n",
       "3      649\n",
       "0      648\n",
       "8      520\n",
       "14     445\n",
       "10     425\n",
       "1      251\n",
       "7      214\n",
       "11     169\n",
       "15     148\n",
       "2      110\n",
       "12      64\n",
       "Name: Item_Type, dtype: int64"
      ]
     },
     "execution_count": 30,
     "metadata": {},
     "output_type": "execute_result"
    }
   ],
   "source": [
    "df['Item_Type'].value_counts()"
   ]
  },
  {
   "cell_type": "code",
   "execution_count": 31,
   "id": "d1a0cf4d",
   "metadata": {},
   "outputs": [],
   "source": [
    "df['Item_Weight'].fillna(df['Item_Weight'].mean(),inplace=True)\n"
   ]
  },
  {
   "cell_type": "code",
   "execution_count": 32,
   "id": "ee4cd1ad",
   "metadata": {},
   "outputs": [
    {
     "data": {
      "text/html": [
       "<div>\n",
       "<style scoped>\n",
       "    .dataframe tbody tr th:only-of-type {\n",
       "        vertical-align: middle;\n",
       "    }\n",
       "\n",
       "    .dataframe tbody tr th {\n",
       "        vertical-align: top;\n",
       "    }\n",
       "\n",
       "    .dataframe thead th {\n",
       "        text-align: right;\n",
       "    }\n",
       "</style>\n",
       "<table border=\"1\" class=\"dataframe\">\n",
       "  <thead>\n",
       "    <tr style=\"text-align: right;\">\n",
       "      <th></th>\n",
       "      <th>Item_Weight</th>\n",
       "      <th>Item_Fat_Content</th>\n",
       "      <th>Item_Type</th>\n",
       "      <th>Item_MRP</th>\n",
       "      <th>Outlet_Size</th>\n",
       "      <th>Outlet_Location_Type</th>\n",
       "      <th>Outlet_Type</th>\n",
       "      <th>Item_Outlet_Sales</th>\n",
       "    </tr>\n",
       "  </thead>\n",
       "  <tbody>\n",
       "    <tr>\n",
       "      <th>0</th>\n",
       "      <td>9.30</td>\n",
       "      <td>1</td>\n",
       "      <td>4</td>\n",
       "      <td>249.8092</td>\n",
       "      <td>1.0</td>\n",
       "      <td>0</td>\n",
       "      <td>1</td>\n",
       "      <td>3735.1380</td>\n",
       "    </tr>\n",
       "    <tr>\n",
       "      <th>1</th>\n",
       "      <td>5.92</td>\n",
       "      <td>2</td>\n",
       "      <td>14</td>\n",
       "      <td>48.2692</td>\n",
       "      <td>1.0</td>\n",
       "      <td>2</td>\n",
       "      <td>2</td>\n",
       "      <td>443.4228</td>\n",
       "    </tr>\n",
       "    <tr>\n",
       "      <th>2</th>\n",
       "      <td>17.50</td>\n",
       "      <td>1</td>\n",
       "      <td>10</td>\n",
       "      <td>141.6180</td>\n",
       "      <td>1.0</td>\n",
       "      <td>0</td>\n",
       "      <td>1</td>\n",
       "      <td>2097.2700</td>\n",
       "    </tr>\n",
       "    <tr>\n",
       "      <th>3</th>\n",
       "      <td>19.20</td>\n",
       "      <td>2</td>\n",
       "      <td>6</td>\n",
       "      <td>182.0950</td>\n",
       "      <td>NaN</td>\n",
       "      <td>2</td>\n",
       "      <td>0</td>\n",
       "      <td>732.3800</td>\n",
       "    </tr>\n",
       "    <tr>\n",
       "      <th>4</th>\n",
       "      <td>8.93</td>\n",
       "      <td>1</td>\n",
       "      <td>9</td>\n",
       "      <td>53.8614</td>\n",
       "      <td>3.0</td>\n",
       "      <td>2</td>\n",
       "      <td>1</td>\n",
       "      <td>994.7052</td>\n",
       "    </tr>\n",
       "  </tbody>\n",
       "</table>\n",
       "</div>"
      ],
      "text/plain": [
       "   Item_Weight  Item_Fat_Content  Item_Type  Item_MRP  Outlet_Size  \\\n",
       "0         9.30                 1          4  249.8092          1.0   \n",
       "1         5.92                 2         14   48.2692          1.0   \n",
       "2        17.50                 1         10  141.6180          1.0   \n",
       "3        19.20                 2          6  182.0950          NaN   \n",
       "4         8.93                 1          9   53.8614          3.0   \n",
       "\n",
       "   Outlet_Location_Type  Outlet_Type  Item_Outlet_Sales  \n",
       "0                     0            1          3735.1380  \n",
       "1                     2            2           443.4228  \n",
       "2                     0            1          2097.2700  \n",
       "3                     2            0           732.3800  \n",
       "4                     2            1           994.7052  "
      ]
     },
     "execution_count": 32,
     "metadata": {},
     "output_type": "execute_result"
    }
   ],
   "source": [
    "df.head()"
   ]
  },
  {
   "cell_type": "code",
   "execution_count": 33,
   "id": "f6102e12",
   "metadata": {},
   "outputs": [],
   "source": [
    "df['Outlet_Size'].fillna(df['Outlet_Size'].mean(),inplace=True)"
   ]
  },
  {
   "cell_type": "code",
   "execution_count": 34,
   "id": "2eab3507",
   "metadata": {},
   "outputs": [
    {
     "data": {
      "text/html": [
       "<div>\n",
       "<style scoped>\n",
       "    .dataframe tbody tr th:only-of-type {\n",
       "        vertical-align: middle;\n",
       "    }\n",
       "\n",
       "    .dataframe tbody tr th {\n",
       "        vertical-align: top;\n",
       "    }\n",
       "\n",
       "    .dataframe thead th {\n",
       "        text-align: right;\n",
       "    }\n",
       "</style>\n",
       "<table border=\"1\" class=\"dataframe\">\n",
       "  <thead>\n",
       "    <tr style=\"text-align: right;\">\n",
       "      <th></th>\n",
       "      <th>Item_Weight</th>\n",
       "      <th>Item_Fat_Content</th>\n",
       "      <th>Item_Type</th>\n",
       "      <th>Item_MRP</th>\n",
       "      <th>Outlet_Size</th>\n",
       "      <th>Outlet_Location_Type</th>\n",
       "      <th>Outlet_Type</th>\n",
       "      <th>Item_Outlet_Sales</th>\n",
       "    </tr>\n",
       "  </thead>\n",
       "  <tbody>\n",
       "    <tr>\n",
       "      <th>0</th>\n",
       "      <td>9.30</td>\n",
       "      <td>1</td>\n",
       "      <td>4</td>\n",
       "      <td>249.8092</td>\n",
       "      <td>1.000000</td>\n",
       "      <td>0</td>\n",
       "      <td>1</td>\n",
       "      <td>3735.1380</td>\n",
       "    </tr>\n",
       "    <tr>\n",
       "      <th>1</th>\n",
       "      <td>5.92</td>\n",
       "      <td>2</td>\n",
       "      <td>14</td>\n",
       "      <td>48.2692</td>\n",
       "      <td>1.000000</td>\n",
       "      <td>2</td>\n",
       "      <td>2</td>\n",
       "      <td>443.4228</td>\n",
       "    </tr>\n",
       "    <tr>\n",
       "      <th>2</th>\n",
       "      <td>17.50</td>\n",
       "      <td>1</td>\n",
       "      <td>10</td>\n",
       "      <td>141.6180</td>\n",
       "      <td>1.000000</td>\n",
       "      <td>0</td>\n",
       "      <td>1</td>\n",
       "      <td>2097.2700</td>\n",
       "    </tr>\n",
       "    <tr>\n",
       "      <th>3</th>\n",
       "      <td>19.20</td>\n",
       "      <td>2</td>\n",
       "      <td>6</td>\n",
       "      <td>182.0950</td>\n",
       "      <td>1.695567</td>\n",
       "      <td>2</td>\n",
       "      <td>0</td>\n",
       "      <td>732.3800</td>\n",
       "    </tr>\n",
       "    <tr>\n",
       "      <th>4</th>\n",
       "      <td>8.93</td>\n",
       "      <td>1</td>\n",
       "      <td>9</td>\n",
       "      <td>53.8614</td>\n",
       "      <td>3.000000</td>\n",
       "      <td>2</td>\n",
       "      <td>1</td>\n",
       "      <td>994.7052</td>\n",
       "    </tr>\n",
       "  </tbody>\n",
       "</table>\n",
       "</div>"
      ],
      "text/plain": [
       "   Item_Weight  Item_Fat_Content  Item_Type  Item_MRP  Outlet_Size  \\\n",
       "0         9.30                 1          4  249.8092     1.000000   \n",
       "1         5.92                 2         14   48.2692     1.000000   \n",
       "2        17.50                 1         10  141.6180     1.000000   \n",
       "3        19.20                 2          6  182.0950     1.695567   \n",
       "4         8.93                 1          9   53.8614     3.000000   \n",
       "\n",
       "   Outlet_Location_Type  Outlet_Type  Item_Outlet_Sales  \n",
       "0                     0            1          3735.1380  \n",
       "1                     2            2           443.4228  \n",
       "2                     0            1          2097.2700  \n",
       "3                     2            0           732.3800  \n",
       "4                     2            1           994.7052  "
      ]
     },
     "execution_count": 34,
     "metadata": {},
     "output_type": "execute_result"
    }
   ],
   "source": [
    "df.head()"
   ]
  },
  {
   "cell_type": "code",
   "execution_count": 35,
   "id": "f2bedf85",
   "metadata": {},
   "outputs": [
    {
     "name": "stdout",
     "output_type": "stream",
     "text": [
      "<class 'pandas.core.frame.DataFrame'>\n",
      "RangeIndex: 8523 entries, 0 to 8522\n",
      "Data columns (total 8 columns):\n",
      " #   Column                Non-Null Count  Dtype  \n",
      "---  ------                --------------  -----  \n",
      " 0   Item_Weight           8523 non-null   float64\n",
      " 1   Item_Fat_Content      8523 non-null   int64  \n",
      " 2   Item_Type             8523 non-null   int64  \n",
      " 3   Item_MRP              8523 non-null   float64\n",
      " 4   Outlet_Size           8523 non-null   float64\n",
      " 5   Outlet_Location_Type  8523 non-null   int64  \n",
      " 6   Outlet_Type           8523 non-null   int64  \n",
      " 7   Item_Outlet_Sales     8523 non-null   float64\n",
      "dtypes: float64(4), int64(4)\n",
      "memory usage: 532.8 KB\n"
     ]
    }
   ],
   "source": [
    "df.info()"
   ]
  },
  {
   "cell_type": "code",
   "execution_count": 36,
   "id": "f74f4283",
   "metadata": {},
   "outputs": [
    {
     "name": "stdout",
     "output_type": "stream",
     "text": [
      "                      Item_Weight  Item_Fat_Content  Item_Type  Item_MRP  \\\n",
      "Item_Weight              1.000000         -0.021157   0.028015  0.024756   \n",
      "Item_Fat_Content        -0.021157          1.000000  -0.139434  0.006063   \n",
      "Item_Type                0.028015         -0.139434   1.000000  0.032651   \n",
      "Item_MRP                 0.024756          0.006063   0.032651  1.000000   \n",
      "Outlet_Size              0.005761         -0.004451  -0.006122  0.006248   \n",
      "Outlet_Location_Type     0.004088         -0.001598   0.003084  0.000232   \n",
      "Outlet_Type             -0.000566          0.002199   0.003053 -0.001975   \n",
      "Item_Outlet_Sales        0.011550          0.018719   0.017048  0.567574   \n",
      "\n",
      "                      Outlet_Size  Outlet_Location_Type  Outlet_Type  \\\n",
      "Item_Weight              0.005761              0.004088    -0.000566   \n",
      "Item_Fat_Content        -0.004451             -0.001598     0.002199   \n",
      "Item_Type               -0.006122              0.003084     0.003053   \n",
      "Item_MRP                 0.006248              0.000232    -0.001975   \n",
      "Outlet_Size              1.000000              0.029147    -0.509894   \n",
      "Outlet_Location_Type     0.029147              1.000000     0.467219   \n",
      "Outlet_Type             -0.509894              0.467219     1.000000   \n",
      "Item_Outlet_Sales       -0.115721              0.089367     0.401522   \n",
      "\n",
      "                      Item_Outlet_Sales  \n",
      "Item_Weight                    0.011550  \n",
      "Item_Fat_Content               0.018719  \n",
      "Item_Type                      0.017048  \n",
      "Item_MRP                       0.567574  \n",
      "Outlet_Size                   -0.115721  \n",
      "Outlet_Location_Type           0.089367  \n",
      "Outlet_Type                    0.401522  \n",
      "Item_Outlet_Sales              1.000000  \n"
     ]
    }
   ],
   "source": [
    "df_corr=df.corr()\n",
    "print(df_corr)"
   ]
  },
  {
   "cell_type": "code",
   "execution_count": 37,
   "id": "645c7e21",
   "metadata": {},
   "outputs": [
    {
     "data": {
      "text/html": [
       "<div>\n",
       "<style scoped>\n",
       "    .dataframe tbody tr th:only-of-type {\n",
       "        vertical-align: middle;\n",
       "    }\n",
       "\n",
       "    .dataframe tbody tr th {\n",
       "        vertical-align: top;\n",
       "    }\n",
       "\n",
       "    .dataframe thead th {\n",
       "        text-align: right;\n",
       "    }\n",
       "</style>\n",
       "<table border=\"1\" class=\"dataframe\">\n",
       "  <thead>\n",
       "    <tr style=\"text-align: right;\">\n",
       "      <th></th>\n",
       "      <th>Item_Weight</th>\n",
       "      <th>Item_Fat_Content</th>\n",
       "      <th>Item_Type</th>\n",
       "      <th>Item_MRP</th>\n",
       "      <th>Outlet_Size</th>\n",
       "      <th>Outlet_Location_Type</th>\n",
       "      <th>Outlet_Type</th>\n",
       "      <th>Item_Outlet_Sales</th>\n",
       "    </tr>\n",
       "  </thead>\n",
       "  <tbody>\n",
       "    <tr>\n",
       "      <th>Item_Weight</th>\n",
       "      <td>1.000000</td>\n",
       "      <td>-0.021157</td>\n",
       "      <td>0.028015</td>\n",
       "      <td>0.024756</td>\n",
       "      <td>0.005761</td>\n",
       "      <td>0.004088</td>\n",
       "      <td>-0.000566</td>\n",
       "      <td>0.011550</td>\n",
       "    </tr>\n",
       "    <tr>\n",
       "      <th>Item_Fat_Content</th>\n",
       "      <td>-0.021157</td>\n",
       "      <td>1.000000</td>\n",
       "      <td>-0.139434</td>\n",
       "      <td>0.006063</td>\n",
       "      <td>-0.004451</td>\n",
       "      <td>-0.001598</td>\n",
       "      <td>0.002199</td>\n",
       "      <td>0.018719</td>\n",
       "    </tr>\n",
       "    <tr>\n",
       "      <th>Item_Type</th>\n",
       "      <td>0.028015</td>\n",
       "      <td>-0.139434</td>\n",
       "      <td>1.000000</td>\n",
       "      <td>0.032651</td>\n",
       "      <td>-0.006122</td>\n",
       "      <td>0.003084</td>\n",
       "      <td>0.003053</td>\n",
       "      <td>0.017048</td>\n",
       "    </tr>\n",
       "    <tr>\n",
       "      <th>Item_MRP</th>\n",
       "      <td>0.024756</td>\n",
       "      <td>0.006063</td>\n",
       "      <td>0.032651</td>\n",
       "      <td>1.000000</td>\n",
       "      <td>0.006248</td>\n",
       "      <td>0.000232</td>\n",
       "      <td>-0.001975</td>\n",
       "      <td>0.567574</td>\n",
       "    </tr>\n",
       "    <tr>\n",
       "      <th>Outlet_Size</th>\n",
       "      <td>0.005761</td>\n",
       "      <td>-0.004451</td>\n",
       "      <td>-0.006122</td>\n",
       "      <td>0.006248</td>\n",
       "      <td>1.000000</td>\n",
       "      <td>0.029147</td>\n",
       "      <td>-0.509894</td>\n",
       "      <td>-0.115721</td>\n",
       "    </tr>\n",
       "    <tr>\n",
       "      <th>Outlet_Location_Type</th>\n",
       "      <td>0.004088</td>\n",
       "      <td>-0.001598</td>\n",
       "      <td>0.003084</td>\n",
       "      <td>0.000232</td>\n",
       "      <td>0.029147</td>\n",
       "      <td>1.000000</td>\n",
       "      <td>0.467219</td>\n",
       "      <td>0.089367</td>\n",
       "    </tr>\n",
       "    <tr>\n",
       "      <th>Outlet_Type</th>\n",
       "      <td>-0.000566</td>\n",
       "      <td>0.002199</td>\n",
       "      <td>0.003053</td>\n",
       "      <td>-0.001975</td>\n",
       "      <td>-0.509894</td>\n",
       "      <td>0.467219</td>\n",
       "      <td>1.000000</td>\n",
       "      <td>0.401522</td>\n",
       "    </tr>\n",
       "    <tr>\n",
       "      <th>Item_Outlet_Sales</th>\n",
       "      <td>0.011550</td>\n",
       "      <td>0.018719</td>\n",
       "      <td>0.017048</td>\n",
       "      <td>0.567574</td>\n",
       "      <td>-0.115721</td>\n",
       "      <td>0.089367</td>\n",
       "      <td>0.401522</td>\n",
       "      <td>1.000000</td>\n",
       "    </tr>\n",
       "  </tbody>\n",
       "</table>\n",
       "</div>"
      ],
      "text/plain": [
       "                      Item_Weight  Item_Fat_Content  Item_Type  Item_MRP  \\\n",
       "Item_Weight              1.000000         -0.021157   0.028015  0.024756   \n",
       "Item_Fat_Content        -0.021157          1.000000  -0.139434  0.006063   \n",
       "Item_Type                0.028015         -0.139434   1.000000  0.032651   \n",
       "Item_MRP                 0.024756          0.006063   0.032651  1.000000   \n",
       "Outlet_Size              0.005761         -0.004451  -0.006122  0.006248   \n",
       "Outlet_Location_Type     0.004088         -0.001598   0.003084  0.000232   \n",
       "Outlet_Type             -0.000566          0.002199   0.003053 -0.001975   \n",
       "Item_Outlet_Sales        0.011550          0.018719   0.017048  0.567574   \n",
       "\n",
       "                      Outlet_Size  Outlet_Location_Type  Outlet_Type  \\\n",
       "Item_Weight              0.005761              0.004088    -0.000566   \n",
       "Item_Fat_Content        -0.004451             -0.001598     0.002199   \n",
       "Item_Type               -0.006122              0.003084     0.003053   \n",
       "Item_MRP                 0.006248              0.000232    -0.001975   \n",
       "Outlet_Size              1.000000              0.029147    -0.509894   \n",
       "Outlet_Location_Type     0.029147              1.000000     0.467219   \n",
       "Outlet_Type             -0.509894              0.467219     1.000000   \n",
       "Item_Outlet_Sales       -0.115721              0.089367     0.401522   \n",
       "\n",
       "                      Item_Outlet_Sales  \n",
       "Item_Weight                    0.011550  \n",
       "Item_Fat_Content               0.018719  \n",
       "Item_Type                      0.017048  \n",
       "Item_MRP                       0.567574  \n",
       "Outlet_Size                   -0.115721  \n",
       "Outlet_Location_Type           0.089367  \n",
       "Outlet_Type                    0.401522  \n",
       "Item_Outlet_Sales              1.000000  "
      ]
     },
     "execution_count": 37,
     "metadata": {},
     "output_type": "execute_result"
    }
   ],
   "source": [
    "df_corr"
   ]
  },
  {
   "cell_type": "code",
   "execution_count": 38,
   "id": "8de1fbf3",
   "metadata": {},
   "outputs": [
    {
     "data": {
      "text/html": [
       "<div>\n",
       "<style scoped>\n",
       "    .dataframe tbody tr th:only-of-type {\n",
       "        vertical-align: middle;\n",
       "    }\n",
       "\n",
       "    .dataframe tbody tr th {\n",
       "        vertical-align: top;\n",
       "    }\n",
       "\n",
       "    .dataframe thead th {\n",
       "        text-align: right;\n",
       "    }\n",
       "</style>\n",
       "<table border=\"1\" class=\"dataframe\">\n",
       "  <thead>\n",
       "    <tr style=\"text-align: right;\">\n",
       "      <th></th>\n",
       "      <th>Item_Weight</th>\n",
       "      <th>Item_Fat_Content</th>\n",
       "      <th>Item_Type</th>\n",
       "      <th>Item_MRP</th>\n",
       "      <th>Outlet_Location_Type</th>\n",
       "      <th>Outlet_Type</th>\n",
       "      <th>Item_Outlet_Sales</th>\n",
       "    </tr>\n",
       "  </thead>\n",
       "  <tbody>\n",
       "    <tr>\n",
       "      <th>0</th>\n",
       "      <td>9.300</td>\n",
       "      <td>1</td>\n",
       "      <td>4</td>\n",
       "      <td>249.8092</td>\n",
       "      <td>0</td>\n",
       "      <td>1</td>\n",
       "      <td>3735.1380</td>\n",
       "    </tr>\n",
       "    <tr>\n",
       "      <th>1</th>\n",
       "      <td>5.920</td>\n",
       "      <td>2</td>\n",
       "      <td>14</td>\n",
       "      <td>48.2692</td>\n",
       "      <td>2</td>\n",
       "      <td>2</td>\n",
       "      <td>443.4228</td>\n",
       "    </tr>\n",
       "    <tr>\n",
       "      <th>2</th>\n",
       "      <td>17.500</td>\n",
       "      <td>1</td>\n",
       "      <td>10</td>\n",
       "      <td>141.6180</td>\n",
       "      <td>0</td>\n",
       "      <td>1</td>\n",
       "      <td>2097.2700</td>\n",
       "    </tr>\n",
       "    <tr>\n",
       "      <th>3</th>\n",
       "      <td>19.200</td>\n",
       "      <td>2</td>\n",
       "      <td>6</td>\n",
       "      <td>182.0950</td>\n",
       "      <td>2</td>\n",
       "      <td>0</td>\n",
       "      <td>732.3800</td>\n",
       "    </tr>\n",
       "    <tr>\n",
       "      <th>4</th>\n",
       "      <td>8.930</td>\n",
       "      <td>1</td>\n",
       "      <td>9</td>\n",
       "      <td>53.8614</td>\n",
       "      <td>2</td>\n",
       "      <td>1</td>\n",
       "      <td>994.7052</td>\n",
       "    </tr>\n",
       "    <tr>\n",
       "      <th>...</th>\n",
       "      <td>...</td>\n",
       "      <td>...</td>\n",
       "      <td>...</td>\n",
       "      <td>...</td>\n",
       "      <td>...</td>\n",
       "      <td>...</td>\n",
       "      <td>...</td>\n",
       "    </tr>\n",
       "    <tr>\n",
       "      <th>8518</th>\n",
       "      <td>6.865</td>\n",
       "      <td>1</td>\n",
       "      <td>13</td>\n",
       "      <td>214.5218</td>\n",
       "      <td>2</td>\n",
       "      <td>1</td>\n",
       "      <td>2778.3834</td>\n",
       "    </tr>\n",
       "    <tr>\n",
       "      <th>8519</th>\n",
       "      <td>8.380</td>\n",
       "      <td>2</td>\n",
       "      <td>0</td>\n",
       "      <td>108.1570</td>\n",
       "      <td>1</td>\n",
       "      <td>1</td>\n",
       "      <td>549.2850</td>\n",
       "    </tr>\n",
       "    <tr>\n",
       "      <th>8520</th>\n",
       "      <td>10.600</td>\n",
       "      <td>1</td>\n",
       "      <td>8</td>\n",
       "      <td>85.1224</td>\n",
       "      <td>1</td>\n",
       "      <td>1</td>\n",
       "      <td>1193.1136</td>\n",
       "    </tr>\n",
       "    <tr>\n",
       "      <th>8521</th>\n",
       "      <td>7.210</td>\n",
       "      <td>2</td>\n",
       "      <td>13</td>\n",
       "      <td>103.1332</td>\n",
       "      <td>2</td>\n",
       "      <td>2</td>\n",
       "      <td>1845.5976</td>\n",
       "    </tr>\n",
       "    <tr>\n",
       "      <th>8522</th>\n",
       "      <td>14.800</td>\n",
       "      <td>1</td>\n",
       "      <td>14</td>\n",
       "      <td>75.4670</td>\n",
       "      <td>0</td>\n",
       "      <td>1</td>\n",
       "      <td>765.6700</td>\n",
       "    </tr>\n",
       "  </tbody>\n",
       "</table>\n",
       "<p>8523 rows × 7 columns</p>\n",
       "</div>"
      ],
      "text/plain": [
       "      Item_Weight  Item_Fat_Content  Item_Type  Item_MRP  \\\n",
       "0           9.300                 1          4  249.8092   \n",
       "1           5.920                 2         14   48.2692   \n",
       "2          17.500                 1         10  141.6180   \n",
       "3          19.200                 2          6  182.0950   \n",
       "4           8.930                 1          9   53.8614   \n",
       "...           ...               ...        ...       ...   \n",
       "8518        6.865                 1         13  214.5218   \n",
       "8519        8.380                 2          0  108.1570   \n",
       "8520       10.600                 1          8   85.1224   \n",
       "8521        7.210                 2         13  103.1332   \n",
       "8522       14.800                 1         14   75.4670   \n",
       "\n",
       "      Outlet_Location_Type  Outlet_Type  Item_Outlet_Sales  \n",
       "0                        0            1          3735.1380  \n",
       "1                        2            2           443.4228  \n",
       "2                        0            1          2097.2700  \n",
       "3                        2            0           732.3800  \n",
       "4                        2            1           994.7052  \n",
       "...                    ...          ...                ...  \n",
       "8518                     2            1          2778.3834  \n",
       "8519                     1            1           549.2850  \n",
       "8520                     1            1          1193.1136  \n",
       "8521                     2            2          1845.5976  \n",
       "8522                     0            1           765.6700  \n",
       "\n",
       "[8523 rows x 7 columns]"
      ]
     },
     "execution_count": 38,
     "metadata": {},
     "output_type": "execute_result"
    }
   ],
   "source": [
    "df.drop('Outlet_Size',axis=1)"
   ]
  },
  {
   "cell_type": "code",
   "execution_count": 39,
   "id": "3e156424",
   "metadata": {},
   "outputs": [
    {
     "data": {
      "text/html": [
       "<div>\n",
       "<style scoped>\n",
       "    .dataframe tbody tr th:only-of-type {\n",
       "        vertical-align: middle;\n",
       "    }\n",
       "\n",
       "    .dataframe tbody tr th {\n",
       "        vertical-align: top;\n",
       "    }\n",
       "\n",
       "    .dataframe thead th {\n",
       "        text-align: right;\n",
       "    }\n",
       "</style>\n",
       "<table border=\"1\" class=\"dataframe\">\n",
       "  <thead>\n",
       "    <tr style=\"text-align: right;\">\n",
       "      <th></th>\n",
       "      <th>Item_Weight</th>\n",
       "      <th>Item_Fat_Content</th>\n",
       "      <th>Item_Type</th>\n",
       "      <th>Item_MRP</th>\n",
       "      <th>Outlet_Size</th>\n",
       "      <th>Outlet_Location_Type</th>\n",
       "      <th>Outlet_Type</th>\n",
       "      <th>Item_Outlet_Sales</th>\n",
       "    </tr>\n",
       "  </thead>\n",
       "  <tbody>\n",
       "    <tr>\n",
       "      <th>0</th>\n",
       "      <td>9.30</td>\n",
       "      <td>1</td>\n",
       "      <td>4</td>\n",
       "      <td>249.8092</td>\n",
       "      <td>1.000000</td>\n",
       "      <td>0</td>\n",
       "      <td>1</td>\n",
       "      <td>3735.1380</td>\n",
       "    </tr>\n",
       "    <tr>\n",
       "      <th>1</th>\n",
       "      <td>5.92</td>\n",
       "      <td>2</td>\n",
       "      <td>14</td>\n",
       "      <td>48.2692</td>\n",
       "      <td>1.000000</td>\n",
       "      <td>2</td>\n",
       "      <td>2</td>\n",
       "      <td>443.4228</td>\n",
       "    </tr>\n",
       "    <tr>\n",
       "      <th>2</th>\n",
       "      <td>17.50</td>\n",
       "      <td>1</td>\n",
       "      <td>10</td>\n",
       "      <td>141.6180</td>\n",
       "      <td>1.000000</td>\n",
       "      <td>0</td>\n",
       "      <td>1</td>\n",
       "      <td>2097.2700</td>\n",
       "    </tr>\n",
       "    <tr>\n",
       "      <th>3</th>\n",
       "      <td>19.20</td>\n",
       "      <td>2</td>\n",
       "      <td>6</td>\n",
       "      <td>182.0950</td>\n",
       "      <td>1.695567</td>\n",
       "      <td>2</td>\n",
       "      <td>0</td>\n",
       "      <td>732.3800</td>\n",
       "    </tr>\n",
       "    <tr>\n",
       "      <th>4</th>\n",
       "      <td>8.93</td>\n",
       "      <td>1</td>\n",
       "      <td>9</td>\n",
       "      <td>53.8614</td>\n",
       "      <td>3.000000</td>\n",
       "      <td>2</td>\n",
       "      <td>1</td>\n",
       "      <td>994.7052</td>\n",
       "    </tr>\n",
       "  </tbody>\n",
       "</table>\n",
       "</div>"
      ],
      "text/plain": [
       "   Item_Weight  Item_Fat_Content  Item_Type  Item_MRP  Outlet_Size  \\\n",
       "0         9.30                 1          4  249.8092     1.000000   \n",
       "1         5.92                 2         14   48.2692     1.000000   \n",
       "2        17.50                 1         10  141.6180     1.000000   \n",
       "3        19.20                 2          6  182.0950     1.695567   \n",
       "4         8.93                 1          9   53.8614     3.000000   \n",
       "\n",
       "   Outlet_Location_Type  Outlet_Type  Item_Outlet_Sales  \n",
       "0                     0            1          3735.1380  \n",
       "1                     2            2           443.4228  \n",
       "2                     0            1          2097.2700  \n",
       "3                     2            0           732.3800  \n",
       "4                     2            1           994.7052  "
      ]
     },
     "execution_count": 39,
     "metadata": {},
     "output_type": "execute_result"
    }
   ],
   "source": [
    "df.head()"
   ]
  },
  {
   "cell_type": "code",
   "execution_count": 40,
   "id": "f2093d12",
   "metadata": {},
   "outputs": [],
   "source": [
    "X=df.values"
   ]
  },
  {
   "cell_type": "code",
   "execution_count": 41,
   "id": "a69ba830",
   "metadata": {},
   "outputs": [],
   "source": [
    "u=np.mean(X,axis=0)\n",
    "std=np.std(X,axis=0)\n",
    "\n",
    "X=(X-u)/std"
   ]
  },
  {
   "cell_type": "code",
   "execution_count": 42,
   "id": "9f455507",
   "metadata": {},
   "outputs": [
    {
     "data": {
      "text/plain": [
       "array([[-0.84187169, -0.73814723, -0.76647929, ..., -1.36933384,\n",
       "        -0.25265831,  0.910601  ],\n",
       "       [-1.64170589,  1.35474328,  1.6089627 , ...,  1.09156913,\n",
       "         1.00297245, -1.01844035],\n",
       "       [ 1.09855449, -0.73814723,  0.6587859 , ..., -1.36933384,\n",
       "        -0.25265831, -0.04923754],\n",
       "       ...,\n",
       "       [-0.53424315, -0.73814723,  0.1836975 , ..., -0.13888236,\n",
       "        -0.25265831, -0.57909963],\n",
       "       [-1.33644372,  1.35474328,  1.3714185 , ...,  1.09156913,\n",
       "         1.00297245, -0.19672492],\n",
       "       [ 0.45963367, -0.73814723,  1.6089627 , ..., -1.36933384,\n",
       "        -0.25265831, -0.82959407]])"
      ]
     },
     "execution_count": 42,
     "metadata": {},
     "output_type": "execute_result"
    }
   ],
   "source": [
    "X"
   ]
  },
  {
   "cell_type": "code",
   "execution_count": 43,
   "id": "0ff1696c",
   "metadata": {},
   "outputs": [],
   "source": [
    "def hypothesis(x,theta):\n",
    "    return np.dot(x,theta)\n",
    "\n",
    "def hypothesis1(X,theta):\n",
    "    return np.dot(X,theta)\n",
    "\n",
    "def error(x,y,theta):\n",
    "    e=0.0\n",
    "    y_=hypothesis(x,theta)\n",
    "    e=np.sum((y-y_)**2)\n",
    "    \n",
    "    return e/x.shape[0]\n",
    "\n",
    "def error1(X,y,theta):\n",
    "    e = 0.0\n",
    "    y_ = hypothesis1(X,theta)\n",
    "    e = np.sum((y-y_)**2)\n",
    "    \n",
    "    return e/X.shape[0]\n",
    "\n",
    "def gradient(x,y,theta):\n",
    "    \n",
    "    y_=hypothesis(x,theta)\n",
    "    grad=np.dot(x.T,(y_-y))\n",
    "    \n",
    "    return grad/x.shape[0]\n",
    "\n",
    "def gradient1(X,y,theta):\n",
    "    \n",
    "    y_ = hypothesis1(X,theta)\n",
    "    grad = np.dot(X.T,(y_ - y))\n",
    "    m = X.shape[0]\n",
    "    return grad/m\n",
    "\n",
    "def gradient_descent(X,y,learning_rate = 0.1,max_iters=300):\n",
    "    \n",
    "    n = X.shape[1]\n",
    "    theta = np.zeros((n,))\n",
    "    error_list = []\n",
    "    \n",
    "    for i in range(max_iters):\n",
    "        e = error(X,y,theta)\n",
    "        error_list.append(e)\n",
    "        \n",
    "        #Gradient descent\n",
    "        grad = gradient(X,y,theta)\n",
    "        theta = theta - learning_rate*grad\n",
    "        \n",
    "    return theta,error_list  "
   ]
  },
  {
   "cell_type": "code",
   "execution_count": 44,
   "id": "7a986106",
   "metadata": {},
   "outputs": [],
   "source": [
    "def hypothesis1(X,theta):\n",
    "    return np.dot(X,theta)\n",
    "\n",
    "def error1(X,y,theta):\n",
    "    e = 0.0\n",
    "    y_ = hypothesis1(X,theta)\n",
    "    e = np.sum((y-y_)**2)\n",
    "    \n",
    "    return e/X.shape[0]\n",
    "    \n",
    "def gradient1(X,y,theta):\n",
    "    \n",
    "    y_ = hypothesis1(X,theta)\n",
    "    grad = np.dot(X.T,(y_ - y))\n",
    "    m = X.shape[0]\n",
    "    return grad/m\n",
    "\n",
    "def gradient_descent1(X,y,learning_rate = 0.1,max_iters=300):\n",
    "    \n",
    "    n = X.shape[1]\n",
    "    theta = np.zeros((n,))\n",
    "    error_list = []\n",
    "    \n",
    "    for i in range(max_iters):\n",
    "        e = error1(X,y,theta)\n",
    "        error_list.append(e)\n",
    "        \n",
    "        #Gradient descent\n",
    "        grad = gradient1(X,y,theta)\n",
    "        theta = theta - learning_rate*grad\n",
    "        \n",
    "    return theta,error_list   "
   ]
  },
  {
   "cell_type": "code",
   "execution_count": 45,
   "id": "7909707c",
   "metadata": {},
   "outputs": [
    {
     "name": "stdout",
     "output_type": "stream",
     "text": [
      "[[ 1.         -0.84187169 -0.73814723 ... -1.36933384 -0.25265831\n",
      "   0.910601  ]\n",
      " [ 1.         -1.64170589  1.35474328 ...  1.09156913  1.00297245\n",
      "  -1.01844035]\n",
      " [ 1.          1.09855449 -0.73814723 ... -1.36933384 -0.25265831\n",
      "  -0.04923754]\n",
      " ...\n",
      " [ 1.         -0.53424315 -0.73814723 ... -0.13888236 -0.25265831\n",
      "  -0.57909963]\n",
      " [ 1.         -1.33644372  1.35474328 ...  1.09156913  1.00297245\n",
      "  -0.19672492]\n",
      " [ 1.          0.45963367 -0.73814723 ... -1.36933384 -0.25265831\n",
      "  -0.82959407]]\n"
     ]
    }
   ],
   "source": [
    "a=np.ones((x.shape[0],1))\n",
    "X=np.hstack((a,X))\n",
    "print(X)"
   ]
  },
  {
   "cell_type": "code",
   "execution_count": 46,
   "id": "9288b0ec",
   "metadata": {},
   "outputs": [
    {
     "data": {
      "text/plain": [
       "(8523, 9)"
      ]
     },
     "execution_count": 46,
     "metadata": {},
     "output_type": "execute_result"
    }
   ],
   "source": [
    "X.shape"
   ]
  },
  {
   "cell_type": "code",
   "execution_count": 47,
   "id": "671a075d",
   "metadata": {},
   "outputs": [],
   "source": [
    "x=X[:,:-1]\n",
    "y=X[:,-1]"
   ]
  },
  {
   "cell_type": "code",
   "execution_count": 48,
   "id": "21df93ae",
   "metadata": {},
   "outputs": [
    {
     "data": {
      "text/plain": [
       "array([[ 1.        , -0.84187169, -0.73814723, ..., -1.14261024,\n",
       "        -1.36933384, -0.25265831],\n",
       "       [ 1.        , -1.64170589,  1.35474328, ..., -1.14261024,\n",
       "         1.09156913,  1.00297245],\n",
       "       [ 1.        ,  1.09855449, -0.73814723, ..., -1.14261024,\n",
       "        -1.36933384, -0.25265831],\n",
       "       ...,\n",
       "       [ 1.        , -0.53424315, -0.73814723, ...,  0.50009352,\n",
       "        -0.13888236, -0.25265831],\n",
       "       [ 1.        , -1.33644372,  1.35474328, ..., -1.14261024,\n",
       "         1.09156913,  1.00297245],\n",
       "       [ 1.        ,  0.45963367, -0.73814723, ...,  0.50009352,\n",
       "        -1.36933384, -0.25265831]])"
      ]
     },
     "execution_count": 48,
     "metadata": {},
     "output_type": "execute_result"
    }
   ],
   "source": [
    "x"
   ]
  },
  {
   "cell_type": "code",
   "execution_count": 49,
   "id": "444415ed",
   "metadata": {},
   "outputs": [
    {
     "data": {
      "text/plain": [
       "array([ 0.910601  , -1.01844035, -0.04923754, ..., -0.57909963,\n",
       "       -0.19672492, -0.82959407])"
      ]
     },
     "execution_count": 49,
     "metadata": {},
     "output_type": "execute_result"
    }
   ],
   "source": [
    "y"
   ]
  },
  {
   "cell_type": "code",
   "execution_count": 50,
   "id": "e5c4cb3a",
   "metadata": {},
   "outputs": [
    {
     "name": "stdout",
     "output_type": "stream",
     "text": [
      "(8523, 8) (8523,)\n"
     ]
    }
   ],
   "source": [
    "print(x.shape,y.shape)"
   ]
  },
  {
   "cell_type": "code",
   "execution_count": 51,
   "id": "90d6f3d1",
   "metadata": {},
   "outputs": [
    {
     "name": "stdout",
     "output_type": "stream",
     "text": [
      "(6818, 8)\n",
      "(6818,)\n",
      "(1705, 8)\n",
      "(1705,)\n"
     ]
    }
   ],
   "source": [
    "split=int(0.8*x.shape[0])\n",
    "split_y=int(0.8*y.shape[0])\n",
    "x_train=x[:split,:]\n",
    "y_train=y[:split_y]\n",
    "\n",
    "x_test=x[split:,:]\n",
    "y_test=y[split_y: ]\n",
    "\n",
    "print(x_train.shape)\n",
    "print(y_train.shape)\n",
    "print(x_test.shape)\n",
    "print(y_test.shape)\n"
   ]
  },
  {
   "cell_type": "code",
   "execution_count": 52,
   "id": "6eee8371",
   "metadata": {},
   "outputs": [],
   "source": [
    "theta,error_list=gradient_descent(x_train,y_train)"
   ]
  },
  {
   "cell_type": "code",
   "execution_count": 53,
   "id": "a77ca133",
   "metadata": {},
   "outputs": [
    {
     "name": "stdout",
     "output_type": "stream",
     "text": [
      "[0.9925546778014864, 0.8993637603884314, 0.8257925845094424, 0.7673260944549388, 0.7205590387240618, 0.6829077023327276, 0.6523999987269172, 0.6275218571337517, 0.6071042154476152, 0.5902394284068316, 0.5762190837958202, 0.5644874762789369, 0.5546065929039494, 0.5462296082660942, 0.5390807056103474, 0.5329396275792685, 0.5276297836688086, 0.5230090478598137, 0.5189626026702159, 0.5153973486374591, 0.5122375177720845, 0.5094212177782984, 0.5068976993629102, 0.5046251878816247, 0.5025691573165968, 0.5007009523342025, 0.4989966852563595, 0.4974363508851937, 0.49600311449117007, 0.4946827378248437, 0.49346311542130167, 0.4923338992406984, 0.4912861942079597, 0.49031231076639203, 0.48940556336103597, 0.48856010598407645, 0.4877707976737521, 0.48703309225812436, 0.486342947751847, 0.48569675170690635, 0.4850912595334978, 0.4845235433810903, 0.48399094963095657, 0.48349106342263365, 0.48302167893589054, 0.4825807743910763, 0.4821664909255852, 0.4817771146616888, 0.4814110614084123, 0.481066863543328, 0.4807431587037441, 0.48043867998458656, 0.48015224739530854, 0.4798827603728636, 0.47962919118412334, 0.4793905790806825, 0.4791660250930726, 0.47895468737102825, 0.47875577699246413, 0.4785685541768953, 0.4783923248497376, 0.4782264375126828, 0.4780702803825298, 0.47792327876676194, 0.4777848926490216, 0.4776546144616413, 0.4775319670257156, 0.4774165016419405, 0.4773077963177397, 0.4772054541181043, 0.4771091016291686, 0.4770183875248879, 0.4769329812283154, 0.4768525716599377, 0.47677686606633995, 0.47670558892317555, 0.47663848090701433, 0.47657529793115855, 0.4765158102409737, 0.4764598015646698, 0.47640706831581653, 0.47635741884418265, 0.47631067273175776, 0.47626666013106167, 0.4762252211430574, 0.4761862052321847, 0.47614947067620517, 0.47611488404870983, 0.4760823197322892, 0.4760516594604969, 0.4760227918868639, 0.47599561217933095, 0.47597002163857244, 0.47594592733878316, 0.475923241789586, 0.4759018826178055, 0.4758817722679254, 0.4758628377201261, 0.4758450102248597, 0.475828225052988, 0.47581242126056317, 0.4757975414673917, 0.4757835316485675, 0.475770340938213, 0.4757579214447109, 0.47574622807675143, 0.4757352183795611, 0.47572485238071427, 0.47571509244496785, 0.47570590313758854, 0.4756972510956752, 0.4756891049070094, 0.4756814349959916, 0.4756742135162488, 0.47566741424952397, 0.4756610125104777, 0.4756549850570582, 0.4756493100061118, 0.4756439667539296, 0.4756389359014389, 0.47563419918377026, 0.4756297394039421, 0.47562554037042376, 0.4756215868383485, 0.4756178644541646, 0.47561435970352267, 0.47561105986220936, 0.47560795294995056, 0.47560502768691565, 0.4756022734527645, 0.4755996802480893, 0.4755972386581109, 0.47559493981849665, 0.4755927753831792, 0.47559073749405395, 0.47558881875245024, 0.47558701219226956, 0.4755853112546951, 0.4755837097643791, 0.4755822019070226, 0.475580782208267, 0.47557944551381814, 0.47557818697073395, 0.47557700200980535, 0.4755758863289673, 0.4755748358776799, 0.475573846842223, 0.47557291563184984, 0.4755720388657508, 0.4755712133607794, 0.4755704361198952, 0.4755697043212834, 0.4755690153081098, 0.47556836657887486, 0.4755677557783323, 0.47556718068893794, 0.47556663922279896, 0.4755661294140933, 0.4755656494119332, 0.4755651974736449, 0.47556477195844243, 0.47556437132146995, 0.47556399410819333, 0.4755636389491198, 0.475563304554825, 0.4755629897112727, 0.4755626932754066, 0.47556241417100026, 0.4755621513847503, 0.4755619039625969, 0.475561671006261, 0.475561451669982, 0.4755612451574477, 0.4755610507189035, 0.4755608676484297, 0.47556069528137923, 0.4755605329919642, 0.47556038019098423, 0.4755602363236872, 0.47556010086775513, 0.4755599733314081, 0.4755598532516185, 0.47555974019243025, 0.47555963374337595, 0.4755595335179865, 0.4755594391523884, 0.4755593503039823, 0.475559266650199, 0.4755591878873293, 0.47555911372942034, 0.47555904390723774, 0.47555897816728837, 0.47555891627089986, 0.47555885799335407, 0.47555880312307114, 0.47555875146084176, 0.4755587028191033, 0.47555865702125927, 0.47555861390103826, 0.47555857330188994, 0.475558535076417, 0.47555849908583986, 0.4755584651994926, 0.4755584332943491, 0.47555840325457616, 0.47555837497111264, 0.4755583483412739, 0.47555832326837905, 0.47555829966139945, 0.4755582774346287, 0.4755582565073714, 0.47555823680364995, 0.47555821825192895, 0.4755582007848555, 0.47555818433901426, 0.4755581688546978, 0.4755581542756896, 0.47555814054905954, 0.47555812762497257, 0.47555811545650706, 0.4755581039994846, 0.4755580932123101, 0.47555808305582, 0.4755580734931406, 0.4755580644895541, 0.4755580560123725, 0.4755580480308191, 0.4755580405159161, 0.47555803344038056, 0.47555802677852427, 0.47555802050616086, 0.47555801460051833, 0.475558009040156, 0.4755580038048865, 0.47555799887570294, 0.47555799423470974, 0.4755579898650575, 0.47555798575088193, 0.4755579818772463, 0.47555797823008716, 0.4755579747961634, 0.47555797156300783, 0.4755579685188824, 0.4755579656527352, 0.4755579629541606, 0.4755579604133612, 0.4755579580211125, 0.4755579557687294, 0.47555795364803427, 0.47555795165132825, 0.4755579497713618, 0.4755579480013096, 0.47555794633474563, 0.4755579447656192, 0.4755579432882336, 0.47555794189722495, 0.4755579405875432, 0.4755579393544335, 0.47555793819341896, 0.47555793710028443, 0.4755579360710613, 0.4755579351020129, 0.4755579341896209, 0.475557933330573, 0.47555793252175027, 0.47555793176021627, 0.47555793104320637, 0.4755579303681171, 0.4755579297324978, 0.4755579291340406, 0.475557928570573, 0.47555792804004904, 0.47555792754054294, 0.47555792707024086, 0.4755579266274356, 0.4755579262105195, 0.47555792581797873, 0.4755579254483885, 0.4755579251004066, 0.47555792477277, 0.475557924464289, 0.4755579241738436, 0.47555792390037954, 0.47555792364290383, 0.47555792340048175, 0.47555792317223305, 0.47555792295732924, 0.4755579227549901, 0.4755579225644809, 0.47555792238510997, 0.47555792221622617, 0.4755579220572164, 0.47555792190750334, 0.47555792176654343, 0.47555792163382477, 0.47555792150886583, 0.4755579213912127, 0.47555792128043817, 0.4755579211761403, 0.47555792107794037]\n"
     ]
    }
   ],
   "source": [
    "print(error_list)"
   ]
  },
  {
   "cell_type": "code",
   "execution_count": 54,
   "id": "6cbe604b",
   "metadata": {},
   "outputs": [
    {
     "data": {
      "text/plain": [
       "[<matplotlib.lines.Line2D at 0x147299b50>]"
      ]
     },
     "execution_count": 54,
     "metadata": {},
     "output_type": "execute_result"
    },
    {
     "data": {
      "image/png": "[encoded data removed]",
      "text/plain": [
       "<Figure size 432x288 with 1 Axes>"
      ]
     },
     "metadata": {
      "needs_background": "light"
     },
     "output_type": "display_data"
    }
   ],
   "source": [
    "plt.plot(error_list)"
   ]
  },
  {
   "cell_type": "code",
   "execution_count": 55,
   "id": "16699f37",
   "metadata": {},
   "outputs": [
    {
     "data": {
      "text/plain": [
       "array([-5.75423677e-04, -2.92490814e-03,  1.69351013e-02, -3.10710459e-03,\n",
       "        5.72072321e-01,  1.85710047e-01, -1.91650330e-01,  5.81331410e-01])"
      ]
     },
     "execution_count": 55,
     "metadata": {},
     "output_type": "execute_result"
    }
   ],
   "source": [
    "theta"
   ]
  },
  {
   "cell_type": "code",
   "execution_count": 56,
   "id": "e16aa948",
   "metadata": {},
   "outputs": [],
   "source": [
    "ypreds=[]\n",
    "for i in range(x_train.shape[0]):\n",
    "    y_=hypothesis(x_train[i],theta)\n",
    "    ypreds.append(y_)\n",
    "    \n",
    "ypreds=np.array(ypreds)    "
   ]
  },
  {
   "cell_type": "code",
   "execution_count": 57,
   "id": "ff475126",
   "metadata": {},
   "outputs": [],
   "source": [
    "def r2_score(y,y_):\n",
    "    num = np.sum((y-y_)**2)\n",
    "    denom = np.sum((y- y.mean())**2)\n",
    "    score = (1- num/denom)\n",
    "    return score*100"
   ]
  },
  {
   "cell_type": "code",
   "execution_count": 58,
   "id": "3d615615",
   "metadata": {},
   "outputs": [
    {
     "data": {
      "text/plain": [
       "52.08727013962153"
      ]
     },
     "execution_count": 58,
     "metadata": {},
     "output_type": "execute_result"
    }
   ],
   "source": [
    "r2_score(y_train,ypreds)"
   ]
  },
  {
   "cell_type": "code",
   "execution_count": 59,
   "id": "c6cf1ca5",
   "metadata": {},
   "outputs": [],
   "source": [
    "ypreds=[]\n",
    "for i in range(x_test.shape[0]):\n",
    "    y_=hypothesis(x_test[i],theta)\n",
    "    ypreds.append(y_)\n",
    "    \n",
    "ypreds=np.array(ypreds)  "
   ]
  },
  {
   "cell_type": "code",
   "execution_count": 60,
   "id": "052110ec",
   "metadata": {},
   "outputs": [
    {
     "data": {
      "text/plain": [
       "51.20539407065854"
      ]
     },
     "execution_count": 60,
     "metadata": {},
     "output_type": "execute_result"
    }
   ],
   "source": [
    "r2_score(y_test,ypreds)"
   ]
  },
  {
   "cell_type": "code",
   "execution_count": 61,
   "id": "8a652794",
   "metadata": {},
   "outputs": [],
   "source": [
    "def mini_batch_gradient_descent(X,y,batch_size=400,learning_rate=0.001,max_itrs=500):\n",
    "    n = X.shape[1]\n",
    "    theta = np.zeros((n,))\n",
    "    error_list = []\n",
    "    \n",
    "    data=np.hstack((X,y.reshape(-1,1)))\n",
    "    for i in range(max_itrs):\n",
    "        e = error(X,y,theta)\n",
    "        error_list.append(e)\n",
    "        \n",
    "        #Mini Btach Gradient descent\n",
    "        np.random.shuffle(data)\n",
    "        m=data.shape[0]\n",
    "        total_batches=m//batch_size\n",
    "        \n",
    "        for i in range(total_batches):\n",
    "            batch_data=data[i*batch_size:(i+1)*batch_size,:]\n",
    "            \n",
    "            x_batch=batch_data[:,:-1]\n",
    "            y_batch=batch_data[:,-1]\n",
    "            \n",
    "            batch_grad=gradient(x_batch,y_batch,theta)\n",
    "            theta=theta-learning_rate*batch_grad\n",
    "            e = error(x_batch,y_batch,theta)\n",
    "            error_list.append(e)\n",
    "            \n",
    "            \n",
    "            \n",
    "        \n",
    "    return theta,error_list "
   ]
  },
  {
   "cell_type": "code",
   "execution_count": 62,
   "id": "dddf128a",
   "metadata": {},
   "outputs": [],
   "source": [
    "theta1,error_list1=mini_batch_gradient_descent(x_train,y_train)"
   ]
  },
  {
   "cell_type": "code",
   "execution_count": 63,
   "id": "e91e7ca0",
   "metadata": {},
   "outputs": [
    {
     "name": "stdout",
     "output_type": "stream",
     "text": [
      "[0.9925546778014864, 0.9357317010839955, 0.980306954938699, 1.022016075407456, 0.9584700784165786, 0.8609781312520292, 0.9349399962669795, 0.8548915404721533, 1.1398433232013916, 1.0056298412077265, 0.9683836924624799, 0.8844734979982403, 1.0065163039591514, 1.149425380385951, 1.0942617162113, 0.9405031761724553, 0.9247520706859227, 1.0580784226783797, 0.9760796413376763, 1.0033084455473351, 1.104708809547239, 0.9822536465482591, 1.1946740993678013, 0.8809885322342157, 0.9621124057440644, 0.840047365437047, 1.232429237871925, 0.9660672020565325, 0.8768010733283049, 0.8371697004978174, 0.9023172348262903, 0.9765619892028553, 0.8903493122487742, 0.8936691812262586, 0.9227121504878937, 0.9456492340538418, 0.9602599663189384, 0.9932791750506715, 0.873947144943333, 0.8932078579734494, 0.9413348080013034, 0.8674001649336869, 0.9484636262751414, 0.9072665113058729, 1.071795796843487, 1.0043160536051936, 0.8951826577759383, 0.925141237704615, 0.9147959042820452, 1.0165547691523775, 1.0603705455538093, 0.9178374252990542, 0.9106797658887399, 1.02564385794342, 0.9450010833632719, 1.1394385902199777, 0.8352070200729819, 0.8665277955765572, 0.9890817358784946, 0.8398450846430298, 1.0487246926626372, 0.9281068211155715, 1.0067104587620401, 0.9083265982217382, 0.86528550962031, 0.9236103539006163, 0.9339793799932571, 0.9202234235732454, 1.0986948818996456, 0.9351971870229652, 0.7777841620335036, 0.9068324159554052, 0.9303067894762768, 1.1708603044640307, 0.7872606458091849, 0.8279364507140698, 0.9701851027869902, 0.8383909099409856, 0.9164962374571562, 0.8748830723356994, 0.8080363911097858, 1.0635644850716728, 1.1302719675336366, 0.7653005772322792, 0.8284510279264842, 0.9913912039187016, 0.9155019299141945, 0.9046814705432127, 0.8911031432048091, 1.0034679513109637, 0.9161221223724914, 0.8577298572134427, 0.722283973653314, 1.058045978611413, 0.9166393083745791, 0.86132286751885, 1.0765562145610026, 0.9571193712596611, 0.9767014846533655, 0.7613495106662712, 0.8303858382756504, 0.7525182546824712, 0.9621041914994584, 0.854107837222942, 1.0361712876205202, 0.7777833554085527, 1.1298515115568049, 0.9304447904168246, 0.9024775491674268, 0.9556933965708276, 0.9287808866771416, 0.9839294823243894, 1.0368109041361362, 0.8808459855098982, 0.9413907758810747, 0.963727508141063, 0.938612382067983, 0.8157455727524469, 0.8429657695780242, 0.8711425985346453, 0.8161339205379224, 0.8685841794285355, 0.8278811845885808, 0.8220182122906372, 0.8490249179298835, 0.892047415410083, 0.8893421786838157, 0.7488246738334527, 0.8851567269536795, 0.8302154919448782, 1.0140927376297086, 0.9120789260178875, 0.8685492519124424, 0.7897017692817074, 0.8499958915048724, 0.800211980119887, 0.8410169706701955, 1.1349709848345497, 0.9173511040045588, 0.9516835566821079, 0.8649708247071124, 0.8880848786206178, 0.8051043916244612, 0.903509959531286, 0.8766924080742834, 0.776530839993886, 0.9345221053657846, 0.9093672101867933, 0.8824834317737614, 1.0481466870293317, 0.7878653094181796, 0.7825115309351715, 1.1323760086712948, 0.8244268018904092, 0.7580277006125279, 0.8818220221176543, 0.8419292262667804, 0.7880552865300982, 0.8251635483830541, 0.865247289246866, 0.9081754268827035, 0.8641105580149638, 0.8645003418890557, 0.7704772094569944, 0.997067237212924, 0.8583717404728985, 0.7493295910635617, 0.852277551540378, 0.7315344174926364, 0.9148508735367167, 1.0025243674675526, 0.8011450921052874, 0.8255346896007663, 0.7822094510121025, 0.8207819467045551, 1.0748549429505396, 0.8295605175071158, 0.8672683461395223, 0.8764137310717959, 0.8376635017108391, 0.852754866356914, 0.7836254302355843, 0.8748659270222815, 0.8659148375965091, 0.8934791156731814, 1.0174139200947783, 0.8838021189659304, 0.9751834198342618, 0.8157980702949605, 0.8301934685050948, 0.7633041248287927, 0.766519080955364, 0.9246092877997606, 0.8488036065727222, 0.7221013853543076, 0.8849655356749578, 0.8711469818999595, 0.6722755355122448, 0.8414396030318906, 0.7708346661077874, 0.787271069777495, 0.7823143013175127, 0.8594216174622106, 0.8442505001654825, 0.7251266866204119, 0.853574789444069, 0.8456255840895257, 0.8846467847356171, 0.8433817758256325, 0.916134606193709, 0.856378510729536, 0.8455617284189364, 0.7885503074685442, 0.9193263220320518, 1.0051495391144998, 0.693744278261748, 0.8305152999901354, 0.7159558977955924, 0.8328027102818916, 0.9454657068097941, 0.8002817209604679, 0.9113918647414725, 0.8395919189661939, 0.7622543144793764, 0.8245739335184706, 0.9106931699753883, 0.8159880262016452, 0.758610664342622, 0.7994141724793323, 0.8666562086986965, 0.7907552694088724, 0.7446824657583789, 0.9931715620487966, 0.7007452475516783, 0.8200096788433281, 0.9024501300817428, 0.7437503748875138, 0.8550838069919314, 0.846562117407762, 0.7764341605763095, 0.9147662869591082, 0.8739947121494055, 0.7779012038126908, 0.7340812413057541, 0.8016903480437274, 0.7546777200876724, 0.8622869743740842, 0.8236320600048499, 0.9736078801336921, 0.7913316787206471, 0.6536970109449204, 0.7638092219237441, 0.8098582762464235, 0.8133512319149417, 0.7562680643614256, 0.8081746917779833, 0.8436978370531972, 0.8109821360122044, 0.8485902159889445, 0.7749865459969147, 0.8221823570444607, 0.7911439576641408, 0.8333776329672463, 0.7523354401703114, 0.8088675809685651, 0.8073013961029899, 0.7707287139638876, 0.7649264102038802, 0.7971848045493395, 0.8893530529607462, 0.8000591148736084, 0.8747465618539081, 0.7873746320908194, 0.7971026901603702, 0.7173989698176192, 0.7721103209755296, 0.7408254034109821, 0.8434286763407539, 0.866781889709635, 0.7224164715383954, 0.663222958042546, 0.9564916352557364, 0.7269961048032253, 0.9058919061926105, 0.8889277711981559, 0.7851485855893532, 0.7914457618111845, 0.6783133590866787, 0.7906225529736622, 0.7207800886368585, 0.7746645620812866, 0.7903707058117828, 0.9078046171452495, 0.8450654187813876, 0.7256895060839582, 0.7767610540227227, 0.8680380560426556, 0.7905339043946892, 0.7847828841693975, 0.7102516211293652, 0.7755389526393414, 0.6896623845820529, 0.9201525985310545, 0.7433904511704355, 0.7768071322546121, 0.7576675854946342, 0.7815169970349798, 0.828641276862717, 0.6099867776305083, 0.7159094538866014, 0.7365677336271029, 0.8597960297746399, 0.8304650663542336, 0.7385574826825659, 0.7854238667007345, 0.7989135319487153, 0.6085089457414482, 0.7927411842695211, 0.8023027647038018, 0.7860127329661465, 0.784413986003527, 0.8951078301242461, 0.8126940598923801, 0.8249018396198771, 0.7727376060344504, 0.8446984573747056, 0.8363282205235457, 0.769405528358212, 0.8687753739603343, 0.8110772914739386, 0.8126855037603089, 0.7258063783554636, 0.7586569330546381, 0.6552206827148933, 0.7041279526900093, 0.681962275624401, 0.7383408380520661, 0.775359503484276, 0.7661152755562165, 0.7834977946081978, 0.7834817489127821, 0.7594014051226284, 0.7642657119335194, 0.7184979801715434, 0.7607010003432738, 0.6672696559670159, 0.7680832507354034, 0.8404026710505869, 0.752236016313957, 0.7782378793751866, 0.6694906115056404, 0.7091516209415594, 0.8684947429333097, 0.8465800547292426, 0.7701082650460236, 0.7325605303266634, 0.7318681288274851, 0.7685878343847752, 0.7580223540765871, 0.7692385039079411, 0.7561125902431627, 0.7733127038789932, 0.6763837739387271, 0.6149758374197634, 0.6908557110851951, 0.7595464583845023, 0.7859644887127523, 0.680778776461556, 0.8368370188944074, 0.7864503454851227, 0.7739450038464797, 0.7948815194128565, 0.6951110059435274, 0.7257283826219617, 0.8470702612381973, 0.6473031319037023, 0.8662599218370443, 0.7716195293694489, 0.7482402187341284, 0.8142501843366335, 0.7202727683946084, 0.6990797279427524, 0.6874211126992051, 0.7547719123720128, 0.8252398345874528, 0.8651226137386742, 0.6920065120041363, 0.6881825501065285, 0.8372922588557971, 0.843242175742217, 0.7181882391922767, 0.6897114052980003, 0.7755494199297763, 0.6457753304764923, 0.7104542369810051, 0.6873414238750928, 0.7406294453545459, 0.6882792371802762, 0.6863369200376165, 0.6388149648934647, 0.7806072281745939, 0.6905864133758669, 0.6403163829200855, 0.7586938843408109, 0.7335555985306954, 0.7232625057805339, 0.7844886197363614, 0.9741725225983295, 0.8559147848874389, 0.6208869591396464, 0.816780639649293, 0.6832614680897027, 0.6886476286073401, 0.7602998440086316, 0.7332759002698273, 0.6824322403857482, 0.7134017870925515, 0.7837795181820859, 0.7942730912692184, 0.6396495580574272, 0.6768203081748021, 0.8084121164314827, 0.7761812563447547, 0.7702873215133821, 0.7455147998669988, 0.6440122398216084, 0.6755704456523094, 0.6298672715765641, 0.6989698853186306, 0.7326034569880449, 0.8241187270519035, 0.7990061458661666, 0.7261839602742337, 0.6541920667244053, 0.7076795431507802, 0.7655015463528312, 0.7478873930340367, 0.7546182462902906, 0.6882684406467012, 0.6384906091703313, 0.771148144519272, 0.8288993056989982, 0.7140935978502234, 0.7084509178944769, 0.7159597202474053, 0.7366874036228657, 0.6611668221609981, 0.7563121385730538, 0.7285106361127177, 0.7100575457465379, 0.7193265319537074, 0.6647937784540975, 0.7240520674025148, 0.7105055027208289, 0.7917112347342803, 0.8095968262379516, 0.6743054803867997, 0.7257502609876793, 0.6911361000305274, 0.7875041043393027, 0.7265887765646633, 0.7292035904129528, 0.6849001107165043, 0.7140304631250731, 0.7453255590510153, 0.6487801856807502, 0.7913264999334427, 0.5667619452499957, 0.7126894385799113, 0.6978534505206377, 0.7648445834721969, 0.5566062055344266, 0.8398917076649016, 0.6938076293691458, 0.7424476341539452, 0.5942872660575159, 0.6574023179610426, 0.9070131770827539, 0.7246299825204341, 0.7029553852382051, 0.652765541690612, 0.6713963917981974, 0.8133101786176848, 0.6284794816209525, 0.6416881055189653, 0.742622859421879, 0.7063039340624969, 0.7134112838741775, 0.6211778117819177, 0.6563503878383683, 0.7553925421603759, 0.6963486260255827, 0.6692151507547754, 0.7373800051991367, 0.7100595456780024, 0.6327567191455711, 0.6093966380204742, 0.8219195430897986, 0.7715323026317066, 0.8081422529393137, 0.6817975984210557, 0.648684300357285, 0.7632333840206513, 0.6707598289413914, 0.7001128930704065, 0.6417336432362477, 0.6467219450653036, 0.8130678726346657, 0.7129513610173196, 0.7757349528857496, 0.5875942298691968, 0.617423071334548, 0.6670054843875778, 0.5809691639575183, 0.5857380670007692, 0.8367482100874726, 0.7764805192990863, 0.6884182165396104, 0.6770539028982725, 0.7623454001667763, 0.7213935091464136, 0.7670606959936077, 0.6941283533281268, 0.6819344032787867, 0.6900221825068381, 0.7116435823034464, 0.6977038473994507, 0.6612467508084521, 0.5899933396897541, 0.5862306291059534, 0.8125886357805189, 0.7143125517871478, 0.731256287419528, 0.724307300166403, 0.7554208588642106, 0.7594318160744424, 0.7051234178033633, 0.6784530149053646, 0.5690131111097414, 0.6894285744593037, 0.6883425059999683, 0.6610940785343709, 0.7752450491521649, 0.6524135172073797, 0.5764960917619881, 0.7426836959999439, 0.7375929724885364, 0.5981140225093781, 0.7034574612731669, 0.6191302397649138, 0.7613306366058034, 0.6782811352395199, 0.6764099200250118, 0.7001840243465943, 0.6573872756481259, 0.7034223008910899, 0.6707552097476753, 0.6922515437210671, 0.682779980443621, 0.6340013040837468, 0.6277992789513903, 0.7364637794294109, 0.7111855864807467, 0.6404466895871933, 0.6695477551606097, 0.5488674781987597, 0.7404014824786855, 0.7744414905936867, 0.7961289054493054, 0.6438754840854586, 0.7549072783719454, 0.6045777901738069, 0.6748800156709299, 0.6768035368684622, 0.6223283509592314, 0.6809736182911158, 0.6773858517059239, 0.6856182738373363, 0.6762452724853447, 0.7829117086063075, 0.51807006530714, 0.6121443818590064, 0.6898321940760898, 0.6150683097856791, 0.6927222637078034, 0.7497140926957474, 0.7125990821232753, 0.7534823084392894, 0.6467251758355029, 0.5751222937632913, 0.6928638141780765, 0.6151367240930199, 0.7170701928586154, 0.7466408401119718, 0.6721588269340305, 0.6798793889693028, 0.6573067360452223, 0.6850958547185784, 0.6391910131444273, 0.6672739766617377, 0.6859971639436158, 0.6064618724295463, 0.6269725747316139, 0.697360945136594, 0.6359316998969988, 0.5916973173400549, 0.7688405270055566, 0.700079902741314, 0.6781135102404596, 0.7103903374437813, 0.6953064268330773, 0.6517065642748322, 0.6671190583276855, 0.5951902578931185, 0.6195751199316814, 0.6864495189600334, 0.6657891696051701, 0.7060130967798373, 0.6368979437728295, 0.6027890520508989, 0.8015496234913048, 0.6423310670718715, 0.7708053372094369, 0.626786920725956, 0.5824837054725761, 0.6243328124657781, 0.666314530461998, 0.6538711473218983, 0.7023080504761083, 0.7079277088342607, 0.6622313678977677, 0.6060799871321934, 0.6521306446933639, 0.6327281596608857, 0.6610144133816462, 0.6356095002473439, 0.6162823077475497, 0.714564287508148, 0.6065051090141415, 0.77397856071908, 0.6620861588609366, 0.7517473651090225, 0.6315004094449308, 0.7266981875074553, 0.680387503100745, 0.5547685768059307, 0.6016545978954548, 0.7148344750728868, 0.6574977063343113, 0.6486327991088072, 0.7296087873930843, 0.5428707532331366, 0.6818392211984349, 0.5616756891893596, 0.651346560097505, 0.7113517459553981, 0.5983414002251247, 0.6877968252672954, 0.699246181693925, 0.6545637432658756, 0.6180806381800041, 0.7289353795142205, 0.5627874746198164, 0.7304086559114166, 0.6756500818644536, 0.6644674328285649, 0.6529210114187884, 0.655160336498461, 0.5552724040750424, 0.6269883615935224, 0.6599332133328996, 0.6040360761183678, 0.6579401491063837, 0.5327880552283161, 0.7076044437384374, 0.7053129607360847, 0.7252925454957676, 0.6439813607381788, 0.6386649384400047, 0.7821791066584746, 0.6481113573441474, 0.5491240879051333, 0.714496319176265, 0.6339189040881581, 0.6484956112336773, 0.6194671521293172, 0.7133241784754363, 0.5925918578647367, 0.5997535507977604, 0.6331001120743562, 0.698376709618849, 0.643775547913885, 0.6201113146768911, 0.555300325599871, 0.6743194460152118, 0.6972046391153086, 0.654836509127014, 0.5684845735987458, 0.5552693427959938, 0.7408317061171884, 0.6738264358447367, 0.7428637356639115, 0.6442094195955432, 0.6034331721798349, 0.6288424550833893, 0.70696243065238, 0.6126644818801545, 0.6737746982670455, 0.6751018237082255, 0.6089012888933183, 0.6864932915958419, 0.7744009450527304, 0.6793869613970549, 0.6968863652420251, 0.6267386552782759, 0.5173277603434101, 0.6383553303402821, 0.5350886678145653, 0.7142007391008371, 0.5471866473922407, 0.6400622062547447, 0.6691077388168912, 0.6935086626130235, 0.6797491600818836, 0.5434876037867452, 0.6508815061058651, 0.7316835924762881, 0.5480250182024384, 0.5246485578117006, 0.6627220143576735, 0.6732341572671834, 0.7378571152600759, 0.5644500783972833, 0.7192617665490398, 0.538438611015428, 0.6339761498007407, 0.7021563193740402, 0.5759259297821009, 0.6360410397493723, 0.6618874420989767, 0.5054018492784401, 0.5844112934694111, 0.6726036994913277, 0.624394913759388, 0.5992342545593149, 0.6034091190283988, 0.5818340148095845, 0.7021936539264285, 0.7390179226389034, 0.6331770467718144, 0.6358616735251537, 0.5994623851022589, 0.6315529984150201, 0.700860779911665, 0.6698663370226879, 0.6415749229995613, 0.6321481729501646, 0.740240295856879, 0.6436762928497691, 0.6587396809692602, 0.5618390367559026, 0.5262416934519915, 0.585998256583614, 0.5930663242151699, 0.6927958348791919, 0.6896494886299351, 0.5761838752484354, 0.5913116573783797, 0.6423789124928991, 0.6307076321500162, 0.6674768511291171, 0.6236782336210928, 0.6582043138291348, 0.6296513466870535, 0.6283832608591744, 0.6810075133845046, 0.5814994881518714, 0.5692644163862997, 0.5242436240140627, 0.7372511134742962, 0.6964070714202734, 0.6621027544041346, 0.5851882413124357, 0.5172054898576862, 0.580094041402163, 0.7235827734181579, 0.6107355100297047, 0.6234836673044306, 0.6517677018558234, 0.5969881071491975, 0.5860292663277045, 0.7181830678693166, 0.6247284288350817, 0.6310268807837993, 0.5844932824460118, 0.5746637170046142, 0.7222532900092449, 0.5932652909206562, 0.638673537918185, 0.6965136400173654, 0.619959696833892, 0.6675233335999883, 0.5968803159130788, 0.557443703331015, 0.6014987499496234, 0.5647130158660064, 0.5794895319385605, 0.6351878416580589, 0.7070713119042875, 0.6298455959822639, 0.6211927764304449, 0.7157855032475147, 0.6294688784142515, 0.5972647818115954, 0.5982985224904847, 0.5409838955496763, 0.5336773244635542, 0.7583525587453641, 0.668247400396187, 0.5513731422750766, 0.5779106381850516, 0.7226535318667828, 0.6619502403005945, 0.5286377562481076, 0.6216115694657492, 0.5903722791967985, 0.5461970682554615, 0.6416392633137502, 0.6177792680960196, 0.7055786517986478, 0.6872972238035205, 0.607484948328134, 0.5969381486785653, 0.6136883007624179, 0.6880721458628379, 0.5977183050334384, 0.6093349190299829, 0.5815113447591962, 0.5887315251114629, 0.6635959793514471, 0.6697783049351961, 0.5185773006811664, 0.660781503582333, 0.5102643102848511, 0.5876176240289259, 0.5862421901404925, 0.6144560286482993, 0.6576122780100547, 0.6493977579474369, 0.6155918696795694, 0.605181310265592, 0.5456845035806228, 0.6041391293583033, 0.5933130403858923, 0.561106726725588, 0.6419683730093994, 0.673100752260703, 0.6108873273209265, 0.5683659140090832, 0.6335101340209504, 0.600242203572994, 0.672363716403938, 0.6256447983341356, 0.5272376087007696, 0.6112442777583482, 0.6968330935999879, 0.51650724502951, 0.5519682907695806, 0.6051664151846595, 0.7070002236939922, 0.6252433573733772, 0.6508009141157988, 0.5287275181192916, 0.522910624129346, 0.6064178346067884, 0.5285280773648308, 0.727706231884842, 0.5732438411066254, 0.6386636115316752, 0.5890863609925907, 0.6356572915420048, 0.665526262429373, 0.6081247155588294, 0.5791561841142233, 0.4950034905932389, 0.519766225327475, 0.5818779897178061, 0.5212546649678632, 0.6734521067745182, 0.5677166530908813, 0.5664964966105908, 0.6630463805300484, 0.5197676688753162, 0.6187342667070377, 0.73817891953461, 0.5875549447015708, 0.7705048338962581, 0.5684176707677568, 0.6295043099986484, 0.701596380233971, 0.6050988881841536, 0.5463443500646651, 0.49545729705820235, 0.6031421310412598, 0.597549085881844, 0.6158518525695449, 0.6499082450504002, 0.6493979982686389, 0.5690092924076738, 0.6213557482461285, 0.6287365164946954, 0.5360302594557154, 0.6931341779752778, 0.6107349013837847, 0.6600109848864139, 0.5929202508045553, 0.6181815496600493, 0.5743155571662665, 0.6021681971435369, 0.5053330703079767, 0.6607015935005026, 0.5783961438336123, 0.5638606467850374, 0.6065178560951516, 0.672532608162035, 0.645872379705304, 0.5916518504702765, 0.5149109738666131, 0.5365288334549622, 0.6988890114247879, 0.6044508662047307, 0.5794523692833066, 0.673418852542244, 0.6248835189474558, 0.5187512824893017, 0.6523763058062009, 0.5993174132982059, 0.610869164121027, 0.49360004876422614, 0.4863073737640202, 0.7307377207240839, 0.6346014716577413, 0.5978138229817642, 0.6104558441037891, 0.5111360840814865, 0.5825534375277602, 0.5562806989369498, 0.5577919393348686, 0.6747375169504426, 0.5895262480182459, 0.5804098850392786, 0.5374392237378884, 0.7347308934661934, 0.6764775419276967, 0.5965525138681104, 0.5523369641866066, 0.6208729407217154, 0.5541315802963536, 0.7515179275745112, 0.5684615866564829, 0.634250215218353, 0.6931866138478526, 0.6672557145199219, 0.5660493556556729, 0.5642161619621984, 0.6412306191914524, 0.5213876849657918, 0.5560841775174995, 0.5442174262347205, 0.6030819284873948, 0.5237782023684702, 0.5667353857591279, 0.5938708663832853, 0.5182712842915846, 0.5950418545085551, 0.6173838941861324, 0.6282846534476534, 0.5841655846002696, 0.7134414814520365, 0.5381172670367074, 0.6961509524070069, 0.5293261136326113, 0.5979520094481182, 0.5671324615155016, 0.5563503042989935, 0.5394904397428706, 0.6349730387814283, 0.5057529771215282, 0.6536689089235383, 0.6009765642068018, 0.5912731000451121, 0.5573057640564894, 0.638457593251405, 0.580556883118386, 0.6515222493058888, 0.5860829060477822, 0.6039670543782052, 0.5846435142401368, 0.5781086722260675, 0.5524711917585408, 0.5422444128905489, 0.5794690698556297, 0.5887577535363328, 0.539167993305804, 0.7362461425916257, 0.5360080690926405, 0.5784206884629903, 0.5979450755632262, 0.5887514660803247, 0.5860042744250911, 0.5966060315034778, 0.5294789454340179, 0.5194807966039808, 0.6207212541128481, 0.7045266999394388, 0.568160589583706, 0.6578314206864404, 0.6518610938662568, 0.5397347131205681, 0.594052506447298, 0.5674173661257764, 0.5756722657825162, 0.5164478923219329, 0.5447815452965566, 0.6213205003480714, 0.6110911085675158, 0.5863055589243746, 0.5775309147264636, 0.5341291768242824, 0.5451992289345101, 0.5683142315926868, 0.5617329920155013, 0.5568235518650604, 0.6194751166393229, 0.5166627149522114, 0.565330901063329, 0.6591667617701086, 0.47656426008839586, 0.5343128610893075, 0.6541373745394501, 0.6382143288030069, 0.696143750791866, 0.6609567749041271, 0.5881405785871681, 0.5839298920685977, 0.6227436011738071, 0.5994082845237253, 0.6617402548490944, 0.536261102668218, 0.6247326358239151, 0.5932604558339716, 0.5131737395487861, 0.4799093289609253, 0.6670055044015666, 0.667065102575321, 0.5339709735043549, 0.5422830440317469, 0.5884846553501833, 0.4959620873504036, 0.5236058123821521, 0.6536997124318584, 0.6081840113181092, 0.5816136701869976, 0.5098067220492034, 0.5922187126338401, 0.5856601685583297, 0.6826619935717809, 0.6072497785078158, 0.4921554834492929, 0.480922169205493, 0.7389837420284312, 0.5622207902442039, 0.5838542579634179, 0.5147453239547987, 0.5455517908743411, 0.4846399712023572, 0.6006787800173454, 0.6189676632177521, 0.6098279454209168, 0.6641013670694887, 0.5793703950301969, 0.5035592657461638, 0.6230506634157164, 0.5363760522009616, 0.6089037558411632, 0.603472789764814, 0.5382197477328643, 0.5214165966695904, 0.5519946757056725, 0.5664981304988064, 0.5757849639216607, 0.5499119287101409, 0.6924205783673023, 0.6173760893511894, 0.6368553059539668, 0.5090282203531029, 0.6140698048085769, 0.5976217320309933, 0.5771902270341905, 0.5609006564289338, 0.5756309764502702, 0.6568332022991571, 0.5715807741829092, 0.5825994038480945, 0.5987169806288237, 0.5695106099546837, 0.590706972662492, 0.4669642859168405, 0.5275945883499591, 0.46944308629097975, 0.5675304534342246, 0.5785337104386281, 0.682928073043677, 0.586538545252473, 0.6817256143391512, 0.5354939926668242, 0.5750758107866494, 0.47009752534317156, 0.6051612510194139, 0.5448759741883457, 0.5710900639028722, 0.6251458809265121, 0.5568596406822764, 0.5369023365708427, 0.5274002554269904, 0.5256298552914419, 0.604293025064462, 0.4730036872981192, 0.5561246339898643, 0.6476376783260173, 0.6766223377577547, 0.593705274000342, 0.6327789070791112, 0.6029247568248995, 0.5730232558849262, 0.6405214287946853, 0.621754620736609, 0.7389976234973276, 0.48183585707998006, 0.5281094656092704, 0.5277407828350548, 0.5873303390831317, 0.6381510698195182, 0.5923613615110258, 0.5955617231935988, 0.5286932225432333, 0.5643190586360548, 0.5430711876705048, 0.5033600442487541, 0.5244835111041529, 0.4873041667831157, 0.6174728338226749, 0.5710274059509544, 0.49626494089648465, 0.5717339811637402, 0.5220228326251511, 0.46731182196974574, 0.622491132947208, 0.525229846929824, 0.5235894995956645, 0.679573877532687, 0.5374004844767045, 0.5632040869474472, 0.7224619265136788, 0.5350101657136539, 0.6007882826824625, 0.6573279236755374, 0.5324519563736534, 0.5630955268788496, 0.5691578811254813, 0.5690870265682992, 0.5406162977461263, 0.5626608903937251, 0.5360491745707447, 0.5932629128823732, 0.6182717582734668, 0.5010116193807204, 0.5737659210908314, 0.5660660434129058, 0.6229380937279685, 0.5614316341321561, 0.5721525612805445, 0.5594785009643357, 0.6072443990848783, 0.5603366216620241, 0.5637483438290526, 0.5276382968037685, 0.5789912782872111, 0.567205608958948, 0.5545229130949233, 0.5396213096665106, 0.6062442467723852, 0.6287328529138552, 0.4925326012538544, 0.551587983614289, 0.512211537533527, 0.5585004281126325, 0.7379226967551246, 0.509025843057477, 0.6680158138984589, 0.5223175946738281, 0.5810684193743367, 0.5976959444875866, 0.5505182901205282, 0.4984062331348592, 0.5247649804619655, 0.5653700367041913, 0.5666253906177131, 0.4922589109050864, 0.5444861283698005, 0.5940978362830553, 0.5490337242758818, 0.6555537876492662, 0.5376899673916782, 0.5283513738263895, 0.530040017612844, 0.5461047427682959, 0.5827280064999752, 0.5302125767541762, 0.6011238123154803, 0.5439808683518531, 0.5661663349286417, 0.6371153856743497, 0.5783910517805602, 0.5635917520568566, 0.5170741445956207, 0.5704800422641146, 0.53287063083663, 0.6284059489822126, 0.5665826324379047, 0.4579961491357243, 0.6061989012640983, 0.4695741273808768, 0.5879386995786358, 0.47968052891381363, 0.559904502852824, 0.5237306175244301, 0.5927616876745833, 0.5681516727994257, 0.6690308519650933, 0.5672706099077276, 0.680083308152434, 0.5618553658037642, 0.5041379019866109, 0.5264650590315403, 0.5694216862870957, 0.5914175551990558, 0.5506490463781091, 0.6204682392731324, 0.506387323612722, 0.5901753428429298, 0.5317254594680622, 0.5693091092515827, 0.6230257695903759, 0.5568744805027425, 0.5829698515737197, 0.5461945812972391, 0.549778358059666, 0.5633930007479603, 0.5601308321531132, 0.5601719972939165, 0.4638774327244143, 0.6022818899619969, 0.5520810325766117, 0.5891121028868674, 0.5850474360244867, 0.5388165818714268, 0.5621361253175542, 0.5060321191772911, 0.5332389226035387, 0.5643249390383679, 0.6480877507461364, 0.6620432712472425, 0.5033837573581161, 0.576208920663326, 0.5260658191079327, 0.48971936342187455, 0.6135566588293655, 0.5585315702907204, 0.5840436511144372, 0.580357830325149, 0.5758238232431573, 0.4970724905568166, 0.6013974006513857, 0.5609951037291772, 0.5979679475488356, 0.6421537798626786, 0.5112162119569532, 0.5433491934328436, 0.5354174588528651, 0.5146234582587662, 0.45564511447355005, 0.598598438251333, 0.4980545799551547, 0.5229492088174351, 0.6638242426180102, 0.5569313868403112, 0.5918230038864811, 0.6346106827671647, 0.549675958809285, 0.5295277221429434, 0.5834641196261743, 0.48108415996048526, 0.5210412028041709, 0.5520912820067359, 0.5401600915189146, 0.5574299444954639, 0.5552921118829289, 0.4949286156484063, 0.5779220625696553, 0.5107721532872864, 0.5708660491635931, 0.6773934366212473, 0.5256646428939363, 0.5553867321463147, 0.5425172194202925, 0.5787033265679886, 0.624613222795171, 0.5914576157197687, 0.5714432496555442, 0.5703122563232829, 0.5496644509721356, 0.6097492346045815, 0.530443433076482, 0.524747828352351, 0.6147752927761124, 0.55590487289251, 0.5027194870499201, 0.5196268235969679, 0.5063864757861458, 0.5747870542010192, 0.4745508866299976, 0.5538725622823782, 0.6354488154851802, 0.7034047624914024, 0.580040892880135, 0.5319218440627721, 0.5341004502880042, 0.4938278152107716, 0.5548961416046755, 0.574694658216652, 0.5524112368896408, 0.5672613251497031, 0.47346306327406085, 0.5211521765241334, 0.6086532336345505, 0.4719186937010002, 0.4409009593104868, 0.6265860998563894, 0.5435812303172727, 0.5524011901234529, 0.5618230581569394, 0.4982989156816119, 0.5494507185281473, 0.5052967783135603, 0.5588679356898364, 0.5412257248659241, 0.5695611821391047, 0.49121152469277285, 0.5391188671375433, 0.632717177270327, 0.6319940017828164, 0.5729895963204646, 0.6361010992163281, 0.5890628702644594, 0.41468112977161536, 0.5422665215524246, 0.550193300938963, 0.5509692401659202, 0.5425893126131462, 0.4839396461286576, 0.5597990710126035, 0.6439959690996667, 0.5750197001688712, 0.5377047077211858, 0.5350052011157891, 0.5683494890662416, 0.556597376646748, 0.5993725324817403, 0.4984200001125163, 0.5861160051288449, 0.5396343603808177, 0.4801015672655823, 0.5449432222946945, 0.46667716232496786, 0.6390257757239461, 0.5495752348385738, 0.574052744500468, 0.6129228585467439, 0.4874279568866551, 0.5102264346814717, 0.5986762011039449, 0.6652836077790053, 0.5441771503613836, 0.498131809007185, 0.5483905261549382, 0.5329195676816232, 0.5066948833135205, 0.5632339527686393, 0.5334892421189682, 0.5112612909411642, 0.515277790848222, 0.5929340775917291, 0.5454583883357865, 0.548216653635301, 0.5487605235939391, 0.6048206197692361, 0.5535668153804919, 0.5023111421166824, 0.5578703964886663, 0.5773588992088752, 0.516171389143368, 0.5116057654992093, 0.5332561906114752, 0.5532483831700082, 0.49678809372199856, 0.5664134713753052, 0.571707136930526, 0.4877903425189405, 0.5849036550304085, 0.6453123751634317, 0.48491440651484047, 0.5468977140330159, 0.6735614354241597, 0.5139840312011611, 0.635072508794103, 0.4468014786704011, 0.48118401509329733, 0.5213235940704187, 0.543086473362677, 0.5274502239722303, 0.5793515684145535, 0.5647040671528646, 0.5988748768879346, 0.6128621839597396, 0.5070798474349058, 0.5333012568528531, 0.5387019105694304, 0.507209789473602, 0.5151898995604072, 0.545607956096712, 0.5144144040534532, 0.47969689918273756, 0.5075348672359035, 0.5431705917615746, 0.5640793147590726, 0.5464378566502683, 0.5472044674400616, 0.6307117401862823, 0.6805929081348561, 0.45304638432976946, 0.5873503954683844, 0.5562414515192372, 0.5112464764507482, 0.4909110371897229, 0.5319994025135252, 0.5438258118280151, 0.5842780879271806, 0.5443514428507675, 0.4170098127779051, 0.5176473943629242, 0.5028538570925982, 0.4915913915282474, 0.4854057147533345, 0.6166870983606334, 0.544646769820553, 0.5033770032236656, 0.5155530388373636, 0.5240605401123292, 0.6015598680608489, 0.6984878540846193, 0.5563242716349124, 0.5167461659418077, 0.5949204953059372, 0.5394536233314089, 0.6268474006599809, 0.5431229214308598, 0.49319554750463596, 0.5122290435430916, 0.5200403266269401, 0.6782073148992844, 0.48958723849632546, 0.5913393310707097, 0.5212287466604758, 0.5476130265376339, 0.5058616142232052, 0.5772520962605494, 0.6051205209621803, 0.5037242982954535, 0.5325425817143759, 0.507924252564665, 0.6144654572349256, 0.5210662855049389, 0.5124479789555628, 0.5419257315863406, 0.5568801367575292, 0.5740900544876277, 0.48461074367027457, 0.4859702426477869, 0.5638374642507299, 0.5495093639157993, 0.5592705930821904, 0.5502992303971164, 0.6282763374992019, 0.5827046227618893, 0.4636247965201515, 0.638106741465605, 0.5448926563234803, 0.4740906907700984, 0.5154032629795625, 0.561331373097904, 0.472698678042328, 0.5407622875695075, 0.4934556456666314, 0.514326786463375, 0.5234137743161662, 0.5275982242671288, 0.47868493585285476, 0.46128318434230337, 0.512521307499057, 0.46510680733897475, 0.6248583198373836, 0.5851494718002376, 0.5405714980209058, 0.5923880428531869, 0.5981208008098736, 0.6325424454744659, 0.5811023322175689, 0.48481483749354237, 0.5696426609610074, 0.5396280071840831, 0.5361036349941686, 0.5816478247284664, 0.6035975756645907, 0.5089004593185091, 0.569811120818755, 0.57766175323839, 0.47329633984320807, 0.48048609043254387, 0.520854636794336, 0.5300927324839826, 0.5681261316126394, 0.5125863361371384, 0.52337269226042, 0.5439078927145398, 0.5225154224406495, 0.5878318522512747, 0.5200023948247501, 0.5385203705516344, 0.5347951920812481, 0.4708321736060717, 0.514005024271131, 0.532857017390888, 0.6635896205315172, 0.4995977127826485, 0.5935233056593985, 0.5224924750519786, 0.453033030826723, 0.5685842330644227, 0.5671031341275503, 0.43367762468170457, 0.6184892519640498, 0.4882831107118819, 0.503228124028115, 0.52939815341621, 0.6523751922509432, 0.5374372863949801, 0.4990826324205226, 0.6010157648665351, 0.5393314188741013, 0.6016766103201543, 0.5192052161898577, 0.5606950934317478, 0.4868645200465122, 0.5691181123890898, 0.4951804096330497, 0.5598928808459719, 0.5798735094467583, 0.5068099747097965, 0.5006011942982111, 0.6155637531127576, 0.5150820475886831, 0.48771097063305546, 0.5026010139053235, 0.5363837564639693, 0.5787975991651892, 0.5505437845384803, 0.5638297084467362, 0.4779842175626831, 0.5234791906071024, 0.636918910174261, 0.6423992832674753, 0.4860223307564975, 0.6156109413588606, 0.47488676077924835, 0.4868595886932057, 0.4429714397873751, 0.5741068052644017, 0.4370264109095581, 0.5345172998614343, 0.5594989473084344, 0.5358390745017256, 0.5353542924667207, 0.5127495151800622, 0.4876399293115567, 0.5856113569274461, 0.6056207949711355, 0.5355685062710424, 0.49136085319881445, 0.6511663400687923, 0.4811698013948276, 0.44037130149694614, 0.608683483737635, 0.4922321530791168, 0.532542006144897, 0.45973326906166107, 0.5682356942026611, 0.5641663657111081, 0.5165644554473204, 0.5661199967287286, 0.534350808990413, 0.6237939216638854, 0.47530983820159084, 0.5246624060451625, 0.5341018730382341, 0.5288685480834838, 0.4522028652677583, 0.5727477226461724, 0.5701387323266885, 0.5072493415594089, 0.5383480082176775, 0.5195672313058829, 0.5132027335601179, 0.5240788515500686, 0.4214377481944207, 0.5266820976923366, 0.6589302804945063, 0.580196589418512, 0.533371686147348, 0.587264667777224, 0.5860450542867803, 0.5126877215795456, 0.5311906317981913, 0.5651647223164855, 0.5222791968844648, 0.477019540004776, 0.5803490491956582, 0.47594419077570443, 0.5758290143105895, 0.5554557106658145, 0.484539589848689, 0.5173550910206484, 0.5345860423688269, 0.5546171714477754, 0.4602635428395258, 0.5329658014714311, 0.5324180641746286, 0.5105046563547615, 0.6592855313630451, 0.5357656557879501, 0.5337103519211799, 0.44265369948603905, 0.5163929470568813, 0.5397828262486135, 0.5480425098140843, 0.4306857179439041, 0.586272003954922, 0.6748470947333979, 0.5289055365678709, 0.561712877475369, 0.5126090129171404, 0.521370543664062, 0.46418587944771017, 0.4616845718062122, 0.531483648206105, 0.618443176662646, 0.48674785227402084, 0.5598627105561129, 0.6352793024407939, 0.48026665168518046, 0.5570176688943251, 0.59844264445145, 0.5284467687587366, 0.5548704220511371, 0.5358206049350769, 0.46660193616350754, 0.5426400862919556, 0.48910280857068245, 0.5034222121196525, 0.5031105294885854, 0.4559242757510467, 0.5114794365764965, 0.5305736830472573, 0.45006446981970477, 0.5937915454909102, 0.5632576695100547, 0.5092028732806603, 0.6064634068123015, 0.5671494131962159, 0.469536284595015, 0.489225063272587, 0.5123201137554421, 0.4950917536142839, 0.6218588615773232, 0.5012664914909416, 0.47754209118350494, 0.5267414927302397, 0.485893114549207, 0.570526926963578, 0.5506626791469597, 0.5296893150031339, 0.6105552182994213, 0.5531017209343718, 0.558390775887041, 0.5741539761438874, 0.46797865756857393, 0.6301034467971124, 0.43858427488119855, 0.47557739909874797, 0.5346212145267163, 0.5620861201967917, 0.5253939598637072, 0.5662434489126054, 0.5269292471217563, 0.4778092197873327, 0.4570772784800923, 0.5091656906765448, 0.505361574497431, 0.5288214088115861, 0.5113255381503781, 0.5272803869709314, 0.48086708448569815, 0.49685604279379986, 0.6544403571087904, 0.5337946868374027, 0.5013678888669986, 0.547535681229746, 0.6004072618314578, 0.5123982875267432, 0.5815838616236795, 0.48326279730145205, 0.4578050638468696, 0.4418146277155306, 0.6010908461330825, 0.49110703489873814, 0.5638274795515976, 0.5279694181380381, 0.4686640139956975, 0.6380479763612166, 0.5511919047505023, 0.5148764834823745, 0.5282751503127436, 0.44767024335018873, 0.5821055157999617, 0.4721909505409853, 0.6182618080931147, 0.5203053480793305, 0.5753346216758375, 0.41009283951263603, 0.5056247203222074, 0.5648143428514234, 0.5504024536795673, 0.5103496577693136, 0.5011103869544417, 0.5271421520311899, 0.5604009141426987, 0.5584326577129041, 0.49865259517710614, 0.46023191484122017, 0.5667436481786812, 0.5091313632761966, 0.5137766145867287, 0.4906784536714476, 0.5386257833849384, 0.48355285719655955, 0.5436250303330284, 0.6117060095799765, 0.4236859905976246, 0.5781258930817377, 0.5729871038085508, 0.5165552165972258, 0.5185820662533354, 0.5263323200936376, 0.47799718057462853, 0.5246281785264222, 0.4895921883074809, 0.5153738218400984, 0.5944764736153441, 0.6556915767759403, 0.46462742867460505, 0.5410979184091529, 0.4546621974058523, 0.5090070338632589, 0.4841030567439715, 0.5428849552184317, 0.5695079701371849, 0.4825803247237866, 0.5764647952058585, 0.5437541872279994, 0.5075020291075214, 0.525541709698299, 0.6092826410503686, 0.5955094490860404, 0.5897138066867467, 0.546722318298981, 0.48586465550603447, 0.5044347252322021, 0.49034889844056506, 0.5143702405951862, 0.49295153163430355, 0.5825787565931354, 0.4483797032272665, 0.5605537164484644, 0.48181441036202266, 0.5254926717831464, 0.5050310975661477, 0.4284825303599571, 0.5559213852763571, 0.5247678276650521, 0.5546602728246013, 0.5321176788794801, 0.6297687541509883, 0.45349485369469006, 0.49596155562834715, 0.5684673678719383, 0.5169206878113469, 0.5469865899972094, 0.4557271200396899, 0.5410155764733531, 0.5289291101666213, 0.4695939030471267, 0.4992073247441602, 0.5138168254855894, 0.617447054599399, 0.5192682828327411, 0.47933026253576616, 0.5240068464696032, 0.465033168143334, 0.5148867808362101, 0.5250431461721948, 0.6124051938156471, 0.5406334239762535, 0.503760882966985, 0.5566910188646988, 0.5585800065398463, 0.47434396675812496, 0.4978927824548551, 0.5702883157497936, 0.5291058240620565, 0.558702232863808, 0.49156082234803167, 0.5038445250015241, 0.4587205027613259, 0.5449454870416585, 0.5232622411042224, 0.5593625409511648, 0.5188939230055499, 0.4516242399146498, 0.608548816171263, 0.4463332067838553, 0.5573944965834697, 0.5175515784311517, 0.4462616883863475, 0.5095245900773838, 0.5664418511683219, 0.49754451398882943, 0.5088494107580703, 0.6183731088213358, 0.47497686554454605, 0.5206727041753253, 0.5733714796434171, 0.4846441575418048, 0.5225386018705496, 0.5008642363913671, 0.4855869578909802, 0.5902607622890265, 0.43578157191374084, 0.5706817640713718, 0.5482647336097195, 0.5098246439831163, 0.5223523243463142, 0.5108633195726127, 0.49984052385015304, 0.4740476690033477, 0.46907462741631945, 0.529507345744622, 0.5019583564445882, 0.47538058669095645, 0.6890489292716776, 0.5661990581313461, 0.5218274007649856, 0.578505011392327, 0.4980982148221489, 0.5152596581194591, 0.4862854410788511, 0.4504672579307543, 0.5714444678567253, 0.4996972878481313, 0.5827251924296644, 0.5076594849035555, 0.5402604044947934, 0.48500037220829967, 0.4510855342833521, 0.5807289305187159, 0.5347137247113242, 0.4464233255446864, 0.5321394396688163, 0.6054151847752979, 0.5211306220285178, 0.46285656350539084, 0.5397788213149869, 0.5231150081149663, 0.5642919196462828, 0.5344694474793417, 0.4466591771345728, 0.4976023184637172, 0.4872652157580886, 0.5351348359583252, 0.5254565517309503, 0.5076962746531953, 0.5632122510764347, 0.5320033134633951, 0.5696727628387691, 0.46070711258168356, 0.5426540626411844, 0.5388977188646105, 0.5204499271894094, 0.516059594206265, 0.5158795416714953, 0.6438329148337306, 0.4485368798897019, 0.45446732069882173, 0.5679120469481539, 0.5449118697578289, 0.5793329885349175, 0.5294450729565952, 0.41892679050368337, 0.5202974252641893, 0.6100615623965887, 0.519451344153915, 0.44532385596908, 0.5587292425369196, 0.4814329640917068, 0.4860759193161401, 0.5197880628451516, 0.5271004478845671, 0.5648609673537134, 0.6182707857741816, 0.47847227110929985, 0.4465705683838448, 0.5041727845169791, 0.4425743752862806, 0.5167685781265267, 0.5486686838657233, 0.43446148931143747, 0.5066980569752325, 0.5012459955193586, 0.6384334631639209, 0.5779363821487777, 0.45633912769316437, 0.481611057728305, 0.5643980530063089, 0.5191402403727555, 0.5619864415529212, 0.5241020320901797, 0.4392931003831116, 0.5433558230503182, 0.4565149746781114, 0.4216174338353366, 0.5462084415655357, 0.582161121040969, 0.45843655302052416, 0.5271809029277532, 0.5383495815939855, 0.6400405428587789, 0.5907755363977227, 0.47806700600328794, 0.4772207314375035, 0.48814831769737355, 0.5406276538137437, 0.5185039396173758, 0.4740041025105339, 0.5795294409543287, 0.5146253766864101, 0.45207277184782013, 0.5168674807645232, 0.5024379835257097, 0.5839874849011829, 0.5253301850685129, 0.4992265692740807, 0.5068091598111834, 0.5098470438426494, 0.47656505316389025, 0.5531008510711038, 0.5130236327145635, 0.4272412997440725, 0.6257976029677801, 0.5506117097616479, 0.5178796126290353, 0.47249076441939936, 0.48877519208568165, 0.4552735694465008, 0.49383091572101007, 0.5362619730786905, 0.5341651949593885, 0.5124522596610188, 0.5539950824932145, 0.5501961393071789, 0.5029643321651917, 0.579407199726748, 0.5844702290006673, 0.5036523003456711, 0.4768492304756783, 0.6189882160515134, 0.47308651045747047, 0.4650012422847007, 0.5172671417433988, 0.4406621764012637, 0.5747711430802842, 0.4910657314049944, 0.5155264640669379, 0.5363373443935857, 0.4343847183301892, 0.5611761447997117, 0.4946561886160003, 0.5799587555874889, 0.5390708949801163, 0.5879406133160461, 0.4961076488405034, 0.43997737414618887, 0.5329034634249641, 0.5241236508941475, 0.5056771253140055, 0.5442214529090481, 0.5166668824030525, 0.5223578723692159, 0.4659413992470776, 0.49221748729530596, 0.548020819685843, 0.5702236742987479, 0.5051340849607191, 0.5711013858392586, 0.5248327547122472, 0.4631594941774462, 0.4857105762567518, 0.4746987351711678, 0.5499080074192988, 0.5497287178033168, 0.5326983693228798, 0.5140291327379185, 0.5139393651383294, 0.4593871321865525, 0.516084246910587, 0.4806781814780487, 0.5248338644690653, 0.5219271895152352, 0.4767328152616631, 0.5301882774166722, 0.5228923060350023, 0.5382163744876263, 0.5427653226595158, 0.5049222830945354, 0.45098446698697564, 0.5005319612174, 0.593484031454953, 0.5078664648565477, 0.5311482119134345, 0.46914718192994753, 0.5135989935251568, 0.5525020073508685, 0.5155075265724759, 0.6476728567056399, 0.49648038943705736, 0.44182149206776794, 0.4841906852205522, 0.5161587081187312, 0.46457082565564, 0.46767269345107837, 0.6560641424720336, 0.45427768305762484, 0.4561952507352426, 0.5771269838020721, 0.5056556454605536, 0.5136774688837644, 0.550638890964604, 0.5467215901836866, 0.4632191751557948, 0.5273214203328784, 0.5149436361977102, 0.6262958021886095, 0.4959425365139131, 0.5848642467523364, 0.4654763492553502, 0.5550607530814599, 0.4787415463334997, 0.5886290316076678, 0.5827994383617697, 0.4595800789366065, 0.44437767554480007, 0.5103355921524378, 0.4964080293908789, 0.4208537078643789, 0.4771021916386536, 0.5610510000673575, 0.5497533878186391, 0.45442750517638686, 0.5143903126285693, 0.47532323097946066, 0.5252382841294999, 0.5066174594827116, 0.5214388692184175, 0.4389493066222947, 0.5570727739162045, 0.5053640843053673, 0.4778535583831476, 0.5219624830297653, 0.4332356666523818, 0.549940284339958, 0.5835992786337427, 0.4588695845876499, 0.6287884210030976, 0.4923403013479206, 0.5081300375388778, 0.5641649504097643, 0.5138488328244912, 0.5975423223540299, 0.6051836142610211, 0.46370183024061495, 0.5111790435452872, 0.4300627496661447, 0.48926371422489773, 0.5394805652107019, 0.46977435896422975, 0.48694276550964366, 0.5184059932095221, 0.4676617485026734, 0.4530219369718927, 0.49567773412427685, 0.647417763199187, 0.569505372191174, 0.568471373628917, 0.4320160300890602, 0.5133161517008499, 0.5425693182384227, 0.5344162402472534, 0.529020595779902, 0.46325526652039106, 0.45107683112732216, 0.4852766001907668, 0.5433045250633449, 0.48779364070876996, 0.5676597721080864, 0.5406350312924455, 0.5648883976826609, 0.5204135662428451, 0.612452009456471, 0.5042781521814029, 0.4830269112856769, 0.4125260148285242, 0.47139704062478627, 0.5127955697697841, 0.533779458874758, 0.46834406099449255, 0.49481460161589796, 0.5080612468880794, 0.45891518028121536, 0.48192596353588274, 0.5350161308569727, 0.5391860035337132, 0.46244159146183006, 0.4526955119609427, 0.5104314992709866, 0.4488925200914373, 0.5237218844733373, 0.6520490886457948, 0.5333363129313828, 0.5740906321705674, 0.5308990771425772, 0.5122848875680475, 0.509707185554451, 0.46203019108024435, 0.45133982638609693, 0.5005245878542576, 0.4075841380751672, 0.5358415054418856, 0.5121074785796534, 0.52851408848293, 0.46550907544620124, 0.6353326480525157, 0.47321964621999313, 0.5045292063311083, 0.5516495650211809, 0.5426545855492049, 0.5722859151088524, 0.5120538713015492, 0.5423941671062471, 0.5117833264453712, 0.557932870535933, 0.4960630114182946, 0.5197414821930033, 0.470421491371294, 0.4565597317131818, 0.5212207815562379, 0.4925232587710161, 0.576708712255438, 0.5265949695967269, 0.4414251121919744, 0.5089584347801728, 0.5656052240667745, 0.44866503660066287, 0.5273758159282452, 0.5415432778727788, 0.5572635551452559, 0.4923276798556862, 0.5112901446516351, 0.41835420244218247, 0.46593082833796545, 0.44605392912100095, 0.5730570843083685, 0.525167684021653, 0.5613855057755811, 0.499646821151406, 0.4793860013823432, 0.5769744152042752, 0.48329257412795285, 0.5550003724255049, 0.46824835506221374, 0.48396255137383354, 0.4928352302322655, 0.5218725171403275, 0.5933347765402721, 0.521268174278583, 0.5108074180333756, 0.4167060759286072, 0.4938816646504948, 0.4967687869971381, 0.4504849335073215, 0.5095604872133884, 0.5867467976397873, 0.49075125383142937, 0.514421476585725, 0.4884166324833848, 0.5342178631768083, 0.45830654169177804, 0.5402751951278768, 0.5811711830088025, 0.5637679322487671, 0.45812722547985274, 0.541127246315054, 0.5678306593028809, 0.5103314762624964, 0.511955622104891, 0.4919497032552731, 0.530946327741407, 0.4527099451584564, 0.4717819559713138, 0.5641194155039929, 0.4679887344967024, 0.46392153411005105, 0.5894052392580369, 0.4488685842772503, 0.5158794615287816, 0.5554767049137642, 0.5163056804739239, 0.5312163334740982, 0.5088571453734266, 0.5774504845036357, 0.4875428570770616, 0.5098658770385232, 0.5036435329346726, 0.513860155237853, 0.4793971562264482, 0.4070935506209166, 0.5738060287476443, 0.5106066622436013, 0.47616005757791446, 0.4478526714881611, 0.5409640979645934, 0.5623991365298497, 0.5895328111103908, 0.6335452673308045, 0.52861728088965, 0.44361141236420176, 0.47237805050732495, 0.47613607095335586, 0.5079803514326988, 0.5094094300755787, 0.4863097416173015, 0.5226880729409196, 0.4680330934424103, 0.5581371608846869, 0.5265865008635668, 0.5524969354708621, 0.5307332144889072, 0.5337336887956845, 0.5147070480927646, 0.5006298764338147, 0.5089164100472501, 0.48430426735981413, 0.528842684968639, 0.5137538588536134, 0.5325227814115938, 0.4265140240633001, 0.4768032849730586, 0.5089603145766427, 0.45283948759522447, 0.5530701155870927, 0.5292897395276848, 0.5096520981005745, 0.48935760804585776, 0.44170274582375313, 0.526858987738362, 0.5425063137987991, 0.45202235343516833, 0.5060503863571985, 0.5700124198464087, 0.40348315673799406, 0.4971229688275465, 0.5226582566353138, 0.4781062553200898, 0.5734732247758783, 0.5968104456622695, 0.508521061751455, 0.4378042702380269, 0.5888672414057985, 0.5042580291939249, 0.49206425572895074, 0.4910581751274847, 0.39219040756428725, 0.5329307904532615, 0.5366274973894852, 0.42803635933641404, 0.456760810594519, 0.5437951505764981, 0.5537729300075775, 0.5838973200727942, 0.5204132564733702, 0.5332788962757838, 0.535754287387781, 0.5106470169879471, 0.5080883686121968, 0.5289753125554614, 0.4636701889296905, 0.5120588175389753, 0.5050726284680072, 0.5188760282830844, 0.44275491203527423, 0.43532425495113386, 0.5765547922496059, 0.5351556691108119, 0.5109863207539469, 0.6028058253747197, 0.5054477207022308, 0.48725869351911394, 0.4663944376739926, 0.5115482562158477, 0.4938289295912448, 0.5031633091494778, 0.507666799036552, 0.5144378969947728, 0.47724477571590157, 0.5331750301824654, 0.5390424311812502, 0.5265787796494387, 0.4818299054367745, 0.48571274069679105, 0.5131635311802867, 0.5127853450069372, 0.5235522127950037, 0.48714024165513065, 0.5333450868065355, 0.434276479163276, 0.5361979728128717, 0.5453303761252974, 0.4955476126943432, 0.5016045365886254, 0.5072504430984908, 0.5174451742493897, 0.5254123130554602, 0.5231004048410262, 0.536408334964317, 0.509377860005641, 0.514479511460768, 0.5721938162406538, 0.48662582329693904, 0.4257378597581253, 0.478956079849161, 0.5136144781404661, 0.5251630705963243, 0.49346955367733114, 0.4677322994263862, 0.4948462260654722, 0.5058556488056718, 0.5342112187922626, 0.5068407262630604, 0.41294326264379344, 0.4734391209053648, 0.5150805117953692, 0.481940825164383, 0.5123886185773363, 0.48570682678987703, 0.48928538201636634, 0.45955410797558693, 0.535898398674974, 0.540660888727285, 0.5470158815690557, 0.5682571370011673, 0.6453921941536113, 0.4328878705718769, 0.5154814568622763, 0.4950236482335873, 0.5105887673876598, 0.5064379808815156, 0.5590837193379851, 0.49534826941240384, 0.4889414261683034, 0.5410314014729939, 0.572044478959247, 0.44159667817987797, 0.43759411005249294, 0.5534823609128513, 0.5373385406594899, 0.5897443408471239, 0.5347278662182465, 0.47021773901064107, 0.47819727327941924, 0.48282294811877263, 0.47051159744303706, 0.4954961471261241, 0.4606730130111086, 0.5060442294728267, 0.43383065261820036, 0.4735835288211485, 0.5024688251263416, 0.5707279916189373, 0.5418492880626122, 0.475037798622497, 0.5359193723230784, 0.5277288395562438, 0.5043837436567419, 0.591769378525452, 0.49939490896594024, 0.4704493887713144, 0.4511059214539725, 0.5148221735288833, 0.5380928786316604, 0.4460994657630875, 0.5331838170400939, 0.5056556249843978, 0.5619717210024266, 0.5164554079081904, 0.46121703715527873, 0.4657327281061507, 0.4368996133518166, 0.5784187386180908, 0.5169888604835934, 0.49345208670437324, 0.4858823993947421, 0.600194307270488, 0.515551126233066, 0.39883819578612545, 0.5099644243315332, 0.6056370254846943, 0.4929259647847043, 0.45881153301794547, 0.48023346896357494, 0.5052724235603118, 0.43170440490568107, 0.5217067994608179, 0.5273080417544754, 0.5348622112406939, 0.523200166380026, 0.45973333744823697, 0.6003857453241673, 0.4446542556673235, 0.629132193162101, 0.45279622994095975, 0.4844483264744108, 0.4167443961468818, 0.49996297347318847, 0.47125323893498733, 0.5056953282700198, 0.5819882599537766, 0.511749931283899, 0.5048979741587853, 0.544623998986957, 0.4569683459967891, 0.5192203287604192, 0.4858061627172312, 0.4470091877134829, 0.5395930683164514, 0.5129786620684481, 0.5371560674174747, 0.5572865183130336, 0.5036492547968062, 0.5389659970627547, 0.495614843564006, 0.5213796284108659, 0.4497789538967142, 0.5222756247896083, 0.45506791525044477, 0.49101466984142195, 0.5045310138883291, 0.5043425649409213, 0.42503962481110025, 0.46747601966888225, 0.4797613425723328, 0.49367712000941166, 0.6479922091762437, 0.5046619859588002, 0.539611340475999, 0.5127674150396992, 0.6132658767561694, 0.48047881742707915, 0.43928089486242344, 0.4590255264032894, 0.48476508565817994, 0.5624764865425991, 0.5011577330229926, 0.46492708096270813, 0.5041684652241405, 0.4646905584442497, 0.48974758037749766, 0.5022158187692449, 0.47570777434432243, 0.5700139001283392, 0.5174226228574805, 0.5219266695616929, 0.5050784948223165, 0.5174394192468609, 0.5681915338721191, 0.4394282457696683, 0.5573224946829479, 0.4105986621970324, 0.5688961990864967, 0.4690640067250962, 0.517504020280649, 0.4756132677124764, 0.5038116175450483, 0.4375466356043539, 0.5172979817395631, 0.47764357859987266, 0.5027789510444766, 0.5283243354017897, 0.45383647830813983, 0.43427617050968964, 0.5551575145113453, 0.4937991484120702, 0.5513521025612503, 0.5254055943484878, 0.5076509971624134, 0.4954514573639436, 0.4357654344363942, 0.5837785317187192, 0.5495194852064063, 0.5101506340929277, 0.5034606354346262, 0.5519391339574587, 0.44016335268212603, 0.47192673785304673, 0.47031055497175167, 0.4932415146928375, 0.481538872619491, 0.48575895723450563, 0.5774825683195397, 0.4769370073456782, 0.500003503478401, 0.5163849977286056, 0.49750372127426706, 0.46815851559118854, 0.4552334223655387, 0.5363604413755373, 0.5599808325984251, 0.5813718235016418, 0.5031148429807781, 0.5219702784103626, 0.5642758870160433, 0.5409662548540366, 0.47944145638548713, 0.5537893089999021, 0.513551143878991, 0.49424608860227026, 0.4506492383559824, 0.5130268113536494, 0.54396284810075, 0.5697284406380703, 0.45506335608402226, 0.5180405147827404, 0.4096540784714092, 0.4343302692807285, 0.5289226440558908, 0.4587861970521662, 0.50277570376138, 0.5332708402606747, 0.47284166339149714, 0.3927939005343673, 0.43001605341083154, 0.6057746839039511, 0.5803768297853966, 0.4703271929068347, 0.44636960534578923, 0.5370731266345072, 0.47295455910880263, 0.5319311304947141, 0.5590671661321351, 0.5023391769428504, 0.4221708279124967, 0.47110451031752143, 0.48517751202504283, 0.6245962473040299, 0.502443212355688, 0.5352609172298832, 0.49092106078081316, 0.542665506082616, 0.5364829593675909, 0.474354299949629, 0.43547970401766933, 0.5085724904133054, 0.4927898306590497, 0.5341435715282077, 0.46898375188498975, 0.5086823758858061, 0.46713158110705666, 0.575733643723897, 0.46407604818979303, 0.5388602539166206, 0.49093722258624145, 0.47146462705696807, 0.5021159038077032, 0.4735537816576148, 0.39544286847529625, 0.4471186571748235, 0.4625716992311784, 0.47453498952823076, 0.4857622219259653, 0.5087458436498171, 0.5338569597037083, 0.5544725348365427, 0.5729877989145872, 0.493987457503916, 0.4680437617753256, 0.5034213692392997, 0.6315157739525518, 0.5409259178176012, 0.5072121010890835, 0.48514355282457516, 0.5017912609386697, 0.5014671022001328, 0.5420975273618049, 0.5554671814442789, 0.593019571557167, 0.5130064130440168, 0.5527526903177784, 0.4170007153846258, 0.49093993344099845, 0.5005076164003658, 0.5214989573222502, 0.45751779066451526, 0.5509360654346437, 0.4396244651285756, 0.49734439186203866, 0.494352255939379, 0.4351144617479015, 0.45412927512172496, 0.5014716322873852, 0.5247794271216872, 0.4740956877970085, 0.43257449339095144, 0.46772610528320774, 0.4952928667068808, 0.47243635260403366, 0.5874911721193892, 0.5252692588055667, 0.4828454452657665, 0.5391972294907404, 0.49508395911856523, 0.5859205669782297, 0.4797224178634145, 0.45334062890725657, 0.4239501831730209, 0.5865745883461948, 0.5019734744909543, 0.5011581633367768, 0.5180762948181901, 0.4664439046862085, 0.46301390868911957, 0.5765960169253749, 0.4894715757101491, 0.505747472554715, 0.5659178000197238, 0.4643626336133447, 0.4356222212645589, 0.43568163165193624, 0.5452906948687757, 0.5084708135009156, 0.47996473367716325, 0.49968040969343247, 0.5502350608336549, 0.5130140403386557, 0.48848927611174936, 0.5008507033375915, 0.4928859999308601, 0.5247539084903596, 0.4949883603565566, 0.5159247003329956, 0.5278486575996528, 0.5311939900900136, 0.4648574547559625, 0.5091519631865011, 0.5833646510739184, 0.44832899816886185, 0.4921074854177573, 0.5445958054742032, 0.5311792652418998, 0.46949491503976304, 0.5370394133882499, 0.4132616360799335, 0.44067239074180553, 0.5005465898510131, 0.45947827495365656, 0.38896534148550815, 0.5760429016116696, 0.556946047187144, 0.4707777457260083, 0.5192744364167722, 0.4884243768047257, 0.5398522518090515, 0.46842771693921953, 0.5383409602215845, 0.5027660911235765, 0.4864144519698138, 0.626417851963854, 0.4814696568613755, 0.43726466756852017, 0.4670409623604762, 0.5072422056943716, 0.5002460772207518, 0.4774612926873721, 0.48091593281663747, 0.5380202745431785, 0.46332343432479517, 0.4808775485215449, 0.5459931684488493, 0.3880641064056513, 0.5058487850213845, 0.48256881311101535, 0.4179974443383789, 0.5510824869633472, 0.48787937765605255, 0.4874672015910155, 0.514139794329387, 0.5751287093534606, 0.5465014360792381, 0.5625687291300184, 0.49995224746047007, 0.48204374666885225, 0.5342298682542791, 0.5168201346941099, 0.5291572776159775, 0.5559227199591557, 0.5142003397430106, 0.49259413039663275, 0.4862897597923381, 0.47430401464180777, 0.45329486383491796, 0.4766306699909141, 0.5571348360707848, 0.4815884241855211, 0.47298117753225016, 0.5031015864818706, 0.5230786681497038, 0.43385233962224246, 0.4996642444765437, 0.4560889549540065, 0.5111675318325039, 0.5045035223057097, 0.4098044443281805, 0.5186496869384637, 0.5278126232581591, 0.5342428269667904, 0.43742300359434383, 0.5571248409499023, 0.6257487409761762, 0.5525351645899269, 0.49323943834313894, 0.443927723131801, 0.5462646020112314, 0.4624743530536488, 0.40964595938682846, 0.49650497515283704, 0.49937820181686016, 0.4653644245047311, 0.5669672765809247, 0.46232320348896166, 0.5163975096165742, 0.644038717093963, 0.47641027230995947, 0.4318766911775723, 0.4908992613167134, 0.49890280375477886, 0.45638644666550504, 0.5373259993401773, 0.46293925637718203, 0.4990189725218761, 0.4172702315273884, 0.4675671290584764, 0.489600032767575, 0.6077007395411632, 0.49909851493750906, 0.4638702043315788, 0.4682655420551248, 0.524774076190233, 0.5085353262701989, 0.5054855714468299, 0.48020383503354425, 0.5271353854783718, 0.4436135640923966, 0.4535353488419318, 0.5090432935709062, 0.5459928462087222, 0.5214446997608292, 0.4580968489420775, 0.49237204236925697, 0.5369430741301732, 0.5633899074252642, 0.49371622951001937, 0.49882114286519186, 0.5742976730576111, 0.46948640674830455, 0.48697146338265496, 0.46314331473816167, 0.45227453930797323, 0.5215300264415488, 0.4954214094204422, 0.5387067835319539, 0.5193544230569881, 0.47914982271210077, 0.43754880769996957, 0.42832285588315083, 0.5609884258591944, 0.5004816993606982, 0.5258453397362095, 0.45115499049580476, 0.5753182644805327, 0.49854912853755873, 0.4834767663510045, 0.45127645384911136, 0.5309397228158701, 0.4569787535140057, 0.4644514692182197, 0.38858430326661975, 0.5440728442595466, 0.4431302060082551, 0.46282062243176125, 0.49200194475137693, 0.5965602217349852, 0.43399520373039535, 0.5659403207615419, 0.5639709288886843, 0.5917381734817602, 0.5365945071020769, 0.46226476827143215, 0.49828107186755477, 0.5147861049980311, 0.49791915329697517, 0.522563690543769, 0.4949793473577073, 0.5599475020034221, 0.4096762388532116, 0.39251407795875237, 0.48330146487582054, 0.6212876919000859, 0.5465081819843652, 0.47699092023493433, 0.5026888235120318, 0.5323842369028368, 0.4641808119296684, 0.49646285947028984, 0.41849854447589097, 0.5391441299425358, 0.498016761290914, 0.47449894225338285, 0.5139323285603608, 0.5516734685534317, 0.40718272374220144, 0.48887641123041603, 0.522625539361472, 0.4685743314843513, 0.5227478367501383, 0.4701993625667466, 0.4587958946064479, 0.5363666162361644, 0.5871425991041572, 0.5580001169268434, 0.4780331995672496, 0.47097801448820276, 0.4757959726070719, 0.47957209688518226, 0.4977562580655167, 0.5082982493670155, 0.5359180443504584, 0.5327756357013704, 0.5217564722425884, 0.4789335094081793, 0.4913302521251992, 0.44016302194102364, 0.5005769481169745, 0.46430727166504526, 0.5103342759757079, 0.48374885431233333, 0.5361148915756828, 0.5000658990482347, 0.5268188615537348, 0.44347426462471373, 0.5388473644334038, 0.4561781083358481, 0.49749855253903713, 0.48952976444533847, 0.44966687855742393, 0.5391985092331399, 0.47861378244391345, 0.42391538308420906, 0.5578312468507413, 0.4587870699715289, 0.5499693037704381, 0.5483597884235468, 0.4813665580396021, 0.4989151236165102, 0.5349161129756588, 0.5513297144159809, 0.4586120664085446, 0.5098324029599064, 0.4466561932020462, 0.4874733658797249, 0.49724576693850686, 0.5328638847772446, 0.4873697239491858, 0.5946302390587043, 0.5319838376076396, 0.5129064174474882, 0.5493646806283354, 0.42830910950198037, 0.4219714547574897, 0.4837151249397557, 0.4875531662040018, 0.4463439651580975, 0.5424059717498809, 0.5696187298694576, 0.4469533968517331, 0.4056477206145682, 0.46771751117252547, 0.5466055069986138, 0.4969954458196011, 0.44495482835810934, 0.5190857957442128, 0.47541969873737683, 0.5650238954664101, 0.48318895883220025, 0.5589131794698114, 0.3892964546526176, 0.477696658030384, 0.5650832973709886, 0.5568281287708802, 0.47305808118120724, 0.41913247982695795, 0.5242559907920086, 0.5029774453683293, 0.489343888612747, 0.46530086985152525, 0.5245647355677063, 0.4967501713541534, 0.45316234067474215, 0.5187814310788218, 0.4738473609393739, 0.46238384711699326, 0.4675248550778492, 0.4894496809325412, 0.49119284283906367, 0.4832384231895574, 0.5196498830726296, 0.5264705048755007, 0.5709483712426766, 0.3978474014673179, 0.4324934637575204, 0.5872967233728797, 0.541860268713312, 0.5633180441654669, 0.46523325710102936, 0.49650793118269143, 0.5478990595235831, 0.5241275572137983, 0.42938978861747806, 0.5404276487240519, 0.4789177031163042, 0.48526720092096953, 0.4760130797437742, 0.5284412523716966, 0.48687586187227416, 0.5019407623539311, 0.5181071671432167, 0.5349060174168728, 0.45256712174531155, 0.46238794634874736, 0.5294879416773716, 0.40482513490056815, 0.5443614504073432, 0.4962683264148139, 0.5259594479921201, 0.5133912539349965, 0.5088568739632406, 0.5585981231666931, 0.4423756189543827, 0.4518188367342859, 0.4483774147868867, 0.4496274678359412, 0.519313079202883, 0.4560458432596463, 0.41074015258006874, 0.6030815964116834, 0.491189760800523, 0.5550122103598114, 0.4935278714231475, 0.44394280009827314, 0.5673843036757792, 0.4960323576899195, 0.4891112153598752, 0.390347027434718, 0.6090193430730498, 0.5395274672035123, 0.5047348772861666, 0.4909386984586102, 0.4495533526760502, 0.4731804205652136, 0.56244807760265, 0.5142337552953898, 0.4815614386095335, 0.4715235979262182, 0.49068542122797, 0.49848169964800365, 0.477878423695609, 0.5012999377358375, 0.4935005255035703, 0.4957998084624854, 0.4768488445902901, 0.4885973714604189, 0.5623572384306208, 0.5413972728800778, 0.4927147057657003, 0.5683866501088609, 0.4736388852028177, 0.5168446031089132, 0.505111264679772, 0.4452750333970112, 0.5425316351139177, 0.4767399864881288, 0.5118375828181777, 0.4487786173701453, 0.4731749567075498, 0.47543197077731114, 0.43910351784068974, 0.4955714346335813, 0.484179035858155, 0.46544210254629503, 0.48141256260954207, 0.4913797016077098, 0.42718906095883463, 0.4396138119136672, 0.5498845490494771, 0.4808455166579624, 0.4419021019168147, 0.5312702420571717, 0.6073211690429795, 0.5399395523635605, 0.4272568651595273, 0.502787883338193, 0.582927898352815, 0.5037954739918097, 0.4619144996750321, 0.4953455259064301, 0.5788347659644966, 0.46603540733340054, 0.457945344661496, 0.5192657400197764, 0.42903601475174014, 0.4899682406180776, 0.5359330486723669, 0.4513903764764159, 0.5731671114767242, 0.4901763212751213, 0.4786266622631877, 0.46774977722880173, 0.43390069786685387, 0.5116144594589607, 0.4481760829656791, 0.5926430334646738, 0.46215378810235674, 0.4951253888480674, 0.47578936930440086, 0.4946634698446226, 0.47007021894973816, 0.4777084754207816, 0.5490558248013772, 0.5818324146617868, 0.5236598689260026, 0.4856414489657531, 0.5779111179877452, 0.5012846178603952, 0.5403337739410785, 0.4748203528803727, 0.4465062157803598, 0.48470198794655034, 0.4358542708253188, 0.4748187202400986, 0.4170477349761816, 0.4949049955447, 0.45915382704314006, 0.5155108600011996, 0.41856035422360605, 0.4616357914057627, 0.45958934938486534, 0.5131170187649643, 0.5040767817120235, 0.48218034931700826, 0.6382932036100032, 0.5104015007399305, 0.4193930522901692, 0.49096288173415575, 0.508574674695258, 0.5284683568615621, 0.4825691146399816, 0.41375708238576453, 0.6172769734104517, 0.4946869331175074, 0.48811185125748296, 0.5185065768165384, 0.4548514317336718, 0.4606310485274541, 0.5141981425384441, 0.4429814694751053, 0.43819925277291544, 0.4701996340730586, 0.4964759050519097, 0.4708449541234586, 0.4862539931748181, 0.5156472269786753, 0.5223576935410886, 0.579441187232966, 0.5469606174821648, 0.5389151256704507, 0.45700379323262835, 0.49447216234608643, 0.536728037912906, 0.44778254786172134, 0.43953394197062695, 0.4360326773560564, 0.4753941171724726, 0.5690534831806339, 0.5262312661053083, 0.4594686252926389, 0.48058655328663913, 0.5364326708954346, 0.49560687290128, 0.5442555706298637, 0.5074057404013006, 0.4891332348650524, 0.45409124802133893, 0.45550492670392223, 0.5556607819340251, 0.49426124880511324, 0.4906196540541552, 0.4980756689455657, 0.5260505931604783, 0.4935514260933324, 0.523750445898234, 0.44947292101351793, 0.44454563596220487, 0.46039438501331564, 0.4743057728288605, 0.4648383988900514, 0.44366937213391694, 0.5366084810145231, 0.5734395958292128, 0.4683345417064741, 0.46137526484518476, 0.47558970479728957, 0.5963107488400055, 0.49405390055703574, 0.5090706191634214, 0.5653060156355311, 0.39451997582589626, 0.5370163043020318, 0.41716353585518506, 0.5198303777393197, 0.4301033159613351, 0.5477484827181103, 0.542648242990173, 0.43322431690075575, 0.45418711834893444, 0.5336845959936, 0.4979596528673575, 0.4678844786784457, 0.5292633788857947, 0.49466037172344707, 0.5184844819026927, 0.4938478661540982, 0.47913147918577537, 0.49153753435763775, 0.4814451950286439, 0.48549149929925184, 0.5326335357623802, 0.4381883223131468, 0.526600200670178, 0.5290047630140602, 0.4607306575373156, 0.5938361221369479, 0.4515650930113067, 0.46721963637157793, 0.47069689768883066, 0.4847504403359996, 0.5375715697229814, 0.5115113690606538, 0.4650907353186796, 0.4936443164268331, 0.5281701376758903, 0.49137375904943625, 0.4873284946217345, 0.4890572333269064, 0.574478405874296, 0.5228029793033012, 0.47474523853708095, 0.48666343275435947, 0.5383852228585326, 0.4592095576345332, 0.4728649424971575, 0.5054017718352738, 0.4495350207767539, 0.5190041694764033, 0.49260133714495374, 0.4541604438920766, 0.43537827175792915, 0.4934445595399321, 0.494904954810207, 0.49985069421199435, 0.45504265226051305, 0.4812284885855878, 0.5442068292149894, 0.5472063541237427, 0.4876944732884192, 0.49736615850388133, 0.45591555901000425, 0.5381648031126105, 0.51152261874925, 0.4816999694917938, 0.424276772355994, 0.47023273478856564, 0.575371515623526, 0.4548523356547945, 0.47169271247586386, 0.49324648263055404, 0.5165213194568438, 0.507564837429966, 0.5118863789823158, 0.4937963442134256, 0.46392283842119236, 0.5443534632055002, 0.5214158460761231, 0.43487729979175044, 0.6014801560216775, 0.47469100423083105, 0.4692245101609159, 0.3887754073864545, 0.4524953095657825, 0.4661506713371594, 0.4465658981783092, 0.5737346572446372, 0.506494743328656, 0.4930521297880037, 0.4678385964221604, 0.5017525126339178, 0.5068908260339227, 0.43161030416033586, 0.4285563272642491, 0.4975970818780652, 0.5023253320501142, 0.5362638055458425, 0.42382580869592856, 0.4467115124670471, 0.6183925463235834, 0.5508734254485165, 0.4692932946220671, 0.5909811898603913, 0.4592326469721305, 0.4585123620843403, 0.48049561204487423, 0.4928602190667517, 0.45763238359687736, 0.40914388498328835, 0.4860943753407788, 0.5781340826310205, 0.5767783416984571, 0.43038398703280334, 0.5471903560223919, 0.4765845199230915, 0.5006504255883936, 0.494395879714572, 0.4999776572493812, 0.5023256402837678, 0.5159098300219366, 0.37820358697826023, 0.5729967070166443, 0.5558520636837667, 0.3975435583228702, 0.49266993751449406, 0.5211714610272973, 0.5708684053205504, 0.4757222732079354, 0.5653190433671447, 0.47070416063856135, 0.44836511643573096, 0.5164633176606397, 0.46064694650338994, 0.5300090337674174, 0.37528486659420873, 0.5742722524996278, 0.44326206617681874, 0.48397305342768426, 0.44888211978714837, 0.496954453436829, 0.4666413377190881, 0.5349707260435318, 0.49248167064951254, 0.6213822251593379, 0.5238222626205067, 0.5064320090306302, 0.4214451212698861, 0.4340147443216966, 0.41400031974199336, 0.5953978332846696, 0.5817559973697867, 0.5424469599489026, 0.44737500350251125, 0.5397402077314136, 0.4058803670865976, 0.4939994765337479, 0.45682930525953763, 0.44597266617136533, 0.5063040721342054, 0.43794037061455854, 0.4922959236744134, 0.5745449910179854, 0.509133734989977, 0.504671524850255, 0.5966148182137146, 0.41208756211550046, 0.48111363026438253, 0.3967632280114043, 0.5283571167317668, 0.4828583184512242, 0.5772548854029208, 0.446324776671224, 0.45859685054050175, 0.5219429019110842, 0.5018692566154469, 0.4495336367254817, 0.49208403995399175, 0.42731121120167787, 0.49211413839104107, 0.45247346707505953, 0.4316809933787135, 0.4749547713058992, 0.48216257065957874, 0.5059901667915316, 0.4459023304172565, 0.5666654907078437, 0.4956443373772141, 0.4591846703763858, 0.5000156342166856, 0.5580279073159783, 0.5107909218199754, 0.5179889019750816, 0.5213380300735312, 0.4638635995572921, 0.47742552327595406, 0.5075609455388378, 0.4919341012824493, 0.41246498408941407, 0.5550779284956203, 0.523776403962894, 0.5027663444454054, 0.46286486705492114, 0.5163250787232485, 0.44942722969724885, 0.5018773621477799, 0.5434288287325177, 0.4015076691158779, 0.4564768576478586, 0.5275937485704308, 0.4582162266718294, 0.5261183247074489, 0.5181850763170149, 0.4642380506169008, 0.5342875512768663, 0.49175676235334675, 0.4746663636036439, 0.5832565247751132, 0.5183376832304627, 0.5551209361128682, 0.5552384859479923, 0.4672436007870071, 0.4164996759384405, 0.529727665281843, 0.47898302115015057, 0.4574461425718566, 0.44797687584611035, 0.4283808039516315, 0.5319378155939745, 0.47956705625175927, 0.47871054131447255, 0.5043382104874113, 0.4610890586974329, 0.49158082560451705, 0.4517823031623553, 0.5049577374049462, 0.4668526424452818, 0.5407459106686495, 0.4885299984409211, 0.4979013068988115, 0.4611324155310866, 0.5200557081432016, 0.4569270005199821, 0.5777736473824462, 0.4566359493781907, 0.523497527118263, 0.48183715586811005, 0.4319369604884129, 0.4241382121023517, 0.5345068910176602, 0.5371402031518011, 0.4914074344349845, 0.5460261857561715, 0.506856737000023, 0.46431620969132065, 0.4442316146806365, 0.5425697537363, 0.4778466374511155, 0.47393456863180433, 0.46101342731526473, 0.5761381171270392, 0.5247914157404082, 0.4824770218726242, 0.4164516301708079, 0.4662030317306781, 0.3868577288769425, 0.4876470867050775, 0.555012762214582, 0.5380100463610479, 0.4912351827681984, 0.5185699474664647, 0.5099632721004409, 0.5500500018152537, 0.5281963974725776, 0.5474828679010623, 0.46714149520918424, 0.5339955094854437, 0.48502478285699946, 0.41702851096047544, 0.4164407634090123, 0.5587911402299693, 0.4508067413038938, 0.6082769656967255, 0.392322548594938, 0.4314968309782421, 0.4675708962193156, 0.47614337514429167, 0.49106494518595123, 0.4837650222022121, 0.4973721087590256, 0.4823549342428063, 0.442516357219977, 0.5305695225207664, 0.4574735499019951, 0.5123185332190241, 0.43057815221876916, 0.5088501804196014, 0.5781729863258335, 0.46232696222371644, 0.5497779842373052, 0.43119023334339784, 0.44876866629069545, 0.5692888277727229, 0.4648593995319057, 0.4947167158809269, 0.4908967080094431, 0.4898124393495522, 0.5708125537026849, 0.3795037953843518, 0.5101979614835607, 0.4233860485046742, 0.5285079032778275, 0.571059304582931, 0.5653217852947185, 0.4259532577202685, 0.49975413647370215, 0.500047668539429, 0.5084022268028044, 0.41852221782335053, 0.4737316624367931, 0.5027276237048695, 0.4634443676899501, 0.5203881174783811, 0.49073116750119855, 0.4932645056643094, 0.4723146521389729, 0.46660379513390526, 0.47369829526630836, 0.5050233889204029, 0.4777978229569734, 0.5148761337405116, 0.4953774246426825, 0.5850652987470566, 0.4561425464125401, 0.4772889296323946, 0.5017985156848751, 0.46091192611105714, 0.47149242971845706, 0.4775633505564555, 0.4959562548335367, 0.5095513090894842, 0.49056556524461054, 0.457811385600789, 0.4579045083563495, 0.44652258866427047, 0.4420186904107005, 0.4523522440253824, 0.5528674181173824, 0.47131306149380564, 0.4535903715856676, 0.5334561864233929, 0.531595922837196, 0.44001698511569176, 0.5725659252241541, 0.5124674540768444, 0.5186770834961871, 0.5126484839577025, 0.5068384531090362, 0.4810031951521339, 0.4904052569022223, 0.5722203340397511, 0.4985303264655275, 0.44414413947072795, 0.4947941135260171, 0.5088001856566275, 0.3971402245829059, 0.509741647745636, 0.6326061285185395, 0.4957207543161573, 0.43552298590370087, 0.47524799811893315, 0.4341779639021084, 0.4725991228104833, 0.41444010743512266, 0.4645701078068673, 0.568719760122764, 0.506386964388285, 0.4902466637921381, 0.49408989721645397, 0.5103433070206154, 0.4786639019133619, 0.43367586369731553, 0.4199387655485681, 0.5552983513526193, 0.5744008841196698, 0.4887705041636357, 0.4409457525971831, 0.43921546813317147, 0.4007457310864188, 0.5689906602280103, 0.44992830189617516, 0.5375818257140609, 0.4965248723251176, 0.47647363696475753, 0.5376005934759206, 0.4900908253707076, 0.49233281974541265, 0.5496517847962678, 0.40141615507800865, 0.4260916076762865, 0.47409355972538947, 0.4630830964714687, 0.5221123147197048, 0.5348851055491913, 0.45021651963806947, 0.5079250998966185, 0.5456324062121561, 0.4574927148378754, 0.443205280728704, 0.5301060297791609, 0.5341275541770325, 0.5127040132221616, 0.4708325928580497, 0.48993471945172745, 0.4594083517579896, 0.45451576004471667, 0.5514493291216591, 0.5339979446942741, 0.477429796231788, 0.5780109948261978, 0.5211218366512818, 0.4050891371051252, 0.4511524613163712, 0.46785242686953427, 0.4947691385948072, 0.4090084921948275, 0.49091753807584204, 0.5427160535757306, 0.5233007017455221, 0.4985727252350229, 0.4670724138126763, 0.4897806489792583, 0.4188874580319782, 0.5420979165114379, 0.416150175982808, 0.4410424381578495, 0.5135398888925459, 0.49442655899840476, 0.48944170828343675, 0.4643601112931681, 0.4806257610948914, 0.4478822985444738, 0.5259541391152651, 0.481550330829013, 0.518468550541658, 0.5302869834746691, 0.48896836180090686, 0.5997258666115031, 0.47201465111867186, 0.48962877925137005, 0.4258428862767496, 0.5209880676250938, 0.5115370709425021, 0.43814286480123643, 0.5228246516467624, 0.4994958296039714, 0.4716156424056767, 0.5100992360402969, 0.3959812620276891, 0.5217686787034811, 0.41029080266752416, 0.5162210870670088, 0.5055076082748633, 0.5508059896943958, 0.48603542287950385, 0.44135195528610555, 0.5978308544884257, 0.4894783191501539, 0.5106397192272344, 0.4246580258305119, 0.5222385649349637, 0.540813389978695, 0.5387177322835482, 0.45712332053877075, 0.44342952975743577, 0.49046244223405, 0.4519279655268622, 0.4732172618546966, 0.457996616603814, 0.5293513105858662, 0.5204267462791303, 0.5031932288972132, 0.487994704122945, 0.45148087424327504, 0.5101011063509897, 0.48933041574932246, 0.4166395419649925, 0.5080177579092242, 0.40682943664362997, 0.4848572908884792, 0.4986305872370744, 0.48833544566798454, 0.49400289852971935, 0.491240806366703, 0.39948914784531964, 0.4728297314408873, 0.5358890630724027, 0.5574891914649516, 0.5188659064877446, 0.48286377891099436, 0.5268130457415146, 0.4933611964452122, 0.5226161447892385, 0.4891848376205096, 0.5234747579929767, 0.5196883450114637, 0.5018935436085954, 0.4803460395466058, 0.44232504849277565, 0.4750062945227232, 0.5103874661468583, 0.4982923689268279, 0.5427272181310707, 0.44614857231623484, 0.4796493410667144, 0.43482620487295803, 0.5186296064570002, 0.46627151721766724, 0.5187081538342304, 0.46950129785430933, 0.48538390390270775, 0.4890407278803293, 0.5074266429408023, 0.47496452594890115, 0.44910004168384815, 0.5791692389347883, 0.4946669603520952, 0.5200062789433622, 0.5194929239535748, 0.469564904565097, 0.4338058215705463, 0.47896591883116413, 0.4864791983579094, 0.4725361706889571, 0.5266592992578668, 0.4308199182682735, 0.5199699389610222, 0.47675069665691305, 0.4805978029286808, 0.48889756538886886, 0.5241397803303282, 0.5561878435497414, 0.4904387155088661, 0.5071001301401771, 0.5106691836853672, 0.4693015300304407, 0.4955665004423946, 0.4647558573791031, 0.38927507467920835, 0.4988635703348684, 0.5068507385568454, 0.5505391469646109, 0.4729610862445395, 0.5442996565788483, 0.42257085698741503, 0.4468248404128085, 0.4428198980684529, 0.488757084653079, 0.5128169880612142, 0.47949306312388273, 0.5688448291467989, 0.4569195946047242, 0.5393595062289995, 0.5081569851139506, 0.47620431224425874, 0.545949201017687, 0.4195405012399603, 0.4395476021334596, 0.44601208690589017, 0.4946943955460715, 0.4555261827215606, 0.43167212416271594, 0.4963263474209606, 0.4858587596050441, 0.5200270913966434, 0.48861911877006037, 0.5362545648625019, 0.5077434833916783, 0.5491930678667719, 0.48370792448325406, 0.4460003175192535, 0.4560479709602682, 0.5689021801183193, 0.4409185253963812, 0.4821336336132474, 0.5078074857496149, 0.4446667596112745, 0.42944725100825454, 0.5214571617337967, 0.4689320290979802, 0.5377808634427343, 0.5142141438218892, 0.4002632249561232, 0.48848070848551256, 0.44141895663847847, 0.5034644243208654, 0.42274384579754204, 0.492196653826058, 0.5489955118542855, 0.5009290622448965, 0.5146544443858514, 0.47369432286101754, 0.5040387908800689, 0.4276517119950403, 0.5157437525531112, 0.48751236416126775, 0.450651024717249, 0.4359144147351887, 0.4857574818304281, 0.5446037002316553, 0.5479405785867496, 0.48834485946785505, 0.47879159932686777, 0.46204182794783877, 0.5093876129521194, 0.49777625926353813, 0.4139622694557502, 0.4719000563212177, 0.478827919481535, 0.4688653276315107, 0.4769390064400201, 0.6399337338417229, 0.43045975355181304, 0.5289243430433084, 0.4429436768589158, 0.4919522582112079, 0.5211351165682148, 0.5067179572841976, 0.4864863744367433, 0.48821070822074153, 0.48312291387056727, 0.41440725365292047, 0.4655820105350068, 0.48005267885973607, 0.4704335995598315, 0.6344951992100821, 0.4974193813523263, 0.5897920001830029, 0.5155788149049573, 0.5099311597665401, 0.43098841396872845, 0.47285308905878337, 0.4206947875592648, 0.5064203022855134, 0.4197770706795717, 0.5336873544173528, 0.45981842842093956, 0.488078053368022, 0.5202443373839037, 0.3743078881516553, 0.5098767074835648, 0.4615075484021074, 0.5114807719807167, 0.4838916078610687, 0.5022705776703653, 0.6183470564475467, 0.4436617389800003, 0.5102548771564096, 0.4518941008425707, 0.41488689411843976, 0.5180565238958645, 0.5759181162813705, 0.5168787115701715, 0.4358896035159232, 0.4519421683910741, 0.48794640090800967, 0.47153784125171805, 0.4025219836997577, 0.5664532210465947, 0.4938625086265024, 0.42635641258821644, 0.5161304974714159, 0.41658019548006203, 0.5473867042366396, 0.47645460856475397, 0.46950788399550397, 0.5590641423579236, 0.49529083614384334, 0.5122673343565289, 0.4580814083632814, 0.4752125302246716, 0.47349420663550107, 0.5309720209034068, 0.4878170709481417, 0.46196277031232713, 0.46898487627800095, 0.5300236305542557, 0.47622896505728163, 0.49284262717987604, 0.42603664239124783, 0.5072626318808023, 0.5041746191923869, 0.4682425749015991, 0.5792930280761289, 0.4693201111961382, 0.42071109052093464, 0.47580303852465655, 0.44056338276916196, 0.5562874396888058, 0.5167281017160775, 0.4998969313947408, 0.4876886815920401, 0.4678098995556064, 0.4597971731385617, 0.5176959778458677, 0.4846711174377697, 0.4776359429734076, 0.4011060556584108, 0.5931126798398438, 0.5091513939134679, 0.43415196962202174, 0.44560200122189625, 0.5117748444682505, 0.523964345834542, 0.48716073455721515, 0.5074483496447683, 0.4707004059473101, 0.49490144027129296, 0.5078742288156629, 0.48756141997554464, 0.4922228066800859, 0.45970421391518224, 0.5112091779683109, 0.5340579020318224, 0.46987632370871657, 0.4934011561439341, 0.46024481638566206, 0.42664320336040484, 0.47626307344242214, 0.49063771368191894, 0.4856275670503534, 0.49600351002045345, 0.49128238582510336, 0.5455001036701068, 0.48616706756410705, 0.47455064206445763, 0.49913638594843635, 0.4874361404518261, 0.43713911907480935, 0.5506491274892078, 0.47855979919983693, 0.43387548218133737, 0.48827623139184906, 0.47351117820363275, 0.4621100260258399, 0.47002551093540645, 0.5041626013969066, 0.538408550143785, 0.42751019807806884, 0.5386891155677109, 0.4466282526666325, 0.47994975930489575, 0.5072865964865244, 0.5144017919990793, 0.5327191900706068, 0.4873124384919411, 0.4876896123457957, 0.43404153455787176, 0.49299677534680714, 0.4794307116107873, 0.4968654956462871, 0.48350151778332007, 0.4622600597738544, 0.4942441207166219, 0.48736095420341685, 0.5406709866477418, 0.5183991896258217, 0.42573567232318354, 0.3930567580238119, 0.5543443733317059, 0.4583166633263022, 0.5161822878371857, 0.5317904396602257, 0.4871903424229429, 0.41144721853559885, 0.4669208789384723, 0.5338873368071184, 0.48428767847881404, 0.4922475367869116, 0.5037857852334121, 0.48208926189837237, 0.4232730827354104, 0.5562500541028222, 0.5101411674559432, 0.5087744123160141, 0.5370270197150868, 0.5113529172774818, 0.4911543097974507, 0.45909652634832326, 0.43872226545091453, 0.4728575743680249, 0.4870681147204583, 0.3931062695143189, 0.5739656596229139, 0.4371665795736544, 0.5088250809116925, 0.4787692696403013, 0.5729381862673985, 0.43335178655346995, 0.45788972658265736, 0.5034498786600291, 0.49276225732260104, 0.5145707494683832, 0.4955741118241827, 0.5735792335927072, 0.5089485094088605, 0.438489961604101, 0.43015195042546767, 0.46768623631214473, 0.4869474523078114, 0.5851493218328977, 0.5127018632672291, 0.4787155377347691, 0.5511647800055567, 0.5595945846191924, 0.46136058033199345, 0.4492443836236611, 0.3560793773107636, 0.5182828665848126, 0.5029732556360473, 0.4796573701390781, 0.4855410572902491, 0.4733642357102104, 0.45643317131191535, 0.41090910689552984, 0.4671893243316269, 0.5363861194279531, 0.48682854124555414, 0.4533300828475887, 0.487332302104281, 0.5628322855634926, 0.4817499560932189, 0.5218474444309108, 0.4090555568746748, 0.4976141088800621, 0.5302898854976101, 0.5585045909975481, 0.41545560801678966, 0.43330434703014215, 0.5405547263912089, 0.49170737814811005, 0.4656199051055664, 0.45715699034955115, 0.49432500229348614, 0.4779146865507132, 0.4867119250325546, 0.48083231762869516, 0.3684018658528946, 0.5954445623211868, 0.5017760848268092, 0.5262909657209769, 0.6076564117379359, 0.5122611965460334, 0.45587948154749874, 0.43018083579644056, 0.5086084924166241, 0.4654011488806089, 0.4312769759426501, 0.5039884632429706, 0.5217358716220787, 0.49859861696066077, 0.4497759587138961, 0.41902658706211193, 0.48659555747980676, 0.4389744091124313, 0.5361115674671525, 0.5125842737994062, 0.48366506032584916, 0.5061876215788318, 0.540726325110107, 0.5478747011067839, 0.508487163266055, 0.5106268702193194, 0.42964218655868963, 0.3671239376036491, 0.4569403948015466, 0.5048850190385201, 0.48323217713762756, 0.4542225302537847, 0.4184235867622347, 0.5743970939637506, 0.4864807520337269, 0.44080155056529846, 0.5351597721154362, 0.42958141355153673, 0.47253387936580327, 0.46347941348120536, 0.4817896497138422, 0.5274887313171618, 0.5396232421022301, 0.5232189641764158, 0.4621622099906898, 0.5458179786378814, 0.5198419893181149, 0.4448063296097956, 0.4801987067659579, 0.44266737386396676, 0.45830340164238165, 0.4889170542762296, 0.48636784804308614, 0.4883855092803516, 0.4800087209805541, 0.4923323987113821, 0.3738766609214402, 0.5475258899932287, 0.603233938692821, 0.5496925175419618, 0.5244219128037413, 0.45115837766859246, 0.4553694846804888, 0.5081338227793569, 0.42650317131196447, 0.46054966808845377, 0.48673347006126266, 0.533871447893683, 0.4585376772128859, 0.4243197455441198, 0.4862549677761638, 0.4680389051334652, 0.5091287451976484, 0.5151519238804293, 0.516026654682323, 0.4555382227917874, 0.5945407905114101, 0.42714627347709294, 0.5978227335515236, 0.47203888422033463, 0.46877956907325513, 0.4533569943659688, 0.4713545216482544, 0.5054570496305711, 0.5044653969526771, 0.44010090923093803, 0.4071520741129385, 0.4673827974819887, 0.48614381112213373, 0.41502824648962017, 0.506809180317743, 0.42185649211471676, 0.40501326310545954, 0.48833621253421144, 0.4951796042549649, 0.5758979837405284, 0.49120731672257684, 0.505128190521305, 0.43908647401004264, 0.5116907641689913, 0.43926964658164025, 0.5366865676922218, 0.5044262852328734, 0.5497971009821337, 0.5176544632100295, 0.4607229763829265, 0.4860340532382857, 0.46375933173995976, 0.39804474966716674, 0.4922143187582979, 0.4666023506603224, 0.4795606386800517, 0.4666182128186116, 0.5019070813378157, 0.5741684347399506, 0.4739714374188029, 0.47188799977882323, 0.4618468709370935, 0.5057419559551889, 0.5000745663645105, 0.4411717228206758, 0.5104381936759048, 0.48312283014270385, 0.5584884641722172, 0.48592680596919596, 0.4331321378236916, 0.4800752567127517, 0.49163770697281267, 0.44502795800502143, 0.552563212245043, 0.4383591105642364, 0.5005424931599587, 0.5177494736690332, 0.5184857922442991, 0.4748401894287543, 0.5086272139554305, 0.5229130880024947, 0.3987577720044176, 0.43542672704156987, 0.4975425138770021, 0.4623825589251911, 0.5809997840571783, 0.48581904440200513, 0.47276853895744336, 0.49192725012101746, 0.4010668286153349, 0.4913180481219922, 0.5082100313891625, 0.4350171645619764, 0.5792599410559239, 0.4758076430337242, 0.4613324014053739, 0.5023838624589545, 0.5000228238783321, 0.4594594148298106, 0.5330978029419637, 0.4686332625873693, 0.527547936907117, 0.47874656989898823, 0.46846982617101074, 0.4857135815002292, 0.4425341425011435, 0.49762476352598206, 0.4931134635410919, 0.45679246047907507, 0.4970426313930959, 0.4591321635080736, 0.46604070113437684, 0.5015051307615636, 0.47555334101706365, 0.48592999846274537, 0.49087237910407894, 0.488895655608817, 0.5551320579084771, 0.4832142373751455, 0.5269343738829896, 0.4811988215487335, 0.46394484899952976, 0.4856085481763292, 0.5138024452752028, 0.45845463733740954, 0.4196071899097334, 0.4579342374607424, 0.5140311993862929, 0.5174034058888755, 0.5067705906677545, 0.4699697948713462, 0.45911872492091843, 0.5040401799568587, 0.5329763317588804, 0.42812646488208, 0.4442422153958853, 0.5234171875043814, 0.4732156983466516, 0.4785404694048694, 0.5410152152201441, 0.48550514259647415, 0.45209474154907175, 0.5088725804658474, 0.4746428746884232, 0.525415642241201, 0.46714398244421723, 0.48437302079576255, 0.44650283142365427, 0.5160593270515494, 0.426426735153868, 0.41141582742782296, 0.5178776139231946, 0.5123083299381955, 0.574923044469738, 0.4525546147584897, 0.4624594580830336, 0.5269162845203682, 0.487326565693712, 0.48540245685226796, 0.4769722625818355, 0.4778215874729599, 0.49318451024002824, 0.506159135135901, 0.4240649875534163, 0.5403784698704069, 0.44387449002930524, 0.5130531792193375, 0.5056385459342652, 0.501452729905862, 0.3961913181780639, 0.4493503562513865, 0.5661898384839736, 0.48716087447974615, 0.4920575452294768, 0.49342056106193605, 0.48000398433054364, 0.48530094242665606, 0.4418410720224572, 0.48249321613365737, 0.4468127106520927, 0.5188408635556088, 0.4675561532573754, 0.6174488071528289, 0.5080979488793266, 0.45550447865976823, 0.3987709605197523, 0.5014836779637531, 0.5037819132710418, 0.49700411951374746, 0.5011573382270051, 0.5565193958741457, 0.41877437659625094, 0.5233622622885402, 0.41204072976835265, 0.4852004912903836, 0.4722629268387803, 0.47329034975869505, 0.5472759998681468, 0.45396302296327823, 0.5037928138260481, 0.46678218049143716, 0.515611388055797, 0.4268905068220192, 0.5494938967465396, 0.5518280405874981, 0.5756708334449618, 0.41679526627832886, 0.4882292956649138, 0.4416770999366082, 0.4797517825294102, 0.4450379675610604, 0.4404342053329653, 0.4851010619451677, 0.42704192880962494, 0.541694302631988, 0.5397131305383404, 0.4630971332323053, 0.42305851093061775, 0.5151937937583333, 0.4942322361893561, 0.4933084485317748, 0.4354469454765577, 0.5279167071950936, 0.46984793501107164, 0.49500099871535386, 0.5770634988262348, 0.4305781073599395, 0.4432942798496123, 0.4404632303475562, 0.5382992460892901, 0.4850025132609513, 0.5060064152792048, 0.45340813643903854, 0.4491858180621469, 0.48941425629994667, 0.4953778296186532, 0.4833883114018367, 0.4836599047774496, 0.4816877525750843, 0.47594882838395136, 0.5633755082002524, 0.5053851528506684, 0.4599224923249987, 0.5320269758855547, 0.4489770758594673, 0.46045392397795154, 0.5154546902455137, 0.44694827101867396, 0.4849053065857256, 0.44360070592679635, 0.4681382884809278, 0.5268213782818344, 0.4646386994233356, 0.5131450799357763, 0.485098565004674, 0.4759963467167265, 0.4253575406135528, 0.4838209611852534, 0.5133701643375228, 0.4890362098811956, 0.5024379690900663, 0.4675690231507049, 0.42270507650859457, 0.5708652660222752, 0.45817874448646045, 0.535577058424562, 0.4848090956976738, 0.5848635237051967, 0.455752218950582, 0.433216621051447, 0.5942863804940837, 0.4813123705413438, 0.4693595998285672, 0.5329359743627345, 0.4442345677333859, 0.41486883770594246, 0.47995139733120973, 0.44887652440198056, 0.4670949545585732, 0.6169188135702499, 0.46007613554187005, 0.47658090754186944, 0.41551053730727927, 0.4708398091804403, 0.48471373555660374, 0.5226280397986762, 0.4878932409135941, 0.49726010883776245, 0.4906367388340558, 0.5202664005298105, 0.42643889083493475, 0.4595690845747906, 0.47186628855256, 0.4480591591815943, 0.43184827773143497, 0.447795389171124, 0.47649749074730274, 0.45173196290652895, 0.540301266892912, 0.44158606028975916, 0.47444281923359116, 0.658645360890807, 0.48461959214714045, 0.43747322385194776, 0.4692317528550234, 0.44470974000620067, 0.4283730680066462, 0.45793230452310424, 0.5672839836105681, 0.4269986997555131, 0.548097454723939, 0.5018790493551695, 0.43137026336498935, 0.48078880141635083, 0.5351941716692895, 0.5176479576933599, 0.5440433118924307, 0.4796289373689681, 0.5120659945401398, 0.45674815809661595, 0.48452616876077265, 0.4551816062535735, 0.4777451040471277, 0.49061696102484803, 0.5500548429002668, 0.466411592965938, 0.5475145392789365, 0.4354032472915883, 0.495322585855053, 0.43313000191557355, 0.4090659411947026, 0.4728645215427985, 0.5006429473585702, 0.5132858962281697, 0.43139534201995117, 0.4566040544128515, 0.4840308045586056, 0.6224115486849021, 0.48443411215649995, 0.47520786477567545, 0.551061214816513, 0.4710229400836529, 0.47130460383039446, 0.4847616897743678, 0.49969897028248894, 0.5140546572450748, 0.44183481947025155, 0.47918146941100226, 0.4863128345919139, 0.4799744754214034, 0.4824733589517629, 0.5089154861693477, 0.46488534746198096, 0.54735787414849, 0.3773511693922312, 0.49260947832894186, 0.48434397026835596, 0.46590662728893173, 0.4502072091915234, 0.45664778311445786, 0.41883439184617743, 0.5339377346915611, 0.5262065613818562, 0.5110102660748129, 0.523743371591051, 0.4313014876930171, 0.52148274514978, 0.5492622345229827, 0.42531312716107794, 0.45612384864289224, 0.5561668727523581, 0.46062299974389015, 0.4975559449621063, 0.44238902702411637, 0.4842535863537895, 0.42402309568146024, 0.47084289360774373, 0.4874088288869919, 0.5499354531425722, 0.44843211052145365, 0.4816525437742279, 0.4758615164438258, 0.42492921994054356, 0.4689295162048029, 0.64014557344784, 0.5093561692888348, 0.4396657206535036, 0.44567561321641647, 0.4843414051659734, 0.5265016708638854, 0.43293066336954433, 0.5268391724882278, 0.4841645291060533, 0.5670281108292282, 0.4559280021498761, 0.5457911484383767, 0.45374343838128334, 0.4564119652892819, 0.48072788392012955, 0.514225314065847, 0.5249416464391795, 0.4464088078866294, 0.5297571086251596, 0.49335639165438844, 0.5045715487615071, 0.5040602894221, 0.5274287774520431, 0.37254642198037646, 0.4368306121551067, 0.4118637092105482, 0.48407650074096586, 0.4466967089249211, 0.5185974584721287, 0.49689358635249475, 0.4607890320652096, 0.4841643261129196, 0.4792146322672602, 0.40904527883892966, 0.4351791932386492, 0.5017525253710613, 0.5362129444743605, 0.5662591787091359, 0.4987604191087344, 0.4578843041890266, 0.44828338753981756, 0.5714130984546202, 0.40140078822687486, 0.5280255252386884, 0.4839891508943168, 0.42249651518244996, 0.5001183999392755, 0.5075949402058478, 0.49037036848548615, 0.48505710588437123, 0.5446165673611784, 0.41129353967430893, 0.44688323167417543, 0.5609433617633068, 0.4664611072855701, 0.4545320978980968, 0.4862522235886336, 0.46186145556590447, 0.5059107085243336, 0.544070726334223, 0.4142595368931468, 0.5203084142440929, 0.4839036381088036, 0.5376859078352899, 0.41135965439109046, 0.517399429708186, 0.45791807452674305, 0.46745557328264853, 0.5083167514286983, 0.44610178928647004, 0.5024565019595767, 0.4431460775408743, 0.5467150469134752, 0.4482275268267337, 0.49376923850277876, 0.473841743959529, 0.41189533206591195, 0.47379880681549885, 0.5502024955070326, 0.5397565721798891, 0.4838174959720763, 0.5016863882818098, 0.4406884989159665, 0.4856307612746128, 0.4332356355288, 0.5042444185273396, 0.4804470915108254, 0.5232335779747795, 0.4138340074800981, 0.5188022945398602, 0.5271070731418477, 0.40552343783225675, 0.5364404025353152, 0.5203623259091578, 0.5184211089886235, 0.45667601806533153, 0.46444937606633047, 0.4811434161688115, 0.48373310928568247, 0.5148520908938741, 0.4260420809008001, 0.48993983368207167, 0.464538158774751, 0.4255383254168927, 0.4926358441113565, 0.4893877346536968, 0.5106742660845621, 0.5491497433670832, 0.4327854473435517, 0.5369223072074553, 0.4604916769315843, 0.4548201982197697, 0.4756599093951385, 0.5135461511936992, 0.5550275171073796, 0.42780675647500827, 0.4836491046577303, 0.6319015905390972, 0.409981968980765, 0.47094776656569487, 0.46439587210582034, 0.49071021937835435, 0.4379590475949843, 0.4872769185753489, 0.4742803912485888, 0.5301433232691896, 0.4848997828772085, 0.48549768839427215, 0.44573682599832937, 0.44486445122963303, 0.5121883365371704, 0.4759012020989621, 0.4663680376918526, 0.49592768841397133, 0.48356652570746833, 0.4654611770756844, 0.42618040467034857, 0.4979220288330819, 0.5043826362935604, 0.4958452320686317, 0.48093926006869536, 0.4570257113971198, 0.5961670862351233, 0.4555654949263599, 0.5002874186220762, 0.5439483737477476, 0.44951720800128114, 0.49400413819398337, 0.47978846689360694, 0.4409988776708238, 0.4612357514724063, 0.46989827110163335, 0.4834852138045808, 0.5200867477739912, 0.4644707396513676, 0.5122438310979058, 0.4378552173173685, 0.4576543696308715, 0.5394638745119109, 0.4651130119592463, 0.4417556897026476, 0.5046999403006943, 0.40020463854961974, 0.4443236017598883, 0.5686948166700797, 0.4868880617690424, 0.46933771711375916, 0.4226426747104444, 0.5725416066215732, 0.5200409674340745, 0.4834040374029666, 0.5023146869477778, 0.5167828220337629, 0.45587098965937883, 0.40403202567024793, 0.5496345543885015, 0.46937690856120484, 0.5313128649538218, 0.4673421739350661, 0.5102674964485235, 0.42637453894302085, 0.5168991939596838, 0.4622514163554088, 0.41242334969394123, 0.47678210882454003, 0.4997478324589549, 0.5444303367272754, 0.4781863652347629, 0.48332404488371306, 0.5219636956503486, 0.5110841795688817, 0.4102677873391385, 0.5164791185361558, 0.5381707062458116, 0.5083300674533915, 0.5207148503673427, 0.4236609506155974, 0.44948865965369605, 0.5449184177366722, 0.458521619551463, 0.475061502731701, 0.47420852048812034, 0.5035872996025734, 0.3957464083718406, 0.539284594861507, 0.4345586882720105, 0.48324499946986726, 0.51995971355492, 0.4709908341954705, 0.5791129799195417, 0.4269575170259197, 0.4458129817500243, 0.46573731694224435, 0.46903595950222865, 0.4356883711357202, 0.5362569181406335, 0.5192082353717595, 0.43263874388171736, 0.4978578627769052, 0.4877337639931835, 0.5275054484795036, 0.4499798268843849, 0.4441776294947031, 0.5134865180232103, 0.4831667041324143, 0.42454240133871607, 0.5277240114527356, 0.47668200633809577, 0.4539972245760001, 0.397420058279147, 0.45159780841428515, 0.5242699166817715, 0.48168716110746584, 0.5331336738694298, 0.48744264802400666, 0.4823857121704392, 0.5993901808920249, 0.4803872889528736, 0.4801177832900323, 0.4736767084905891, 0.46305090786336806, 0.48595333692863846, 0.4830888982781678, 0.5035867503247025, 0.5222923248918225, 0.40676825601031774, 0.5375493638981456, 0.3967527474798463, 0.45033984626841916, 0.4880986792979719, 0.5700620333413959, 0.49302800479780956, 0.547197809963586, 0.5136213659407687, 0.4651252709767315, 0.5072057522397876, 0.4652548085022578, 0.4857453163676245, 0.4409581602199647, 0.4257750820815187, 0.48301172765891703, 0.4623587065459549, 0.4886134928391021, 0.48624550367172487, 0.5179433564533622, 0.4730233506244359, 0.5039241840663707, 0.4504886143548939, 0.4750282161225951, 0.5172663567517821, 0.4463252274002006, 0.42888727009660543, 0.40617596140842166, 0.41188940076398245, 0.42949979969785346, 0.5574673963606934, 0.5622873473333844, 0.5731369711583301, 0.48293564024604974, 0.4970631800627357, 0.51416155054643, 0.5102190228700527, 0.487678535829445, 0.47536921036996505, 0.48549275759645155, 0.5354407550233473, 0.48765483104884355, 0.5543616551370425, 0.5306844886556747, 0.4858738289536757, 0.42317287929912906, 0.4319223247167456, 0.4932818001170137, 0.4433458090112859, 0.378060013679753, 0.474979600759137, 0.4828602954740472, 0.49806080468770664, 0.4352673791957426, 0.45280086831482136, 0.5361294358631732, 0.4990826273018188, 0.40494302862104137, 0.5016064279009772, 0.45889722963936946, 0.4403795118357391, 0.48198944692074136, 0.5422774491728134, 0.43800149458346993, 0.5471800960974664, 0.48721618679923295, 0.49284373630353606, 0.517057246910139, 0.48900111564773086, 0.4827858640241101, 0.4553590546349345, 0.4891176647286563, 0.5265982125734073, 0.46062939899201616, 0.5310164093203089, 0.5465004528675033, 0.41799670010203316, 0.49949303183951704, 0.47532835315496086, 0.5098039987192347, 0.4755358173010166, 0.47510528698864457, 0.42801950060682237, 0.48859254167247945, 0.4620686800928091, 0.4540502843280941, 0.4961309218952828, 0.4827121440207392, 0.4704602138183141, 0.5608929295958215, 0.4970634259714376, 0.5784529012863099, 0.5198145606143005, 0.4509303742283039, 0.452956518258498, 0.44196084438850974, 0.5210284822620569, 0.40152291143943175, 0.5084066361109275, 0.47690294104404496, 0.46817375149641294, 0.46214396844656863, 0.5003104960677226, 0.45739537239676364, 0.4423485612285258, 0.4826392872515244, 0.47588981148015025, 0.4943927708875483, 0.5342786389990081, 0.48984299980271845, 0.5024322875599412, 0.4891059503016043, 0.4845263287090383, 0.5712242590411736, 0.4948640642969974, 0.49906919000911343, 0.47462799721360655, 0.4117757134645747, 0.49056902889635623, 0.4685582056677917, 0.43448087237236954, 0.41699641845839513, 0.4628714412211396, 0.4825677710150007, 0.4810881449878325, 0.4514640646724817, 0.47635416311283435, 0.48994324053701405, 0.3750756975304561, 0.5131447845557392, 0.47708052288848235, 0.38425781505756396, 0.6229492017347306, 0.4337524352608775, 0.48620582142992474, 0.44049990869953304, 0.5092379430354005, 0.5324893725423113, 0.46063884558436613, 0.4719438844281059, 0.5941490940590677, 0.48249624409084807, 0.4864244402074674, 0.4289498818619439, 0.4300077233440655, 0.48359535921539487, 0.4531266102310984, 0.5575176022513318, 0.5288055186917009, 0.4957461799860196, 0.480760811348885, 0.5322200647758115, 0.4720675696295912, 0.4153987003008723, 0.4125046735155661, 0.5254516659305564, 0.5471293950252629, 0.5228567392283325, 0.42466563960644765, 0.48242518611291985, 0.4645561530348577, 0.4831731461094243, 0.41783876402132575, 0.4795200953089774, 0.5159304717804332, 0.5143607208830936, 0.45182354905262406, 0.5459188425635709, 0.47388777831186063, 0.4781792569568164, 0.44584222395213635, 0.5399689349497676, 0.45256582049391253, 0.49772290528355745, 0.3905688594630062, 0.5388413459445368, 0.5134774231567988, 0.48235500960604544, 0.4428720983174471, 0.542549753851151, 0.48200515269316924, 0.3952732053970183, 0.5406698416895621, 0.4966920054866057, 0.5240718822224295, 0.5118022641693203, 0.4526930036839195, 0.4951933341628802, 0.5009881446848636, 0.4449256297075952, 0.4684318939315596, 0.4594785922207772, 0.5068849349665576, 0.45535949658274305, 0.4858442644663781, 0.48228583991006363, 0.5368401736046333, 0.4216680681289668, 0.4362300517981636, 0.48672795100495264, 0.49759323073176787, 0.4749726064988539, 0.4060299596058286, 0.40392167407866386, 0.4982704853399902, 0.5369029021010114, 0.5080859916693846, 0.5780680393781811, 0.5009945329547627, 0.4786468917250739, 0.47352776886914144, 0.501948593081317, 0.46196041356433726, 0.48221778659926334, 0.4643707817562145, 0.48469530838349284, 0.5049122222468851, 0.49626208981956377, 0.5492229816211792, 0.41996565538425396, 0.4981115827868082, 0.5026218528321099, 0.48259992843875194, 0.4392621979098369, 0.49918054561923314, 0.42313370367065756, 0.4072787889219984, 0.46483039476711313, 0.48238170762295823, 0.5000184526903495, 0.5757187447690856, 0.48215036290163943, 0.5358656555623296, 0.5030033585445383, 0.4638519993460439, 0.46369938630106133, 0.48421721025572056, 0.46573338196546976, 0.501175690634827, 0.4484219144483779, 0.44804989281444235, 0.5187645972374026, 0.5610353347094432, 0.4390346446630488, 0.5085451945571131, 0.4542738496303275, 0.4420231790574984, 0.5049526192403139, 0.4408835146531992, 0.4820831585300823, 0.5860289965110895, 0.4857483881517217, 0.5040889791825838, 0.4941204839392587, 0.4989086373847036, 0.4766983204609332, 0.438576513399506, 0.3976325823525319, 0.46313704739084655, 0.48304442246529034, 0.46111680265663063, 0.45318522734723865, 0.46123197939048266, 0.519902363580703, 0.5187751957244359, 0.45475496481375344, 0.4988477968396963, 0.48201664892200036, 0.47038734278035704, 0.4696238369630247, 0.4799066383588533, 0.5258688325011309, 0.4930208873526691, 0.3912549379853755, 0.49143458077577634, 0.47290382478885823, 0.48533159793252595, 0.5393954163301945, 0.40955967571782836, 0.4666954633203032, 0.5240794641255517, 0.5045298824291795, 0.4748117876646713, 0.500482144163088, 0.49139479296390937, 0.48195159115781333, 0.4764627721335091, 0.44685374131192107, 0.5741712756055983, 0.5264582775483252, 0.5231587305666033, 0.41711585566488263, 0.520761275273102, 0.49221175982225857, 0.41546699610990584, 0.44643272509362963, 0.4454026629763358, 0.4558919341990743, 0.5272935915730972, 0.4647527506168017, 0.5131536241764845, 0.4585997938428866, 0.493984568363261, 0.48188689305740007, 0.4586311439959211, 0.5191824642209172, 0.5139196493399448, 0.477990605403917, 0.42978432456503357, 0.47152049421872194, 0.48254781021014603, 0.5091255432187868, 0.44082727585837006, 0.47851107775420515, 0.523627796341017, 0.48227093682751115, 0.5278708898908071, 0.3949617564641033, 0.4479463641624155, 0.5550497880304208, 0.46264739116393777, 0.48182263752695137, 0.48523218427610315, 0.5283368124057797, 0.456991845796573, 0.511104339749561, 0.3877425785602489, 0.45017623341382174, 0.5184627258230979, 0.4576383776903297, 0.47965239003950616, 0.46929727287270784, 0.4928402128938535, 0.4998105141964848, 0.49513441755167187, 0.43868959462904883, 0.46605964419542245, 0.4831147939860725, 0.570792148329549, 0.4817592185347136, 0.473319502157428, 0.3778664080647685, 0.512297690104522, 0.422590668615038, 0.5302451259262664, 0.45358434316759016, 0.52960327907037, 0.4849379389832532, 0.5564490638200068, 0.4991876454059792, 0.4778929276662946, 0.4859050632339703, 0.5496797537168965, 0.44015614007659287, 0.47646605979305506, 0.4429207477761344, 0.4731060115969511, 0.48169600921505434, 0.48818363312429297, 0.44372558551281416, 0.4645118062421105, 0.5108321491542773, 0.45576927216463586, 0.4375818316078833, 0.514617188262973, 0.44945646132763856, 0.5197529551573341, 0.5185865003835973, 0.471294278718393, 0.47120771367258873, 0.4854727550478307, 0.5813365587308066, 0.4557814137460142, 0.4656101359076817, 0.45835703563553487, 0.4816339528724936, 0.5488080806109178, 0.49887677792697, 0.4157042164173095, 0.5469512050572658, 0.4506389360214591, 0.4774419570061319, 0.43528135267575324, 0.46552108289848493, 0.43874508487436165, 0.39417232345360875, 0.5279463641891714, 0.5370597118545389, 0.46190428435942027, 0.4659010864879555, 0.47877868491774267, 0.4984001811820458, 0.5375160404068631, 0.48157191947054423, 0.45335213535609875, 0.4452789728245816, 0.5084584322985173, 0.5183323597817839, 0.5311417074267336, 0.495371372317926, 0.5214734909537103, 0.4302383961868243, 0.43316155528137934, 0.4683047384521883, 0.5475749536607403, 0.4426609859777787, 0.5255894286020196, 0.42215861284084555, 0.4581529288044678, 0.4922002991529788, 0.4953109311762309, 0.48151072178135934, 0.4231362200332028, 0.43286759793429824, 0.45743474111697396, 0.4770689404513685, 0.45477017687650517, 0.4368049155033966, 0.6057605675893786, 0.5430397765152791, 0.4344940532618876, 0.47001217902608233, 0.5492582911914824, 0.47051475878653465, 0.4907530907614999, 0.4895040266828998, 0.465713348773046, 0.46550124734590786, 0.5308704093312983, 0.48145036604104363, 0.44630384064669754, 0.4662785003484035, 0.4718451115085112, 0.5139717500531608, 0.5316396891596988, 0.4905565654833214, 0.48615226765549907, 0.3693325254156575, 0.45655846391752397, 0.5430158355768435, 0.4558435323404923, 0.4856684472145605, 0.47894371232224936, 0.4897420027253386, 0.43529863416184605, 0.4679688069472785, 0.5904157004510292, 0.4813900530510481, 0.42949994243170153, 0.4911955015940013, 0.5019221538482145, 0.4296529478084908, 0.4678762160506777, 0.4451256850863959, 0.45993697384276244, 0.42347887842270027, 0.5330558852006493, 0.5244833153843067, 0.5653985114180975, 0.49979456567838504, 0.4239312608100878, 0.41273018898783875, 0.5264730757268634, 0.4671597132025667, 0.5861267486395293, 0.481330761359148, 0.48294579092903417, 0.5142709378650707, 0.5096476250206244, 0.566554885825433, 0.556210927395767, 0.4512995095770473, 0.5301661442929982, 0.45458306482987465, 0.45035794475545804, 0.45636876151550126, 0.503703640314482, 0.4050019791542559, 0.43847133586462306, 0.43733800515335935, 0.4593274897218514, 0.5113320475891673, 0.45077599697394577, 0.4812723420024964, 0.4761877059478736, 0.4757258374459265, 0.43670960682329296, 0.5026218484647337, 0.5217202871389096, 0.43214004932144406, 0.5029472543316923, 0.5262838514165321, 0.5648253847057259, 0.4178629382240534, 0.5450945257049034, 0.477852175167064, 0.4572920750369673, 0.42976623839097583, 0.48969620487139776, 0.4780377632687498, 0.4154953964952177, 0.48121453964798055, 0.5236796299937283, 0.5386672929631798, 0.5276816372890347, 0.3487627287334354, 0.496762375572212, 0.42612427570483846, 0.48836618899616224, 0.4662561268681127, 0.5178770253225231, 0.45283131689935613, 0.4650652066444219, 0.5003900046072988, 0.4363509857688667, 0.43412492610438674, 0.5253972410303948, 0.5413599039572677, 0.4821536856022266, 0.48115762055498745, 0.635962358465022, 0.47068322174857485, 0.43694891242554873, 0.4787820312616007, 0.5442167416675603, 0.4545646111033264, 0.464992060892695, 0.45975859772626493, 0.46425537821925983, 0.4853140973453503, 0.49076902160847863, 0.41810147043691825, 0.4792437195067367, 0.44831447690222803, 0.5648811818860487, 0.4195716221801547, 0.46583322068599226, 0.4811005661384949, 0.5091191226084785, 0.435175399461715, 0.48158683426684307, 0.48335830913719086, 0.5475174808960517, 0.5609125976595273, 0.5297224608893968, 0.5139568596739816, 0.4293876512967815, 0.45856101918890063, 0.4493870910958209, 0.43136070578447155, 0.5581522777175709, 0.4456998037277954, 0.4318376192585436, 0.43102363251504416, 0.4919766280174801, 0.4810445309059396, 0.5363378738476561, 0.46628369692053595, 0.5535817308262702, 0.4469742997370962, 0.4950618330481785, 0.4696807932728831, 0.4871720614721123, 0.505553402732976, 0.5143782328486427, 0.5493581237196058, 0.490968321601201, 0.433027737082995, 0.4448289021113816, 0.3810929528400402, 0.5249832629863852, 0.4541944817942408, 0.4183585496029877, 0.48098927787713136, 0.48204238862319765, 0.5069171029272408, 0.48841007485415416, 0.5080857441377976, 0.4813518785037314, 0.48463117584972765, 0.40179560024349553, 0.44847136679920163, 0.5601415654269419, 0.5134438917128841, 0.4754288501193578, 0.4793879284709392, 0.4599085897219706, 0.4083570039204643, 0.47728578854555254, 0.48574697826422764, 0.5246276359823893, 0.48093407466147575, 0.495749860158448, 0.45048489680180154, 0.51791173023306, 0.4950033305759841, 0.494984526145301, 0.48963410296237136, 0.5248674599413973, 0.422383748446788, 0.5093812222668571, 0.4890090576045757, 0.5127055819823635, 0.4431504926435042, 0.4513950946200677, 0.45078257035179725, 0.4717292353625654, 0.5480895793985225, 0.4191478104856654, 0.48087943378432874, 0.44897269720492616, 0.47719761250764803, 0.47627948371515627, 0.478243385909743, 0.48211459201412876, 0.48427265222761323, 0.5363540621724735, 0.4564410743750531, 0.4432230919361342, 0.434130176676491, 0.49173748698068714, 0.49498994162668564, 0.47269591099530106, 0.4898863783642887, 0.5101057501068734, 0.46884055922655077, 0.530069841764988, 0.48082527010172155, 0.5573837646623088, 0.5215513836529051, 0.5313362915652038, 0.5370446608915225, 0.42484342092307975, 0.49451650599780966, 0.43611102331986856, 0.48489082492354385, 0.4565012828898158, 0.41212578177209863, 0.42652363931330767, 0.45624555500389263, 0.5500677347911114, 0.4912470502958905, 0.4217088506519947, 0.4981011752299009, 0.482274566555724, 0.4807719705695089, 0.43306381290355467, 0.5198557057042411, 0.40082044266937467, 0.43774546798732294, 0.5795579969496445, 0.49849425481383763, 0.49378895572843207, 0.4626015101040135, 0.5801997870540135, 0.5540730044328392, 0.5072729203928235, 0.4363726943750594, 0.45798532175732276, 0.4646014126661109, 0.4511176519831545, 0.41333051785205105, 0.482154620715974, 0.48071912147463175, 0.527223232259626, 0.5348066541979152, 0.4224029995211719, 0.5614452308220532, 0.5173296505718007, 0.44574601981401246, 0.47659981150624986, 0.46744231322290486, 0.41534417976122917, 0.43587392512463075, 0.5197942734840094, 0.4481918323942435, 0.5595414207827664, 0.438994004867136, 0.42451634490211143, 0.5037697916554926, 0.4835391930649034, 0.480667209058924, 0.5058657524810637, 0.4113443557890541, 0.4959440803839918, 0.48658200694617987, 0.5072588771781971, 0.4667482655673787, 0.389162284295479, 0.4853828263267769, 0.520573241286643, 0.4898279164396295, 0.4176686768913856, 0.4325687515835774, 0.5668965958342292, 0.49441275585307326, 0.5143423670372324, 0.4933489391341944, 0.5028571294216748, 0.48061551561155186, 0.4941776633287171, 0.4636385132864415, 0.43857721520877946, 0.4910657407657409, 0.512055523553816, 0.5119019196008405, 0.5246824114188405, 0.486142481482028, 0.4508444280475492, 0.4098669785622192, 0.4716026561966071, 0.47788703530816923, 0.520263945074249, 0.4686938399578359, 0.48789649353999565, 0.4605594854913535, 0.5005293953803226, 0.48056440007106604, 0.5711191806179761, 0.43865829346413465, 0.5266925303729569, 0.4937449570162083, 0.45550056666718075, 0.5774972684446391, 0.511755428072396, 0.4480840033753309, 0.47356238608231566, 0.4958403223189125, 0.48035494190414313, 0.43846468833192576, 0.42961303506932624, 0.43549866907313195, 0.41818900894182404, 0.48035370594592053, 0.49844651010934116, 0.4805136229169296, 0.4996101389707999, 0.4339371779122675, 0.51855582294681, 0.5494810397567684, 0.448989594497748, 0.42319830934998737, 0.44274021569911065, 0.5010222774427979, 0.5120968072254733, 0.4567193704899327, 0.42390032144569106, 0.6016882241049574, 0.5200607986221373, 0.5086172703218242, 0.5190582467027117, 0.41141315556192276, 0.41162020641252267, 0.48046368014459634, 0.5250090813436866, 0.5116273256569353, 0.53633137829469, 0.42801417988839574, 0.552719095381759, 0.488451892765254, 0.46865639990954977, 0.5014691407651916, 0.5369345010483026, 0.483591872170445, 0.4300845494863211, 0.4848013249632494, 0.450818911847132, 0.4211268876013682, 0.40574188841195996, 0.47423269674256685, 0.4603171034341182, 0.4804143662376879, 0.5428969476325213, 0.38928964055139675, 0.5313781274987945, 0.4796750828710289, 0.4723705828993732, 0.529415985693569, 0.4008125369273017, 0.4787179148144283, 0.6078787665776533, 0.46765921630194696, 0.5200642774840003, 0.4663575969554025, 0.4411468648700624, 0.42003391491606556, 0.5260483977091073, 0.42856469615369164, 0.4609547605398084, 0.48036581637503994, 0.49422800706238973, 0.5462049226731377, 0.42924255530570776, 0.46621923004931054, 0.5444690206091005, 0.48782269218857055, 0.502844255990777, 0.5578311977904248, 0.48558484725627027, 0.47428257497246556, 0.5211316814136189, 0.47215969056816137, 0.4301228101786789, 0.38751630709301127, 0.4829672693823609, 0.472225886989774, 0.42004259502374425, 0.4803171851293865, 0.3967492469556271, 0.4640593150308537, 0.377650596917468, 0.5472348568032595, 0.55402386652918, 0.48951863872329426, 0.47736830665761415, 0.4595317692985056, 0.4212625907549495, 0.5170334056677914, 0.4592369585648954, 0.49245024188235687, 0.5222894116817426, 0.4745265986541752, 0.5289301595690553, 0.5032894501986402, 0.48201545025119086, 0.48026893029699663, 0.45869593181755247, 0.4739020588224966, 0.45286423264204445, 0.5172997984256791, 0.4231847548403023, 0.4504046805629072, 0.4902380825906614, 0.5516064103200687, 0.46384220864086984, 0.5583783741717488, 0.42712435276306293, 0.42663176922936785, 0.4894769571868809, 0.4714505706847717, 0.5181841819360155, 0.5568785353303777, 0.4435878253175081, 0.48022157393982484, 0.5141937155863247, 0.51036529826705, 0.4674320690811855, 0.527079231161653, 0.5231618863545542, 0.463814046041749, 0.451622928913812, 0.5053783066374673, 0.48828460239746774, 0.44536395489687797, 0.5250163025575612, 0.5699634367093297, 0.3920443483024064, 0.3830234219915486, 0.48698150394315115, 0.4420985841466289, 0.45781438343383996, 0.4801743810360305, 0.45595370862940093, 0.45503428202946566, 0.5653088019721202, 0.514596023809844, 0.5676985891524754, 0.44440552220460916, 0.4128343242609074, 0.5060608145031315, 0.4594686225869764, 0.4632431292485004, 0.5025814371867037, 0.4523354522076605, 0.4410611087873968, 0.4211560369124067, 0.5209349106351681, 0.48477077246309647, 0.501046951918471, 0.48012772000802306, 0.6548801188853663, 0.5113447101043732, 0.42353084742799185, 0.5073503563504963, 0.4111457505055892, 0.5190550887334553, 0.5110400166465651, 0.5096690570732672, 0.49231079869246186, 0.46603312444330613, 0.49483718382275155, 0.45096389570627493, 0.4147518557249124, 0.46738811602752667, 0.488240996029281, 0.3842223150647722, 0.4650422485902518, 0.48008132813869203, 0.4449730837871935, 0.5015111011383884, 0.46110268647855285, 0.4476788895780517, 0.5330907429356752, 0.5209256325052429, 0.49050598170113274, 0.444982686491056, 0.42758946308773454, 0.5413882717382834, 0.43537667000227304, 0.46638308838035153, 0.5203389662673735, 0.4427863802658306, 0.5337964778547414, 0.46536027622803333, 0.4864608240632333, 0.4800353057149101, 0.43732181965642924, 0.4913038501434096, 0.5226946181495253, 0.49510718749893995, 0.528996588750688, 0.4782153641084305, 0.4095088623774158, 0.5071693220003073, 0.4289819635985655, 0.5175250211996236, 0.4990640076921386, 0.44077289207844106, 0.4530673166097838, 0.49177176322060023, 0.47450319842321137, 0.5233585583831676, 0.469602960660812, 0.4799904080360656, 0.44270386164654935, 0.4892383445873066, 0.4482826379936054, 0.5351300147912323, 0.44513964936754324, 0.519438909649556, 0.43810928529487553, 0.4408085911426845, 0.5278578494559191, 0.4117158691917397, 0.43970457959246967, 0.4543832325580857, 0.5014119719436131, 0.5143826995335652, 0.4774041854320323, 0.5363404353860132, 0.530331692816265, 0.4799455248825536, 0.5516726776463331, 0.523534357704146, 0.48334158241096886, 0.4999462162667117, 0.5135786888886407, 0.4609764664041501, 0.4616096053841791, 0.4621078883724939, 0.40752951688457273, 0.4548563364591855, 0.49513715251544016, 0.5027161569080323, 0.5248440635802247, 0.5102344187130816, 0.5089397680336863, 0.38815457594743946, 0.4145094753881773, 0.4799015131808042, 0.5160738913700772, 0.4484137116246248, 0.5228802825488864, 0.5209138493958098, 0.5175690561305296, 0.4566601214595579, 0.5168459261905387, 0.4487510808980353, 0.484841633626917, 0.4904207901213058, 0.42857071904946437, 0.45880567263105165, 0.4786470968258254, 0.4849019050041096, 0.4043915191572266, 0.4768359478925717, 0.46558028850927785, 0.4798578829870693, 0.4988667908243793, 0.5207488397272279, 0.4467658667665782, 0.43886583098656656, 0.5946500928223594, 0.49136230902417055, 0.40466946430988715, 0.512146625491346, 0.477274646235939, 0.42205860228111347, 0.4917627661130874, 0.46916411725409374, 0.5255868576791493, 0.44962401794341245, 0.48581510678148093, 0.45539289866596744, 0.47611886111421337, 0.47981443285994074, 0.4520431996600003, 0.48639356518199767, 0.48629324594896717, 0.4924070569744333, 0.5208028433303098, 0.608366297479267, 0.49303690917746773, 0.4875471145668595, 0.5278455879306752, 0.5004536406790048, 0.5169449818318013, 0.4280820134731056, 0.4469432940922098, 0.45771229987030326, 0.4490734174548118, 0.38845990977371025, 0.4129421563109267, 0.47977150546687886, 0.43037194833730213, 0.4944982230108304, 0.5233605858666582, 0.448451685117446, 0.4706595333902757, 0.41996771475527694, 0.4863919382455588, 0.43972366741685526, 0.5213891471593208, 0.5844739871975887, 0.46692521380346724, 0.4708198423784269, 0.4555040006016475, 0.5189062458524272, 0.5064067290422964, 0.44211722922043717, 0.47204860099772344, 0.47972973394543494, 0.5124315498343628, 0.4464784193440727, 0.5475191298840457, 0.45603377617272445, 0.5203987505575778, 0.5446678350924979, 0.42864641211574167, 0.4910217990290237, 0.49683980561246244, 0.48266111394242034, 0.46995816695616155, 0.4971127897013163, 0.5381121561593785, 0.4724669732195359, 0.43346728098993803, 0.38770760380383423, 0.43654038038050447, 0.47968724186478495, 0.4746800036218922, 0.4411360815955655, 0.4579999379319705, 0.5137367138943102, 0.47190138328379355, 0.5083210891658155, 0.45184847819599183, 0.5295126802001744, 0.4702133642504671, 0.42461085591059766, 0.3837953212320646, 0.5319343631591983, 0.5980560347501501, 0.43148268602028694, 0.44947187189657795, 0.4446428800188553, 0.5778900060214766, 0.47964601419101033, 0.4093358676701757, 0.5307241068676235, 0.4630279454060889, 0.49068042861776834, 0.5088127756741607, 0.47187733738549587, 0.5690878780114859, 0.4050454307691275, 0.49757060034365597, 0.4772094975234696, 0.48646134628839094, 0.4761337636645966, 0.4400383265294178, 0.5044723397460854, 0.4469282425293973, 0.5263319336898935, 0.4615077999760305, 0.47960461106805263, 0.5139099133722694, 0.551744025228552, 0.4531068023959669, 0.3907710860208082, 0.5354007500866065, 0.5180465800462001, 0.42746349295515557, 0.41282947945097237, 0.459137015196356, 0.4834082719307446, 0.4418038236865065, 0.5407096170871204, 0.5263396112156427, 0.4299318254909616, 0.4979379721214088, 0.4114092863044678, 0.5546537037129304, 0.47956388849372855, 0.4551243880652829, 0.6678072470549614, 0.4194278420443249, 0.6037619419358294, 0.4460973107853562, 0.4597467616222171, 0.4835550851700646, 0.39677686354973885, 0.4701127474148024, 0.48923645290151974, 0.49164182683085655, 0.40521308178258253, 0.5608418041679312, 0.37723532591339903, 0.42997151634834885, 0.539803683145347, 0.4630283662583972, 0.4795234082899633, 0.44024568652887397, 0.4650782897728942, 0.41967786523250156, 0.41508401073424267, 0.5206647753680435, 0.4454758621779296, 0.6882063689573258, 0.449002703309379, 0.487202583825087, 0.5189830135258455, 0.5067526941035344, 0.4584495742294507, 0.48541019203437, 0.41756844277449945, 0.5135909753417186, 0.4662187949372864, 0.44604090974133487, 0.47948362038892706, 0.5621363173252694, 0.4230308413827726, 0.4891346967932418, 0.4824111463358087, 0.4692971015143235, 0.4466549173883835, 0.4795299349071584, 0.47414102857437923, 0.42826024995981277, 0.44617890647584957, 0.5067443688228649, 0.48324548378281634, 0.4777490783643734, 0.5285627747327201, 0.5209104556852491, 0.46851363570205484, 0.47317286013747606, 0.4794439982861308, 0.49743576079091234, 0.5021878086038387, 0.4462785421786019, 0.5296646731893896, 0.4687413049161053, 0.4374236805753229, 0.4176561926731837, 0.5039697098152571, 0.44866135023513576, 0.4286425557991005, 0.47551905493734375, 0.49822327699456326, 0.40180802461132115, 0.5216250987367036, 0.4758984751110515, 0.5409244274195063, 0.5467848914747875, 0.47940490868027846, 0.5303041576811284, 0.389887538841886, 0.5031526227689059, 0.44048276838133643, 0.47529220694091096, 0.4617517115524151, 0.44679980739678427, 0.5402382501118993, 0.46528548550743953, 0.4884968121656702, 0.4639249447490225, 0.483921098509045, 0.4634819611952859, 0.46573542550687574, 0.5210534174152247, 0.5120710904899501, 0.5072822729703298, 0.4793659951441886, 0.5166551752497184, 0.45238454790610416, 0.603495920361742, 0.47560008631635353, 0.40427907529641105, 0.4946724045613405, 0.517505254173141, 0.4914792655742335, 0.41700079017089947, 0.43896040802931907, 0.44590016009632877, 0.5182087925309201, 0.489050281435954, 0.4449230051012616, 0.4989850404883321, 0.47119035906844764, 0.4805110043881119, 0.4793275275208304, 0.4876034496719042, 0.49615798230029556, 0.5599088351426399, 0.5127783071199389, 0.49595200030670583, 0.4634690946247161, 0.49659694453291664, 0.43212802757995095, 0.45863248739331675, 0.45802178746624833, 0.4798933135566659, 0.5194591377084923, 0.4584957102053096, 0.44737640474143503, 0.4088552688669222, 0.48046236316154306, 0.49393246156775183, 0.47928942635262844, 0.3749969787772824, 0.4814859589502369, 0.4490353889444497, 0.5519431895124756, 0.4731582215997112, 0.4639154560081286, 0.521374630898458, 0.5042801802436513, 0.4572654993200054, 0.44853070637242454, 0.46180908091633105, 0.5815692642538994, 0.4286807298197317, 0.46065643637131437, 0.5115220750670219, 0.505961536356869, 0.47038575421038376, 0.47925177320303136, 0.39936412563153845, 0.6122708796930487, 0.510112800696092, 0.43310337744687133, 0.5552454068781347, 0.45244307565942854, 0.41134493226047825, 0.4653117055030802, 0.4956660556244721, 0.4160883121006158, 0.4956576111177868, 0.5020488357990002, 0.5202075488253961, 0.43853235443508426, 0.4854308832790328, 0.4964090238298446, 0.45284588561139566, 0.47921436200664913, 0.5212664616389112, 0.46071012644462994, 0.4872687391627468, 0.4200263805492817, 0.43234040781684774, 0.5613583056250431, 0.37673983518593473, 0.48516735524245874, 0.5029543687781591, 0.5308889231899443, 0.4649897889170117, 0.48454140897024806, 0.4320398186382246, 0.4477406967775856, 0.4867443840557189, 0.47276613398294975, 0.5755125553551061, 0.4791778382409649, 0.4995153110650555, 0.4605622353663813, 0.4602558927023436, 0.4244764877413184, 0.5907309937742237, 0.40009065435597874, 0.4638231746943089, 0.491595802478865, 0.3789678471851039, 0.49546223306830883, 0.5546452838576154, 0.523887220075858, 0.5379202839507967, 0.48066564212675444, 0.43225137456221346, 0.49755366790701094, 0.45661043635944876, 0.4791415421942686, 0.4653761191319646, 0.467119019222025, 0.5189331713582752, 0.5412986831567287, 0.44540718958096326, 0.3733264347129246, 0.4006623740335948, 0.5334975952108454, 0.4898068362899498, 0.47060976591339004, 0.52565349908731, 0.49741205310835135, 0.4837178531599967, 0.4981598887448899, 0.4824111338960985, 0.5028636190259945, 0.45599498915065645, 0.4791052796701545, 0.4846862614870176, 0.42675241782885764, 0.5446190813443463, 0.4811941171140886, 0.45166182798060733, 0.47866982954944753, 0.4734556247876705, 0.5729817970266963, 0.5397456153087212, 0.41734971224819567, 0.3986754816957005, 0.5161256389745374, 0.4589386778079421, 0.5300772676037434, 0.47448458698391505, 0.4582039341995086, 0.4354463055967524, 0.4790697470832066, 0.4703841092690557, 0.4501986812224567, 0.44588558884705004, 0.44936799366167235, 0.46406868907524557, 0.46662915694776413, 0.5079744869563163, 0.47272338780599676, 0.48391951965236396, 0.4551343601814717, 0.5400174559186405, 0.5145646851671754, 0.5633259685722568, 0.46983865612171316, 0.4676142151728986, 0.4562413173463882, 0.4393149894949945, 0.47903468188131393, 0.4166407031288413, 0.42278280956545133, 0.5209461521598598, 0.4763482162224678, 0.4546650952600686, 0.49500272927767364, 0.39692968800537204, 0.5288018982232601, 0.5220844963703274, 0.5570051807343745, 0.4848448801115231, 0.5284469959815253, 0.44005874722135774, 0.5178857415271046, 0.4989045682080046, 0.429521504163052, 0.45321157658471856, 0.47900009410073896, 0.4778072151491206, 0.48363662801742235, 0.4965785775618482, 0.3917523719504986, 0.41320209471208147, 0.4459674877937132, 0.46788522320441894, 0.5479715586214128, 0.4418493983827919, 0.6295569600953879, 0.5249349068905501, 0.5031431473942446, 0.4994939722790476, 0.4835464873933761, 0.41802679006897164, 0.4296765222496913, 0.45205424030029095, 0.4789655355917497, 0.47252432494345925, 0.5220604381117999, 0.4864944350243759, 0.47970458199674676, 0.4388309822621473, 0.47531821103001165, 0.44437276160490596, 0.49314351953, 0.48126641513122964, 0.4543060977901935, 0.5030903081874355, 0.4228553450026223, 0.5323543387872295, 0.49006281146915964, 0.5154026052675553, 0.4595641338484438, 0.4703930501887917, 0.47893170726720624, 0.5167467273292167, 0.4977653661039437, 0.46052976801069256, 0.46889603511375966, 0.506944117380425, 0.46448606937804493, 0.45396614295397497, 0.4911564410992163, 0.5218586056035639, 0.4795774593723802, 0.42997784681579754, 0.48367893887574753, 0.4302371685867513, 0.44218651705660433, 0.4682739029009194, 0.5303592450865626, 0.49900422651432885, 0.47889775050536976, 0.4667593008152178, 0.5747312466252109, 0.515917635720736, 0.5347320217063427, 0.44831663509501274, 0.42298735643394736, 0.4432007099793902, 0.46448456150177775, 0.3684370940130633, 0.5297909989323085, 0.4268591241281148, 0.5930492466610032, 0.4454393416548372, 0.41812165223369213, 0.5135873688304383, 0.45768565005495615, 0.5206121413301292, 0.4788640595561175, 0.4299037614671707, 0.48284125428470775, 0.47920352262234756, 0.5339727915936137, 0.47026317750454877, 0.4656992589848159, 0.44702310923022714, 0.5005347714108691, 0.46716448867701643, 0.6069132175160844, 0.4334348426102683, 0.45118672751478583, 0.48932934842108894, 0.4361768212910009, 0.5426719049646057, 0.48948885319915647, 0.42081673090085936, 0.4788308196052636, 0.506383113412884, 0.46042511294444916, 0.46432864240516125, 0.44246196702729157, 0.5099058517977713, 0.44561007963546007, 0.5283719609287008, 0.42181596234799834, 0.47349698235558807, 0.4724980938066922, 0.5252701751918729, 0.499868752092228, 0.49525831972292705, 0.4999351243447643, 0.449509084742513, 0.4789295619701771, 0.4654209260794736, 0.47879828747656483, 0.4588897869487265, 0.4751476148401727, 0.4661042678595293, 0.3501673479149645, 0.4390936173531291, 0.5640195053493623, 0.5096294243517825, 0.5581304799576076, 0.48261141006882496, 0.5385634523754571, 0.43829869862709914, 0.43335838858044434, 0.45603158966820906, 0.3868585552851951, 0.5029844419943523, 0.5428889612878045, 0.5233466293697715, 0.4787656551951811, 0.4585852583429498, 0.48860679143928054, 0.4492338681406679, 0.5033244233388082, 0.5936927924322906, 0.4648311055779246, 0.5149093695500118, 0.4498790723926166, 0.452735806478334, 0.4926674070861268, 0.41230440927616885, 0.46875387070700136, 0.4522632891733999, 0.48847017613395216, 0.47283686305353, 0.43047858127570693, 0.5451674779449539, 0.47873309261117813, 0.4769778589025405, 0.41293071387749997, 0.4532650417201958, 0.5215757560948758, 0.473593884743158, 0.4880085271071687, 0.5333350761704417, 0.4582854766271555, 0.43249636705697825, 0.4983727164170012, 0.49787652912272856, 0.46167886019059834, 0.44955294361909276, 0.4773357923867721, 0.48381258410127187, 0.468067418972402, 0.5507493450544189, 0.4787016155425278, 0.4318193601160642, 0.49830188921403085, 0.40833564261208394, 0.49865683037348046, 0.5784359580170725, 0.5234860419429496, 0.5239258433148609, 0.4695949387998485, 0.4404602891587733, 0.38717968102583994, 0.3967887881198966, 0.46720538800338085, 0.4785000897037075, 0.4648329837697848, 0.5702729715102292, 0.530107061663807, 0.4790529138554044, 0.4786699796677803, 0.5349865484974019, 0.49351752402793, 0.417928714395393, 0.44370362327382934, 0.47530161461205883, 0.45178715231093797, 0.46508097837268536, 0.47699862361690487, 0.44488885128771377, 0.5352998756923413, 0.49393952676653297, 0.445077740766999, 0.5231197418443463, 0.39997021932068344, 0.4936944488044246, 0.5805633026626451, 0.44168912410056743, 0.47863876804666144, 0.43145837773044965, 0.4583880366883356, 0.5468611595089429, 0.4107635205174095, 0.46383321177239867, 0.4691304310526266, 0.5172409516362958, 0.4771271814499757, 0.53210578694702, 0.4775526917345337, 0.4183679062175297, 0.4889909586285295, 0.44054388231879726, 0.4908031395891402, 0.44937948818727164, 0.4965125081713896, 0.5760141376946674, 0.4786078493316756, 0.48865515118128827, 0.5017203137337692, 0.5316899555059471, 0.4601089464223782, 0.42814871945820326, 0.3997676375889735, 0.4949490185148082, 0.5121340882307337, 0.5203641469289332, 0.43769736361962225, 0.4539258097948378, 0.47044983054943496, 0.4954705402796749, 0.48091020008642305, 0.4199041825272489, 0.5408161072419175, 0.507266155172578, 0.47857726774205267, 0.44333409299420473, 0.40193849769324713, 0.4736295105650096, 0.46215715847023586, 0.4213253855516356, 0.44337131587153594, 0.4751856992784149, 0.5770514198737738, 0.6355791058064846, 0.4764321855307236, 0.4981572946370326, 0.4878511753283303, 0.449226071287581, 0.4957295971435605, 0.48896891850391044, 0.4386143418875665, 0.46451050224496826, 0.478547201281231, 0.4896782192815143, 0.5344021230821425, 0.44580932925652655, 0.47866358227315786, 0.4771110069818836, 0.4780499017613417, 0.43388429760685276, 0.5262552240857117, 0.45581095618923967, 0.4470973042227564, 0.4434080896850312, 0.4784991400838686, 0.4606125927306698, 0.48581526205364206, 0.48999061353328427, 0.5109323909624051, 0.508316777400614, 0.47851712020710974, 0.5098092570205583, 0.532723517081766, 0.4950238004684202, 0.46029906192277936, 0.49669127431412347, 0.49309312806188643, 0.44354280439265537, 0.43689636275583266, 0.4182272739219883, 0.43326112534635997, 0.5147659471579362, 0.4980772371497541, 0.4830353465140155, 0.5263544217711708, 0.49913771313717253, 0.44898772617726307, 0.43759156843639546, 0.47848780572048705, 0.46700177138486615, 0.4747428967089731, 0.4105638387662569, 0.4988601317167479, 0.5355340352556724, 0.45554805248643193, 0.49808910324795197, 0.4678546943517999, 0.4486554185311503, 0.424554981495349, 0.4982122773393071, 0.5310876788030638, 0.45213239468136845, 0.5533457733433036, 0.5302656085732409, 0.4515578914761778, 0.44321780220130036, 0.4784584391628407, 0.5924929406098123, 0.5274727923901118, 0.5051444895423716, 0.47486163175916785, 0.4675173764901052, 0.42056877115771074, 0.48943318552671655, 0.41323821841747443, 0.4554178182296978, 0.44464816539412455, 0.436408012956484, 0.5828670225120844, 0.521387345736142, 0.4182120279424111, 0.4767664992792848, 0.46900999614962235, 0.4350280356100596, 0.47842929145362895, 0.4207789928885209, 0.47146295117937626, 0.40074540825958066, 0.40276214025366913, 0.5121375944259714, 0.46189351573925175, 0.477416185644515, 0.505314191036515, 0.5893956555722968, 0.45287842219902613, 0.5688916021709274, 0.47943056190693445, 0.4220687591486231, 0.5087224252869192, 0.5106248295175478, 0.42914067648039994, 0.509275268563817, 0.47840051369960984, 0.4881378885960885, 0.4193887355588329, 0.4683743887243456, 0.41445178705604563, 0.49688178363793073, 0.47932007736232235, 0.46742998616202625, 0.5045428943598647, 0.4291730235261722, 0.5040311670573892, 0.48448674026215416, 0.5336479372238682, 0.5378833273040827, 0.5282837448035858, 0.4246788613031929, 0.5344170192248036, 0.42815419830612345, 0.4783719721186363, 0.47267666668276503, 0.40355961380853506, 0.464997455226436, 0.5096554742073347, 0.44682270632892723, 0.4547513791463625, 0.5434520670894917, 0.534890281195136, 0.4449885798998557, 0.46882193313821274, 0.4771814572963035, 0.5462329626067812, 0.4717617479115762, 0.441451757151241, 0.5882482326060423, 0.4276193470759722, 0.4108666790002489, 0.47834399959975216, 0.46019635832905337, 0.4673415115717105, 0.47776711755538764, 0.4999047653574968, 0.438674422257496, 0.5164140674470457, 0.4690705994568104, 0.5362807202925862, 0.4322084697987016, 0.45080473583334935, 0.5629426248335644, 0.5312663110133691, 0.43159091971171276, 0.45570146196041106, 0.46587772465271243, 0.45764738277594996, 0.4565024538974272, 0.4783163174554192, 0.4467080700099924, 0.47330381790443227, 0.4216780745331178, 0.4577576040753871, 0.44952815388911405, 0.5000053721133721, 0.507307007635926, 0.4423130578810274, 0.4034375710131748, 0.5190784116315725, 0.44399673881017565, 0.5540416138817088, 0.5673642392814857, 0.4906024764663627, 0.5703378249839894, 0.4500935315003661, 0.4408959509751368, 0.4782888034430379, 0.43930813559373993, 0.49549921202597846, 0.4530623844010922, 0.5369740884548485, 0.511524888136256, 0.49433097656652747, 0.4933159155676715, 0.5769251185932678, 0.42502562646964165, 0.49408433374798066, 0.4299070346666696, 0.43866694207115786, 0.43736389851555857, 0.4409130750684497, 0.4633092663553046, 0.5475228699755504, 0.44768177192583236, 0.4782617215068256, 0.5156332377278169, 0.49891426452808213, 0.49031743266535555, 0.4478588898210545, 0.47009476010158435, 0.4101041212482606, 0.4920020820610933, 0.5226291984106262, 0.5630559664490269, 0.44948422728410314, 0.5599644703180752, 0.5199345788546746, 0.401640881888942, 0.48907319465433774, 0.36305473124601206, 0.42222687699489797, 0.5169279040525797, 0.478234197381267, 0.5128255917060477, 0.4193238364547904, 0.5423520877384866, 0.4155081543447647, 0.40561470291112733, 0.4763505194084488, 0.46125114085834396, 0.5120816301873863, 0.49182008484045503, 0.5376877556917702, 0.523462341271286, 0.47763688565149776, 0.4337412908559998, 0.44788176916009925, 0.5248254149223517, 0.4485250192933023, 0.5005796309423525, 0.47820766680803756, 0.5319046338243478, 0.5218530602174133, 0.46075855627307655, 0.48398763573384984, 0.4601304359924001, 0.4989256231942706, 0.4598175471716564, 0.45160114886888436, 0.4334696147539288, 0.47315486679642116, 0.44771860200537034, 0.36835609526969537, 0.4474899665557696, 0.556374226747611, 0.4427117037549586, 0.4871411512693318, 0.6033657170601303, 0.47818092198825507, 0.4425493901783318, 0.44816062248023286, 0.43072161360621747, 0.4423738396610532, 0.41692029167604594, 0.4388521456608306, 0.6106959678085281, 0.4250277982940329, 0.4599245275368466, 0.505953079826745, 0.5118626594224206, 0.543344038571208, 0.6043951878948551, 0.44835851170825436, 0.46203009373706566, 0.45051705868082903, 0.4876825355186067, 0.4781547662350038, 0.38252564756895013, 0.46895086590547364, 0.4497291813888114, 0.46150401509171, 0.5413963271332167, 0.5065320856234621, 0.4561260958557986, 0.5560124356449169, 0.5098118251235748, 0.48655210115644293, 0.48690526248331367, 0.4279544089816704, 0.470322393369141, 0.45798722611690856, 0.40588547820216436, 0.548688173364588, 0.5052344757731138, 0.47812883994711486, 0.43144801603221355, 0.3809568983726821, 0.5540409141145994, 0.5337825101916429, 0.5507026966359757, 0.4506883306855643, 0.48982313283356815, 0.504346831621409, 0.48333061777072367, 0.5384297785645732, 0.41649378331331455, 0.43698837578617405, 0.5065407082503145, 0.4829078358118695, 0.45294785288874306, 0.49228262103575593, 0.4188265691400926, 0.4781029058697979, 0.47054507888876884, 0.47663499832139344, 0.46673911611096386, 0.5098151681597485, 0.5062180691136384, 0.46670650648593787, 0.47708177951024466, 0.4733520307222669, 0.46270571738294225, 0.4380157676643235, 0.5905050359305853, 0.49030964833655616, 0.4228636280431754, 0.49201908005277395, 0.5580262866955644, 0.4256190959004107, 0.3885499217810641, 0.4780773482696648, 0.44520212939695614, 0.4862495407866333, 0.49516097015040955, 0.3792356480536172, 0.4524283005424372, 0.5548223383270551, 0.4520346229240965, 0.49262355745434616, 0.5485093968961055, 0.45140870782466874, 0.4278745641855005, 0.48852979430003207, 0.48027353478205936, 0.518919195935321, 0.5058250070486164, 0.4771332033269908, 0.448918714389164, 0.47805197227197205, 0.5245754190665803, 0.4596982985393972, 0.42097413970368064, 0.43455881955486775, 0.4964424315894416, 0.4389732357257231, 0.5333670380964177, 0.4504352663145268, 0.4257508693264454, 0.4837983550553485, 0.49046093052331124, 0.45236376914463977, 0.43200644148470047, 0.5439913865887849, 0.5805762711476281, 0.47378464675361903, 0.48362860313050876, 0.4780270679483615, 0.505865264764509, 0.47430450140598224, 0.4752301401003484, 0.4266843785861675, 0.4811433115992898, 0.4604698508562559, 0.44863514564170087, 0.45773336654433044, 0.48134400704267505, 0.4921315717457829, 0.34033141364060654, 0.5426349062562307, 0.5632946362980229, 0.4727030884945418, 0.48370316596288065, 0.500906933507532, 0.5311425274748274, 0.4780022175129617, 0.46949302777704177, 0.4372009535058854, 0.49778608510210326, 0.5448337485448609, 0.45268078329500566, 0.49057359772034587, 0.46554258390425746, 0.5417277781140082, 0.46610716910890865, 0.5114831678350182, 0.4986116492822961, 0.4642485978799259, 0.47231100886033645, 0.4574930413085682, 0.4418161859629049, 0.4601570295180031, 0.4549031545888746, 0.47797753697072815, 0.42751521292349515, 0.4178178426408995, 0.4619700600611199, 0.5007947816852106, 0.433917698332273, 0.4295575596261822, 0.46228535436064616, 0.41598164504887314, 0.5000498259441566, 0.4958096540578874, 0.4963581710854854, 0.4654501788098, 0.4858246491899901, 0.5492935932768617, 0.45633050328279295, 0.5433577085512993, 0.5836156295996936, 0.4779532170456008, 0.46785560763009654, 0.5541145870110782, 0.5535470766092404, 0.5099334029696283, 0.481336451576858, 0.4833497102550993, 0.4749853873960954, 0.4199227074182615, 0.46559662896653436, 0.5358916609426478, 0.45589679628452245, 0.43145594031383494, 0.40931905132056956, 0.4667595609773645, 0.454394578621621, 0.5348659831468711, 0.43822521739585824, 0.4779287633248118, 0.4548832453377525, 0.5443571441384362, 0.4057555364176092, 0.5204377745144604, 0.46630137460811966, 0.4574318252133823, 0.5718649449363786, 0.5101738206819146, 0.3940431714865706, 0.5304423948104197, 0.49167122772332106, 0.4976919448548363, 0.5005799420605638, 0.4489406612825651, 0.4003980888266716, 0.46965115422411374, 0.4693597560673098, 0.477904868985782, 0.5439965714821593, 0.44309261478666, 0.48779756185956347, 0.4663933577736422, 0.4757806322036406, 0.5344273966757861, 0.48995267877173476, 0.40202072936343014, 0.4168198790928859, 0.4582452967471909, 0.44558788678404837, 0.4330397513570965, 0.5692937575218212, 0.5150784247467207, 0.49290257515271746, 0.4881391530695295, 0.46943338839309023, 0.477881239367628, 0.46743637252006226, 0.5240081819125291, 0.4646159575591389, 0.4231975159636274, 0.48352847337782473, 0.5036913999673558, 0.4735980539535721, 0.5017119118564615, 0.49866587908132315, 0.48758370827501535, 0.4439443968339607, 0.44792030316595716, 0.44220463373364766, 0.5028572697380442, 0.5167163787424272, 0.4265460646368993, 0.5081192936317014, 0.4778580886059714, 0.45698252388200755, 0.4596478365742054, 0.5170636541889264, 0.38362801082413767, 0.5316341301505322, 0.4675911685932703, 0.5067204800382495, 0.38052908077545766, 0.44669389159614425, 0.5446895658156563, 0.4315879590715448, 0.5183944994193622, 0.3753580779262729, 0.4133434492344788, 0.6012690472414417, 0.5421570343696468, 0.5424801147377498, 0.4778351470642744, 0.47288921343437024, 0.4506470219920346, 0.42959398494251694, 0.5088435950330255, 0.43454353422192915, 0.52443021460631, 0.5248654541944389, 0.500807602665445, 0.4647987037013862, 0.42230194971034735, 0.4079717882986364, 0.4678528825509868, 0.5137812065948387, 0.47810096641523897, 0.4986702316063781, 0.4628003661127304, 0.5542679958271093, 0.47781252638023863, 0.4705242500182669, 0.5101156582674226, 0.48207623054044757, 0.45470730541367216, 0.5560127614568244, 0.4901840053785691, 0.488623469254894, 0.4405705560314271, 0.4309617729591493, 0.4985817935506712, 0.40714839432652355, 0.4929503240884513, 0.4529077058379425, 0.39768211017633814, 0.571652374822617, 0.4846845430196229, 0.5020764030252031, 0.47778968513661924, 0.4984596262187844, 0.5396308092730143, 0.4820560893333661, 0.4330741628590477, 0.442220283512231, 0.46983959460384384, 0.45054399856912825, 0.5282513254967273, 0.462961557084824, 0.4543738131313076, 0.4530576581949326, 0.5201850819555074, 0.5422516218383642, 0.4734945400335502, 0.4602128683265289, 0.4466331536835076, 0.45600362626308205, 0.4777671579287083, 0.4907312486849362, 0.501488247125043, 0.43551927950939934, 0.446067688860997, 0.39468527752296445, 0.5258730113688694, 0.5642498208828743, 0.5006096870624442, 0.5103517095758391, 0.4047521441752336, 0.434716068116822, 0.4283220062591764, 0.49175030543185544, 0.5386426649001568, 0.5167776441517885, 0.4389475300904756, 0.4997156898443073, 0.47774485079404194, 0.4783816303047962, 0.49225259787459363, 0.4884267807337332, 0.4039880756301919, 0.4942330930474805, 0.5236847794319238, 0.4685547478871166, 0.502787038691945, 0.5244872227467474, 0.5299424438865168, 0.48722537339027056, 0.4278786018310087, 0.4758993594018888, 0.48038507731671537, 0.42680956911671186, 0.42866223645127066, 0.4867088521840033, 0.4777224989877179, 0.5132366238146954, 0.44140752093568564, 0.5029763998961613, 0.49450688080864424, 0.3825397662721391, 0.46579942666498, 0.411748670395922, 0.47235939191426446, 0.5516682619292363, 0.4191916017221235, 0.46865680587287284, 0.424805277699251, 0.5697809087330113, 0.44322442578578825, 0.49663008517947554, 0.5242781565898137, 0.5474130757328717, 0.4777007515828295, 0.5315320265942386, 0.4224437779707136, 0.5081586506660678, 0.4682320051519244, 0.42696033152520685, 0.5348331700161536, 0.5033087027649462, 0.43582510359196536, 0.46089545644350094, 0.546307633613223, 0.4725087157474344, 0.42854633304676737, 0.4161414143003479, 0.4971257673868849, 0.4894493229827329, 0.4931403034957525, 0.49146059769758127, 0.47767926802877203, 0.5721065732694237, 0.4694994681845235, 0.45555960625828895, 0.42908029491334887, 0.4786284343219673, 0.4557671406006232, 0.5285328395608162, 0.4519605786848197, 0.5191783415854014, 0.4783995192970596, 0.5073639444862563, 0.4347463160348659, 0.4681617528123398, 0.4305363297767387, 0.4691225803260081, 0.5241717240726195, 0.44927508706172303, 0.4776578972413657, 0.5383305879125085, 0.46489108612275415, 0.521905101757104, 0.5466797467269607, 0.4192966990091462, 0.42874101425350863, 0.45246855118113616, 0.5422174057318386, 0.4725427716370163, 0.5028286625798758, 0.4964577664003589, 0.46997043539911815, 0.5006437057952087, 0.5150728400694397, 0.41262703278029556, 0.4568879510936698, 0.38956649697279333, 0.47763679286591576, 0.42992608690732764, 0.5456124140327285, 0.4616863049088601, 0.5055079649495537, 0.4778009950948691, 0.4863456540499196, 0.46141489572749633, 0.43762475649114063, 0.40915445896096964, 0.41803355422090877, 0.48128109647895884, 0.46576238394832986, 0.5115519032040159, 0.4553904683787902, 0.5413882974278765, 0.4740173130136293, 0.5657963225465452, 0.47761595698439047, 0.5096079264145729, 0.4667741263095846, 0.4939238285879945, 0.44419258419953594, 0.5022329240120778, 0.5244578550291723, 0.46878812086591404, 0.4704133588617678, 0.49563712836458096, 0.44894680531876674, 0.42572466669432635, 0.46263729193683995, 0.5093173890492809, 0.40267435399405743, 0.5608051600268996, 0.5115991774042484, 0.43443127093557865, 0.4775953380324239, 0.4634905736814654, 0.5293019537529022, 0.4574001162303556, 0.5267043133679876, 0.43536353961167246, 0.4344047871565029, 0.5300644243350591, 0.45540835362510734, 0.5204375903143943, 0.5155282974019001, 0.5134735435554723, 0.5199471869148866, 0.4332358070327548, 0.48711617945087854, 0.45357689380283217, 0.4036600982230379, 0.42616991880189475, 0.47757530427903294, 0.4633310512322684, 0.43112911807780513, 0.464163319276597, 0.47405293335290305, 0.4928951156193942, 0.4825043162908828, 0.47363289328835134, 0.48201077877077025, 0.4942730742742903, 0.5428718436528392, 0.47610855247876854, 0.46004853847439564, 0.4460927662615519, 0.501692794113315, 0.44309219873029837, 0.48565299583460814, 0.510918775555666, 0.4775552866780044, 0.4114791433561971, 0.5049683737118472, 0.4460945750478511, 0.5361752074096813, 0.4643496120125495, 0.5226803392370957, 0.510750821579044, 0.5125198895405909, 0.5701315609437405, 0.48526340584343325, 0.47586759984868415, 0.428803573011188, 0.4460890861373592, 0.4925303505935642, 0.4303333605710592, 0.4233858547441322, 0.4662856654014847, 0.4775349842645037, 0.5819797419270369, 0.41455140826984993, 0.4115519107156472, 0.5337670680943262, 0.4539604994307387, 0.5116182956083225, 0.43761124402872725, 0.43195452499230547, 0.36401742167928464, 0.4912036892048647, 0.4463165576646424, 0.49806949615560525, 0.5495151929654886, 0.5069455856610261, 0.43616338480064765, 0.5836257501836365, 0.4711225082771554, 0.4775150083808402, 0.4762547024275757, 0.5123930905933508, 0.5411799059312843, 0.4472099991653811, 0.46429778241963915, 0.4413962756815556, 0.48098389995306284, 0.4305003407350823, 0.5174998690869663, 0.4905129719577671, 0.43753181445955036, 0.500445224224751, 0.4888981691897396, 0.4299522022473505, 0.5551953058619539, 0.49416208700861214, 0.41428993805630454, 0.4774952847181635, 0.5050438343133989, 0.5304818931870314, 0.5347220994841436, 0.47541920195048193, 0.4595370866989243, 0.5325354744452491, 0.4122797936032083, 0.5823720540400489, 0.4286585635626331, 0.44668262274263243, 0.43304082694762047, 0.4720239853323747, 0.5002631622243677, 0.5050413537251852, 0.43933876701165603, 0.3906934585122785, 0.47391096774403735, 0.47747588258317075, 0.5092865936229224, 0.5488280424122688, 0.4825431428986757, 0.48175709022420177, 0.4592406336851353, 0.5365771727698394, 0.47874620545499597, 0.4246799089510014, 0.44120675120629377, 0.4413021188927533, 0.544377114209321, 0.4455859520466974, 0.43068364133033826, 0.44197992703925765, 0.47159759829653636, 0.49092173742946016, 0.4809586048699142, 0.47745643072249333, 0.4576670995305649, 0.5396406577859204, 0.4435769232633572, 0.5387026264303829, 0.4819233032884565, 0.4615411205945902, 0.4334678387185992, 0.5339552731437369, 0.3647626914614104, 0.5473669245974058, 0.4818530681685609, 0.5084889851023024, 0.4244496053498505, 0.46349510502423585, 0.49515936513250236, 0.4909437762383417, 0.4534971010061211, 0.47743723922219716, 0.5176503188921818, 0.47227221344322984, 0.4307518872016398, 0.42245496485470513, 0.477837369286716, 0.4897856253327012, 0.4704223382544084, 0.5551415917706357, 0.5102016568234934, 0.48966804087355287, 0.3893005075311287, 0.5119771544277926, 0.5568892124848351, 0.4749373990225324, 0.4632870544501, 0.4362305335739706, 0.4549218790714092, 0.4774183794375282, 0.46907355271418005, 0.42300867027919997, 0.4262598795884027, 0.47644410219914873, 0.4931212573862716, 0.4680500018503247, 0.4307997210703888, 0.47297392886540324, 0.5099831509337772, 0.47082315582065476, 0.46586646681589905, 0.5389456005765482, 0.48388890113934424, 0.4945793793594114, 0.5407548366157781, 0.5078924782374951, 0.4531578761708684, 0.47739971757816807, 0.47446300474211983, 0.3981507056067693, 0.473834100648272, 0.42848047540159795, 0.5124936693605878, 0.48513758657243733, 0.5120922315895834, 0.47610169979759276, 0.4386091527549841, 0.4602897834597407, 0.4813870058613904, 0.45212112005817573, 0.4907427068636153, 0.47917005378091404, 0.5739847508391265, 0.49816901364608285, 0.46622160635815374, 0.4773811734261197, 0.46461520298127085, 0.5077387438980153, 0.562680110898746, 0.465975490221184, 0.49994260786850075, 0.46839863191546965, 0.4786579735720495, 0.543443951506283, 0.40602642815500234, 0.460147243890782, 0.45524586743856993, 0.43271278909355254, 0.47647631994365724, 0.4157927068662052, 0.5004305164261051, 0.4562636155015186, 0.4906723729244731, 0.47736322554071714, 0.4847579807705477, 0.5718571678645297, 0.46188817035799834, 0.5360184002733928, 0.4738866571587977, 0.4315986506903262, 0.5083762406751916, 0.4051517929103497, 0.4833184694741416, 0.4029898147914626, 0.4485238211913135, 0.5227198152863414, 0.5835403683857566, 0.4411119237924075, 0.4505335166841254, 0.45614051330204125, 0.45100926853489637, 0.47734527868031357, 0.48518720574504104, 0.42047671628913535, 0.4800358030978116, 0.5136567801304222, 0.4159152945354825, 0.3821459609868795, 0.5377922549272418, 0.5425392967482295, 0.5001470416193167, 0.5360013470789774, 0.4014971738760117, 0.48184080866751944, 0.49071565648431914, 0.4392112168019764, 0.4798095475209878, 0.484440825891053, 0.5281321764746856, 0.4773274766667817, 0.43576050719407655, 0.5472824831531448, 0.4327090805018581, 0.5056885445690017, 0.5079280156443481, 0.49508018315629143, 0.4303635925733853, 0.5395098635372423, 0.5349918020942451, 0.4712281183620577, 0.4763391347887911, 0.4653630222172669, 0.40366797328694853, 0.47292547638494836, 0.46199164450222185, 0.4301730483813007, 0.49421945084376306, 0.4773095805991434, 0.5154670780376278, 0.493299528152424, 0.4738207328920198, 0.5092504598134864, 0.43500451369666154, 0.5434699572917754, 0.3767378413278013, 0.3722033492084657, 0.5397936272839776, 0.4617516655225306, 0.4341054240167212, 0.5822855820910303, 0.524609758341683, 0.48634684488624863, 0.44374700273397827, 0.41722645432202227, 0.49710845687520056, 0.4772918475637502, 0.44100406759824295, 0.4569739791012393, 0.517173602706187, 0.43878265365461805, 0.4398976018299322, 0.461828738687947, 0.5015983987885115, 0.5791004888322612, 0.46240115372635304, 0.4785171871828577, 0.5858068832936105, 0.47856199852630404, 0.46524480538965973, 0.4581416394018727, 0.4411337205016885, 0.47712194190826784, 0.4397472508922827, 0.4772745147639173, 0.5095657464734026, 0.42757310161948825, 0.4711657753971262, 0.42285907905559905, 0.48670714768199275, 0.5267817150472994, 0.4781514913397038, 0.49462644486812535, 0.4208008691574975, 0.41945123839528636, 0.537699500343181, 0.43224439772285694, 0.43445794841681606, 0.477263827102899, 0.4761194757972666, 0.5660433414610014, 0.5353399721624, 0.4772575610661102, 0.38445733652414155, 0.4932737562078572, 0.5205375380616588, 0.5114012370613947, 0.558568188611844, 0.47762035212221876, 0.4785404353843189, 0.425252011386902, 0.508298115367776, 0.46594070241835517, 0.5414761080963789, 0.434259478634667, 0.48619162372314995, 0.4834585837685331, 0.4323452682206515, 0.4452750524270961, 0.4664256879384002, 0.4772405733293841, 0.4153761358988197, 0.5089710869115615, 0.5194883416797752, 0.5049064886250767, 0.5042809427644154, 0.503810007910432, 0.47408945030461275, 0.5235823886552585, 0.5124265100003782, 0.4326358282190466, 0.49177160776745465, 0.4878063226138672, 0.5013583523199151, 0.41586999499714977, 0.42601481447883055, 0.4366665592352572, 0.45972683929688984, 0.4772237325481013, 0.4444514582804453, 0.5329228541604847, 0.4616634175326812, 0.41637937278196974, 0.4803143195726888, 0.48935385166009804, 0.46052264215287636, 0.5508670886234089, 0.5019122577393773, 0.47018880711175726, 0.4925052947230791, 0.530644622241241, 0.44843780289084106, 0.5138777671476253, 0.4818063424134191, 0.4209356237432144, 0.40978298360921417, 0.47720686046247357, 0.47650241714542857, 0.47924370382705433, 0.5253467433689981, 0.47600446873597724, 0.4696688293375664, 0.4833344654792731, 0.42744247206293123, 0.5181472418092739, 0.43018154453178864, 0.47808255121969023, 0.4986290121973955, 0.42640250688878867, 0.5067152178343979, 0.4591321853395122, 0.5079986294935052, 0.40688277213572077, 0.5444440651413558, 0.47719025737525844, 0.4867257882209784, 0.49999190531227766, 0.4640657904126179, 0.5945793653032005, 0.449778493550293, 0.5567638952663112, 0.45893787970830985, 0.43976490221002945, 0.45954174784979, 0.4913403670056675, 0.4954207771288914, 0.4494062480246555, 0.43214194699345965, 0.44872527630381875, 0.4278650561751063, 0.4928949737327992, 0.4685326245443195, 0.4771739709333043, 0.47595773221979343, 0.4183023222340537, 0.5049007101879132, 0.49570544904629005, 0.5039888236120585, 0.6333130767412203, 0.46401488297189175, 0.43059149945736636, 0.5021274427229976, 0.4378964099128629, 0.4503873155629836, 0.5069730147760797, 0.46337236447375196, 0.4629074219774957, 0.43321899864657964, 0.456795992105383, 0.45890806219685826, 0.4771575702299181, 0.5763228633711535, 0.3790777283690513, 0.5408101685914599, 0.46195926487815114, 0.4350406107670894, 0.47676232474016117, 0.48769806601414606, 0.4680409838633262, 0.5212998753072393, 0.48665660448674886, 0.46691529098435147, 0.3878957847014947, 0.45791504208156525, 0.5282694420713918, 0.5246358721179746, 0.4481500905924916, 0.4690601524556409, 0.4771414687159158, 0.5569216932883159, 0.5332723144310774, 0.4935187170620523, 0.4889530807392103, 0.44671045159464073, 0.44254547628846735, 0.466286175781551, 0.6005669949744956, 0.5138235526907023, 0.4221785015281587, 0.43649006190167405, 0.39255546444151174, 0.4796424920073956, 0.44305744354557797, 0.5065813840371355, 0.4624686200113711, 0.43246848138566546, 0.4771258887792131, 0.5185339573099003, 0.43997064081546156, 0.4823361767227937, 0.4020937220862267, 0.42217481688144515, 0.5213592804291999, 0.5957193308795294, 0.4196839728232362, 0.3762621756860268, 0.5359693017196601, 0.44778041701468396, 0.42431512183153086, 0.49228429342062624, 0.4899750361155317, 0.5720262048412085, 0.43715439097504083, 0.5207105083828827, 0.47711024030667065, 0.3949062258582385, 0.505473559012249, 0.49855158396129406, 0.5127007704649513, 0.4685608568525676, 0.5075593961811954, 0.44544794772461344, 0.4448220498040632, 0.4568976250113074, 0.41478445887653836, 0.5726081371763059, 0.5013748368759063, 0.4860176155775289, 0.524276498238114, 0.4572324380095496, 0.4827878357023483, 0.43991480729027344, 0.4770946902642106, 0.49336056975534737, 0.46507185900381465, 0.4622833323964499, 0.4633803202462676, 0.4123751034170797, 0.4455702134303343, 0.42749185820108493, 0.5502998971462598, 0.562997811182824, 0.49832046472268204, 0.4702568967912273, 0.46366857728374233, 0.392000188771579, 0.5285863639788174, 0.5466036715372115, 0.4495962534526795, 0.46029939071329345, 0.4770792071637902, 0.42347368293735144, 0.5336919239711477, 0.4263942906100319, 0.43223167688455433, 0.5053303128319893, 0.46747902370666117, 0.4513090129408694, 0.4977778193592215, 0.5248330576213291, 0.5041763883696236, 0.4582869562936082, 0.47187951759376473, 0.4547680950271037, 0.44938781547652207, 0.5252025002253854, 0.5413978798084895, 0.44305938062611716, 0.4770641951684651, 0.428230113672539, 0.4395978369354742, 0.4831316572556805, 0.45370896732895005, 0.4463633885129443, 0.4942401036506443, 0.46125623989219944, 0.5363413625802314, 0.5899751609376084, 0.3896709678786776, 0.4921277723533627, 0.44573045334976696, 0.46147887901786, 0.45682085354123486, 0.5516628265385399, 0.49757867746679596, 0.48612077090142125, 0.477049033221219, 0.508786537022027, 0.4832872239210138, 0.5612476567139266, 0.4572688429468391, 0.44436363193579553, 0.479200150361495, 0.35106012719896185, 0.5159527904749881, 0.42990154504551553, 0.5056164825793991, 0.4370018610144779, 0.4787847952355731, 0.5349687952796681, 0.5883134344381992, 0.46847600229254255, 0.38649039691344345, 0.48215147779943834, 0.47703404588716203, 0.5406125469218553, 0.48173095037828384, 0.40653327123252125, 0.4555757668214258, 0.43136563463814775, 0.45382745642504474, 0.47476926767709204, 0.5074886845033133, 0.5355438989387054, 0.43540427914865565, 0.5109356118991507, 0.47965296918059147, 0.47869552665885345, 0.5105971611502303, 0.44265073212408373, 0.5512851251598141, 0.409961229968834, 0.47701915101384484, 0.5190661882337477, 0.3936082221742683, 0.46593452859973383, 0.5025886054511787, 0.456849064578237, 0.4434682178295223, 0.5272934004566894, 0.5319583114213009, 0.40671588923144597, 0.46124248588594, 0.4375791074933237, 0.45996372468286795, 0.4734376961870159, 0.5605235652987688, 0.5172072236788551, 0.4674004361917005, 0.48461748578316366, 0.47700461593231513, 0.45979540622826703, 0.5023861401222215, 0.45480672266439387, 0.3907131353079932, 0.4802199380454462, 0.48950708650258223, 0.5240444432988298, 0.47498384291764595, 0.47403667381202025, 0.49417310864081054, 0.4734150328819793, 0.49799478660754154, 0.487314198531067, 0.47740906907425557, 0.623559185121957, 0.3813350214004666, 0.4067578728472657, 0.4769900530685516, 0.40195339569414257, 0.5834343275233893, 0.44934293318478646, 0.46992018707079714, 0.4492090532339871, 0.4906135820550061, 0.5069356123108478, 0.48021130546239704, 0.4457573612694566, 0.4420223316510494, 0.43976449294948594, 0.5145992533318584, 0.45614901424405624, 0.5033788756258728, 0.45857804315412776, 0.535004807257304, 0.4915241812871535, 0.4769756546133729, 0.4805739799282324, 0.5508965611745418, 0.5245254130532548, 0.4431971744024244, 0.48268522021941807, 0.5028459777087246, 0.40172922750491125, 0.44098874880104383, 0.53346952598409, 0.415679960430783, 0.49854396197940753, 0.5558869841509022, 0.44496883186040537, 0.5237935827676284, 0.4600160473555263, 0.38730533258449884, 0.469830656343457, 0.47696149881855415, 0.516642464044006, 0.4698692596028703, 0.4665911934138166, 0.472015830832354, 0.45027221776762966, 0.5206785801077749, 0.5530983194333526, 0.4497953266961923, 0.47493702423737166, 0.4606874050934175, 0.5174935817018058, 0.491516706752426, 0.4724559931881398, 0.43954902145362706, 0.4184065561300453, 0.5394737769945418, 0.4083414915422018, 0.4769473502945549, 0.48380106983671795, 0.5457802338282814, 0.4448870228907932, 0.43429338115043636, 0.4666074698846302, 0.4710939254382338, 0.4583031968177063, 0.4838817734627281, 0.4185301020078531, 0.41906192997188596, 0.5059654966548003, 0.48655167756745454, 0.47434374509101446, 0.5334955754080642, 0.5456303076659568, 0.45761348499478205, 0.4580748235748423, 0.47693354303694024, 0.45721708937417893, 0.4636582856217392, 0.4555722911248444, 0.41987941929410305, 0.46737517137598333, 0.47076482536714065, 0.4826408575849306, 0.4654121104154132, 0.44270371569670075, 0.4530259751051035, 0.46451651197884, 0.6134431165171496, 0.5166425492794515, 0.46211104825978233, 0.5685676965690589, 0.41031554304007656, 0.4941426784488378, 0.47691962659431403, 0.43992711475716506, 0.4867151646050101, 0.5686138433264328, 0.4710211891298316, 0.4839234972202729, 0.4589577279523374, 0.4772542129424827, 0.5129396167174678, 0.43574394062661126, 0.5577750103928419, 0.4635621580446776, 0.4324228217304055, 0.4073034398527314, 0.501532585462376, 0.4589339515950189, 0.5288718748403793, 0.43126825496969334, 0.4769058773685551, 0.43961803302267555, 0.4846637398790237, 0.4854748188539864, 0.5196615180024838, 0.4144371533366204, 0.3971289100447001, 0.49694624488106454, 0.43120894945064436, 0.4454334894510815, 0.5760915280509408, 0.47050966445142195, 0.44459535514722426, 0.48232209918055347, 0.5179060230304716, 0.4745200330962968, 0.5583089501162032, 0.45697329937422665, 0.4768923896293689, 0.48854544470297884, 0.44090134428960026, 0.4883549161695774, 0.526485777437579, 0.4774093586434532, 0.43573396837222406, 0.4429944878295446, 0.5755627588222599, 0.49280063227173615, 0.5451188373982059, 0.444043770503033, 0.45885806614254804, 0.5354260994331613, 0.464971905786734, 0.41408011262951094, 0.42231948814810266, 0.46648069847268, 0.47687882423516553, 0.4482325711830676, 0.4026954516417062, 0.47962587945869134, 0.4554314528979656, 0.45942456455565905, 0.4765541708874924, 0.5566417180235831, 0.5208122719754487, 0.4114864993432974, 0.5436599343104419, 0.5732576020410075, 0.47961062459240805, 0.46373204159827447, 0.47078576163981056, 0.4793779388403725, 0.4079511213069661, 0.4773106823388991, 0.47686561183630716, 0.5313959417219118, 0.521936020734797, 0.46559653863351436, 0.5645200193225882, 0.49619403183533684, 0.498888399678134, 0.5034278052263278, 0.5786530826394761, 0.36514700072418704, 0.42698354345770784, 0.4497952173284213, 0.4196872446633931, 0.3886819832199734, 0.4859755916697537, 0.48008131828448425, 0.49303039387915976, 0.43640877169703257, 0.47685245973329554, 0.5194651989244938, 0.5709713731003538, 0.404365611462503, 0.4597878531700584, 0.46309463397101835, 0.4373168471254042, 0.507250092351277, 0.47600499719090467, 0.4780485369962544, 0.458501768843889, 0.4974631956477458, 0.4876922108612739, 0.5082381488502452, 0.5176516413826189, 0.3710060354662983, 0.48246097256448484, 0.4658535816444976, 0.4768394537073229, 0.6055935264604897, 0.5179632457014478, 0.4560799971508757, 0.5024621837361313, 0.37950899881589334, 0.4844943573843896, 0.46149174453870856, 0.4770930331177093, 0.44570862088091645, 0.5302154318295462, 0.46852536992655863, 0.44092778693030593, 0.5429384883262983, 0.507435410782761, 0.4691085327340271, 0.3874185624852304, 0.4294324464699515, 0.4768266201404165, 0.4871937828773523, 0.49801389994572837, 0.4789420134083382, 0.47074272568036873, 0.4680943628297261, 0.537632260667138, 0.5222236569155732, 0.47852634509426784, 0.42358535220282867, 0.47344635137975616, 0.514707936446283, 0.4394211221171405, 0.5091390662167578, 0.5480351363870787, 0.41885938247993304, 0.42712045506735535, 0.40496472647205123, 0.47681395024833095, 0.4209185085945502, 0.4494916160620626, 0.49713840286951355, 0.5309747841598513, 0.45257256949159896, 0.4835956005426857, 0.5005476297558461, 0.4590002379251636, 0.49119128851841604, 0.4349128459935174, 0.5230438011955101, 0.4390369566185872, 0.5078765196587994, 0.502567973052631, 0.4399982177361446, 0.49520460911321407, 0.4720200069081384, 0.47680126648394044, 0.419534114772123, 0.5151153978531026, 0.44741761909222677, 0.5584010211696634, 0.4067535640933411, 0.41728632156950335, 0.5225863407785754, 0.4761965301705904, 0.49409715802849036, 0.5512596720389265, 0.4413893439303693, 0.47886736012512615, 0.4901275652758663, 0.4348422970962855, 0.5145463016630063, 0.3858754042292309, 0.5583572269482211, 0.47678869273001157, 0.4877719187360762, 0.440183158215059, 0.483599321964501, 0.4613839965832555, 0.5437842334827073, 0.3622010427006516, 0.48054845005105923, 0.44136991742687465, 0.478880416373195, 0.5308880883493505, 0.47244596434545444, 0.5390511243324964, 0.45213197330387767, 0.5862066293115352, 0.5275872229593035, 0.4273036588565977, 0.3884058377430693, 0.476776247765348, 0.5314262428518571, 0.4132855919801456, 0.5003478532524167, 0.4718478771739569, 0.5027520873931892, 0.5007992008260086, 0.46638300444210457, 0.36150843709909025, 0.5027244806374104, 0.6086086134836447, 0.3750355112256223, 0.4241641550545123, 0.4746662513379076, 0.49144535917529775, 0.4843941364195392, 0.46013701002421614, 0.5453074746167635, 0.47676422638721433, 0.3682016007277482, 0.4660822258394821, 0.506269742590223, 0.4525095125081495, 0.49796995330201993, 0.5300395398530483, 0.4109305941841307, 0.5398100129287144, 0.435453635794114, 0.4598110858140641, 0.48611177453859145, 0.508593993484609, 0.49069964670797417, 0.4402206883921133, 0.5047024482283305, 0.44015046869559404, 0.553917053425068, 0.4767521020373261, 0.5151257308492561, 0.43044891287058706, 0.4903646778564, 0.48020673575001127, 0.5156524236005537, 0.49886364254686716, 0.46228248080615814, 0.4393391398164775, 0.5171598614097423, 0.46775948672349044, 0.4712759643897249, 0.4871462611200549, 0.5512080194715172, 0.4235788356265024, 0.41810138863528196, 0.4400511782037211, 0.500597706602256, 0.47674030762368624, 0.4484097123520104, 0.44920180806424925, 0.49005618865870154, 0.5223644175873527, 0.43110971317890745, 0.49758841689770456, 0.43150607202559355, 0.4336791695781904, 0.5421880005788876, 0.4881577973718676, 0.4918179571246803, 0.44821413233469115, 0.5152382130148624, 0.45923022008208164, 0.5100554123562255, 0.4839464255883304, 0.4731393624189512, 0.47672847947682034, 0.41992792178610955, 0.5126480306254882, 0.4443413721907213, 0.47999705132874604, 0.411975452384344, 0.4939292839620507, 0.4315889468968103, 0.48461152569881705, 0.5217623355691018, 0.48818211878705997, 0.5166196619848324, 0.4703792023341262, 0.3755121084782121, 0.5404438142131194, 0.49206951323217224, 0.5342409766433631, 0.4861214354653039, 0.47671654946947883, 0.40803363934854, 0.4033343883874337, 0.572803956399629, 0.4762204209587713, 0.44395653610839814, 0.5156364893786447, 0.5280726363989179, 0.44751903614627025, 0.4450185713147242, 0.501150432596662, 0.43878560365654695, 0.515210212666211, 0.4153676749133374, 0.469134016047178, 0.5528567075896812, 0.45314164115847366, 0.526169101702031, 0.4767049629930562, 0.5183059962415486, 0.4660170867192141, 0.4350041253753518, 0.4832378479534353, 0.5121144251270181, 0.44460209115759364, 0.43970188477990696, 0.43712317577488696, 0.5224624677462154, 0.4887875180637504, 0.4193020771707024, 0.4915185813599576, 0.5006192580017125, 0.411172927262772, 0.43779787183413804, 0.5343321786666416, 0.5709244495160555, 0.47669351181388686, 0.44173548924948725, 0.5574081607765917, 0.502856372647764, 0.4868785534745952, 0.5108584028343153, 0.5180480078496658, 0.49188301896782305, 0.4528607765908261, 0.4452092709128022, 0.44605394171211216, 0.49070831574099194, 0.41778443759878636, 0.4539124856172, 0.4431258397624326, 0.5821443738004067, 0.45598556933815276, 0.4052289913047876, 0.4766821017601592, 0.38573806279534706, 0.47508397723392093, 0.46477838353764356, 0.5434976811627901, 0.4223126777096555, 0.47030083542100604, 0.48279673606510426, 0.48217424545802273, 0.43380424138322615, 0.43957306872285196, 0.598917045530851, 0.5150241237702067, 0.49856995578211283, 0.45753076045318297, 0.4589004209051301, 0.4949757434142423, 0.4769261375484907, 0.47667116166013535, 0.4620808245662454, 0.4953201970230857, 0.3763592686370224, 0.5096043341062702, 0.5447226136984381, 0.4922220126643846, 0.43241465567027226, 0.5337468009856113, 0.4703582285359485, 0.4575317464399407, 0.4292607222771625, 0.505540027500511, 0.489725272288954, 0.43020600227043543, 0.4920558334593157, 0.5357021196857817, 0.44562252162604776, 0.47666007753462164, 0.5083412280535979, 0.40515912396585557, 0.5109239649992535, 0.5095013578967698, 0.5168004596650252, 0.39348967623591136, 0.4659300767448542, 0.48722546216143203, 0.49088043772912016, 0.4622621072859938, 0.4249611395654048, 0.41491333364141153, 0.602883612450743, 0.4457232749438523, 0.5025602567986003, 0.4370002809163778, 0.5363738186722542, 0.47664878690104795, 0.46609351037488606, 0.4422004552647671, 0.5412328704908653, 0.5175777775299553, 0.41699756291009593, 0.43227981739488214, 0.4205891272986135, 0.5299780737507604, 0.4844854259748706, 0.4577087605866519, 0.49369058599464904, 0.5064396253069345, 0.41218707487015327, 0.4960245087032737, 0.4910553180922409, 0.5670824731714306, 0.42967201667739535, 0.47663793339235405, 0.4726661248345508, 0.4970515804108581, 0.47062695429626783, 0.465724247790679, 0.48829689033768703, 0.4948478187769376, 0.432677251348293, 0.44104091182683236, 0.4891304123596784, 0.47132868024886443, 0.5799969804919346, 0.48325674365678245, 0.4733279864561848, 0.45938247403791904, 0.41318467901565137, 0.47842193750406975, 0.4885884711893001, 0.47662700790285856, 0.3756635504999953, 0.5530356510606935, 0.48362221503209796, 0.4149048833437613, 0.43455602912128394, 0.5545519768770046, 0.5269887143294889, 0.4770831106721563, 0.470854680656565, 0.4695947123494847, 0.39451147974343115, 0.4797705836895655, 0.5376822895330039, 0.45182638083799476, 0.48217408513144117, 0.5259553292680037, 0.47822559845491, 0.47661631409137223, 0.49406232822574553, 0.43772504199162326, 0.4575309268504189, 0.5168193444139235, 0.4971896779270301, 0.4440514562127796, 0.41149700972511755, 0.369323491675305, 0.5124544330156848, 0.42597590874856806, 0.6542119710480878, 0.4898437065922657, 0.5456460123835161, 0.44036958698393447, 0.4432988390985491, 0.5149127288963282, 0.4414913801171275, 0.4766057415946705, 0.42140624568045487, 0.41429210731874827, 0.44810766037124367, 0.5026070905166569, 0.42006045681899434, 0.4471776481912251, 0.49211011756182443, 0.5404912980579384, 0.5182779690922706, 0.49945152531289394, 0.486320076150496, 0.4588917494294804, 0.6517413760653045, 0.4533003092194119, 0.4130364189873692, 0.5109061529560215, 0.43506458852507585, 0.476595425102646, 0.4956289417162965, 0.5066280814595134, 0.39049620166453614, 0.41768057629696914, 0.5394189014806087, 0.4054184680110468, 0.38082851300038384, 0.4711968222790657, 0.581264735814476, 0.445872702718963, 0.5558782691759222, 0.40430547039964154, 0.5144832776300621, 0.4910955543113472, 0.4896734696353706, 0.5008132393158974, 0.4925946974194253, 0.4765850343440184, 0.4539144518896767, 0.40768534553508673, 0.49036046237610514, 0.47593870536421595, 0.4457328740245217, 0.46344675489225706, 0.4924447452166283, 0.43632975953031033, 0.4608271757383872, 0.5215302885807482, 0.49890165217201543, 0.4420845735197224, 0.5267180887001747, 0.43985191107575633, 0.5407289874266289, 0.4702244387680692, 0.541953727862862, 0.4765747434458592, 0.5233444588310294, 0.4332761898605478, 0.4559480219003553, 0.4648084007188079, 0.5094586991872209, 0.5546662228113743, 0.48994355553533636, 0.4336966706693376, 0.4736534368754808, 0.4940737118306782, 0.3689885773821858, 0.5339255108655379, 0.5038689526236285, 0.47770257575476127, 0.4607381205472396, 0.44288782061555554, 0.4759005856447384, 0.476564603216996, 0.48479628195262875, 0.5825981177500004, 0.4633925239036499, 0.53394373363505, 0.386765464731336, 0.4369302636358394, 0.4654646207526197, 0.3959518034189991, 0.49997454767465577, 0.44712182622867613, 0.5569499993753105, 0.4540833506864581, 0.4899902204058658, 0.47401882543604534, 0.46838104855123036, 0.47847844047355137, 0.49077975430849113, 0.47655455554793374, 0.4474721646470626, 0.5484295467622688, 0.45103379179737985, 0.57300993929353, 0.4113256821194742, 0.512181582143907, 0.45444787754501204, 0.4548414628350331, 0.5205512467256355, 0.4558462737098213, 0.4568097075736434, 0.43464058051684273, 0.462074791387133, 0.4747781658195738, 0.4520132233899896, 0.5184353303978086, 0.47716583379158223, 0.47654446619436, 0.4677667876812397, 0.4543805362988721, 0.45856385312314063, 0.48117496798709886, 0.49158382609913504, 0.41801297709431323, 0.4670264757796825, 0.4859506320162447, 0.48368380554469326, 0.46920897813467705, 0.43245601489181995, 0.4505866935718531, 0.4701247588534875, 0.4829647794457487, 0.5646764284492521, 0.49509275761759186, 0.5239067657561723, 0.4765345492834952, 0.4727653340587416, 0.41078229949473183, 0.5007910854884574, 0.5620451244541315, 0.44705989041930705, 0.5399448376958058, 0.44484214393225857, 0.4835154095319673, 0.5260982102936215, 0.46875952067288634, 0.49796732642381075, 0.4507230001150664, 0.4713409522378738, 0.4325749387382664, 0.4544816516275537, 0.4491802974311074, 0.49070188945406956, 0.47652475178744086, 0.46919531356235256, 0.4871752126403666, 0.4862788802716987, 0.43573404880946115, 0.47099323101053747, 0.5064460880601738, 0.556059487431725, 0.5435423766886802, 0.46799097149757957, 0.5585674702754512, 0.4425371588516784, 0.42313277321668785, 0.492524177653123, 0.4520893664123692, 0.5129511748092447, 0.3521297286813653, 0.42414369036746336, 0.47651505208435424, 0.540349937889124, 0.568927184304397, 0.43032667590646767, 0.5463183513380133, 0.44384083218470705, 0.4085172288708673, 0.5422062536171621, 0.6233664894726219, 0.4470145019403992, 0.3848260133805856, 0.4425311593441911, 0.4093681256353092, 0.3916836448859067, 0.461630645859023, 0.3999714018172004, 0.5536452629968079, 0.5168604999531768, 0.47650549807679354, 0.4464542929918272, 0.44954842284805857, 0.4973601795070532, 0.45149126601401735, 0.4352163254989814, 0.4945768571402055, 0.5253498665825718, 0.46297050347296675, 0.4446926350525429, 0.47680799762583326, 0.4708269734853098, 0.5247003757307153, 0.4599756405552838, 0.46586373939608466, 0.42295741957945965, 0.5670035272674913, 0.5145912507351013, 0.4764958787190301, 0.48147739749547314, 0.432877865639133, 0.5021239121502088, 0.5169686879078144, 0.47070893705791994, 0.45149895343120355, 0.45336740116355406, 0.4480902303033805, 0.4465138834867622, 0.5618832071618722, 0.42124834676886747, 0.47999265063964147, 0.47056699891284154, 0.489663888462452, 0.45978643552192655, 0.46629009687781425, 0.5467031627444625, 0.4764863728942646, 0.4285020627599571, 0.4051724785589229, 0.5064038146779873, 0.5315781652780212, 0.5649768378620251, 0.4699921663591399, 0.5281382310985552, 0.4783615527561234, 0.46263065141193666, 0.48238137367260764, 0.406404302146298, 0.46012261693528617, 0.47283999944395616, 0.5122476861333785, 0.45999285817074165, 0.45500772999515504, 0.46730819162013015, 0.47647698357816043, 0.4502259692113986, 0.4561600966227659, 0.45760142822342, 0.49127840464244454, 0.5631317903456711, 0.4084501575146476, 0.3836092905476338, 0.44997801887044775, 0.492986469616158, 0.4671582459386003, 0.4631834743623605, 0.4361931024119356, 0.5184726137094495, 0.5837714556018828, 0.5510764331809473, 0.4553535755241141, 0.4631762391044383, 0.4764677579747069, 0.42154555256859794, 0.4933558439283232, 0.4201946882222407, 0.4672430890362145, 0.49588755434867643, 0.4979837620994427, 0.5114660871399974, 0.49783872261463236, 0.5024393679290953, 0.4841728762337233, 0.4657191221473988, 0.44449577365747134, 0.4520153431861856, 0.54474770851499, 0.5020392916717753, 0.4581369078588748, 0.4434892608345676, 0.4764588546331123, 0.5087234828459353, 0.4432291115384723, 0.41464399372628974, 0.4077929547024436, 0.49637015216260094, 0.48002643626006447, 0.4095271957165083, 0.43651961977485926, 0.48784502291786525, 0.4763368917866846, 0.4648319776694403, 0.569223146008514, 0.5217110382558167, 0.44070181789890855, 0.47028318077324294, 0.5632770515759279, 0.49916889428823397, 0.47644992841733425, 0.5607809695578357, 0.4651709998393514, 0.46769086814905103, 0.4922253657742137, 0.515974430207661, 0.5077242576387723, 0.5060183745482049, 0.3701482541563852, 0.4854042065905342, 0.410710745922878, 0.479954243898823, 0.4349569575658069, 0.48227876391860774, 0.4876234390531101, 0.5208123246824016, 0.4289759057294939, 0.47961713904233927, 0.47644108975653227, 0.5372014948859446, 0.5401671830149867, 0.5435205142247834, 0.5081908916907227, 0.4454241544967521, 0.4065463490463912, 0.5669992352790031, 0.46339783136588897, 0.46352944311646355, 0.5354110614464413, 0.4648098964837726, 0.4333792609544636, 0.5210070591735702, 0.453156887870372, 0.3981479640830341, 0.41040567084128055, 0.41932144821597056, 0.476432138398452, 0.48604949537642084, 0.5556262471512516, 0.522036665808006, 0.49328368986192944, 0.47544192331645596, 0.5515989219859488, 0.41788077074746743, 0.5325634995728997, 0.4371600895626348, 0.4592847108853069, 0.3940366010847868, 0.38757557033667495, 0.5121594251969656, 0.4957135556710587, 0.45170796317189804, 0.46547900827720895, 0.46804839542361604, 0.4764232393943199, 0.4580382024347007, 0.48381229563712935, 0.3834215289321395, 0.5527806083218827, 0.5333811078917037, 0.43289366016249886, 0.45217699257536664, 0.44699019362914955, 0.49667067190440745, 0.49895495236223825, 0.5520244720850872, 0.42640170030232005, 0.5032566456702255, 0.48755019844925657, 0.4543614878388709, 0.48746342384751457, 0.4444815779716978, 0.4764146075659471, 0.5232030832694192, 0.5146255155897193, 0.47532717528096524, 0.5085388229015776, 0.5184096660449711, 0.4421829223537456, 0.5200034959885492, 0.39163811465472337, 0.5335095759946537, 0.5346307135534214, 0.3904556172798813, 0.41997737748420805, 0.47200831891508743, 0.5230254064131254, 0.46001059170391023, 0.3731669190177843, 0.49671223737241005, 0.47640583329601205, 0.45973317473268516, 0.4383893904030961, 0.5995213079129068, 0.4621246948054602, 0.4584200977650999, 0.5109721907307104, 0.518312015100626, 0.4216687353414079, 0.4579515417171119, 0.41626159862223716, 0.508089772488016, 0.4877708519424642, 0.42060551681327085, 0.5040746380559049, 0.47966682544525857, 0.4521747987312266, 0.5080918753019767, 0.47639731158055254, 0.54199066378876, 0.5302223330559294, 0.47482091820889955, 0.37840566216139704, 0.4993979557020118, 0.4589169910053916, 0.5365696713311151, 0.49758503077826605, 0.40013203320720886, 0.4592101188271765, 0.5123428262396298, 0.5179622814526312, 0.4033348621013719, 0.45405196788102564, 0.5297154214458137, 0.49929107729899946, 0.39717059904977847, 0.47638862722386094, 0.487413059687109, 0.5007095386363346, 0.4687013909612627, 0.37955888853234065, 0.4620024878897877, 0.45237834428542145, 0.5146481983243253, 0.4947426427667292, 0.5485208436014488, 0.5163422908964722, 0.4258327932552154, 0.46104267893165074, 0.48926578722296216, 0.476240293471435, 0.4356613880579145, 0.4976698973369865, 0.47898597253302755, 0.4763803485171564, 0.45236578157094703, 0.5513524210990802, 0.44731824746817606, 0.5657687985717874, 0.4338247885718664, 0.4310053276625634, 0.4704451532310056, 0.48766127577496826, 0.5077850630579911, 0.5586871311325687, 0.5449693671911778, 0.4737831698113162, 0.40962652963628743, 0.43769421664358915, 0.4174140442998803, 0.4966100196336363, 0.42454106126554214, 0.4763720398022701, 0.48641798186059476, 0.4085920154000984, 0.4913413240090042, 0.4384929132703512, 0.4671283497968718, 0.462833001069735, 0.5836392380710069, 0.5337570015233201, 0.5010847028123278, 0.45115301696726534, 0.4437720010246121, 0.5266201418676624, 0.5100601965796222, 0.49067197223892295, 0.445857902995063, 0.42067968916112924, 0.44773195819039757, 0.476363915922305, 0.41136722371128615, 0.49057294570611654, 0.4032888433473017, 0.4336422144329743, 0.48905006151812175, 0.46835287054889024, 0.5845108926951789, 0.5053146111314233, 0.5375690467976599, 0.48560679032113546, 0.5500551184573778, 0.47855909863438584, 0.46943927964775756, 0.397336759803772, 0.5038790654419761, 0.3936504452465118, 0.5008196021726083, 0.47635575192294394, 0.5222809657250983, 0.4340304648736344, 0.450696820592998, 0.5445093207339957, 0.4480017162244333, 0.48324901181086977, 0.4653828321901138, 0.4515008524779336, 0.4700745106682686, 0.408159370074157, 0.43487596293086767, 0.5819198856956264, 0.4751287470598314, 0.5257756711630348, 0.40257644790637587, 0.49483011404842725, 0.501112295619468, 0.4763476195096827, 0.4033025491024172, 0.39809013236258367, 0.49943296005067195, 0.44815053055791493, 0.46105327999604284, 0.47119944825662463, 0.5329889865973358, 0.46598234216432544, 0.5425378276384059, 0.5222103265648557, 0.5017269418428153, 0.5047705042352073, 0.5117777069512391, 0.453641832927515, 0.4426964074218689, 0.416698683932239, 0.5275377167719095, 0.47633963819184694, 0.4505403194920319, 0.47149018740170584, 0.49109431910515416, 0.42449575545071483, 0.4560793439136542, 0.41064342288748756, 0.48023055534022885, 0.4684144390585662, 0.5559741755583009, 0.504358280002838, 0.5000744161181467, 0.4140992645104797, 0.5598639488175615, 0.44042359124104347, 0.4754419722977255, 0.5268411690688928, 0.4661927731725357, 0.4763318481971177, 0.45347509383849727, 0.48622278272642516, 0.5158869997656219, 0.5035398719476512, 0.47374303816957253, 0.418294199223881, 0.4985965700535773, 0.40352119737772907, 0.48003093598013696, 0.515983171376416, 0.4463846739658034, 0.48358310761728146, 0.5143405854799599, 0.44118579137905806, 0.5049482243659873, 0.4505525170151967, 0.5168904590270139, 0.4763240759689375, 0.5145836902384755, 0.47804780187639856, 0.481852107890484, 0.4746740056386896, 0.5360053505045972, 0.4801773301366806, 0.48971111812894136, 0.4771559272771414, 0.40959699636916036, 0.5559647900247837, 0.4568878234202323, 0.47181635725186366, 0.41052614427241724, 0.5206388468041827, 0.5412215313232559, 0.367916116605224, 0.4167163427876946, 0.4763162674891545, 0.5077888696452053, 0.4881636711415443, 0.5597488266044328, 0.4891735660627692, 0.41246053436183033, 0.5178044391292901, 0.3982017058705084, 0.4964295294207874, 0.3935901975692697, 0.48405794572382554, 0.4473229573189637, 0.44412783015864804, 0.47252066370498513, 0.47087931585982573, 0.5469419967426395, 0.4844769199532821, 0.4581969728491366, 0.47630848335444836, 0.551639463406754, 0.44188674494222224, 0.47127631658865055, 0.49536521851243054, 0.4689832107129915, 0.4608442201186195, 0.42258209184292517, 0.5803820197168406, 0.44686588469438715, 0.4808379400598456, 0.5016823311505724, 0.3717428139900197, 0.5149181343745699, 0.42676773990439854, 0.47064679930608494, 0.4418238298635629, 0.5339070503851824, 0.4763009442614409, 0.5403729215572254, 0.5581854265657413, 0.4951993641646844, 0.4894921463820867, 0.40770809175360495, 0.4162387781198437, 0.4430783666603382, 0.46076074982326104, 0.4278498753713623, 0.5086385976821274, 0.5361222903786209, 0.4992192262428553, 0.4569709225870966, 0.46237010995376077, 0.4625131800602174, 0.4734919523596858, 0.4526055532534049, 0.47629348484704653, 0.3995886045134834, 0.4357633749106985, 0.5311498866157721, 0.41926140362654, 0.44722224582418035, 0.5788906683370927, 0.5685305519418358, 0.4927970997251137, 0.4863774980819371, 0.437620523616125, 0.48479415715596924, 0.45709657217300403, 0.456755152937259, 0.3902860939151924, 0.46249856283113844, 0.5305593130652231, 0.5159916142482266, 0.4762861126229913, 0.45653236968089234, 0.44595364446669433, 0.47374931504796153, 0.473678266219119, 0.4513488572099151, 0.537154138986025, 0.5451353224545405, 0.4986221345783373, 0.5642242750519558, 0.43589853260038175, 0.5009224453949835, 0.4228551193060405, 0.48138895768427936, 0.5248551847135116, 0.4544353629248963, 0.4431530523910317, 0.39656936513816293, 0.47627882389707915, 0.460713325290061, 0.49389408484286407, 0.43975942453188593, 0.4565749656047789, 0.5191800186686842, 0.4533171285125664, 0.459661553800437, 0.5724504695740251, 0.44090473662456714, 0.5062513999901247, 0.5323506340284108, 0.5316959992666515, 0.4721172522596098, 0.4255095672820877, 0.3757910043335951, 0.5098954819909993, 0.42208898526347016, 0.476271789660775, 0.39151502785784614, 0.5490325840863932, 0.45606350911708615, 0.47778164205162177, 0.5195126350530925, 0.49515688744908176, 0.4129244019413927, 0.4044183938391358, 0.5803263043155779, 0.5435319180907878, 0.49292310717397525, 0.43051327005022366, 0.437215223657209, 0.5565391636236723, 0.3987811358690198, 0.4625520349673727, 0.4992225684223574, 0.47626439950103905, 0.47289228888803836, 0.4996206022038686, 0.4728196809197307, 0.43881910147350367, 0.5085773656055309, 0.4479565056306067, 0.5182504496903843, 0.47574401714083875, 0.48670388327961706, 0.40200191361423376, 0.4568835404228919, 0.48761663318262083, 0.5354667237087569, 0.4937458847622897, 0.5074440823193253, 0.433518878711436, 0.4506078030045895, 0.47625723265306646, 0.5108446262169033, 0.49674680819068406, 0.5042423324602369, 0.4340887173879499, 0.40326172880797984, 0.4947379845280143, 0.5223912424125412, 0.4726207341642235, 0.46092412036035496, 0.40749504930156905, 0.42191349265792044, 0.4712004329414826, 0.5156823381942034, 0.4821919720206081, 0.5228613850361031, 0.4651171887386853, 0.5140977997741817, 0.47625007174248596, 0.5524062409226623, 0.42889627254196044, 0.4767013203427711, 0.44290206135862, 0.4563096066497515, 0.4279576946950469, 0.45513668880696473, 0.5380817382760184, 0.48867031020132984, 0.5163707130589907, 0.4979951031193237, 0.42593802578952505, 0.46801598194923744, 0.4705163476289773, 0.46911416208899026, 0.49188546038865605, 0.49584102254497187, 0.4762431090313249, 0.522534641771023, 0.5012811655485868, 0.4702503545891817, 0.42305193489425585, 0.4760174396510536, 0.4732138600366376, 0.4508565565738651, 0.4737351212286265, 0.4754374179988631, 0.48176975494828317, 0.42881675906242445, 0.44056698771995606, 0.5747170420957483, 0.4251717791532263, 0.47763392993425957, 0.5185730585732083, 0.49216220513387093]\n"
     ]
    }
   ],
   "source": [
    "print(error_list1)"
   ]
  },
  {
   "cell_type": "code",
   "execution_count": 64,
   "id": "aaf3c4f6",
   "metadata": {},
   "outputs": [
    {
     "data": {
      "text/plain": [
       "[<matplotlib.lines.Line2D at 0x147369d90>]"
      ]
     },
     "execution_count": 64,
     "metadata": {},
     "output_type": "execute_result"
    },
    {
     "data": {
      "image/png": "[encoded data removed]",
      "text/plain": [
       "<Figure size 432x288 with 1 Axes>"
      ]
     },
     "metadata": {
      "needs_background": "light"
     },
     "output_type": "display_data"
    }
   ],
   "source": [
    "plt.plot(error_list)"
   ]
  },
  {
   "cell_type": "code",
   "execution_count": 65,
   "id": "de882402",
   "metadata": {},
   "outputs": [
    {
     "data": {
      "text/plain": [
       "array([-5.75423677e-04, -2.92490814e-03,  1.69351013e-02, -3.10710459e-03,\n",
       "        5.72072321e-01,  1.85710047e-01, -1.91650330e-01,  5.81331410e-01])"
      ]
     },
     "execution_count": 65,
     "metadata": {},
     "output_type": "execute_result"
    }
   ],
   "source": [
    "theta"
   ]
  },
  {
   "cell_type": "code",
   "execution_count": 95,
   "id": "e30cffd6",
   "metadata": {},
   "outputs": [],
   "source": [
    "y_pred=hypothesis(x_train,theta)"
   ]
  },
  {
   "cell_type": "code",
   "execution_count": 96,
   "id": "59851e3f",
   "metadata": {},
   "outputs": [
    {
     "data": {
      "text/plain": [
       "array([ 0.89479874, -0.66799347, -0.10923151, ...,  0.36912216,\n",
       "        0.46063074,  0.06245026])"
      ]
     },
     "execution_count": 96,
     "metadata": {},
     "output_type": "execute_result"
    }
   ],
   "source": [
    "y_pred"
   ]
  },
  {
   "cell_type": "code",
   "execution_count": 97,
   "id": "ab870f98",
   "metadata": {},
   "outputs": [
    {
     "data": {
      "image/png": "[encoded data removed]",
      "text/plain": [
       "<Figure size 432x288 with 1 Axes>"
      ]
     },
     "metadata": {
      "needs_background": "light"
     },
     "output_type": "display_data"
    }
   ],
   "source": [
    "plt.plot(x_train[:,4],y_pred)\n",
    "plt.show()"
   ]
  },
  {
   "cell_type": "code",
   "execution_count": 89,
   "id": "3f24526e",
   "metadata": {},
   "outputs": [
    {
     "data": {
      "text/plain": [
       "<matplotlib.collections.PathCollection at 0x1689128e0>"
      ]
     },
     "execution_count": 89,
     "metadata": {},
     "output_type": "execute_result"
    },
    {
     "data": {
      "image/png": "[encoded data removed]",
      "text/plain": [
       "<Figure size 432x288 with 1 Axes>"
      ]
     },
     "metadata": {
      "needs_background": "light"
     },
     "output_type": "display_data"
    }
   ],
   "source": [
    "plt.scatter(x[:,4],y)"
   ]
  },
  {
   "cell_type": "code",
   "execution_count": 90,
   "id": "e3faeee2",
   "metadata": {},
   "outputs": [
    {
     "data": {
      "text/plain": [
       "(6818, 8)"
      ]
     },
     "execution_count": 90,
     "metadata": {},
     "output_type": "execute_result"
    }
   ],
   "source": [
    "x_train.shape"
   ]
  },
  {
   "cell_type": "code",
   "execution_count": 74,
   "id": "089bb400",
   "metadata": {},
   "outputs": [
    {
     "data": {
      "text/plain": [
       "(6818,)"
      ]
     },
     "execution_count": 74,
     "metadata": {},
     "output_type": "execute_result"
    }
   ],
   "source": [
    "y_train.shape"
   ]
  },
  {
   "cell_type": "code",
   "execution_count": null,
   "id": "b7d9a1d2",
   "metadata": {},
   "outputs": [],
   "source": []
  },
  {
   "cell_type": "code",
   "execution_count": null,
   "id": "fd7c77a7",
   "metadata": {},
   "outputs": [],
   "source": []
  },
  {
   "cell_type": "code",
   "execution_count": null,
   "id": "80d1473d",
   "metadata": {},
   "outputs": [],
   "source": []
  }
 ],
 "metadata": {
  "kernelspec": {
   "display_name": "Python 3.9 (tensorflow)",
   "language": "python",
   "name": "tensorflow"
  },
  "language_info": {
   "codemirror_mode": {
    "name": "ipython",
    "version": 3
   },
   "file_extension": ".py",
   "mimetype": "text/x-python",
   "name": "python",
   "nbconvert_exporter": "python",
   "pygments_lexer": "ipython3",
   "version": "3.9.7"
  }
 },
 "nbformat": 4,
 "nbformat_minor": 5
}
