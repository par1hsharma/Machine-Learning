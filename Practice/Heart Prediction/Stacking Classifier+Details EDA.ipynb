{
 "cells": [
  {
   "cell_type": "code",
   "execution_count": 362,
   "id": "a41f7de0",
   "metadata": {},
   "outputs": [],
   "source": [
    "import numpy as np\n",
    "import pandas as pd \n",
    "import plotly.express as px"
   ]
  },
  {
   "cell_type": "code",
   "execution_count": 363,
   "id": "0584b636",
   "metadata": {},
   "outputs": [
    {
     "data": {
      "text/html": [
       "<div>\n",
       "<style scoped>\n",
       "    .dataframe tbody tr th:only-of-type {\n",
       "        vertical-align: middle;\n",
       "    }\n",
       "\n",
       "    .dataframe tbody tr th {\n",
       "        vertical-align: top;\n",
       "    }\n",
       "\n",
       "    .dataframe thead th {\n",
       "        text-align: right;\n",
       "    }\n",
       "</style>\n",
       "<table border=\"1\" class=\"dataframe\">\n",
       "  <thead>\n",
       "    <tr style=\"text-align: right;\">\n",
       "      <th></th>\n",
       "      <th>Age</th>\n",
       "      <th>Sex</th>\n",
       "      <th>ChestPainType</th>\n",
       "      <th>RestingBP</th>\n",
       "      <th>Cholesterol</th>\n",
       "      <th>FastingBS</th>\n",
       "      <th>RestingECG</th>\n",
       "      <th>MaxHR</th>\n",
       "      <th>ExerciseAngina</th>\n",
       "      <th>Oldpeak</th>\n",
       "      <th>ST_Slope</th>\n",
       "      <th>HeartDisease</th>\n",
       "    </tr>\n",
       "  </thead>\n",
       "  <tbody>\n",
       "    <tr>\n",
       "      <th>0</th>\n",
       "      <td>40</td>\n",
       "      <td>M</td>\n",
       "      <td>ATA</td>\n",
       "      <td>140</td>\n",
       "      <td>289</td>\n",
       "      <td>0</td>\n",
       "      <td>Normal</td>\n",
       "      <td>172</td>\n",
       "      <td>N</td>\n",
       "      <td>0.0</td>\n",
       "      <td>Up</td>\n",
       "      <td>0</td>\n",
       "    </tr>\n",
       "    <tr>\n",
       "      <th>1</th>\n",
       "      <td>49</td>\n",
       "      <td>F</td>\n",
       "      <td>NAP</td>\n",
       "      <td>160</td>\n",
       "      <td>180</td>\n",
       "      <td>0</td>\n",
       "      <td>Normal</td>\n",
       "      <td>156</td>\n",
       "      <td>N</td>\n",
       "      <td>1.0</td>\n",
       "      <td>Flat</td>\n",
       "      <td>1</td>\n",
       "    </tr>\n",
       "    <tr>\n",
       "      <th>2</th>\n",
       "      <td>37</td>\n",
       "      <td>M</td>\n",
       "      <td>ATA</td>\n",
       "      <td>130</td>\n",
       "      <td>283</td>\n",
       "      <td>0</td>\n",
       "      <td>ST</td>\n",
       "      <td>98</td>\n",
       "      <td>N</td>\n",
       "      <td>0.0</td>\n",
       "      <td>Up</td>\n",
       "      <td>0</td>\n",
       "    </tr>\n",
       "    <tr>\n",
       "      <th>3</th>\n",
       "      <td>48</td>\n",
       "      <td>F</td>\n",
       "      <td>ASY</td>\n",
       "      <td>138</td>\n",
       "      <td>214</td>\n",
       "      <td>0</td>\n",
       "      <td>Normal</td>\n",
       "      <td>108</td>\n",
       "      <td>Y</td>\n",
       "      <td>1.5</td>\n",
       "      <td>Flat</td>\n",
       "      <td>1</td>\n",
       "    </tr>\n",
       "    <tr>\n",
       "      <th>4</th>\n",
       "      <td>54</td>\n",
       "      <td>M</td>\n",
       "      <td>NAP</td>\n",
       "      <td>150</td>\n",
       "      <td>195</td>\n",
       "      <td>0</td>\n",
       "      <td>Normal</td>\n",
       "      <td>122</td>\n",
       "      <td>N</td>\n",
       "      <td>0.0</td>\n",
       "      <td>Up</td>\n",
       "      <td>0</td>\n",
       "    </tr>\n",
       "    <tr>\n",
       "      <th>5</th>\n",
       "      <td>39</td>\n",
       "      <td>M</td>\n",
       "      <td>NAP</td>\n",
       "      <td>120</td>\n",
       "      <td>339</td>\n",
       "      <td>0</td>\n",
       "      <td>Normal</td>\n",
       "      <td>170</td>\n",
       "      <td>N</td>\n",
       "      <td>0.0</td>\n",
       "      <td>Up</td>\n",
       "      <td>0</td>\n",
       "    </tr>\n",
       "    <tr>\n",
       "      <th>6</th>\n",
       "      <td>45</td>\n",
       "      <td>F</td>\n",
       "      <td>ATA</td>\n",
       "      <td>130</td>\n",
       "      <td>237</td>\n",
       "      <td>0</td>\n",
       "      <td>Normal</td>\n",
       "      <td>170</td>\n",
       "      <td>N</td>\n",
       "      <td>0.0</td>\n",
       "      <td>Up</td>\n",
       "      <td>0</td>\n",
       "    </tr>\n",
       "    <tr>\n",
       "      <th>7</th>\n",
       "      <td>54</td>\n",
       "      <td>M</td>\n",
       "      <td>ATA</td>\n",
       "      <td>110</td>\n",
       "      <td>208</td>\n",
       "      <td>0</td>\n",
       "      <td>Normal</td>\n",
       "      <td>142</td>\n",
       "      <td>N</td>\n",
       "      <td>0.0</td>\n",
       "      <td>Up</td>\n",
       "      <td>0</td>\n",
       "    </tr>\n",
       "    <tr>\n",
       "      <th>8</th>\n",
       "      <td>37</td>\n",
       "      <td>M</td>\n",
       "      <td>ASY</td>\n",
       "      <td>140</td>\n",
       "      <td>207</td>\n",
       "      <td>0</td>\n",
       "      <td>Normal</td>\n",
       "      <td>130</td>\n",
       "      <td>Y</td>\n",
       "      <td>1.5</td>\n",
       "      <td>Flat</td>\n",
       "      <td>1</td>\n",
       "    </tr>\n",
       "    <tr>\n",
       "      <th>9</th>\n",
       "      <td>48</td>\n",
       "      <td>F</td>\n",
       "      <td>ATA</td>\n",
       "      <td>120</td>\n",
       "      <td>284</td>\n",
       "      <td>0</td>\n",
       "      <td>Normal</td>\n",
       "      <td>120</td>\n",
       "      <td>N</td>\n",
       "      <td>0.0</td>\n",
       "      <td>Up</td>\n",
       "      <td>0</td>\n",
       "    </tr>\n",
       "  </tbody>\n",
       "</table>\n",
       "</div>"
      ],
      "text/plain": [
       "   Age Sex ChestPainType  RestingBP  Cholesterol  FastingBS RestingECG  MaxHR  \\\n",
       "0   40   M           ATA        140          289          0     Normal    172   \n",
       "1   49   F           NAP        160          180          0     Normal    156   \n",
       "2   37   M           ATA        130          283          0         ST     98   \n",
       "3   48   F           ASY        138          214          0     Normal    108   \n",
       "4   54   M           NAP        150          195          0     Normal    122   \n",
       "5   39   M           NAP        120          339          0     Normal    170   \n",
       "6   45   F           ATA        130          237          0     Normal    170   \n",
       "7   54   M           ATA        110          208          0     Normal    142   \n",
       "8   37   M           ASY        140          207          0     Normal    130   \n",
       "9   48   F           ATA        120          284          0     Normal    120   \n",
       "\n",
       "  ExerciseAngina  Oldpeak ST_Slope  HeartDisease  \n",
       "0              N      0.0       Up             0  \n",
       "1              N      1.0     Flat             1  \n",
       "2              N      0.0       Up             0  \n",
       "3              Y      1.5     Flat             1  \n",
       "4              N      0.0       Up             0  \n",
       "5              N      0.0       Up             0  \n",
       "6              N      0.0       Up             0  \n",
       "7              N      0.0       Up             0  \n",
       "8              Y      1.5     Flat             1  \n",
       "9              N      0.0       Up             0  "
      ]
     },
     "execution_count": 363,
     "metadata": {},
     "output_type": "execute_result"
    }
   ],
   "source": [
    "df=pd.read_csv('heart.csv')\n",
    "df.head(n=10)"
   ]
  },
  {
   "cell_type": "code",
   "execution_count": 364,
   "id": "7b3daa76",
   "metadata": {},
   "outputs": [
    {
     "data": {
      "text/plain": [
       "(918, 12)"
      ]
     },
     "execution_count": 364,
     "metadata": {},
     "output_type": "execute_result"
    }
   ],
   "source": [
    "df.shape"
   ]
  },
  {
   "cell_type": "code",
   "execution_count": 365,
   "id": "f06c082b",
   "metadata": {},
   "outputs": [
    {
     "name": "stdout",
     "output_type": "stream",
     "text": [
      "<class 'pandas.core.frame.DataFrame'>\n",
      "RangeIndex: 918 entries, 0 to 917\n",
      "Data columns (total 12 columns):\n",
      " #   Column          Non-Null Count  Dtype  \n",
      "---  ------          --------------  -----  \n",
      " 0   Age             918 non-null    int64  \n",
      " 1   Sex             918 non-null    object \n",
      " 2   ChestPainType   918 non-null    object \n",
      " 3   RestingBP       918 non-null    int64  \n",
      " 4   Cholesterol     918 non-null    int64  \n",
      " 5   FastingBS       918 non-null    int64  \n",
      " 6   RestingECG      918 non-null    object \n",
      " 7   MaxHR           918 non-null    int64  \n",
      " 8   ExerciseAngina  918 non-null    object \n",
      " 9   Oldpeak         918 non-null    float64\n",
      " 10  ST_Slope        918 non-null    object \n",
      " 11  HeartDisease    918 non-null    int64  \n",
      "dtypes: float64(1), int64(6), object(5)\n",
      "memory usage: 86.2+ KB\n"
     ]
    }
   ],
   "source": [
    "df.info()"
   ]
  },
  {
   "cell_type": "markdown",
   "id": "643b4f61",
   "metadata": {},
   "source": [
    "### Detailed Exploratory Data Analysis "
   ]
  },
  {
   "cell_type": "markdown",
   "id": "4ff4dd89",
   "metadata": {},
   "source": [
    "### 1.Count of Each Sex"
   ]
  },
  {
   "cell_type": "code",
   "execution_count": 366,
   "id": "5a94c87d",
   "metadata": {},
   "outputs": [
    {
     "data": {
      "application/vnd.plotly.v1+json": {
       "config": {
        "plotlyServerURL": "https://plot.ly"
       },
       "data": [
        {
         "domain": {
          "x": [
           0,
           1
          ],
          "y": [
           0,
           1
          ]
         },
         "hole": 0.5,
         "hovertemplate": "Sex=%{label}<extra></extra>",
         "labels": [
          "M",
          "F",
          "M",
          "F",
          "M",
          "M",
          "F",
          "M",
          "M",
          "F",
          "F",
          "M",
          "M",
          "M",
          "F",
          "F",
          "M",
          "F",
          "M",
          "M",
          "F",
          "M",
          "F",
          "M",
          "M",
          "M",
          "M",
          "M",
          "F",
          "M",
          "M",
          "M",
          "M",
          "M",
          "F",
          "M",
          "M",
          "F",
          "F",
          "F",
          "F",
          "F",
          "M",
          "M",
          "M",
          "M",
          "M",
          "M",
          "M",
          "M",
          "M",
          "F",
          "M",
          "F",
          "F",
          "F",
          "M",
          "M",
          "M",
          "M",
          "M",
          "F",
          "M",
          "M",
          "F",
          "F",
          "F",
          "M",
          "M",
          "M",
          "M",
          "M",
          "M",
          "F",
          "M",
          "M",
          "M",
          "F",
          "M",
          "M",
          "M",
          "M",
          "M",
          "M",
          "M",
          "M",
          "M",
          "F",
          "M",
          "M",
          "F",
          "M",
          "F",
          "M",
          "F",
          "M",
          "M",
          "M",
          "M",
          "M",
          "M",
          "M",
          "F",
          "M",
          "M",
          "M",
          "F",
          "M",
          "M",
          "M",
          "F",
          "M",
          "M",
          "M",
          "F",
          "F",
          "M",
          "F",
          "F",
          "M",
          "F",
          "F",
          "M",
          "F",
          "M",
          "M",
          "F",
          "F",
          "F",
          "M",
          "M",
          "M",
          "M",
          "M",
          "F",
          "M",
          "F",
          "M",
          "M",
          "M",
          "M",
          "M",
          "M",
          "M",
          "F",
          "M",
          "M",
          "F",
          "M",
          "M",
          "M",
          "M",
          "M",
          "M",
          "M",
          "M",
          "M",
          "M",
          "M",
          "M",
          "M",
          "M",
          "M",
          "M",
          "F",
          "M",
          "M",
          "M",
          "M",
          "M",
          "M",
          "M",
          "M",
          "M",
          "M",
          "M",
          "M",
          "M",
          "M",
          "F",
          "M",
          "M",
          "M",
          "M",
          "F",
          "M",
          "M",
          "M",
          "F",
          "M",
          "M",
          "M",
          "M",
          "M",
          "F",
          "F",
          "M",
          "M",
          "M",
          "F",
          "M",
          "M",
          "M",
          "F",
          "M",
          "M",
          "M",
          "M",
          "M",
          "M",
          "M",
          "F",
          "M",
          "F",
          "M",
          "F",
          "M",
          "M",
          "M",
          "M",
          "M",
          "F",
          "F",
          "M",
          "M",
          "M",
          "M",
          "M",
          "M",
          "F",
          "M",
          "M",
          "F",
          "M",
          "F",
          "M",
          "M",
          "M",
          "M",
          "M",
          "M",
          "M",
          "M",
          "F",
          "M",
          "M",
          "M",
          "M",
          "M",
          "M",
          "M",
          "M",
          "M",
          "M",
          "M",
          "F",
          "F",
          "M",
          "F",
          "F",
          "M",
          "F",
          "M",
          "M",
          "M",
          "M",
          "M",
          "M",
          "M",
          "F",
          "M",
          "F",
          "M",
          "M",
          "F",
          "M",
          "M",
          "M",
          "F",
          "F",
          "M",
          "M",
          "F",
          "F",
          "M",
          "F",
          "M",
          "M",
          "F",
          "M",
          "M",
          "F",
          "M",
          "M",
          "M",
          "M",
          "M",
          "M",
          "M",
          "M",
          "M",
          "M",
          "M",
          "F",
          "M",
          "F",
          "M",
          "M",
          "M",
          "M",
          "M",
          "M",
          "M",
          "M",
          "M",
          "M",
          "M",
          "M",
          "M",
          "M",
          "M",
          "M",
          "F",
          "M",
          "M",
          "M",
          "M",
          "M",
          "M",
          "M",
          "M",
          "M",
          "M",
          "M",
          "M",
          "M",
          "M",
          "M",
          "M",
          "F",
          "M",
          "M",
          "M",
          "M",
          "M",
          "M",
          "M",
          "M",
          "M",
          "M",
          "M",
          "M",
          "M",
          "M",
          "M",
          "M",
          "M",
          "M",
          "M",
          "M",
          "M",
          "M",
          "M",
          "M",
          "M",
          "F",
          "M",
          "M",
          "M",
          "M",
          "M",
          "M",
          "M",
          "M",
          "M",
          "F",
          "M",
          "M",
          "M",
          "M",
          "M",
          "M",
          "M",
          "F",
          "M",
          "M",
          "M",
          "M",
          "M",
          "M",
          "M",
          "M",
          "M",
          "M",
          "M",
          "M",
          "F",
          "M",
          "M",
          "M",
          "F",
          "M",
          "M",
          "M",
          "M",
          "M",
          "M",
          "M",
          "M",
          "M",
          "M",
          "M",
          "M",
          "M",
          "M",
          "F",
          "M",
          "M",
          "M",
          "M",
          "M",
          "M",
          "M",
          "M",
          "M",
          "M",
          "M",
          "M",
          "M",
          "M",
          "M",
          "M",
          "M",
          "M",
          "M",
          "M",
          "M",
          "M",
          "M",
          "M",
          "M",
          "M",
          "M",
          "M",
          "M",
          "M",
          "M",
          "M",
          "M",
          "M",
          "M",
          "M",
          "M",
          "M",
          "M",
          "M",
          "M",
          "M",
          "M",
          "M",
          "M",
          "M",
          "M",
          "M",
          "M",
          "M",
          "M",
          "F",
          "M",
          "M",
          "M",
          "M",
          "M",
          "M",
          "M",
          "M",
          "M",
          "M",
          "M",
          "M",
          "M",
          "M",
          "M",
          "M",
          "M",
          "M",
          "M",
          "M",
          "M",
          "M",
          "M",
          "M",
          "M",
          "M",
          "M",
          "F",
          "M",
          "M",
          "M",
          "M",
          "M",
          "M",
          "M",
          "M",
          "M",
          "M",
          "M",
          "M",
          "M",
          "M",
          "M",
          "M",
          "M",
          "M",
          "M",
          "M",
          "M",
          "M",
          "M",
          "M",
          "M",
          "M",
          "M",
          "M",
          "M",
          "M",
          "M",
          "M",
          "M",
          "M",
          "M",
          "M",
          "M",
          "M",
          "M",
          "M",
          "M",
          "M",
          "M",
          "M",
          "M",
          "M",
          "F",
          "M",
          "F",
          "M",
          "M",
          "M",
          "M",
          "M",
          "M",
          "M",
          "M",
          "M",
          "M",
          "M",
          "M",
          "M",
          "M",
          "M",
          "M",
          "M",
          "M",
          "M",
          "M",
          "M",
          "M",
          "M",
          "M",
          "M",
          "M",
          "M",
          "M",
          "M",
          "M",
          "M",
          "M",
          "M",
          "M",
          "M",
          "M",
          "M",
          "M",
          "M",
          "M",
          "M",
          "M",
          "M",
          "M",
          "M",
          "M",
          "M",
          "M",
          "M",
          "M",
          "M",
          "M",
          "M",
          "M",
          "M",
          "M",
          "M",
          "M",
          "M",
          "M",
          "F",
          "M",
          "M",
          "M",
          "M",
          "F",
          "M",
          "M",
          "M",
          "M",
          "M",
          "F",
          "M",
          "M",
          "F",
          "M",
          "M",
          "M",
          "M",
          "F",
          "M",
          "M",
          "M",
          "M",
          "F",
          "F",
          "M",
          "M",
          "M",
          "M",
          "M",
          "M",
          "M",
          "M",
          "F",
          "F",
          "F",
          "F",
          "M",
          "F",
          "M",
          "M",
          "F",
          "M",
          "M",
          "M",
          "M",
          "M",
          "M",
          "M",
          "M",
          "F",
          "M",
          "M",
          "M",
          "M",
          "M",
          "M",
          "M",
          "F",
          "M",
          "M",
          "F",
          "F",
          "F",
          "F",
          "M",
          "F",
          "F",
          "M",
          "M",
          "F",
          "M",
          "F",
          "M",
          "M",
          "M",
          "F",
          "F",
          "M",
          "M",
          "F",
          "M",
          "F",
          "F",
          "M",
          "M",
          "F",
          "F",
          "M",
          "M",
          "M",
          "M",
          "M",
          "M",
          "M",
          "M",
          "M",
          "F",
          "M",
          "M",
          "F",
          "M",
          "M",
          "M",
          "M",
          "M",
          "M",
          "F",
          "F",
          "F",
          "M",
          "F",
          "M",
          "M",
          "M",
          "M",
          "F",
          "M",
          "F",
          "F",
          "M",
          "F",
          "F",
          "M",
          "F",
          "M",
          "F",
          "F",
          "M",
          "M",
          "M",
          "M",
          "F",
          "M",
          "F",
          "M",
          "F",
          "M",
          "M",
          "F",
          "M",
          "M",
          "M",
          "M",
          "F",
          "F",
          "M",
          "F",
          "M",
          "M",
          "M",
          "M",
          "M",
          "M",
          "M",
          "M",
          "M",
          "M",
          "F",
          "M",
          "F",
          "F",
          "F",
          "F",
          "F",
          "M",
          "M",
          "M",
          "F",
          "M",
          "F",
          "M",
          "M",
          "M",
          "F",
          "F",
          "M",
          "F",
          "M",
          "M",
          "M",
          "M",
          "F",
          "M",
          "F",
          "M",
          "M",
          "M",
          "M",
          "M",
          "F",
          "M",
          "F",
          "M",
          "M",
          "M",
          "M",
          "F",
          "M",
          "M",
          "M",
          "M",
          "M",
          "M",
          "F",
          "F",
          "F",
          "F",
          "M",
          "M",
          "M",
          "M",
          "M",
          "M",
          "M",
          "F",
          "M",
          "M",
          "M",
          "M",
          "M",
          "F",
          "M",
          "M",
          "F",
          "F",
          "M",
          "M",
          "M",
          "M",
          "M",
          "M",
          "M",
          "F",
          "M",
          "F",
          "F",
          "F",
          "M",
          "F",
          "M",
          "M",
          "M",
          "M",
          "F",
          "F",
          "M",
          "M",
          "M",
          "M",
          "M",
          "F",
          "F",
          "F",
          "M",
          "M",
          "F",
          "M",
          "M",
          "M",
          "M",
          "M",
          "M",
          "M",
          "F",
          "M",
          "M",
          "M",
          "M",
          "F",
          "M",
          "M",
          "M",
          "M",
          "M",
          "M",
          "F",
          "M",
          "M",
          "F",
          "M",
          "M",
          "M",
          "M",
          "M",
          "F",
          "F",
          "M",
          "F",
          "M",
          "M",
          "F",
          "M",
          "M",
          "M",
          "F",
          "M",
          "M",
          "M",
          "M",
          "F",
          "M",
          "M",
          "F",
          "M",
          "M",
          "F",
          "M",
          "M",
          "M",
          "F",
          "M"
         ],
         "legendgroup": "",
         "marker": {
          "line": {
           "color": "#000000",
           "width": 1.5
          }
         },
         "name": "",
         "showlegend": true,
         "textinfo": "percent+label",
         "textposition": "inside",
         "type": "pie"
        }
       ],
       "layout": {
        "legend": {
         "tracegroupgap": 0
        },
        "margin": {
         "t": 60
        },
        "template": {
         "data": {
          "bar": [
           {
            "error_x": {
             "color": "#2a3f5f"
            },
            "error_y": {
             "color": "#2a3f5f"
            },
            "marker": {
             "line": {
              "color": "#E5ECF6",
              "width": 0.5
             },
             "pattern": {
              "fillmode": "overlay",
              "size": 10,
              "solidity": 0.2
             }
            },
            "type": "bar"
           }
          ],
          "barpolar": [
           {
            "marker": {
             "line": {
              "color": "#E5ECF6",
              "width": 0.5
             },
             "pattern": {
              "fillmode": "overlay",
              "size": 10,
              "solidity": 0.2
             }
            },
            "type": "barpolar"
           }
          ],
          "carpet": [
           {
            "aaxis": {
             "endlinecolor": "#2a3f5f",
             "gridcolor": "white",
             "linecolor": "white",
             "minorgridcolor": "white",
             "startlinecolor": "#2a3f5f"
            },
            "baxis": {
             "endlinecolor": "#2a3f5f",
             "gridcolor": "white",
             "linecolor": "white",
             "minorgridcolor": "white",
             "startlinecolor": "#2a3f5f"
            },
            "type": "carpet"
           }
          ],
          "choropleth": [
           {
            "colorbar": {
             "outlinewidth": 0,
             "ticks": ""
            },
            "type": "choropleth"
           }
          ],
          "contour": [
           {
            "colorbar": {
             "outlinewidth": 0,
             "ticks": ""
            },
            "colorscale": [
             [
              0,
              "#0d0887"
             ],
             [
              0.1111111111111111,
              "#46039f"
             ],
             [
              0.2222222222222222,
              "#7201a8"
             ],
             [
              0.3333333333333333,
              "#9c179e"
             ],
             [
              0.4444444444444444,
              "#bd3786"
             ],
             [
              0.5555555555555556,
              "#d8576b"
             ],
             [
              0.6666666666666666,
              "#ed7953"
             ],
             [
              0.7777777777777778,
              "#fb9f3a"
             ],
             [
              0.8888888888888888,
              "#fdca26"
             ],
             [
              1,
              "#f0f921"
             ]
            ],
            "type": "contour"
           }
          ],
          "contourcarpet": [
           {
            "colorbar": {
             "outlinewidth": 0,
             "ticks": ""
            },
            "type": "contourcarpet"
           }
          ],
          "heatmap": [
           {
            "colorbar": {
             "outlinewidth": 0,
             "ticks": ""
            },
            "colorscale": [
             [
              0,
              "#0d0887"
             ],
             [
              0.1111111111111111,
              "#46039f"
             ],
             [
              0.2222222222222222,
              "#7201a8"
             ],
             [
              0.3333333333333333,
              "#9c179e"
             ],
             [
              0.4444444444444444,
              "#bd3786"
             ],
             [
              0.5555555555555556,
              "#d8576b"
             ],
             [
              0.6666666666666666,
              "#ed7953"
             ],
             [
              0.7777777777777778,
              "#fb9f3a"
             ],
             [
              0.8888888888888888,
              "#fdca26"
             ],
             [
              1,
              "#f0f921"
             ]
            ],
            "type": "heatmap"
           }
          ],
          "heatmapgl": [
           {
            "colorbar": {
             "outlinewidth": 0,
             "ticks": ""
            },
            "colorscale": [
             [
              0,
              "#0d0887"
             ],
             [
              0.1111111111111111,
              "#46039f"
             ],
             [
              0.2222222222222222,
              "#7201a8"
             ],
             [
              0.3333333333333333,
              "#9c179e"
             ],
             [
              0.4444444444444444,
              "#bd3786"
             ],
             [
              0.5555555555555556,
              "#d8576b"
             ],
             [
              0.6666666666666666,
              "#ed7953"
             ],
             [
              0.7777777777777778,
              "#fb9f3a"
             ],
             [
              0.8888888888888888,
              "#fdca26"
             ],
             [
              1,
              "#f0f921"
             ]
            ],
            "type": "heatmapgl"
           }
          ],
          "histogram": [
           {
            "marker": {
             "pattern": {
              "fillmode": "overlay",
              "size": 10,
              "solidity": 0.2
             }
            },
            "type": "histogram"
           }
          ],
          "histogram2d": [
           {
            "colorbar": {
             "outlinewidth": 0,
             "ticks": ""
            },
            "colorscale": [
             [
              0,
              "#0d0887"
             ],
             [
              0.1111111111111111,
              "#46039f"
             ],
             [
              0.2222222222222222,
              "#7201a8"
             ],
             [
              0.3333333333333333,
              "#9c179e"
             ],
             [
              0.4444444444444444,
              "#bd3786"
             ],
             [
              0.5555555555555556,
              "#d8576b"
             ],
             [
              0.6666666666666666,
              "#ed7953"
             ],
             [
              0.7777777777777778,
              "#fb9f3a"
             ],
             [
              0.8888888888888888,
              "#fdca26"
             ],
             [
              1,
              "#f0f921"
             ]
            ],
            "type": "histogram2d"
           }
          ],
          "histogram2dcontour": [
           {
            "colorbar": {
             "outlinewidth": 0,
             "ticks": ""
            },
            "colorscale": [
             [
              0,
              "#0d0887"
             ],
             [
              0.1111111111111111,
              "#46039f"
             ],
             [
              0.2222222222222222,
              "#7201a8"
             ],
             [
              0.3333333333333333,
              "#9c179e"
             ],
             [
              0.4444444444444444,
              "#bd3786"
             ],
             [
              0.5555555555555556,
              "#d8576b"
             ],
             [
              0.6666666666666666,
              "#ed7953"
             ],
             [
              0.7777777777777778,
              "#fb9f3a"
             ],
             [
              0.8888888888888888,
              "#fdca26"
             ],
             [
              1,
              "#f0f921"
             ]
            ],
            "type": "histogram2dcontour"
           }
          ],
          "mesh3d": [
           {
            "colorbar": {
             "outlinewidth": 0,
             "ticks": ""
            },
            "type": "mesh3d"
           }
          ],
          "parcoords": [
           {
            "line": {
             "colorbar": {
              "outlinewidth": 0,
              "ticks": ""
             }
            },
            "type": "parcoords"
           }
          ],
          "pie": [
           {
            "automargin": true,
            "type": "pie"
           }
          ],
          "scatter": [
           {
            "marker": {
             "colorbar": {
              "outlinewidth": 0,
              "ticks": ""
             }
            },
            "type": "scatter"
           }
          ],
          "scatter3d": [
           {
            "line": {
             "colorbar": {
              "outlinewidth": 0,
              "ticks": ""
             }
            },
            "marker": {
             "colorbar": {
              "outlinewidth": 0,
              "ticks": ""
             }
            },
            "type": "scatter3d"
           }
          ],
          "scattercarpet": [
           {
            "marker": {
             "colorbar": {
              "outlinewidth": 0,
              "ticks": ""
             }
            },
            "type": "scattercarpet"
           }
          ],
          "scattergeo": [
           {
            "marker": {
             "colorbar": {
              "outlinewidth": 0,
              "ticks": ""
             }
            },
            "type": "scattergeo"
           }
          ],
          "scattergl": [
           {
            "marker": {
             "colorbar": {
              "outlinewidth": 0,
              "ticks": ""
             }
            },
            "type": "scattergl"
           }
          ],
          "scattermapbox": [
           {
            "marker": {
             "colorbar": {
              "outlinewidth": 0,
              "ticks": ""
             }
            },
            "type": "scattermapbox"
           }
          ],
          "scatterpolar": [
           {
            "marker": {
             "colorbar": {
              "outlinewidth": 0,
              "ticks": ""
             }
            },
            "type": "scatterpolar"
           }
          ],
          "scatterpolargl": [
           {
            "marker": {
             "colorbar": {
              "outlinewidth": 0,
              "ticks": ""
             }
            },
            "type": "scatterpolargl"
           }
          ],
          "scatterternary": [
           {
            "marker": {
             "colorbar": {
              "outlinewidth": 0,
              "ticks": ""
             }
            },
            "type": "scatterternary"
           }
          ],
          "surface": [
           {
            "colorbar": {
             "outlinewidth": 0,
             "ticks": ""
            },
            "colorscale": [
             [
              0,
              "#0d0887"
             ],
             [
              0.1111111111111111,
              "#46039f"
             ],
             [
              0.2222222222222222,
              "#7201a8"
             ],
             [
              0.3333333333333333,
              "#9c179e"
             ],
             [
              0.4444444444444444,
              "#bd3786"
             ],
             [
              0.5555555555555556,
              "#d8576b"
             ],
             [
              0.6666666666666666,
              "#ed7953"
             ],
             [
              0.7777777777777778,
              "#fb9f3a"
             ],
             [
              0.8888888888888888,
              "#fdca26"
             ],
             [
              1,
              "#f0f921"
             ]
            ],
            "type": "surface"
           }
          ],
          "table": [
           {
            "cells": {
             "fill": {
              "color": "#EBF0F8"
             },
             "line": {
              "color": "white"
             }
            },
            "header": {
             "fill": {
              "color": "#C8D4E3"
             },
             "line": {
              "color": "white"
             }
            },
            "type": "table"
           }
          ]
         },
         "layout": {
          "annotationdefaults": {
           "arrowcolor": "#2a3f5f",
           "arrowhead": 0,
           "arrowwidth": 1
          },
          "autotypenumbers": "strict",
          "coloraxis": {
           "colorbar": {
            "outlinewidth": 0,
            "ticks": ""
           }
          },
          "colorscale": {
           "diverging": [
            [
             0,
             "#8e0152"
            ],
            [
             0.1,
             "#c51b7d"
            ],
            [
             0.2,
             "#de77ae"
            ],
            [
             0.3,
             "#f1b6da"
            ],
            [
             0.4,
             "#fde0ef"
            ],
            [
             0.5,
             "#f7f7f7"
            ],
            [
             0.6,
             "#e6f5d0"
            ],
            [
             0.7,
             "#b8e186"
            ],
            [
             0.8,
             "#7fbc41"
            ],
            [
             0.9,
             "#4d9221"
            ],
            [
             1,
             "#276419"
            ]
           ],
           "sequential": [
            [
             0,
             "#0d0887"
            ],
            [
             0.1111111111111111,
             "#46039f"
            ],
            [
             0.2222222222222222,
             "#7201a8"
            ],
            [
             0.3333333333333333,
             "#9c179e"
            ],
            [
             0.4444444444444444,
             "#bd3786"
            ],
            [
             0.5555555555555556,
             "#d8576b"
            ],
            [
             0.6666666666666666,
             "#ed7953"
            ],
            [
             0.7777777777777778,
             "#fb9f3a"
            ],
            [
             0.8888888888888888,
             "#fdca26"
            ],
            [
             1,
             "#f0f921"
            ]
           ],
           "sequentialminus": [
            [
             0,
             "#0d0887"
            ],
            [
             0.1111111111111111,
             "#46039f"
            ],
            [
             0.2222222222222222,
             "#7201a8"
            ],
            [
             0.3333333333333333,
             "#9c179e"
            ],
            [
             0.4444444444444444,
             "#bd3786"
            ],
            [
             0.5555555555555556,
             "#d8576b"
            ],
            [
             0.6666666666666666,
             "#ed7953"
            ],
            [
             0.7777777777777778,
             "#fb9f3a"
            ],
            [
             0.8888888888888888,
             "#fdca26"
            ],
            [
             1,
             "#f0f921"
            ]
           ]
          },
          "colorway": [
           "#636efa",
           "#EF553B",
           "#00cc96",
           "#ab63fa",
           "#FFA15A",
           "#19d3f3",
           "#FF6692",
           "#B6E880",
           "#FF97FF",
           "#FECB52"
          ],
          "font": {
           "color": "#2a3f5f"
          },
          "geo": {
           "bgcolor": "white",
           "lakecolor": "white",
           "landcolor": "#E5ECF6",
           "showlakes": true,
           "showland": true,
           "subunitcolor": "white"
          },
          "hoverlabel": {
           "align": "left"
          },
          "hovermode": "closest",
          "mapbox": {
           "style": "light"
          },
          "paper_bgcolor": "white",
          "plot_bgcolor": "#E5ECF6",
          "polar": {
           "angularaxis": {
            "gridcolor": "white",
            "linecolor": "white",
            "ticks": ""
           },
           "bgcolor": "#E5ECF6",
           "radialaxis": {
            "gridcolor": "white",
            "linecolor": "white",
            "ticks": ""
           }
          },
          "scene": {
           "xaxis": {
            "backgroundcolor": "#E5ECF6",
            "gridcolor": "white",
            "gridwidth": 2,
            "linecolor": "white",
            "showbackground": true,
            "ticks": "",
            "zerolinecolor": "white"
           },
           "yaxis": {
            "backgroundcolor": "#E5ECF6",
            "gridcolor": "white",
            "gridwidth": 2,
            "linecolor": "white",
            "showbackground": true,
            "ticks": "",
            "zerolinecolor": "white"
           },
           "zaxis": {
            "backgroundcolor": "#E5ECF6",
            "gridcolor": "white",
            "gridwidth": 2,
            "linecolor": "white",
            "showbackground": true,
            "ticks": "",
            "zerolinecolor": "white"
           }
          },
          "shapedefaults": {
           "line": {
            "color": "#2a3f5f"
           }
          },
          "ternary": {
           "aaxis": {
            "gridcolor": "white",
            "linecolor": "white",
            "ticks": ""
           },
           "baxis": {
            "gridcolor": "white",
            "linecolor": "white",
            "ticks": ""
           },
           "bgcolor": "#E5ECF6",
           "caxis": {
            "gridcolor": "white",
            "linecolor": "white",
            "ticks": ""
           }
          },
          "title": {
           "x": 0.05
          },
          "xaxis": {
           "automargin": true,
           "gridcolor": "white",
           "linecolor": "white",
           "ticks": "",
           "title": {
            "standoff": 15
           },
           "zerolinecolor": "white",
           "zerolinewidth": 2
          },
          "yaxis": {
           "automargin": true,
           "gridcolor": "white",
           "linecolor": "white",
           "ticks": "",
           "title": {
            "standoff": 15
           },
           "zerolinecolor": "white",
           "zerolinewidth": 2
          }
         }
        }
       }
      },
      "text/html": [
       "<div>                            <div id=\"bceea647-435e-491a-899a-fe4c4c9c7379\" class=\"plotly-graph-div\" style=\"height:525px; width:100%;\"></div>            <script type=\"text/javascript\">                require([\"plotly\"], function(Plotly) {                    window.PLOTLYENV=window.PLOTLYENV || {};                                    if (document.getElementById(\"bceea647-435e-491a-899a-fe4c4c9c7379\")) {                    Plotly.newPlot(                        \"bceea647-435e-491a-899a-fe4c4c9c7379\",                        [{\"domain\":{\"x\":[0.0,1.0],\"y\":[0.0,1.0]},\"hole\":0.5,\"hovertemplate\":\"Sex=%{label}<extra></extra>\",\"labels\":[\"M\",\"F\",\"M\",\"F\",\"M\",\"M\",\"F\",\"M\",\"M\",\"F\",\"F\",\"M\",\"M\",\"M\",\"F\",\"F\",\"M\",\"F\",\"M\",\"M\",\"F\",\"M\",\"F\",\"M\",\"M\",\"M\",\"M\",\"M\",\"F\",\"M\",\"M\",\"M\",\"M\",\"M\",\"F\",\"M\",\"M\",\"F\",\"F\",\"F\",\"F\",\"F\",\"M\",\"M\",\"M\",\"M\",\"M\",\"M\",\"M\",\"M\",\"M\",\"F\",\"M\",\"F\",\"F\",\"F\",\"M\",\"M\",\"M\",\"M\",\"M\",\"F\",\"M\",\"M\",\"F\",\"F\",\"F\",\"M\",\"M\",\"M\",\"M\",\"M\",\"M\",\"F\",\"M\",\"M\",\"M\",\"F\",\"M\",\"M\",\"M\",\"M\",\"M\",\"M\",\"M\",\"M\",\"M\",\"F\",\"M\",\"M\",\"F\",\"M\",\"F\",\"M\",\"F\",\"M\",\"M\",\"M\",\"M\",\"M\",\"M\",\"M\",\"F\",\"M\",\"M\",\"M\",\"F\",\"M\",\"M\",\"M\",\"F\",\"M\",\"M\",\"M\",\"F\",\"F\",\"M\",\"F\",\"F\",\"M\",\"F\",\"F\",\"M\",\"F\",\"M\",\"M\",\"F\",\"F\",\"F\",\"M\",\"M\",\"M\",\"M\",\"M\",\"F\",\"M\",\"F\",\"M\",\"M\",\"M\",\"M\",\"M\",\"M\",\"M\",\"F\",\"M\",\"M\",\"F\",\"M\",\"M\",\"M\",\"M\",\"M\",\"M\",\"M\",\"M\",\"M\",\"M\",\"M\",\"M\",\"M\",\"M\",\"M\",\"M\",\"F\",\"M\",\"M\",\"M\",\"M\",\"M\",\"M\",\"M\",\"M\",\"M\",\"M\",\"M\",\"M\",\"M\",\"M\",\"F\",\"M\",\"M\",\"M\",\"M\",\"F\",\"M\",\"M\",\"M\",\"F\",\"M\",\"M\",\"M\",\"M\",\"M\",\"F\",\"F\",\"M\",\"M\",\"M\",\"F\",\"M\",\"M\",\"M\",\"F\",\"M\",\"M\",\"M\",\"M\",\"M\",\"M\",\"M\",\"F\",\"M\",\"F\",\"M\",\"F\",\"M\",\"M\",\"M\",\"M\",\"M\",\"F\",\"F\",\"M\",\"M\",\"M\",\"M\",\"M\",\"M\",\"F\",\"M\",\"M\",\"F\",\"M\",\"F\",\"M\",\"M\",\"M\",\"M\",\"M\",\"M\",\"M\",\"M\",\"F\",\"M\",\"M\",\"M\",\"M\",\"M\",\"M\",\"M\",\"M\",\"M\",\"M\",\"M\",\"F\",\"F\",\"M\",\"F\",\"F\",\"M\",\"F\",\"M\",\"M\",\"M\",\"M\",\"M\",\"M\",\"M\",\"F\",\"M\",\"F\",\"M\",\"M\",\"F\",\"M\",\"M\",\"M\",\"F\",\"F\",\"M\",\"M\",\"F\",\"F\",\"M\",\"F\",\"M\",\"M\",\"F\",\"M\",\"M\",\"F\",\"M\",\"M\",\"M\",\"M\",\"M\",\"M\",\"M\",\"M\",\"M\",\"M\",\"M\",\"F\",\"M\",\"F\",\"M\",\"M\",\"M\",\"M\",\"M\",\"M\",\"M\",\"M\",\"M\",\"M\",\"M\",\"M\",\"M\",\"M\",\"M\",\"M\",\"F\",\"M\",\"M\",\"M\",\"M\",\"M\",\"M\",\"M\",\"M\",\"M\",\"M\",\"M\",\"M\",\"M\",\"M\",\"M\",\"M\",\"F\",\"M\",\"M\",\"M\",\"M\",\"M\",\"M\",\"M\",\"M\",\"M\",\"M\",\"M\",\"M\",\"M\",\"M\",\"M\",\"M\",\"M\",\"M\",\"M\",\"M\",\"M\",\"M\",\"M\",\"M\",\"M\",\"F\",\"M\",\"M\",\"M\",\"M\",\"M\",\"M\",\"M\",\"M\",\"M\",\"F\",\"M\",\"M\",\"M\",\"M\",\"M\",\"M\",\"M\",\"F\",\"M\",\"M\",\"M\",\"M\",\"M\",\"M\",\"M\",\"M\",\"M\",\"M\",\"M\",\"M\",\"F\",\"M\",\"M\",\"M\",\"F\",\"M\",\"M\",\"M\",\"M\",\"M\",\"M\",\"M\",\"M\",\"M\",\"M\",\"M\",\"M\",\"M\",\"M\",\"F\",\"M\",\"M\",\"M\",\"M\",\"M\",\"M\",\"M\",\"M\",\"M\",\"M\",\"M\",\"M\",\"M\",\"M\",\"M\",\"M\",\"M\",\"M\",\"M\",\"M\",\"M\",\"M\",\"M\",\"M\",\"M\",\"M\",\"M\",\"M\",\"M\",\"M\",\"M\",\"M\",\"M\",\"M\",\"M\",\"M\",\"M\",\"M\",\"M\",\"M\",\"M\",\"M\",\"M\",\"M\",\"M\",\"M\",\"M\",\"M\",\"M\",\"M\",\"M\",\"F\",\"M\",\"M\",\"M\",\"M\",\"M\",\"M\",\"M\",\"M\",\"M\",\"M\",\"M\",\"M\",\"M\",\"M\",\"M\",\"M\",\"M\",\"M\",\"M\",\"M\",\"M\",\"M\",\"M\",\"M\",\"M\",\"M\",\"M\",\"F\",\"M\",\"M\",\"M\",\"M\",\"M\",\"M\",\"M\",\"M\",\"M\",\"M\",\"M\",\"M\",\"M\",\"M\",\"M\",\"M\",\"M\",\"M\",\"M\",\"M\",\"M\",\"M\",\"M\",\"M\",\"M\",\"M\",\"M\",\"M\",\"M\",\"M\",\"M\",\"M\",\"M\",\"M\",\"M\",\"M\",\"M\",\"M\",\"M\",\"M\",\"M\",\"M\",\"M\",\"M\",\"M\",\"M\",\"F\",\"M\",\"F\",\"M\",\"M\",\"M\",\"M\",\"M\",\"M\",\"M\",\"M\",\"M\",\"M\",\"M\",\"M\",\"M\",\"M\",\"M\",\"M\",\"M\",\"M\",\"M\",\"M\",\"M\",\"M\",\"M\",\"M\",\"M\",\"M\",\"M\",\"M\",\"M\",\"M\",\"M\",\"M\",\"M\",\"M\",\"M\",\"M\",\"M\",\"M\",\"M\",\"M\",\"M\",\"M\",\"M\",\"M\",\"M\",\"M\",\"M\",\"M\",\"M\",\"M\",\"M\",\"M\",\"M\",\"M\",\"M\",\"M\",\"M\",\"M\",\"M\",\"M\",\"F\",\"M\",\"M\",\"M\",\"M\",\"F\",\"M\",\"M\",\"M\",\"M\",\"M\",\"F\",\"M\",\"M\",\"F\",\"M\",\"M\",\"M\",\"M\",\"F\",\"M\",\"M\",\"M\",\"M\",\"F\",\"F\",\"M\",\"M\",\"M\",\"M\",\"M\",\"M\",\"M\",\"M\",\"F\",\"F\",\"F\",\"F\",\"M\",\"F\",\"M\",\"M\",\"F\",\"M\",\"M\",\"M\",\"M\",\"M\",\"M\",\"M\",\"M\",\"F\",\"M\",\"M\",\"M\",\"M\",\"M\",\"M\",\"M\",\"F\",\"M\",\"M\",\"F\",\"F\",\"F\",\"F\",\"M\",\"F\",\"F\",\"M\",\"M\",\"F\",\"M\",\"F\",\"M\",\"M\",\"M\",\"F\",\"F\",\"M\",\"M\",\"F\",\"M\",\"F\",\"F\",\"M\",\"M\",\"F\",\"F\",\"M\",\"M\",\"M\",\"M\",\"M\",\"M\",\"M\",\"M\",\"M\",\"F\",\"M\",\"M\",\"F\",\"M\",\"M\",\"M\",\"M\",\"M\",\"M\",\"F\",\"F\",\"F\",\"M\",\"F\",\"M\",\"M\",\"M\",\"M\",\"F\",\"M\",\"F\",\"F\",\"M\",\"F\",\"F\",\"M\",\"F\",\"M\",\"F\",\"F\",\"M\",\"M\",\"M\",\"M\",\"F\",\"M\",\"F\",\"M\",\"F\",\"M\",\"M\",\"F\",\"M\",\"M\",\"M\",\"M\",\"F\",\"F\",\"M\",\"F\",\"M\",\"M\",\"M\",\"M\",\"M\",\"M\",\"M\",\"M\",\"M\",\"M\",\"F\",\"M\",\"F\",\"F\",\"F\",\"F\",\"F\",\"M\",\"M\",\"M\",\"F\",\"M\",\"F\",\"M\",\"M\",\"M\",\"F\",\"F\",\"M\",\"F\",\"M\",\"M\",\"M\",\"M\",\"F\",\"M\",\"F\",\"M\",\"M\",\"M\",\"M\",\"M\",\"F\",\"M\",\"F\",\"M\",\"M\",\"M\",\"M\",\"F\",\"M\",\"M\",\"M\",\"M\",\"M\",\"M\",\"F\",\"F\",\"F\",\"F\",\"M\",\"M\",\"M\",\"M\",\"M\",\"M\",\"M\",\"F\",\"M\",\"M\",\"M\",\"M\",\"M\",\"F\",\"M\",\"M\",\"F\",\"F\",\"M\",\"M\",\"M\",\"M\",\"M\",\"M\",\"M\",\"F\",\"M\",\"F\",\"F\",\"F\",\"M\",\"F\",\"M\",\"M\",\"M\",\"M\",\"F\",\"F\",\"M\",\"M\",\"M\",\"M\",\"M\",\"F\",\"F\",\"F\",\"M\",\"M\",\"F\",\"M\",\"M\",\"M\",\"M\",\"M\",\"M\",\"M\",\"F\",\"M\",\"M\",\"M\",\"M\",\"F\",\"M\",\"M\",\"M\",\"M\",\"M\",\"M\",\"F\",\"M\",\"M\",\"F\",\"M\",\"M\",\"M\",\"M\",\"M\",\"F\",\"F\",\"M\",\"F\",\"M\",\"M\",\"F\",\"M\",\"M\",\"M\",\"F\",\"M\",\"M\",\"M\",\"M\",\"F\",\"M\",\"M\",\"F\",\"M\",\"M\",\"F\",\"M\",\"M\",\"M\",\"F\",\"M\"],\"legendgroup\":\"\",\"marker\":{\"line\":{\"color\":\"#000000\",\"width\":1.5}},\"name\":\"\",\"showlegend\":true,\"textinfo\":\"percent+label\",\"textposition\":\"inside\",\"type\":\"pie\"}],                        {\"legend\":{\"tracegroupgap\":0},\"margin\":{\"t\":60},\"template\":{\"data\":{\"bar\":[{\"error_x\":{\"color\":\"#2a3f5f\"},\"error_y\":{\"color\":\"#2a3f5f\"},\"marker\":{\"line\":{\"color\":\"#E5ECF6\",\"width\":0.5},\"pattern\":{\"fillmode\":\"overlay\",\"size\":10,\"solidity\":0.2}},\"type\":\"bar\"}],\"barpolar\":[{\"marker\":{\"line\":{\"color\":\"#E5ECF6\",\"width\":0.5},\"pattern\":{\"fillmode\":\"overlay\",\"size\":10,\"solidity\":0.2}},\"type\":\"barpolar\"}],\"carpet\":[{\"aaxis\":{\"endlinecolor\":\"#2a3f5f\",\"gridcolor\":\"white\",\"linecolor\":\"white\",\"minorgridcolor\":\"white\",\"startlinecolor\":\"#2a3f5f\"},\"baxis\":{\"endlinecolor\":\"#2a3f5f\",\"gridcolor\":\"white\",\"linecolor\":\"white\",\"minorgridcolor\":\"white\",\"startlinecolor\":\"#2a3f5f\"},\"type\":\"carpet\"}],\"choropleth\":[{\"colorbar\":{\"outlinewidth\":0,\"ticks\":\"\"},\"type\":\"choropleth\"}],\"contour\":[{\"colorbar\":{\"outlinewidth\":0,\"ticks\":\"\"},\"colorscale\":[[0.0,\"#0d0887\"],[0.1111111111111111,\"#46039f\"],[0.2222222222222222,\"#7201a8\"],[0.3333333333333333,\"#9c179e\"],[0.4444444444444444,\"#bd3786\"],[0.5555555555555556,\"#d8576b\"],[0.6666666666666666,\"#ed7953\"],[0.7777777777777778,\"#fb9f3a\"],[0.8888888888888888,\"#fdca26\"],[1.0,\"#f0f921\"]],\"type\":\"contour\"}],\"contourcarpet\":[{\"colorbar\":{\"outlinewidth\":0,\"ticks\":\"\"},\"type\":\"contourcarpet\"}],\"heatmap\":[{\"colorbar\":{\"outlinewidth\":0,\"ticks\":\"\"},\"colorscale\":[[0.0,\"#0d0887\"],[0.1111111111111111,\"#46039f\"],[0.2222222222222222,\"#7201a8\"],[0.3333333333333333,\"#9c179e\"],[0.4444444444444444,\"#bd3786\"],[0.5555555555555556,\"#d8576b\"],[0.6666666666666666,\"#ed7953\"],[0.7777777777777778,\"#fb9f3a\"],[0.8888888888888888,\"#fdca26\"],[1.0,\"#f0f921\"]],\"type\":\"heatmap\"}],\"heatmapgl\":[{\"colorbar\":{\"outlinewidth\":0,\"ticks\":\"\"},\"colorscale\":[[0.0,\"#0d0887\"],[0.1111111111111111,\"#46039f\"],[0.2222222222222222,\"#7201a8\"],[0.3333333333333333,\"#9c179e\"],[0.4444444444444444,\"#bd3786\"],[0.5555555555555556,\"#d8576b\"],[0.6666666666666666,\"#ed7953\"],[0.7777777777777778,\"#fb9f3a\"],[0.8888888888888888,\"#fdca26\"],[1.0,\"#f0f921\"]],\"type\":\"heatmapgl\"}],\"histogram\":[{\"marker\":{\"pattern\":{\"fillmode\":\"overlay\",\"size\":10,\"solidity\":0.2}},\"type\":\"histogram\"}],\"histogram2d\":[{\"colorbar\":{\"outlinewidth\":0,\"ticks\":\"\"},\"colorscale\":[[0.0,\"#0d0887\"],[0.1111111111111111,\"#46039f\"],[0.2222222222222222,\"#7201a8\"],[0.3333333333333333,\"#9c179e\"],[0.4444444444444444,\"#bd3786\"],[0.5555555555555556,\"#d8576b\"],[0.6666666666666666,\"#ed7953\"],[0.7777777777777778,\"#fb9f3a\"],[0.8888888888888888,\"#fdca26\"],[1.0,\"#f0f921\"]],\"type\":\"histogram2d\"}],\"histogram2dcontour\":[{\"colorbar\":{\"outlinewidth\":0,\"ticks\":\"\"},\"colorscale\":[[0.0,\"#0d0887\"],[0.1111111111111111,\"#46039f\"],[0.2222222222222222,\"#7201a8\"],[0.3333333333333333,\"#9c179e\"],[0.4444444444444444,\"#bd3786\"],[0.5555555555555556,\"#d8576b\"],[0.6666666666666666,\"#ed7953\"],[0.7777777777777778,\"#fb9f3a\"],[0.8888888888888888,\"#fdca26\"],[1.0,\"#f0f921\"]],\"type\":\"histogram2dcontour\"}],\"mesh3d\":[{\"colorbar\":{\"outlinewidth\":0,\"ticks\":\"\"},\"type\":\"mesh3d\"}],\"parcoords\":[{\"line\":{\"colorbar\":{\"outlinewidth\":0,\"ticks\":\"\"}},\"type\":\"parcoords\"}],\"pie\":[{\"automargin\":true,\"type\":\"pie\"}],\"scatter\":[{\"marker\":{\"colorbar\":{\"outlinewidth\":0,\"ticks\":\"\"}},\"type\":\"scatter\"}],\"scatter3d\":[{\"line\":{\"colorbar\":{\"outlinewidth\":0,\"ticks\":\"\"}},\"marker\":{\"colorbar\":{\"outlinewidth\":0,\"ticks\":\"\"}},\"type\":\"scatter3d\"}],\"scattercarpet\":[{\"marker\":{\"colorbar\":{\"outlinewidth\":0,\"ticks\":\"\"}},\"type\":\"scattercarpet\"}],\"scattergeo\":[{\"marker\":{\"colorbar\":{\"outlinewidth\":0,\"ticks\":\"\"}},\"type\":\"scattergeo\"}],\"scattergl\":[{\"marker\":{\"colorbar\":{\"outlinewidth\":0,\"ticks\":\"\"}},\"type\":\"scattergl\"}],\"scattermapbox\":[{\"marker\":{\"colorbar\":{\"outlinewidth\":0,\"ticks\":\"\"}},\"type\":\"scattermapbox\"}],\"scatterpolar\":[{\"marker\":{\"colorbar\":{\"outlinewidth\":0,\"ticks\":\"\"}},\"type\":\"scatterpolar\"}],\"scatterpolargl\":[{\"marker\":{\"colorbar\":{\"outlinewidth\":0,\"ticks\":\"\"}},\"type\":\"scatterpolargl\"}],\"scatterternary\":[{\"marker\":{\"colorbar\":{\"outlinewidth\":0,\"ticks\":\"\"}},\"type\":\"scatterternary\"}],\"surface\":[{\"colorbar\":{\"outlinewidth\":0,\"ticks\":\"\"},\"colorscale\":[[0.0,\"#0d0887\"],[0.1111111111111111,\"#46039f\"],[0.2222222222222222,\"#7201a8\"],[0.3333333333333333,\"#9c179e\"],[0.4444444444444444,\"#bd3786\"],[0.5555555555555556,\"#d8576b\"],[0.6666666666666666,\"#ed7953\"],[0.7777777777777778,\"#fb9f3a\"],[0.8888888888888888,\"#fdca26\"],[1.0,\"#f0f921\"]],\"type\":\"surface\"}],\"table\":[{\"cells\":{\"fill\":{\"color\":\"#EBF0F8\"},\"line\":{\"color\":\"white\"}},\"header\":{\"fill\":{\"color\":\"#C8D4E3\"},\"line\":{\"color\":\"white\"}},\"type\":\"table\"}]},\"layout\":{\"annotationdefaults\":{\"arrowcolor\":\"#2a3f5f\",\"arrowhead\":0,\"arrowwidth\":1},\"autotypenumbers\":\"strict\",\"coloraxis\":{\"colorbar\":{\"outlinewidth\":0,\"ticks\":\"\"}},\"colorscale\":{\"diverging\":[[0,\"#8e0152\"],[0.1,\"#c51b7d\"],[0.2,\"#de77ae\"],[0.3,\"#f1b6da\"],[0.4,\"#fde0ef\"],[0.5,\"#f7f7f7\"],[0.6,\"#e6f5d0\"],[0.7,\"#b8e186\"],[0.8,\"#7fbc41\"],[0.9,\"#4d9221\"],[1,\"#276419\"]],\"sequential\":[[0.0,\"#0d0887\"],[0.1111111111111111,\"#46039f\"],[0.2222222222222222,\"#7201a8\"],[0.3333333333333333,\"#9c179e\"],[0.4444444444444444,\"#bd3786\"],[0.5555555555555556,\"#d8576b\"],[0.6666666666666666,\"#ed7953\"],[0.7777777777777778,\"#fb9f3a\"],[0.8888888888888888,\"#fdca26\"],[1.0,\"#f0f921\"]],\"sequentialminus\":[[0.0,\"#0d0887\"],[0.1111111111111111,\"#46039f\"],[0.2222222222222222,\"#7201a8\"],[0.3333333333333333,\"#9c179e\"],[0.4444444444444444,\"#bd3786\"],[0.5555555555555556,\"#d8576b\"],[0.6666666666666666,\"#ed7953\"],[0.7777777777777778,\"#fb9f3a\"],[0.8888888888888888,\"#fdca26\"],[1.0,\"#f0f921\"]]},\"colorway\":[\"#636efa\",\"#EF553B\",\"#00cc96\",\"#ab63fa\",\"#FFA15A\",\"#19d3f3\",\"#FF6692\",\"#B6E880\",\"#FF97FF\",\"#FECB52\"],\"font\":{\"color\":\"#2a3f5f\"},\"geo\":{\"bgcolor\":\"white\",\"lakecolor\":\"white\",\"landcolor\":\"#E5ECF6\",\"showlakes\":true,\"showland\":true,\"subunitcolor\":\"white\"},\"hoverlabel\":{\"align\":\"left\"},\"hovermode\":\"closest\",\"mapbox\":{\"style\":\"light\"},\"paper_bgcolor\":\"white\",\"plot_bgcolor\":\"#E5ECF6\",\"polar\":{\"angularaxis\":{\"gridcolor\":\"white\",\"linecolor\":\"white\",\"ticks\":\"\"},\"bgcolor\":\"#E5ECF6\",\"radialaxis\":{\"gridcolor\":\"white\",\"linecolor\":\"white\",\"ticks\":\"\"}},\"scene\":{\"xaxis\":{\"backgroundcolor\":\"#E5ECF6\",\"gridcolor\":\"white\",\"gridwidth\":2,\"linecolor\":\"white\",\"showbackground\":true,\"ticks\":\"\",\"zerolinecolor\":\"white\"},\"yaxis\":{\"backgroundcolor\":\"#E5ECF6\",\"gridcolor\":\"white\",\"gridwidth\":2,\"linecolor\":\"white\",\"showbackground\":true,\"ticks\":\"\",\"zerolinecolor\":\"white\"},\"zaxis\":{\"backgroundcolor\":\"#E5ECF6\",\"gridcolor\":\"white\",\"gridwidth\":2,\"linecolor\":\"white\",\"showbackground\":true,\"ticks\":\"\",\"zerolinecolor\":\"white\"}},\"shapedefaults\":{\"line\":{\"color\":\"#2a3f5f\"}},\"ternary\":{\"aaxis\":{\"gridcolor\":\"white\",\"linecolor\":\"white\",\"ticks\":\"\"},\"baxis\":{\"gridcolor\":\"white\",\"linecolor\":\"white\",\"ticks\":\"\"},\"bgcolor\":\"#E5ECF6\",\"caxis\":{\"gridcolor\":\"white\",\"linecolor\":\"white\",\"ticks\":\"\"}},\"title\":{\"x\":0.05},\"xaxis\":{\"automargin\":true,\"gridcolor\":\"white\",\"linecolor\":\"white\",\"ticks\":\"\",\"title\":{\"standoff\":15},\"zerolinecolor\":\"white\",\"zerolinewidth\":2},\"yaxis\":{\"automargin\":true,\"gridcolor\":\"white\",\"linecolor\":\"white\",\"ticks\":\"\",\"title\":{\"standoff\":15},\"zerolinecolor\":\"white\",\"zerolinewidth\":2}}}},                        {\"responsive\": true}                    ).then(function(){\n",
       "                            \n",
       "var gd = document.getElementById('bceea647-435e-491a-899a-fe4c4c9c7379');\n",
       "var x = new MutationObserver(function (mutations, observer) {{\n",
       "        var display = window.getComputedStyle(gd).display;\n",
       "        if (!display || display === 'none') {{\n",
       "            console.log([gd, 'removed!']);\n",
       "            Plotly.purge(gd);\n",
       "            observer.disconnect();\n",
       "        }}\n",
       "}});\n",
       "\n",
       "// Listen for the removal of the full notebook cells\n",
       "var notebookContainer = gd.closest('#notebook-container');\n",
       "if (notebookContainer) {{\n",
       "    x.observe(notebookContainer, {childList: true});\n",
       "}}\n",
       "\n",
       "// Listen for the clearing of the current output cell\n",
       "var outputEl = gd.closest('.output');\n",
       "if (outputEl) {{\n",
       "    x.observe(outputEl, {childList: true});\n",
       "}}\n",
       "\n",
       "                        })                };                });            </script>        </div>"
      ]
     },
     "metadata": {},
     "output_type": "display_data"
    }
   ],
   "source": [
    "fig=px.pie(df,names='Sex',hole=0.5)\n",
    "fig.update_traces(textposition='inside',\n",
    "                  textinfo='percent+label',\n",
    "                  marker=dict(line=dict(color='#000000', width = 1.5)))\n",
    "\n",
    "fig.show()"
   ]
  },
  {
   "cell_type": "markdown",
   "id": "6f0108a2",
   "metadata": {},
   "source": [
    "### 2.Median Age"
   ]
  },
  {
   "cell_type": "code",
   "execution_count": 367,
   "id": "e062da96",
   "metadata": {},
   "outputs": [
    {
     "data": {
      "application/vnd.plotly.v1+json": {
       "config": {
        "plotlyServerURL": "https://plot.ly"
       },
       "data": [
        {
         "alignmentgroup": "True",
         "bingroup": "x",
         "hovertemplate": "Sex=M<br>Age=%{x}<br>count=%{y}<extra></extra>",
         "legendgroup": "M",
         "marker": {
          "color": "#636efa",
          "pattern": {
           "shape": ""
          }
         },
         "name": "M",
         "offsetgroup": "M",
         "orientation": "v",
         "showlegend": true,
         "type": "histogram",
         "x": [
          40,
          37,
          54,
          39,
          54,
          37,
          58,
          39,
          49,
          38,
          60,
          36,
          44,
          44,
          40,
          36,
          53,
          52,
          51,
          53,
          56,
          54,
          41,
          32,
          65,
          35,
          52,
          43,
          59,
          37,
          50,
          36,
          41,
          50,
          45,
          31,
          58,
          54,
          52,
          49,
          45,
          46,
          32,
          52,
          44,
          57,
          44,
          52,
          55,
          46,
          32,
          52,
          49,
          55,
          54,
          63,
          52,
          56,
          66,
          65,
          43,
          55,
          39,
          48,
          58,
          43,
          39,
          56,
          41,
          65,
          51,
          40,
          46,
          57,
          34,
          50,
          39,
          57,
          47,
          38,
          38,
          34,
          46,
          58,
          54,
          42,
          38,
          46,
          56,
          56,
          49,
          39,
          54,
          43,
          52,
          50,
          47,
          53,
          39,
          42,
          50,
          54,
          39,
          48,
          40,
          55,
          41,
          56,
          38,
          49,
          44,
          54,
          59,
          49,
          47,
          42,
          46,
          50,
          48,
          58,
          58,
          29,
          40,
          53,
          49,
          52,
          43,
          54,
          59,
          37,
          52,
          51,
          52,
          46,
          58,
          58,
          41,
          53,
          46,
          50,
          48,
          45,
          49,
          42,
          53,
          47,
          46,
          42,
          56,
          50,
          35,
          35,
          28,
          54,
          48,
          56,
          47,
          39,
          54,
          55,
          29,
          46,
          33,
          55,
          50,
          53,
          38,
          41,
          37,
          40,
          41,
          39,
          41,
          55,
          48,
          48,
          55,
          54,
          55,
          48,
          54,
          54,
          48,
          45,
          49,
          44,
          48,
          61,
          62,
          55,
          36,
          46,
          46,
          59,
          47,
          54,
          52,
          34,
          54,
          45,
          55,
          55,
          59,
          51,
          52,
          60,
          49,
          42,
          59,
          53,
          36,
          48,
          53,
          65,
          32,
          61,
          50,
          57,
          51,
          47,
          60,
          55,
          53,
          51,
          55,
          53,
          58,
          57,
          65,
          60,
          41,
          34,
          53,
          74,
          57,
          56,
          61,
          68,
          59,
          63,
          62,
          46,
          42,
          45,
          59,
          52,
          60,
          60,
          56,
          38,
          40,
          51,
          62,
          72,
          63,
          63,
          43,
          64,
          61,
          52,
          51,
          69,
          59,
          48,
          69,
          36,
          53,
          43,
          56,
          58,
          55,
          67,
          46,
          53,
          38,
          53,
          62,
          47,
          56,
          56,
          56,
          61,
          68,
          57,
          63,
          60,
          66,
          63,
          59,
          61,
          47,
          65,
          70,
          50,
          60,
          50,
          43,
          54,
          61,
          42,
          53,
          55,
          61,
          51,
          70,
          61,
          38,
          57,
          38,
          58,
          52,
          61,
          51,
          65,
          52,
          47,
          35,
          57,
          62,
          59,
          53,
          62,
          54,
          56,
          56,
          54,
          63,
          44,
          60,
          55,
          66,
          66,
          65,
          60,
          60,
          60,
          56,
          59,
          62,
          63,
          57,
          62,
          63,
          46,
          63,
          60,
          58,
          64,
          63,
          74,
          52,
          69,
          51,
          60,
          56,
          55,
          54,
          77,
          63,
          55,
          52,
          64,
          60,
          60,
          58,
          59,
          61,
          40,
          61,
          41,
          57,
          63,
          59,
          51,
          59,
          42,
          55,
          62,
          56,
          53,
          68,
          53,
          60,
          62,
          59,
          51,
          61,
          57,
          56,
          58,
          69,
          67,
          58,
          65,
          63,
          55,
          57,
          65,
          54,
          72,
          75,
          49,
          51,
          60,
          58,
          61,
          67,
          62,
          65,
          63,
          69,
          51,
          62,
          55,
          75,
          40,
          67,
          58,
          60,
          63,
          35,
          62,
          43,
          63,
          68,
          65,
          48,
          63,
          64,
          61,
          50,
          59,
          55,
          45,
          65,
          61,
          49,
          72,
          50,
          64,
          55,
          63,
          59,
          56,
          62,
          74,
          54,
          57,
          62,
          76,
          70,
          48,
          48,
          61,
          66,
          68,
          55,
          62,
          71,
          74,
          53,
          58,
          75,
          56,
          58,
          64,
          54,
          54,
          59,
          55,
          57,
          61,
          41,
          71,
          38,
          55,
          56,
          69,
          64,
          72,
          69,
          56,
          62,
          67,
          57,
          69,
          51,
          48,
          69,
          69,
          64,
          57,
          53,
          37,
          67,
          74,
          63,
          58,
          61,
          64,
          58,
          60,
          57,
          55,
          55,
          56,
          57,
          61,
          61,
          74,
          68,
          62,
          53,
          62,
          46,
          62,
          55,
          58,
          62,
          70,
          57,
          64,
          65,
          56,
          59,
          60,
          59,
          53,
          44,
          61,
          46,
          53,
          64,
          40,
          67,
          48,
          43,
          47,
          58,
          57,
          66,
          59,
          50,
          48,
          61,
          59,
          42,
          48,
          40,
          44,
          46,
          59,
          58,
          49,
          44,
          66,
          42,
          52,
          61,
          62,
          57,
          44,
          63,
          57,
          51,
          47,
          61,
          70,
          45,
          45,
          56,
          58,
          35,
          58,
          41,
          57,
          42,
          62,
          59,
          50,
          59,
          54,
          54,
          52,
          47,
          66,
          58,
          67,
          57,
          63,
          48,
          51,
          59,
          41,
          42,
          46,
          56,
          49,
          54,
          57,
          54,
          62,
          52,
          60,
          66,
          42,
          64,
          54,
          56,
          57,
          64,
          59,
          50,
          51,
          54,
          53,
          52,
          40,
          58,
          41,
          55,
          45,
          56,
          38,
          55,
          58,
          43,
          53,
          65,
          69,
          69,
          67,
          34,
          51,
          46,
          67,
          50,
          42,
          41,
          53,
          43,
          56,
          52,
          70,
          54,
          70,
          54,
          35,
          48,
          77,
          68,
          58,
          60,
          51,
          55,
          52,
          58,
          64,
          37,
          59,
          51,
          58,
          29,
          51,
          54,
          44,
          54,
          65,
          57,
          63,
          41,
          52,
          39,
          45,
          52,
          62,
          43,
          47,
          52,
          68,
          39,
          60,
          65,
          60,
          60,
          54,
          44,
          44,
          51,
          59,
          61,
          55,
          64,
          43,
          60,
          58,
          49,
          48,
          52,
          44,
          57,
          67,
          52,
          43,
          52,
          59,
          64,
          57,
          57,
          47,
          35,
          61,
          58,
          58,
          56,
          56,
          67,
          44,
          63,
          41,
          59,
          45,
          68,
          57,
          38
         ],
         "xaxis": "x",
         "yaxis": "y"
        },
        {
         "alignmentgroup": "True",
         "bingroup": "x",
         "hovertemplate": "Sex=F<br>Age=%{x}<br>count=%{y}<extra></extra>",
         "legendgroup": "F",
         "marker": {
          "color": "#EF553B",
          "pattern": {
           "shape": ""
          }
         },
         "name": "F",
         "offsetgroup": "F",
         "orientation": "v",
         "showlegend": true,
         "type": "histogram",
         "x": [
          49,
          48,
          45,
          48,
          37,
          42,
          54,
          43,
          43,
          49,
          53,
          43,
          41,
          48,
          48,
          54,
          54,
          47,
          41,
          52,
          51,
          43,
          50,
          37,
          45,
          44,
          35,
          53,
          49,
          52,
          39,
          40,
          48,
          59,
          49,
          33,
          59,
          35,
          47,
          52,
          58,
          34,
          48,
          54,
          61,
          43,
          56,
          43,
          52,
          46,
          54,
          50,
          41,
          62,
          57,
          31,
          50,
          56,
          30,
          51,
          48,
          37,
          38,
          54,
          43,
          53,
          55,
          51,
          55,
          54,
          47,
          32,
          45,
          57,
          54,
          51,
          55,
          51,
          48,
          47,
          62,
          51,
          38,
          64,
          64,
          73,
          38,
          62,
          50,
          66,
          63,
          64,
          54,
          61,
          51,
          54,
          67,
          74,
          63,
          57,
          71,
          54,
          48,
          46,
          51,
          71,
          37,
          62,
          65,
          65,
          63,
          45,
          41,
          60,
          59,
          51,
          60,
          58,
          44,
          57,
          76,
          67,
          39,
          42,
          41,
          61,
          64,
          50,
          44,
          49,
          60,
          45,
          55,
          60,
          54,
          49,
          56,
          66,
          65,
          54,
          52,
          63,
          46,
          67,
          34,
          41,
          50,
          54,
          64,
          51,
          46,
          66,
          62,
          64,
          50,
          45,
          68,
          62,
          56,
          42,
          62,
          55,
          58,
          54,
          69,
          60,
          43,
          41,
          63,
          35,
          62,
          43,
          58,
          61,
          62,
          53,
          53,
          62,
          51,
          65,
          71,
          58,
          56,
          53,
          66,
          39,
          58,
          55,
          58,
          55,
          63,
          57,
          57
         ],
         "xaxis": "x",
         "yaxis": "y"
        }
       ],
       "layout": {
        "barmode": "relative",
        "legend": {
         "title": {
          "text": "Sex"
         },
         "tracegroupgap": 0
        },
        "shapes": [
         {
          "line": {
           "dash": "dash"
          },
          "type": "line",
          "x0": 53.510893246187365,
          "x1": 53.510893246187365,
          "xref": "x",
          "y0": 0,
          "y1": 1,
          "yref": "y domain"
         }
        ],
        "template": {
         "data": {
          "bar": [
           {
            "error_x": {
             "color": "#2a3f5f"
            },
            "error_y": {
             "color": "#2a3f5f"
            },
            "marker": {
             "line": {
              "color": "#E5ECF6",
              "width": 0.5
             },
             "pattern": {
              "fillmode": "overlay",
              "size": 10,
              "solidity": 0.2
             }
            },
            "type": "bar"
           }
          ],
          "barpolar": [
           {
            "marker": {
             "line": {
              "color": "#E5ECF6",
              "width": 0.5
             },
             "pattern": {
              "fillmode": "overlay",
              "size": 10,
              "solidity": 0.2
             }
            },
            "type": "barpolar"
           }
          ],
          "carpet": [
           {
            "aaxis": {
             "endlinecolor": "#2a3f5f",
             "gridcolor": "white",
             "linecolor": "white",
             "minorgridcolor": "white",
             "startlinecolor": "#2a3f5f"
            },
            "baxis": {
             "endlinecolor": "#2a3f5f",
             "gridcolor": "white",
             "linecolor": "white",
             "minorgridcolor": "white",
             "startlinecolor": "#2a3f5f"
            },
            "type": "carpet"
           }
          ],
          "choropleth": [
           {
            "colorbar": {
             "outlinewidth": 0,
             "ticks": ""
            },
            "type": "choropleth"
           }
          ],
          "contour": [
           {
            "colorbar": {
             "outlinewidth": 0,
             "ticks": ""
            },
            "colorscale": [
             [
              0,
              "#0d0887"
             ],
             [
              0.1111111111111111,
              "#46039f"
             ],
             [
              0.2222222222222222,
              "#7201a8"
             ],
             [
              0.3333333333333333,
              "#9c179e"
             ],
             [
              0.4444444444444444,
              "#bd3786"
             ],
             [
              0.5555555555555556,
              "#d8576b"
             ],
             [
              0.6666666666666666,
              "#ed7953"
             ],
             [
              0.7777777777777778,
              "#fb9f3a"
             ],
             [
              0.8888888888888888,
              "#fdca26"
             ],
             [
              1,
              "#f0f921"
             ]
            ],
            "type": "contour"
           }
          ],
          "contourcarpet": [
           {
            "colorbar": {
             "outlinewidth": 0,
             "ticks": ""
            },
            "type": "contourcarpet"
           }
          ],
          "heatmap": [
           {
            "colorbar": {
             "outlinewidth": 0,
             "ticks": ""
            },
            "colorscale": [
             [
              0,
              "#0d0887"
             ],
             [
              0.1111111111111111,
              "#46039f"
             ],
             [
              0.2222222222222222,
              "#7201a8"
             ],
             [
              0.3333333333333333,
              "#9c179e"
             ],
             [
              0.4444444444444444,
              "#bd3786"
             ],
             [
              0.5555555555555556,
              "#d8576b"
             ],
             [
              0.6666666666666666,
              "#ed7953"
             ],
             [
              0.7777777777777778,
              "#fb9f3a"
             ],
             [
              0.8888888888888888,
              "#fdca26"
             ],
             [
              1,
              "#f0f921"
             ]
            ],
            "type": "heatmap"
           }
          ],
          "heatmapgl": [
           {
            "colorbar": {
             "outlinewidth": 0,
             "ticks": ""
            },
            "colorscale": [
             [
              0,
              "#0d0887"
             ],
             [
              0.1111111111111111,
              "#46039f"
             ],
             [
              0.2222222222222222,
              "#7201a8"
             ],
             [
              0.3333333333333333,
              "#9c179e"
             ],
             [
              0.4444444444444444,
              "#bd3786"
             ],
             [
              0.5555555555555556,
              "#d8576b"
             ],
             [
              0.6666666666666666,
              "#ed7953"
             ],
             [
              0.7777777777777778,
              "#fb9f3a"
             ],
             [
              0.8888888888888888,
              "#fdca26"
             ],
             [
              1,
              "#f0f921"
             ]
            ],
            "type": "heatmapgl"
           }
          ],
          "histogram": [
           {
            "marker": {
             "pattern": {
              "fillmode": "overlay",
              "size": 10,
              "solidity": 0.2
             }
            },
            "type": "histogram"
           }
          ],
          "histogram2d": [
           {
            "colorbar": {
             "outlinewidth": 0,
             "ticks": ""
            },
            "colorscale": [
             [
              0,
              "#0d0887"
             ],
             [
              0.1111111111111111,
              "#46039f"
             ],
             [
              0.2222222222222222,
              "#7201a8"
             ],
             [
              0.3333333333333333,
              "#9c179e"
             ],
             [
              0.4444444444444444,
              "#bd3786"
             ],
             [
              0.5555555555555556,
              "#d8576b"
             ],
             [
              0.6666666666666666,
              "#ed7953"
             ],
             [
              0.7777777777777778,
              "#fb9f3a"
             ],
             [
              0.8888888888888888,
              "#fdca26"
             ],
             [
              1,
              "#f0f921"
             ]
            ],
            "type": "histogram2d"
           }
          ],
          "histogram2dcontour": [
           {
            "colorbar": {
             "outlinewidth": 0,
             "ticks": ""
            },
            "colorscale": [
             [
              0,
              "#0d0887"
             ],
             [
              0.1111111111111111,
              "#46039f"
             ],
             [
              0.2222222222222222,
              "#7201a8"
             ],
             [
              0.3333333333333333,
              "#9c179e"
             ],
             [
              0.4444444444444444,
              "#bd3786"
             ],
             [
              0.5555555555555556,
              "#d8576b"
             ],
             [
              0.6666666666666666,
              "#ed7953"
             ],
             [
              0.7777777777777778,
              "#fb9f3a"
             ],
             [
              0.8888888888888888,
              "#fdca26"
             ],
             [
              1,
              "#f0f921"
             ]
            ],
            "type": "histogram2dcontour"
           }
          ],
          "mesh3d": [
           {
            "colorbar": {
             "outlinewidth": 0,
             "ticks": ""
            },
            "type": "mesh3d"
           }
          ],
          "parcoords": [
           {
            "line": {
             "colorbar": {
              "outlinewidth": 0,
              "ticks": ""
             }
            },
            "type": "parcoords"
           }
          ],
          "pie": [
           {
            "automargin": true,
            "type": "pie"
           }
          ],
          "scatter": [
           {
            "marker": {
             "colorbar": {
              "outlinewidth": 0,
              "ticks": ""
             }
            },
            "type": "scatter"
           }
          ],
          "scatter3d": [
           {
            "line": {
             "colorbar": {
              "outlinewidth": 0,
              "ticks": ""
             }
            },
            "marker": {
             "colorbar": {
              "outlinewidth": 0,
              "ticks": ""
             }
            },
            "type": "scatter3d"
           }
          ],
          "scattercarpet": [
           {
            "marker": {
             "colorbar": {
              "outlinewidth": 0,
              "ticks": ""
             }
            },
            "type": "scattercarpet"
           }
          ],
          "scattergeo": [
           {
            "marker": {
             "colorbar": {
              "outlinewidth": 0,
              "ticks": ""
             }
            },
            "type": "scattergeo"
           }
          ],
          "scattergl": [
           {
            "marker": {
             "colorbar": {
              "outlinewidth": 0,
              "ticks": ""
             }
            },
            "type": "scattergl"
           }
          ],
          "scattermapbox": [
           {
            "marker": {
             "colorbar": {
              "outlinewidth": 0,
              "ticks": ""
             }
            },
            "type": "scattermapbox"
           }
          ],
          "scatterpolar": [
           {
            "marker": {
             "colorbar": {
              "outlinewidth": 0,
              "ticks": ""
             }
            },
            "type": "scatterpolar"
           }
          ],
          "scatterpolargl": [
           {
            "marker": {
             "colorbar": {
              "outlinewidth": 0,
              "ticks": ""
             }
            },
            "type": "scatterpolargl"
           }
          ],
          "scatterternary": [
           {
            "marker": {
             "colorbar": {
              "outlinewidth": 0,
              "ticks": ""
             }
            },
            "type": "scatterternary"
           }
          ],
          "surface": [
           {
            "colorbar": {
             "outlinewidth": 0,
             "ticks": ""
            },
            "colorscale": [
             [
              0,
              "#0d0887"
             ],
             [
              0.1111111111111111,
              "#46039f"
             ],
             [
              0.2222222222222222,
              "#7201a8"
             ],
             [
              0.3333333333333333,
              "#9c179e"
             ],
             [
              0.4444444444444444,
              "#bd3786"
             ],
             [
              0.5555555555555556,
              "#d8576b"
             ],
             [
              0.6666666666666666,
              "#ed7953"
             ],
             [
              0.7777777777777778,
              "#fb9f3a"
             ],
             [
              0.8888888888888888,
              "#fdca26"
             ],
             [
              1,
              "#f0f921"
             ]
            ],
            "type": "surface"
           }
          ],
          "table": [
           {
            "cells": {
             "fill": {
              "color": "#EBF0F8"
             },
             "line": {
              "color": "white"
             }
            },
            "header": {
             "fill": {
              "color": "#C8D4E3"
             },
             "line": {
              "color": "white"
             }
            },
            "type": "table"
           }
          ]
         },
         "layout": {
          "annotationdefaults": {
           "arrowcolor": "#2a3f5f",
           "arrowhead": 0,
           "arrowwidth": 1
          },
          "autotypenumbers": "strict",
          "coloraxis": {
           "colorbar": {
            "outlinewidth": 0,
            "ticks": ""
           }
          },
          "colorscale": {
           "diverging": [
            [
             0,
             "#8e0152"
            ],
            [
             0.1,
             "#c51b7d"
            ],
            [
             0.2,
             "#de77ae"
            ],
            [
             0.3,
             "#f1b6da"
            ],
            [
             0.4,
             "#fde0ef"
            ],
            [
             0.5,
             "#f7f7f7"
            ],
            [
             0.6,
             "#e6f5d0"
            ],
            [
             0.7,
             "#b8e186"
            ],
            [
             0.8,
             "#7fbc41"
            ],
            [
             0.9,
             "#4d9221"
            ],
            [
             1,
             "#276419"
            ]
           ],
           "sequential": [
            [
             0,
             "#0d0887"
            ],
            [
             0.1111111111111111,
             "#46039f"
            ],
            [
             0.2222222222222222,
             "#7201a8"
            ],
            [
             0.3333333333333333,
             "#9c179e"
            ],
            [
             0.4444444444444444,
             "#bd3786"
            ],
            [
             0.5555555555555556,
             "#d8576b"
            ],
            [
             0.6666666666666666,
             "#ed7953"
            ],
            [
             0.7777777777777778,
             "#fb9f3a"
            ],
            [
             0.8888888888888888,
             "#fdca26"
            ],
            [
             1,
             "#f0f921"
            ]
           ],
           "sequentialminus": [
            [
             0,
             "#0d0887"
            ],
            [
             0.1111111111111111,
             "#46039f"
            ],
            [
             0.2222222222222222,
             "#7201a8"
            ],
            [
             0.3333333333333333,
             "#9c179e"
            ],
            [
             0.4444444444444444,
             "#bd3786"
            ],
            [
             0.5555555555555556,
             "#d8576b"
            ],
            [
             0.6666666666666666,
             "#ed7953"
            ],
            [
             0.7777777777777778,
             "#fb9f3a"
            ],
            [
             0.8888888888888888,
             "#fdca26"
            ],
            [
             1,
             "#f0f921"
            ]
           ]
          },
          "colorway": [
           "#636efa",
           "#EF553B",
           "#00cc96",
           "#ab63fa",
           "#FFA15A",
           "#19d3f3",
           "#FF6692",
           "#B6E880",
           "#FF97FF",
           "#FECB52"
          ],
          "font": {
           "color": "#2a3f5f"
          },
          "geo": {
           "bgcolor": "white",
           "lakecolor": "white",
           "landcolor": "#E5ECF6",
           "showlakes": true,
           "showland": true,
           "subunitcolor": "white"
          },
          "hoverlabel": {
           "align": "left"
          },
          "hovermode": "closest",
          "mapbox": {
           "style": "light"
          },
          "paper_bgcolor": "white",
          "plot_bgcolor": "#E5ECF6",
          "polar": {
           "angularaxis": {
            "gridcolor": "white",
            "linecolor": "white",
            "ticks": ""
           },
           "bgcolor": "#E5ECF6",
           "radialaxis": {
            "gridcolor": "white",
            "linecolor": "white",
            "ticks": ""
           }
          },
          "scene": {
           "xaxis": {
            "backgroundcolor": "#E5ECF6",
            "gridcolor": "white",
            "gridwidth": 2,
            "linecolor": "white",
            "showbackground": true,
            "ticks": "",
            "zerolinecolor": "white"
           },
           "yaxis": {
            "backgroundcolor": "#E5ECF6",
            "gridcolor": "white",
            "gridwidth": 2,
            "linecolor": "white",
            "showbackground": true,
            "ticks": "",
            "zerolinecolor": "white"
           },
           "zaxis": {
            "backgroundcolor": "#E5ECF6",
            "gridcolor": "white",
            "gridwidth": 2,
            "linecolor": "white",
            "showbackground": true,
            "ticks": "",
            "zerolinecolor": "white"
           }
          },
          "shapedefaults": {
           "line": {
            "color": "#2a3f5f"
           }
          },
          "ternary": {
           "aaxis": {
            "gridcolor": "white",
            "linecolor": "white",
            "ticks": ""
           },
           "baxis": {
            "gridcolor": "white",
            "linecolor": "white",
            "ticks": ""
           },
           "bgcolor": "#E5ECF6",
           "caxis": {
            "gridcolor": "white",
            "linecolor": "white",
            "ticks": ""
           }
          },
          "title": {
           "x": 0.05
          },
          "xaxis": {
           "automargin": true,
           "gridcolor": "white",
           "linecolor": "white",
           "ticks": "",
           "title": {
            "standoff": 15
           },
           "zerolinecolor": "white",
           "zerolinewidth": 2
          },
          "yaxis": {
           "automargin": true,
           "gridcolor": "white",
           "linecolor": "white",
           "ticks": "",
           "title": {
            "standoff": 15
           },
           "zerolinecolor": "white",
           "zerolinewidth": 2
          }
         }
        },
        "title": {
         "text": "<b>Average Age Gender wise</b>"
        },
        "xaxis": {
         "anchor": "y",
         "domain": [
          0,
          1
         ],
         "title": {
          "text": "Age"
         }
        },
        "yaxis": {
         "anchor": "x",
         "domain": [
          0,
          1
         ],
         "title": {
          "text": "count"
         }
        }
       }
      },
      "text/html": [
       "<div>                            <div id=\"fb62f196-5fd7-4719-ac9a-c9a455a3c84f\" class=\"plotly-graph-div\" style=\"height:525px; width:100%;\"></div>            <script type=\"text/javascript\">                require([\"plotly\"], function(Plotly) {                    window.PLOTLYENV=window.PLOTLYENV || {};                                    if (document.getElementById(\"fb62f196-5fd7-4719-ac9a-c9a455a3c84f\")) {                    Plotly.newPlot(                        \"fb62f196-5fd7-4719-ac9a-c9a455a3c84f\",                        [{\"alignmentgroup\":\"True\",\"bingroup\":\"x\",\"hovertemplate\":\"Sex=M<br>Age=%{x}<br>count=%{y}<extra></extra>\",\"legendgroup\":\"M\",\"marker\":{\"color\":\"#636efa\",\"pattern\":{\"shape\":\"\"}},\"name\":\"M\",\"offsetgroup\":\"M\",\"orientation\":\"v\",\"showlegend\":true,\"type\":\"histogram\",\"x\":[40,37,54,39,54,37,58,39,49,38,60,36,44,44,40,36,53,52,51,53,56,54,41,32,65,35,52,43,59,37,50,36,41,50,45,31,58,54,52,49,45,46,32,52,44,57,44,52,55,46,32,52,49,55,54,63,52,56,66,65,43,55,39,48,58,43,39,56,41,65,51,40,46,57,34,50,39,57,47,38,38,34,46,58,54,42,38,46,56,56,49,39,54,43,52,50,47,53,39,42,50,54,39,48,40,55,41,56,38,49,44,54,59,49,47,42,46,50,48,58,58,29,40,53,49,52,43,54,59,37,52,51,52,46,58,58,41,53,46,50,48,45,49,42,53,47,46,42,56,50,35,35,28,54,48,56,47,39,54,55,29,46,33,55,50,53,38,41,37,40,41,39,41,55,48,48,55,54,55,48,54,54,48,45,49,44,48,61,62,55,36,46,46,59,47,54,52,34,54,45,55,55,59,51,52,60,49,42,59,53,36,48,53,65,32,61,50,57,51,47,60,55,53,51,55,53,58,57,65,60,41,34,53,74,57,56,61,68,59,63,62,46,42,45,59,52,60,60,56,38,40,51,62,72,63,63,43,64,61,52,51,69,59,48,69,36,53,43,56,58,55,67,46,53,38,53,62,47,56,56,56,61,68,57,63,60,66,63,59,61,47,65,70,50,60,50,43,54,61,42,53,55,61,51,70,61,38,57,38,58,52,61,51,65,52,47,35,57,62,59,53,62,54,56,56,54,63,44,60,55,66,66,65,60,60,60,56,59,62,63,57,62,63,46,63,60,58,64,63,74,52,69,51,60,56,55,54,77,63,55,52,64,60,60,58,59,61,40,61,41,57,63,59,51,59,42,55,62,56,53,68,53,60,62,59,51,61,57,56,58,69,67,58,65,63,55,57,65,54,72,75,49,51,60,58,61,67,62,65,63,69,51,62,55,75,40,67,58,60,63,35,62,43,63,68,65,48,63,64,61,50,59,55,45,65,61,49,72,50,64,55,63,59,56,62,74,54,57,62,76,70,48,48,61,66,68,55,62,71,74,53,58,75,56,58,64,54,54,59,55,57,61,41,71,38,55,56,69,64,72,69,56,62,67,57,69,51,48,69,69,64,57,53,37,67,74,63,58,61,64,58,60,57,55,55,56,57,61,61,74,68,62,53,62,46,62,55,58,62,70,57,64,65,56,59,60,59,53,44,61,46,53,64,40,67,48,43,47,58,57,66,59,50,48,61,59,42,48,40,44,46,59,58,49,44,66,42,52,61,62,57,44,63,57,51,47,61,70,45,45,56,58,35,58,41,57,42,62,59,50,59,54,54,52,47,66,58,67,57,63,48,51,59,41,42,46,56,49,54,57,54,62,52,60,66,42,64,54,56,57,64,59,50,51,54,53,52,40,58,41,55,45,56,38,55,58,43,53,65,69,69,67,34,51,46,67,50,42,41,53,43,56,52,70,54,70,54,35,48,77,68,58,60,51,55,52,58,64,37,59,51,58,29,51,54,44,54,65,57,63,41,52,39,45,52,62,43,47,52,68,39,60,65,60,60,54,44,44,51,59,61,55,64,43,60,58,49,48,52,44,57,67,52,43,52,59,64,57,57,47,35,61,58,58,56,56,67,44,63,41,59,45,68,57,38],\"xaxis\":\"x\",\"yaxis\":\"y\"},{\"alignmentgroup\":\"True\",\"bingroup\":\"x\",\"hovertemplate\":\"Sex=F<br>Age=%{x}<br>count=%{y}<extra></extra>\",\"legendgroup\":\"F\",\"marker\":{\"color\":\"#EF553B\",\"pattern\":{\"shape\":\"\"}},\"name\":\"F\",\"offsetgroup\":\"F\",\"orientation\":\"v\",\"showlegend\":true,\"type\":\"histogram\",\"x\":[49,48,45,48,37,42,54,43,43,49,53,43,41,48,48,54,54,47,41,52,51,43,50,37,45,44,35,53,49,52,39,40,48,59,49,33,59,35,47,52,58,34,48,54,61,43,56,43,52,46,54,50,41,62,57,31,50,56,30,51,48,37,38,54,43,53,55,51,55,54,47,32,45,57,54,51,55,51,48,47,62,51,38,64,64,73,38,62,50,66,63,64,54,61,51,54,67,74,63,57,71,54,48,46,51,71,37,62,65,65,63,45,41,60,59,51,60,58,44,57,76,67,39,42,41,61,64,50,44,49,60,45,55,60,54,49,56,66,65,54,52,63,46,67,34,41,50,54,64,51,46,66,62,64,50,45,68,62,56,42,62,55,58,54,69,60,43,41,63,35,62,43,58,61,62,53,53,62,51,65,71,58,56,53,66,39,58,55,58,55,63,57,57],\"xaxis\":\"x\",\"yaxis\":\"y\"}],                        {\"barmode\":\"relative\",\"legend\":{\"title\":{\"text\":\"Sex\"},\"tracegroupgap\":0},\"shapes\":[{\"line\":{\"dash\":\"dash\"},\"type\":\"line\",\"x0\":53.510893246187365,\"x1\":53.510893246187365,\"xref\":\"x\",\"y0\":0,\"y1\":1,\"yref\":\"y domain\"}],\"template\":{\"data\":{\"bar\":[{\"error_x\":{\"color\":\"#2a3f5f\"},\"error_y\":{\"color\":\"#2a3f5f\"},\"marker\":{\"line\":{\"color\":\"#E5ECF6\",\"width\":0.5},\"pattern\":{\"fillmode\":\"overlay\",\"size\":10,\"solidity\":0.2}},\"type\":\"bar\"}],\"barpolar\":[{\"marker\":{\"line\":{\"color\":\"#E5ECF6\",\"width\":0.5},\"pattern\":{\"fillmode\":\"overlay\",\"size\":10,\"solidity\":0.2}},\"type\":\"barpolar\"}],\"carpet\":[{\"aaxis\":{\"endlinecolor\":\"#2a3f5f\",\"gridcolor\":\"white\",\"linecolor\":\"white\",\"minorgridcolor\":\"white\",\"startlinecolor\":\"#2a3f5f\"},\"baxis\":{\"endlinecolor\":\"#2a3f5f\",\"gridcolor\":\"white\",\"linecolor\":\"white\",\"minorgridcolor\":\"white\",\"startlinecolor\":\"#2a3f5f\"},\"type\":\"carpet\"}],\"choropleth\":[{\"colorbar\":{\"outlinewidth\":0,\"ticks\":\"\"},\"type\":\"choropleth\"}],\"contour\":[{\"colorbar\":{\"outlinewidth\":0,\"ticks\":\"\"},\"colorscale\":[[0.0,\"#0d0887\"],[0.1111111111111111,\"#46039f\"],[0.2222222222222222,\"#7201a8\"],[0.3333333333333333,\"#9c179e\"],[0.4444444444444444,\"#bd3786\"],[0.5555555555555556,\"#d8576b\"],[0.6666666666666666,\"#ed7953\"],[0.7777777777777778,\"#fb9f3a\"],[0.8888888888888888,\"#fdca26\"],[1.0,\"#f0f921\"]],\"type\":\"contour\"}],\"contourcarpet\":[{\"colorbar\":{\"outlinewidth\":0,\"ticks\":\"\"},\"type\":\"contourcarpet\"}],\"heatmap\":[{\"colorbar\":{\"outlinewidth\":0,\"ticks\":\"\"},\"colorscale\":[[0.0,\"#0d0887\"],[0.1111111111111111,\"#46039f\"],[0.2222222222222222,\"#7201a8\"],[0.3333333333333333,\"#9c179e\"],[0.4444444444444444,\"#bd3786\"],[0.5555555555555556,\"#d8576b\"],[0.6666666666666666,\"#ed7953\"],[0.7777777777777778,\"#fb9f3a\"],[0.8888888888888888,\"#fdca26\"],[1.0,\"#f0f921\"]],\"type\":\"heatmap\"}],\"heatmapgl\":[{\"colorbar\":{\"outlinewidth\":0,\"ticks\":\"\"},\"colorscale\":[[0.0,\"#0d0887\"],[0.1111111111111111,\"#46039f\"],[0.2222222222222222,\"#7201a8\"],[0.3333333333333333,\"#9c179e\"],[0.4444444444444444,\"#bd3786\"],[0.5555555555555556,\"#d8576b\"],[0.6666666666666666,\"#ed7953\"],[0.7777777777777778,\"#fb9f3a\"],[0.8888888888888888,\"#fdca26\"],[1.0,\"#f0f921\"]],\"type\":\"heatmapgl\"}],\"histogram\":[{\"marker\":{\"pattern\":{\"fillmode\":\"overlay\",\"size\":10,\"solidity\":0.2}},\"type\":\"histogram\"}],\"histogram2d\":[{\"colorbar\":{\"outlinewidth\":0,\"ticks\":\"\"},\"colorscale\":[[0.0,\"#0d0887\"],[0.1111111111111111,\"#46039f\"],[0.2222222222222222,\"#7201a8\"],[0.3333333333333333,\"#9c179e\"],[0.4444444444444444,\"#bd3786\"],[0.5555555555555556,\"#d8576b\"],[0.6666666666666666,\"#ed7953\"],[0.7777777777777778,\"#fb9f3a\"],[0.8888888888888888,\"#fdca26\"],[1.0,\"#f0f921\"]],\"type\":\"histogram2d\"}],\"histogram2dcontour\":[{\"colorbar\":{\"outlinewidth\":0,\"ticks\":\"\"},\"colorscale\":[[0.0,\"#0d0887\"],[0.1111111111111111,\"#46039f\"],[0.2222222222222222,\"#7201a8\"],[0.3333333333333333,\"#9c179e\"],[0.4444444444444444,\"#bd3786\"],[0.5555555555555556,\"#d8576b\"],[0.6666666666666666,\"#ed7953\"],[0.7777777777777778,\"#fb9f3a\"],[0.8888888888888888,\"#fdca26\"],[1.0,\"#f0f921\"]],\"type\":\"histogram2dcontour\"}],\"mesh3d\":[{\"colorbar\":{\"outlinewidth\":0,\"ticks\":\"\"},\"type\":\"mesh3d\"}],\"parcoords\":[{\"line\":{\"colorbar\":{\"outlinewidth\":0,\"ticks\":\"\"}},\"type\":\"parcoords\"}],\"pie\":[{\"automargin\":true,\"type\":\"pie\"}],\"scatter\":[{\"marker\":{\"colorbar\":{\"outlinewidth\":0,\"ticks\":\"\"}},\"type\":\"scatter\"}],\"scatter3d\":[{\"line\":{\"colorbar\":{\"outlinewidth\":0,\"ticks\":\"\"}},\"marker\":{\"colorbar\":{\"outlinewidth\":0,\"ticks\":\"\"}},\"type\":\"scatter3d\"}],\"scattercarpet\":[{\"marker\":{\"colorbar\":{\"outlinewidth\":0,\"ticks\":\"\"}},\"type\":\"scattercarpet\"}],\"scattergeo\":[{\"marker\":{\"colorbar\":{\"outlinewidth\":0,\"ticks\":\"\"}},\"type\":\"scattergeo\"}],\"scattergl\":[{\"marker\":{\"colorbar\":{\"outlinewidth\":0,\"ticks\":\"\"}},\"type\":\"scattergl\"}],\"scattermapbox\":[{\"marker\":{\"colorbar\":{\"outlinewidth\":0,\"ticks\":\"\"}},\"type\":\"scattermapbox\"}],\"scatterpolar\":[{\"marker\":{\"colorbar\":{\"outlinewidth\":0,\"ticks\":\"\"}},\"type\":\"scatterpolar\"}],\"scatterpolargl\":[{\"marker\":{\"colorbar\":{\"outlinewidth\":0,\"ticks\":\"\"}},\"type\":\"scatterpolargl\"}],\"scatterternary\":[{\"marker\":{\"colorbar\":{\"outlinewidth\":0,\"ticks\":\"\"}},\"type\":\"scatterternary\"}],\"surface\":[{\"colorbar\":{\"outlinewidth\":0,\"ticks\":\"\"},\"colorscale\":[[0.0,\"#0d0887\"],[0.1111111111111111,\"#46039f\"],[0.2222222222222222,\"#7201a8\"],[0.3333333333333333,\"#9c179e\"],[0.4444444444444444,\"#bd3786\"],[0.5555555555555556,\"#d8576b\"],[0.6666666666666666,\"#ed7953\"],[0.7777777777777778,\"#fb9f3a\"],[0.8888888888888888,\"#fdca26\"],[1.0,\"#f0f921\"]],\"type\":\"surface\"}],\"table\":[{\"cells\":{\"fill\":{\"color\":\"#EBF0F8\"},\"line\":{\"color\":\"white\"}},\"header\":{\"fill\":{\"color\":\"#C8D4E3\"},\"line\":{\"color\":\"white\"}},\"type\":\"table\"}]},\"layout\":{\"annotationdefaults\":{\"arrowcolor\":\"#2a3f5f\",\"arrowhead\":0,\"arrowwidth\":1},\"autotypenumbers\":\"strict\",\"coloraxis\":{\"colorbar\":{\"outlinewidth\":0,\"ticks\":\"\"}},\"colorscale\":{\"diverging\":[[0,\"#8e0152\"],[0.1,\"#c51b7d\"],[0.2,\"#de77ae\"],[0.3,\"#f1b6da\"],[0.4,\"#fde0ef\"],[0.5,\"#f7f7f7\"],[0.6,\"#e6f5d0\"],[0.7,\"#b8e186\"],[0.8,\"#7fbc41\"],[0.9,\"#4d9221\"],[1,\"#276419\"]],\"sequential\":[[0.0,\"#0d0887\"],[0.1111111111111111,\"#46039f\"],[0.2222222222222222,\"#7201a8\"],[0.3333333333333333,\"#9c179e\"],[0.4444444444444444,\"#bd3786\"],[0.5555555555555556,\"#d8576b\"],[0.6666666666666666,\"#ed7953\"],[0.7777777777777778,\"#fb9f3a\"],[0.8888888888888888,\"#fdca26\"],[1.0,\"#f0f921\"]],\"sequentialminus\":[[0.0,\"#0d0887\"],[0.1111111111111111,\"#46039f\"],[0.2222222222222222,\"#7201a8\"],[0.3333333333333333,\"#9c179e\"],[0.4444444444444444,\"#bd3786\"],[0.5555555555555556,\"#d8576b\"],[0.6666666666666666,\"#ed7953\"],[0.7777777777777778,\"#fb9f3a\"],[0.8888888888888888,\"#fdca26\"],[1.0,\"#f0f921\"]]},\"colorway\":[\"#636efa\",\"#EF553B\",\"#00cc96\",\"#ab63fa\",\"#FFA15A\",\"#19d3f3\",\"#FF6692\",\"#B6E880\",\"#FF97FF\",\"#FECB52\"],\"font\":{\"color\":\"#2a3f5f\"},\"geo\":{\"bgcolor\":\"white\",\"lakecolor\":\"white\",\"landcolor\":\"#E5ECF6\",\"showlakes\":true,\"showland\":true,\"subunitcolor\":\"white\"},\"hoverlabel\":{\"align\":\"left\"},\"hovermode\":\"closest\",\"mapbox\":{\"style\":\"light\"},\"paper_bgcolor\":\"white\",\"plot_bgcolor\":\"#E5ECF6\",\"polar\":{\"angularaxis\":{\"gridcolor\":\"white\",\"linecolor\":\"white\",\"ticks\":\"\"},\"bgcolor\":\"#E5ECF6\",\"radialaxis\":{\"gridcolor\":\"white\",\"linecolor\":\"white\",\"ticks\":\"\"}},\"scene\":{\"xaxis\":{\"backgroundcolor\":\"#E5ECF6\",\"gridcolor\":\"white\",\"gridwidth\":2,\"linecolor\":\"white\",\"showbackground\":true,\"ticks\":\"\",\"zerolinecolor\":\"white\"},\"yaxis\":{\"backgroundcolor\":\"#E5ECF6\",\"gridcolor\":\"white\",\"gridwidth\":2,\"linecolor\":\"white\",\"showbackground\":true,\"ticks\":\"\",\"zerolinecolor\":\"white\"},\"zaxis\":{\"backgroundcolor\":\"#E5ECF6\",\"gridcolor\":\"white\",\"gridwidth\":2,\"linecolor\":\"white\",\"showbackground\":true,\"ticks\":\"\",\"zerolinecolor\":\"white\"}},\"shapedefaults\":{\"line\":{\"color\":\"#2a3f5f\"}},\"ternary\":{\"aaxis\":{\"gridcolor\":\"white\",\"linecolor\":\"white\",\"ticks\":\"\"},\"baxis\":{\"gridcolor\":\"white\",\"linecolor\":\"white\",\"ticks\":\"\"},\"bgcolor\":\"#E5ECF6\",\"caxis\":{\"gridcolor\":\"white\",\"linecolor\":\"white\",\"ticks\":\"\"}},\"title\":{\"x\":0.05},\"xaxis\":{\"automargin\":true,\"gridcolor\":\"white\",\"linecolor\":\"white\",\"ticks\":\"\",\"title\":{\"standoff\":15},\"zerolinecolor\":\"white\",\"zerolinewidth\":2},\"yaxis\":{\"automargin\":true,\"gridcolor\":\"white\",\"linecolor\":\"white\",\"ticks\":\"\",\"title\":{\"standoff\":15},\"zerolinecolor\":\"white\",\"zerolinewidth\":2}}},\"title\":{\"text\":\"<b>Average Age Gender wise</b>\"},\"xaxis\":{\"anchor\":\"y\",\"domain\":[0.0,1.0],\"title\":{\"text\":\"Age\"}},\"yaxis\":{\"anchor\":\"x\",\"domain\":[0.0,1.0],\"title\":{\"text\":\"count\"}}},                        {\"responsive\": true}                    ).then(function(){\n",
       "                            \n",
       "var gd = document.getElementById('fb62f196-5fd7-4719-ac9a-c9a455a3c84f');\n",
       "var x = new MutationObserver(function (mutations, observer) {{\n",
       "        var display = window.getComputedStyle(gd).display;\n",
       "        if (!display || display === 'none') {{\n",
       "            console.log([gd, 'removed!']);\n",
       "            Plotly.purge(gd);\n",
       "            observer.disconnect();\n",
       "        }}\n",
       "}});\n",
       "\n",
       "// Listen for the removal of the full notebook cells\n",
       "var notebookContainer = gd.closest('#notebook-container');\n",
       "if (notebookContainer) {{\n",
       "    x.observe(notebookContainer, {childList: true});\n",
       "}}\n",
       "\n",
       "// Listen for the clearing of the current output cell\n",
       "var outputEl = gd.closest('.output');\n",
       "if (outputEl) {{\n",
       "    x.observe(outputEl, {childList: true});\n",
       "}}\n",
       "\n",
       "                        })                };                });            </script>        </div>"
      ]
     },
     "metadata": {},
     "output_type": "display_data"
    }
   ],
   "source": [
    "fig=px.histogram(df,x='Age',color='Sex', title=\"<b>Average Age Gender wise</b>\")\n",
    "fig.add_vline(x=df['Age'].mean(),line_dash=\"dash\")\n",
    "fig.show()"
   ]
  },
  {
   "cell_type": "markdown",
   "id": "69fb612f",
   "metadata": {},
   "source": [
    "### Male VS Heart Attack Risk"
   ]
  },
  {
   "cell_type": "code",
   "execution_count": 368,
   "id": "436a1784",
   "metadata": {},
   "outputs": [
    {
     "name": "stdout",
     "output_type": "stream",
     "text": [
      "(725, 12)\n"
     ]
    }
   ],
   "source": [
    "male=df[df['Sex']=='M']\n",
    "print(male.shape)"
   ]
  },
  {
   "cell_type": "code",
   "execution_count": 369,
   "id": "c1cbdefa",
   "metadata": {},
   "outputs": [
    {
     "data": {
      "text/plain": [
       "(458, 12)"
      ]
     },
     "execution_count": 369,
     "metadata": {},
     "output_type": "execute_result"
    }
   ],
   "source": [
    "male_risk_of_HeartAttack=male[male['HeartDisease']==1]\n",
    "male_risk_of_HeartAttack.shape"
   ]
  },
  {
   "cell_type": "code",
   "execution_count": 370,
   "id": "38321fc9",
   "metadata": {},
   "outputs": [],
   "source": [
    "details_male={\"Total Male\":male.shape[0],\n",
    "              \"Total Male affected by Heart Disease\":male_risk_of_HeartAttack.shape[0],\n",
    "               \"Percentage of Males getting Affected\":np.round((male_risk_of_HeartAttack.shape[0]*100)/male.shape[0])\n",
    "    \n",
    "}\n"
   ]
  },
  {
   "cell_type": "code",
   "execution_count": 371,
   "id": "ce0123fa",
   "metadata": {},
   "outputs": [
    {
     "data": {
      "text/plain": [
       "{'Total Male': 725,\n",
       " 'Total Male affected by Heart Disease': 458,\n",
       " 'Percentage of Males getting Affected': 63.0}"
      ]
     },
     "execution_count": 371,
     "metadata": {},
     "output_type": "execute_result"
    }
   ],
   "source": [
    "details_male"
   ]
  },
  {
   "cell_type": "markdown",
   "id": "e8f2c87c",
   "metadata": {},
   "source": [
    "### Female VS Heart Disease Risk"
   ]
  },
  {
   "cell_type": "code",
   "execution_count": 372,
   "id": "547d2674",
   "metadata": {},
   "outputs": [
    {
     "name": "stdout",
     "output_type": "stream",
     "text": [
      "(193, 12)\n"
     ]
    }
   ],
   "source": [
    "female=df[df['Sex']=='F']\n",
    "print(female.shape)"
   ]
  },
  {
   "cell_type": "code",
   "execution_count": 373,
   "id": "63f30b6c",
   "metadata": {},
   "outputs": [
    {
     "data": {
      "text/plain": [
       "(50, 12)"
      ]
     },
     "execution_count": 373,
     "metadata": {},
     "output_type": "execute_result"
    }
   ],
   "source": [
    "female_riskOf_HeartAttack=female[female['HeartDisease']==1]\n",
    "female_riskOf_HeartAttack.shape"
   ]
  },
  {
   "cell_type": "code",
   "execution_count": 374,
   "id": "bd19da47",
   "metadata": {},
   "outputs": [],
   "source": [
    "details_female={\"Total Female\":female.shape[0],\n",
    "              \"Total Female affected by Heart Disease\":female_riskOf_HeartAttack.shape[0],\n",
    "               \"Percentage of Females getting Affected\":np.round((female_riskOf_HeartAttack.shape[0]*100)/female.shape[0])\n",
    "    \n",
    "}"
   ]
  },
  {
   "cell_type": "code",
   "execution_count": 375,
   "id": "bff46faf",
   "metadata": {},
   "outputs": [
    {
     "data": {
      "text/plain": [
       "{'Total Female': 193,\n",
       " 'Total Female affected by Heart Disease': 50,\n",
       " 'Percentage of Females getting Affected': 26.0}"
      ]
     },
     "execution_count": 375,
     "metadata": {},
     "output_type": "execute_result"
    }
   ],
   "source": [
    "details_female"
   ]
  },
  {
   "cell_type": "code",
   "execution_count": 376,
   "id": "29790008",
   "metadata": {},
   "outputs": [],
   "source": [
    "Full_details={\"Total Male\":male.shape[0],\n",
    "              \"Total Male affected by Heart Disease\":male_risk_of_HeartAttack.shape[0],\n",
    "               \"Percentage of Males getting Affected\":np.round((male_risk_of_HeartAttack.shape[0]*100)/male.shape[0]),\n",
    "              \"Total Female\":female.shape[0],\n",
    "              \"Total Female affected by Heart Disease\":female_riskOf_HeartAttack.shape[0],\n",
    "               \"Percentage of Females getting Affected\":np.round((female_riskOf_HeartAttack.shape[0]*100)/female.shape[0])\n",
    "    \n",
    "                \n",
    "    \n",
    "}\n",
    "gender_wise=pd.DataFrame(Full_details,index=['Details'])"
   ]
  },
  {
   "cell_type": "code",
   "execution_count": 377,
   "id": "e9061be3",
   "metadata": {},
   "outputs": [
    {
     "data": {
      "text/html": [
       "<div>\n",
       "<style scoped>\n",
       "    .dataframe tbody tr th:only-of-type {\n",
       "        vertical-align: middle;\n",
       "    }\n",
       "\n",
       "    .dataframe tbody tr th {\n",
       "        vertical-align: top;\n",
       "    }\n",
       "\n",
       "    .dataframe thead th {\n",
       "        text-align: right;\n",
       "    }\n",
       "</style>\n",
       "<table border=\"1\" class=\"dataframe\">\n",
       "  <thead>\n",
       "    <tr style=\"text-align: right;\">\n",
       "      <th></th>\n",
       "      <th>Details</th>\n",
       "    </tr>\n",
       "  </thead>\n",
       "  <tbody>\n",
       "    <tr>\n",
       "      <th>Total Male</th>\n",
       "      <td>725.0</td>\n",
       "    </tr>\n",
       "    <tr>\n",
       "      <th>Total Male affected by Heart Disease</th>\n",
       "      <td>458.0</td>\n",
       "    </tr>\n",
       "    <tr>\n",
       "      <th>Percentage of Males getting Affected</th>\n",
       "      <td>63.0</td>\n",
       "    </tr>\n",
       "    <tr>\n",
       "      <th>Total Female</th>\n",
       "      <td>193.0</td>\n",
       "    </tr>\n",
       "    <tr>\n",
       "      <th>Total Female affected by Heart Disease</th>\n",
       "      <td>50.0</td>\n",
       "    </tr>\n",
       "    <tr>\n",
       "      <th>Percentage of Females getting Affected</th>\n",
       "      <td>26.0</td>\n",
       "    </tr>\n",
       "  </tbody>\n",
       "</table>\n",
       "</div>"
      ],
      "text/plain": [
       "                                        Details\n",
       "Total Male                                725.0\n",
       "Total Male affected by Heart Disease      458.0\n",
       "Percentage of Males getting Affected       63.0\n",
       "Total Female                              193.0\n",
       "Total Female affected by Heart Disease     50.0\n",
       "Percentage of Females getting Affected     26.0"
      ]
     },
     "execution_count": 377,
     "metadata": {},
     "output_type": "execute_result"
    }
   ],
   "source": [
    "gender_wise.T"
   ]
  },
  {
   "cell_type": "markdown",
   "id": "ddd32c18",
   "metadata": {},
   "source": [
    "### From above data we can conclude that Males are more prone to heart Disease"
   ]
  },
  {
   "cell_type": "code",
   "execution_count": 378,
   "id": "755035df",
   "metadata": {},
   "outputs": [
    {
     "data": {
      "application/vnd.plotly.v1+json": {
       "config": {
        "plotlyServerURL": "https://plot.ly"
       },
       "data": [
        {
         "alignmentgroup": "True",
         "bingroup": "x",
         "hovertemplate": "HeartDisease=0<br>Sex=%{x}<br>count=%{y}<extra></extra>",
         "legendgroup": "0",
         "marker": {
          "color": "#636efa",
          "pattern": {
           "shape": ""
          }
         },
         "name": "0",
         "offsetgroup": "0",
         "orientation": "v",
         "showlegend": true,
         "type": "histogram",
         "x": [
          "M",
          "M",
          "M",
          "M",
          "F",
          "M",
          "F",
          "F",
          "M",
          "F",
          "F",
          "F",
          "F",
          "M",
          "F",
          "M",
          "M",
          "M",
          "M",
          "F",
          "M",
          "M",
          "F",
          "M",
          "F",
          "F",
          "F",
          "F",
          "M",
          "M",
          "M",
          "M",
          "M",
          "M",
          "M",
          "F",
          "F",
          "F",
          "M",
          "M",
          "F",
          "M",
          "F",
          "F",
          "F",
          "M",
          "M",
          "M",
          "F",
          "M",
          "F",
          "M",
          "M",
          "M",
          "M",
          "F",
          "M",
          "F",
          "M",
          "F",
          "F",
          "M",
          "M",
          "M",
          "M",
          "M",
          "M",
          "F",
          "M",
          "M",
          "M",
          "F",
          "M",
          "M",
          "F",
          "F",
          "F",
          "M",
          "M",
          "M",
          "F",
          "F",
          "F",
          "M",
          "M",
          "F",
          "F",
          "M",
          "M",
          "M",
          "M",
          "F",
          "M",
          "M",
          "M",
          "M",
          "M",
          "M",
          "M",
          "M",
          "M",
          "M",
          "F",
          "M",
          "M",
          "M",
          "M",
          "M",
          "M",
          "M",
          "M",
          "M",
          "F",
          "M",
          "M",
          "F",
          "M",
          "F",
          "M",
          "M",
          "M",
          "M",
          "F",
          "F",
          "M",
          "M",
          "F",
          "M",
          "M",
          "M",
          "F",
          "M",
          "M",
          "M",
          "M",
          "M",
          "F",
          "F",
          "M",
          "M",
          "M",
          "F",
          "M",
          "M",
          "M",
          "M",
          "F",
          "M",
          "M",
          "F",
          "M",
          "F",
          "M",
          "M",
          "F",
          "M",
          "M",
          "M",
          "F",
          "F",
          "M",
          "F",
          "F",
          "M",
          "F",
          "M",
          "M",
          "F",
          "M",
          "F",
          "M",
          "F",
          "M",
          "F",
          "F",
          "M",
          "F",
          "F",
          "M",
          "F",
          "M",
          "M",
          "F",
          "M",
          "M",
          "F",
          "M",
          "M",
          "M",
          "M",
          "M",
          "M",
          "M",
          "M",
          "M",
          "M",
          "M",
          "M",
          "M",
          "M",
          "M",
          "M",
          "M",
          "M",
          "M",
          "M",
          "M",
          "M",
          "M",
          "F",
          "M",
          "M",
          "M",
          "M",
          "M",
          "M",
          "M",
          "M",
          "M",
          "M",
          "M",
          "M",
          "M",
          "M",
          "M",
          "M",
          "F",
          "M",
          "M",
          "M",
          "M",
          "M",
          "M",
          "M",
          "M",
          "M",
          "M",
          "M",
          "M",
          "M",
          "M",
          "M",
          "M",
          "F",
          "M",
          "M",
          "F",
          "M",
          "F",
          "M",
          "M",
          "M",
          "M",
          "F",
          "F",
          "M",
          "M",
          "M",
          "M",
          "M",
          "F",
          "F",
          "F",
          "F",
          "F",
          "M",
          "F",
          "M",
          "M",
          "F",
          "M",
          "M",
          "M",
          "M",
          "F",
          "F",
          "F",
          "F",
          "F",
          "M",
          "M",
          "F",
          "M",
          "M",
          "F",
          "F",
          "M",
          "F",
          "F",
          "M",
          "F",
          "F",
          "M",
          "M",
          "M",
          "M",
          "M",
          "M",
          "F",
          "M",
          "M",
          "F",
          "F",
          "F",
          "F",
          "M",
          "F",
          "M",
          "F",
          "M",
          "F",
          "F",
          "F",
          "M",
          "F",
          "F",
          "M",
          "M",
          "M",
          "F",
          "F",
          "F",
          "M",
          "M",
          "M",
          "F",
          "M",
          "F",
          "F",
          "F",
          "F",
          "F",
          "M",
          "M",
          "M",
          "M",
          "F",
          "F",
          "M",
          "F",
          "M",
          "F",
          "M",
          "M",
          "M",
          "F",
          "M",
          "M",
          "M",
          "F",
          "M",
          "M",
          "M",
          "F",
          "F",
          "F",
          "F",
          "M",
          "M",
          "F",
          "M",
          "M",
          "M",
          "F",
          "M",
          "F",
          "F",
          "M",
          "M",
          "M",
          "M",
          "F",
          "M",
          "F",
          "M",
          "M",
          "M",
          "F",
          "M",
          "M",
          "M",
          "F",
          "F",
          "F",
          "M",
          "M",
          "M",
          "F",
          "M",
          "M",
          "F",
          "M",
          "M",
          "M",
          "F",
          "M",
          "F",
          "M",
          "M",
          "F",
          "F",
          "F",
          "M",
          "M",
          "M",
          "M",
          "M",
          "F",
          "M",
          "M"
         ],
         "xaxis": "x",
         "yaxis": "y"
        },
        {
         "alignmentgroup": "True",
         "bingroup": "x",
         "hovertemplate": "HeartDisease=1<br>Sex=%{x}<br>count=%{y}<extra></extra>",
         "legendgroup": "1",
         "marker": {
          "color": "#EF553B",
          "pattern": {
           "shape": ""
          }
         },
         "name": "1",
         "offsetgroup": "1",
         "orientation": "v",
         "showlegend": true,
         "type": "histogram",
         "x": [
          "F",
          "F",
          "M",
          "M",
          "M",
          "M",
          "M",
          "M",
          "M",
          "M",
          "M",
          "M",
          "M",
          "F",
          "M",
          "M",
          "M",
          "F",
          "M",
          "M",
          "M",
          "M",
          "M",
          "M",
          "M",
          "M",
          "M",
          "M",
          "M",
          "M",
          "M",
          "M",
          "M",
          "M",
          "M",
          "M",
          "F",
          "M",
          "M",
          "M",
          "F",
          "M",
          "F",
          "M",
          "F",
          "F",
          "M",
          "M",
          "M",
          "M",
          "M",
          "M",
          "M",
          "M",
          "M",
          "F",
          "M",
          "M",
          "M",
          "M",
          "M",
          "M",
          "M",
          "M",
          "M",
          "M",
          "M",
          "M",
          "M",
          "M",
          "M",
          "M",
          "M",
          "M",
          "M",
          "M",
          "F",
          "M",
          "M",
          "M",
          "F",
          "M",
          "M",
          "M",
          "M",
          "M",
          "M",
          "M",
          "M",
          "M",
          "M",
          "M",
          "M",
          "M",
          "M",
          "M",
          "M",
          "M",
          "M",
          "M",
          "M",
          "M",
          "M",
          "M",
          "M",
          "M",
          "M",
          "M",
          "M",
          "M",
          "M",
          "M",
          "M",
          "M",
          "M",
          "F",
          "M",
          "F",
          "M",
          "M",
          "M",
          "M",
          "M",
          "M",
          "M",
          "M",
          "M",
          "M",
          "M",
          "M",
          "M",
          "F",
          "M",
          "M",
          "M",
          "M",
          "M",
          "M",
          "M",
          "M",
          "M",
          "M",
          "M",
          "M",
          "M",
          "F",
          "M",
          "M",
          "M",
          "M",
          "M",
          "M",
          "M",
          "M",
          "M",
          "M",
          "M",
          "M",
          "M",
          "M",
          "M",
          "M",
          "M",
          "M",
          "M",
          "M",
          "M",
          "M",
          "M",
          "M",
          "F",
          "M",
          "M",
          "M",
          "M",
          "M",
          "M",
          "M",
          "M",
          "M",
          "F",
          "M",
          "M",
          "M",
          "M",
          "M",
          "M",
          "M",
          "F",
          "M",
          "M",
          "M",
          "M",
          "M",
          "M",
          "M",
          "M",
          "M",
          "M",
          "M",
          "M",
          "F",
          "M",
          "M",
          "M",
          "F",
          "M",
          "M",
          "M",
          "M",
          "M",
          "M",
          "M",
          "M",
          "M",
          "M",
          "M",
          "M",
          "M",
          "M",
          "F",
          "M",
          "M",
          "M",
          "M",
          "M",
          "M",
          "M",
          "M",
          "M",
          "M",
          "M",
          "M",
          "M",
          "M",
          "M",
          "M",
          "M",
          "M",
          "M",
          "M",
          "M",
          "M",
          "M",
          "M",
          "M",
          "M",
          "M",
          "M",
          "M",
          "M",
          "M",
          "M",
          "M",
          "M",
          "M",
          "M",
          "M",
          "M",
          "M",
          "M",
          "M",
          "M",
          "M",
          "M",
          "M",
          "M",
          "M",
          "M",
          "M",
          "M",
          "M",
          "M",
          "M",
          "M",
          "M",
          "M",
          "M",
          "M",
          "M",
          "F",
          "M",
          "M",
          "M",
          "M",
          "M",
          "M",
          "M",
          "M",
          "M",
          "M",
          "M",
          "M",
          "M",
          "M",
          "M",
          "M",
          "M",
          "M",
          "M",
          "M",
          "M",
          "M",
          "M",
          "M",
          "M",
          "M",
          "M",
          "M",
          "M",
          "M",
          "M",
          "M",
          "M",
          "M",
          "M",
          "F",
          "M",
          "M",
          "M",
          "M",
          "M",
          "M",
          "M",
          "M",
          "M",
          "M",
          "M",
          "M",
          "M",
          "M",
          "M",
          "M",
          "M",
          "M",
          "M",
          "M",
          "M",
          "M",
          "M",
          "M",
          "M",
          "M",
          "M",
          "M",
          "M",
          "M",
          "M",
          "M",
          "M",
          "M",
          "M",
          "M",
          "M",
          "M",
          "M",
          "M",
          "M",
          "M",
          "M",
          "M",
          "M",
          "M",
          "M",
          "M",
          "M",
          "F",
          "M",
          "M",
          "M",
          "M",
          "M",
          "M",
          "M",
          "F",
          "M",
          "M",
          "M",
          "M",
          "M",
          "M",
          "M",
          "M",
          "M",
          "M",
          "M",
          "M",
          "M",
          "M",
          "M",
          "M",
          "F",
          "M",
          "M",
          "F",
          "M",
          "F",
          "M",
          "F",
          "M",
          "M",
          "M",
          "M",
          "M",
          "M",
          "M",
          "F",
          "M",
          "M",
          "M",
          "M",
          "M",
          "M",
          "M",
          "M",
          "M",
          "F",
          "M",
          "F",
          "F",
          "M",
          "F",
          "M",
          "M",
          "M",
          "M",
          "M",
          "M",
          "F",
          "M",
          "M",
          "M",
          "M",
          "M",
          "M",
          "M",
          "M",
          "M",
          "M",
          "M",
          "F",
          "M",
          "F",
          "M",
          "M",
          "M",
          "M",
          "F",
          "M",
          "M",
          "M",
          "F",
          "M",
          "M",
          "M",
          "M",
          "M",
          "M",
          "M",
          "M",
          "M",
          "M",
          "M",
          "M",
          "M",
          "M",
          "M",
          "M",
          "F",
          "F",
          "F",
          "M",
          "M",
          "F",
          "M",
          "M",
          "F",
          "M",
          "M",
          "M",
          "M",
          "M",
          "M",
          "M",
          "M",
          "M",
          "M",
          "M",
          "M",
          "M",
          "M",
          "M",
          "M",
          "M",
          "F",
          "M",
          "M",
          "F",
          "M",
          "M",
          "M",
          "F",
          "M",
          "F",
          "M",
          "M",
          "M",
          "F"
         ],
         "xaxis": "x",
         "yaxis": "y"
        }
       ],
       "layout": {
        "barmode": "relative",
        "legend": {
         "title": {
          "text": "HeartDisease"
         },
         "tracegroupgap": 0
        },
        "margin": {
         "t": 60
        },
        "template": {
         "data": {
          "bar": [
           {
            "error_x": {
             "color": "#f2f5fa"
            },
            "error_y": {
             "color": "#f2f5fa"
            },
            "marker": {
             "line": {
              "color": "rgb(17,17,17)",
              "width": 0.5
             },
             "pattern": {
              "fillmode": "overlay",
              "size": 10,
              "solidity": 0.2
             }
            },
            "type": "bar"
           }
          ],
          "barpolar": [
           {
            "marker": {
             "line": {
              "color": "rgb(17,17,17)",
              "width": 0.5
             },
             "pattern": {
              "fillmode": "overlay",
              "size": 10,
              "solidity": 0.2
             }
            },
            "type": "barpolar"
           }
          ],
          "carpet": [
           {
            "aaxis": {
             "endlinecolor": "#A2B1C6",
             "gridcolor": "#506784",
             "linecolor": "#506784",
             "minorgridcolor": "#506784",
             "startlinecolor": "#A2B1C6"
            },
            "baxis": {
             "endlinecolor": "#A2B1C6",
             "gridcolor": "#506784",
             "linecolor": "#506784",
             "minorgridcolor": "#506784",
             "startlinecolor": "#A2B1C6"
            },
            "type": "carpet"
           }
          ],
          "choropleth": [
           {
            "colorbar": {
             "outlinewidth": 0,
             "ticks": ""
            },
            "type": "choropleth"
           }
          ],
          "contour": [
           {
            "colorbar": {
             "outlinewidth": 0,
             "ticks": ""
            },
            "colorscale": [
             [
              0,
              "#0d0887"
             ],
             [
              0.1111111111111111,
              "#46039f"
             ],
             [
              0.2222222222222222,
              "#7201a8"
             ],
             [
              0.3333333333333333,
              "#9c179e"
             ],
             [
              0.4444444444444444,
              "#bd3786"
             ],
             [
              0.5555555555555556,
              "#d8576b"
             ],
             [
              0.6666666666666666,
              "#ed7953"
             ],
             [
              0.7777777777777778,
              "#fb9f3a"
             ],
             [
              0.8888888888888888,
              "#fdca26"
             ],
             [
              1,
              "#f0f921"
             ]
            ],
            "type": "contour"
           }
          ],
          "contourcarpet": [
           {
            "colorbar": {
             "outlinewidth": 0,
             "ticks": ""
            },
            "type": "contourcarpet"
           }
          ],
          "heatmap": [
           {
            "colorbar": {
             "outlinewidth": 0,
             "ticks": ""
            },
            "colorscale": [
             [
              0,
              "#0d0887"
             ],
             [
              0.1111111111111111,
              "#46039f"
             ],
             [
              0.2222222222222222,
              "#7201a8"
             ],
             [
              0.3333333333333333,
              "#9c179e"
             ],
             [
              0.4444444444444444,
              "#bd3786"
             ],
             [
              0.5555555555555556,
              "#d8576b"
             ],
             [
              0.6666666666666666,
              "#ed7953"
             ],
             [
              0.7777777777777778,
              "#fb9f3a"
             ],
             [
              0.8888888888888888,
              "#fdca26"
             ],
             [
              1,
              "#f0f921"
             ]
            ],
            "type": "heatmap"
           }
          ],
          "heatmapgl": [
           {
            "colorbar": {
             "outlinewidth": 0,
             "ticks": ""
            },
            "colorscale": [
             [
              0,
              "#0d0887"
             ],
             [
              0.1111111111111111,
              "#46039f"
             ],
             [
              0.2222222222222222,
              "#7201a8"
             ],
             [
              0.3333333333333333,
              "#9c179e"
             ],
             [
              0.4444444444444444,
              "#bd3786"
             ],
             [
              0.5555555555555556,
              "#d8576b"
             ],
             [
              0.6666666666666666,
              "#ed7953"
             ],
             [
              0.7777777777777778,
              "#fb9f3a"
             ],
             [
              0.8888888888888888,
              "#fdca26"
             ],
             [
              1,
              "#f0f921"
             ]
            ],
            "type": "heatmapgl"
           }
          ],
          "histogram": [
           {
            "marker": {
             "pattern": {
              "fillmode": "overlay",
              "size": 10,
              "solidity": 0.2
             }
            },
            "type": "histogram"
           }
          ],
          "histogram2d": [
           {
            "colorbar": {
             "outlinewidth": 0,
             "ticks": ""
            },
            "colorscale": [
             [
              0,
              "#0d0887"
             ],
             [
              0.1111111111111111,
              "#46039f"
             ],
             [
              0.2222222222222222,
              "#7201a8"
             ],
             [
              0.3333333333333333,
              "#9c179e"
             ],
             [
              0.4444444444444444,
              "#bd3786"
             ],
             [
              0.5555555555555556,
              "#d8576b"
             ],
             [
              0.6666666666666666,
              "#ed7953"
             ],
             [
              0.7777777777777778,
              "#fb9f3a"
             ],
             [
              0.8888888888888888,
              "#fdca26"
             ],
             [
              1,
              "#f0f921"
             ]
            ],
            "type": "histogram2d"
           }
          ],
          "histogram2dcontour": [
           {
            "colorbar": {
             "outlinewidth": 0,
             "ticks": ""
            },
            "colorscale": [
             [
              0,
              "#0d0887"
             ],
             [
              0.1111111111111111,
              "#46039f"
             ],
             [
              0.2222222222222222,
              "#7201a8"
             ],
             [
              0.3333333333333333,
              "#9c179e"
             ],
             [
              0.4444444444444444,
              "#bd3786"
             ],
             [
              0.5555555555555556,
              "#d8576b"
             ],
             [
              0.6666666666666666,
              "#ed7953"
             ],
             [
              0.7777777777777778,
              "#fb9f3a"
             ],
             [
              0.8888888888888888,
              "#fdca26"
             ],
             [
              1,
              "#f0f921"
             ]
            ],
            "type": "histogram2dcontour"
           }
          ],
          "mesh3d": [
           {
            "colorbar": {
             "outlinewidth": 0,
             "ticks": ""
            },
            "type": "mesh3d"
           }
          ],
          "parcoords": [
           {
            "line": {
             "colorbar": {
              "outlinewidth": 0,
              "ticks": ""
             }
            },
            "type": "parcoords"
           }
          ],
          "pie": [
           {
            "automargin": true,
            "type": "pie"
           }
          ],
          "scatter": [
           {
            "marker": {
             "line": {
              "color": "#283442"
             }
            },
            "type": "scatter"
           }
          ],
          "scatter3d": [
           {
            "line": {
             "colorbar": {
              "outlinewidth": 0,
              "ticks": ""
             }
            },
            "marker": {
             "colorbar": {
              "outlinewidth": 0,
              "ticks": ""
             }
            },
            "type": "scatter3d"
           }
          ],
          "scattercarpet": [
           {
            "marker": {
             "colorbar": {
              "outlinewidth": 0,
              "ticks": ""
             }
            },
            "type": "scattercarpet"
           }
          ],
          "scattergeo": [
           {
            "marker": {
             "colorbar": {
              "outlinewidth": 0,
              "ticks": ""
             }
            },
            "type": "scattergeo"
           }
          ],
          "scattergl": [
           {
            "marker": {
             "line": {
              "color": "#283442"
             }
            },
            "type": "scattergl"
           }
          ],
          "scattermapbox": [
           {
            "marker": {
             "colorbar": {
              "outlinewidth": 0,
              "ticks": ""
             }
            },
            "type": "scattermapbox"
           }
          ],
          "scatterpolar": [
           {
            "marker": {
             "colorbar": {
              "outlinewidth": 0,
              "ticks": ""
             }
            },
            "type": "scatterpolar"
           }
          ],
          "scatterpolargl": [
           {
            "marker": {
             "colorbar": {
              "outlinewidth": 0,
              "ticks": ""
             }
            },
            "type": "scatterpolargl"
           }
          ],
          "scatterternary": [
           {
            "marker": {
             "colorbar": {
              "outlinewidth": 0,
              "ticks": ""
             }
            },
            "type": "scatterternary"
           }
          ],
          "surface": [
           {
            "colorbar": {
             "outlinewidth": 0,
             "ticks": ""
            },
            "colorscale": [
             [
              0,
              "#0d0887"
             ],
             [
              0.1111111111111111,
              "#46039f"
             ],
             [
              0.2222222222222222,
              "#7201a8"
             ],
             [
              0.3333333333333333,
              "#9c179e"
             ],
             [
              0.4444444444444444,
              "#bd3786"
             ],
             [
              0.5555555555555556,
              "#d8576b"
             ],
             [
              0.6666666666666666,
              "#ed7953"
             ],
             [
              0.7777777777777778,
              "#fb9f3a"
             ],
             [
              0.8888888888888888,
              "#fdca26"
             ],
             [
              1,
              "#f0f921"
             ]
            ],
            "type": "surface"
           }
          ],
          "table": [
           {
            "cells": {
             "fill": {
              "color": "#506784"
             },
             "line": {
              "color": "rgb(17,17,17)"
             }
            },
            "header": {
             "fill": {
              "color": "#2a3f5f"
             },
             "line": {
              "color": "rgb(17,17,17)"
             }
            },
            "type": "table"
           }
          ]
         },
         "layout": {
          "annotationdefaults": {
           "arrowcolor": "#f2f5fa",
           "arrowhead": 0,
           "arrowwidth": 1
          },
          "autotypenumbers": "strict",
          "coloraxis": {
           "colorbar": {
            "outlinewidth": 0,
            "ticks": ""
           }
          },
          "colorscale": {
           "diverging": [
            [
             0,
             "#8e0152"
            ],
            [
             0.1,
             "#c51b7d"
            ],
            [
             0.2,
             "#de77ae"
            ],
            [
             0.3,
             "#f1b6da"
            ],
            [
             0.4,
             "#fde0ef"
            ],
            [
             0.5,
             "#f7f7f7"
            ],
            [
             0.6,
             "#e6f5d0"
            ],
            [
             0.7,
             "#b8e186"
            ],
            [
             0.8,
             "#7fbc41"
            ],
            [
             0.9,
             "#4d9221"
            ],
            [
             1,
             "#276419"
            ]
           ],
           "sequential": [
            [
             0,
             "#0d0887"
            ],
            [
             0.1111111111111111,
             "#46039f"
            ],
            [
             0.2222222222222222,
             "#7201a8"
            ],
            [
             0.3333333333333333,
             "#9c179e"
            ],
            [
             0.4444444444444444,
             "#bd3786"
            ],
            [
             0.5555555555555556,
             "#d8576b"
            ],
            [
             0.6666666666666666,
             "#ed7953"
            ],
            [
             0.7777777777777778,
             "#fb9f3a"
            ],
            [
             0.8888888888888888,
             "#fdca26"
            ],
            [
             1,
             "#f0f921"
            ]
           ],
           "sequentialminus": [
            [
             0,
             "#0d0887"
            ],
            [
             0.1111111111111111,
             "#46039f"
            ],
            [
             0.2222222222222222,
             "#7201a8"
            ],
            [
             0.3333333333333333,
             "#9c179e"
            ],
            [
             0.4444444444444444,
             "#bd3786"
            ],
            [
             0.5555555555555556,
             "#d8576b"
            ],
            [
             0.6666666666666666,
             "#ed7953"
            ],
            [
             0.7777777777777778,
             "#fb9f3a"
            ],
            [
             0.8888888888888888,
             "#fdca26"
            ],
            [
             1,
             "#f0f921"
            ]
           ]
          },
          "colorway": [
           "#636efa",
           "#EF553B",
           "#00cc96",
           "#ab63fa",
           "#FFA15A",
           "#19d3f3",
           "#FF6692",
           "#B6E880",
           "#FF97FF",
           "#FECB52"
          ],
          "font": {
           "color": "#f2f5fa"
          },
          "geo": {
           "bgcolor": "rgb(17,17,17)",
           "lakecolor": "rgb(17,17,17)",
           "landcolor": "rgb(17,17,17)",
           "showlakes": true,
           "showland": true,
           "subunitcolor": "#506784"
          },
          "hoverlabel": {
           "align": "left"
          },
          "hovermode": "closest",
          "mapbox": {
           "style": "dark"
          },
          "paper_bgcolor": "rgb(17,17,17)",
          "plot_bgcolor": "rgb(17,17,17)",
          "polar": {
           "angularaxis": {
            "gridcolor": "#506784",
            "linecolor": "#506784",
            "ticks": ""
           },
           "bgcolor": "rgb(17,17,17)",
           "radialaxis": {
            "gridcolor": "#506784",
            "linecolor": "#506784",
            "ticks": ""
           }
          },
          "scene": {
           "xaxis": {
            "backgroundcolor": "rgb(17,17,17)",
            "gridcolor": "#506784",
            "gridwidth": 2,
            "linecolor": "#506784",
            "showbackground": true,
            "ticks": "",
            "zerolinecolor": "#C8D4E3"
           },
           "yaxis": {
            "backgroundcolor": "rgb(17,17,17)",
            "gridcolor": "#506784",
            "gridwidth": 2,
            "linecolor": "#506784",
            "showbackground": true,
            "ticks": "",
            "zerolinecolor": "#C8D4E3"
           },
           "zaxis": {
            "backgroundcolor": "rgb(17,17,17)",
            "gridcolor": "#506784",
            "gridwidth": 2,
            "linecolor": "#506784",
            "showbackground": true,
            "ticks": "",
            "zerolinecolor": "#C8D4E3"
           }
          },
          "shapedefaults": {
           "line": {
            "color": "#f2f5fa"
           }
          },
          "sliderdefaults": {
           "bgcolor": "#C8D4E3",
           "bordercolor": "rgb(17,17,17)",
           "borderwidth": 1,
           "tickwidth": 0
          },
          "ternary": {
           "aaxis": {
            "gridcolor": "#506784",
            "linecolor": "#506784",
            "ticks": ""
           },
           "baxis": {
            "gridcolor": "#506784",
            "linecolor": "#506784",
            "ticks": ""
           },
           "bgcolor": "rgb(17,17,17)",
           "caxis": {
            "gridcolor": "#506784",
            "linecolor": "#506784",
            "ticks": ""
           }
          },
          "title": {
           "x": 0.05
          },
          "updatemenudefaults": {
           "bgcolor": "#506784",
           "borderwidth": 0
          },
          "xaxis": {
           "automargin": true,
           "gridcolor": "#283442",
           "linecolor": "#506784",
           "ticks": "",
           "title": {
            "standoff": 15
           },
           "zerolinecolor": "#283442",
           "zerolinewidth": 2
          },
          "yaxis": {
           "automargin": true,
           "gridcolor": "#283442",
           "linecolor": "#506784",
           "ticks": "",
           "title": {
            "standoff": 15
           },
           "zerolinecolor": "#283442",
           "zerolinewidth": 2
          }
         }
        },
        "xaxis": {
         "anchor": "y",
         "domain": [
          0,
          1
         ],
         "title": {
          "text": "Sex"
         }
        },
        "yaxis": {
         "anchor": "x",
         "domain": [
          0,
          1
         ],
         "title": {
          "text": "count"
         }
        }
       }
      },
      "text/html": [
       "<div>                            <div id=\"f28eec2d-1a3a-4e7f-b8fc-5dbbc24c0408\" class=\"plotly-graph-div\" style=\"height:525px; width:100%;\"></div>            <script type=\"text/javascript\">                require([\"plotly\"], function(Plotly) {                    window.PLOTLYENV=window.PLOTLYENV || {};                                    if (document.getElementById(\"f28eec2d-1a3a-4e7f-b8fc-5dbbc24c0408\")) {                    Plotly.newPlot(                        \"f28eec2d-1a3a-4e7f-b8fc-5dbbc24c0408\",                        [{\"alignmentgroup\":\"True\",\"bingroup\":\"x\",\"hovertemplate\":\"HeartDisease=0<br>Sex=%{x}<br>count=%{y}<extra></extra>\",\"legendgroup\":\"0\",\"marker\":{\"color\":\"#636efa\",\"pattern\":{\"shape\":\"\"}},\"name\":\"0\",\"offsetgroup\":\"0\",\"orientation\":\"v\",\"showlegend\":true,\"type\":\"histogram\",\"x\":[\"M\",\"M\",\"M\",\"M\",\"F\",\"M\",\"F\",\"F\",\"M\",\"F\",\"F\",\"F\",\"F\",\"M\",\"F\",\"M\",\"M\",\"M\",\"M\",\"F\",\"M\",\"M\",\"F\",\"M\",\"F\",\"F\",\"F\",\"F\",\"M\",\"M\",\"M\",\"M\",\"M\",\"M\",\"M\",\"F\",\"F\",\"F\",\"M\",\"M\",\"F\",\"M\",\"F\",\"F\",\"F\",\"M\",\"M\",\"M\",\"F\",\"M\",\"F\",\"M\",\"M\",\"M\",\"M\",\"F\",\"M\",\"F\",\"M\",\"F\",\"F\",\"M\",\"M\",\"M\",\"M\",\"M\",\"M\",\"F\",\"M\",\"M\",\"M\",\"F\",\"M\",\"M\",\"F\",\"F\",\"F\",\"M\",\"M\",\"M\",\"F\",\"F\",\"F\",\"M\",\"M\",\"F\",\"F\",\"M\",\"M\",\"M\",\"M\",\"F\",\"M\",\"M\",\"M\",\"M\",\"M\",\"M\",\"M\",\"M\",\"M\",\"M\",\"F\",\"M\",\"M\",\"M\",\"M\",\"M\",\"M\",\"M\",\"M\",\"M\",\"F\",\"M\",\"M\",\"F\",\"M\",\"F\",\"M\",\"M\",\"M\",\"M\",\"F\",\"F\",\"M\",\"M\",\"F\",\"M\",\"M\",\"M\",\"F\",\"M\",\"M\",\"M\",\"M\",\"M\",\"F\",\"F\",\"M\",\"M\",\"M\",\"F\",\"M\",\"M\",\"M\",\"M\",\"F\",\"M\",\"M\",\"F\",\"M\",\"F\",\"M\",\"M\",\"F\",\"M\",\"M\",\"M\",\"F\",\"F\",\"M\",\"F\",\"F\",\"M\",\"F\",\"M\",\"M\",\"F\",\"M\",\"F\",\"M\",\"F\",\"M\",\"F\",\"F\",\"M\",\"F\",\"F\",\"M\",\"F\",\"M\",\"M\",\"F\",\"M\",\"M\",\"F\",\"M\",\"M\",\"M\",\"M\",\"M\",\"M\",\"M\",\"M\",\"M\",\"M\",\"M\",\"M\",\"M\",\"M\",\"M\",\"M\",\"M\",\"M\",\"M\",\"M\",\"M\",\"M\",\"M\",\"F\",\"M\",\"M\",\"M\",\"M\",\"M\",\"M\",\"M\",\"M\",\"M\",\"M\",\"M\",\"M\",\"M\",\"M\",\"M\",\"M\",\"F\",\"M\",\"M\",\"M\",\"M\",\"M\",\"M\",\"M\",\"M\",\"M\",\"M\",\"M\",\"M\",\"M\",\"M\",\"M\",\"M\",\"F\",\"M\",\"M\",\"F\",\"M\",\"F\",\"M\",\"M\",\"M\",\"M\",\"F\",\"F\",\"M\",\"M\",\"M\",\"M\",\"M\",\"F\",\"F\",\"F\",\"F\",\"F\",\"M\",\"F\",\"M\",\"M\",\"F\",\"M\",\"M\",\"M\",\"M\",\"F\",\"F\",\"F\",\"F\",\"F\",\"M\",\"M\",\"F\",\"M\",\"M\",\"F\",\"F\",\"M\",\"F\",\"F\",\"M\",\"F\",\"F\",\"M\",\"M\",\"M\",\"M\",\"M\",\"M\",\"F\",\"M\",\"M\",\"F\",\"F\",\"F\",\"F\",\"M\",\"F\",\"M\",\"F\",\"M\",\"F\",\"F\",\"F\",\"M\",\"F\",\"F\",\"M\",\"M\",\"M\",\"F\",\"F\",\"F\",\"M\",\"M\",\"M\",\"F\",\"M\",\"F\",\"F\",\"F\",\"F\",\"F\",\"M\",\"M\",\"M\",\"M\",\"F\",\"F\",\"M\",\"F\",\"M\",\"F\",\"M\",\"M\",\"M\",\"F\",\"M\",\"M\",\"M\",\"F\",\"M\",\"M\",\"M\",\"F\",\"F\",\"F\",\"F\",\"M\",\"M\",\"F\",\"M\",\"M\",\"M\",\"F\",\"M\",\"F\",\"F\",\"M\",\"M\",\"M\",\"M\",\"F\",\"M\",\"F\",\"M\",\"M\",\"M\",\"F\",\"M\",\"M\",\"M\",\"F\",\"F\",\"F\",\"M\",\"M\",\"M\",\"F\",\"M\",\"M\",\"F\",\"M\",\"M\",\"M\",\"F\",\"M\",\"F\",\"M\",\"M\",\"F\",\"F\",\"F\",\"M\",\"M\",\"M\",\"M\",\"M\",\"F\",\"M\",\"M\"],\"xaxis\":\"x\",\"yaxis\":\"y\"},{\"alignmentgroup\":\"True\",\"bingroup\":\"x\",\"hovertemplate\":\"HeartDisease=1<br>Sex=%{x}<br>count=%{y}<extra></extra>\",\"legendgroup\":\"1\",\"marker\":{\"color\":\"#EF553B\",\"pattern\":{\"shape\":\"\"}},\"name\":\"1\",\"offsetgroup\":\"1\",\"orientation\":\"v\",\"showlegend\":true,\"type\":\"histogram\",\"x\":[\"F\",\"F\",\"M\",\"M\",\"M\",\"M\",\"M\",\"M\",\"M\",\"M\",\"M\",\"M\",\"M\",\"F\",\"M\",\"M\",\"M\",\"F\",\"M\",\"M\",\"M\",\"M\",\"M\",\"M\",\"M\",\"M\",\"M\",\"M\",\"M\",\"M\",\"M\",\"M\",\"M\",\"M\",\"M\",\"M\",\"F\",\"M\",\"M\",\"M\",\"F\",\"M\",\"F\",\"M\",\"F\",\"F\",\"M\",\"M\",\"M\",\"M\",\"M\",\"M\",\"M\",\"M\",\"M\",\"F\",\"M\",\"M\",\"M\",\"M\",\"M\",\"M\",\"M\",\"M\",\"M\",\"M\",\"M\",\"M\",\"M\",\"M\",\"M\",\"M\",\"M\",\"M\",\"M\",\"M\",\"F\",\"M\",\"M\",\"M\",\"F\",\"M\",\"M\",\"M\",\"M\",\"M\",\"M\",\"M\",\"M\",\"M\",\"M\",\"M\",\"M\",\"M\",\"M\",\"M\",\"M\",\"M\",\"M\",\"M\",\"M\",\"M\",\"M\",\"M\",\"M\",\"M\",\"M\",\"M\",\"M\",\"M\",\"M\",\"M\",\"M\",\"M\",\"M\",\"F\",\"M\",\"F\",\"M\",\"M\",\"M\",\"M\",\"M\",\"M\",\"M\",\"M\",\"M\",\"M\",\"M\",\"M\",\"M\",\"F\",\"M\",\"M\",\"M\",\"M\",\"M\",\"M\",\"M\",\"M\",\"M\",\"M\",\"M\",\"M\",\"M\",\"F\",\"M\",\"M\",\"M\",\"M\",\"M\",\"M\",\"M\",\"M\",\"M\",\"M\",\"M\",\"M\",\"M\",\"M\",\"M\",\"M\",\"M\",\"M\",\"M\",\"M\",\"M\",\"M\",\"M\",\"M\",\"F\",\"M\",\"M\",\"M\",\"M\",\"M\",\"M\",\"M\",\"M\",\"M\",\"F\",\"M\",\"M\",\"M\",\"M\",\"M\",\"M\",\"M\",\"F\",\"M\",\"M\",\"M\",\"M\",\"M\",\"M\",\"M\",\"M\",\"M\",\"M\",\"M\",\"M\",\"F\",\"M\",\"M\",\"M\",\"F\",\"M\",\"M\",\"M\",\"M\",\"M\",\"M\",\"M\",\"M\",\"M\",\"M\",\"M\",\"M\",\"M\",\"M\",\"F\",\"M\",\"M\",\"M\",\"M\",\"M\",\"M\",\"M\",\"M\",\"M\",\"M\",\"M\",\"M\",\"M\",\"M\",\"M\",\"M\",\"M\",\"M\",\"M\",\"M\",\"M\",\"M\",\"M\",\"M\",\"M\",\"M\",\"M\",\"M\",\"M\",\"M\",\"M\",\"M\",\"M\",\"M\",\"M\",\"M\",\"M\",\"M\",\"M\",\"M\",\"M\",\"M\",\"M\",\"M\",\"M\",\"M\",\"M\",\"M\",\"M\",\"M\",\"M\",\"M\",\"M\",\"M\",\"M\",\"M\",\"M\",\"M\",\"M\",\"F\",\"M\",\"M\",\"M\",\"M\",\"M\",\"M\",\"M\",\"M\",\"M\",\"M\",\"M\",\"M\",\"M\",\"M\",\"M\",\"M\",\"M\",\"M\",\"M\",\"M\",\"M\",\"M\",\"M\",\"M\",\"M\",\"M\",\"M\",\"M\",\"M\",\"M\",\"M\",\"M\",\"M\",\"M\",\"M\",\"F\",\"M\",\"M\",\"M\",\"M\",\"M\",\"M\",\"M\",\"M\",\"M\",\"M\",\"M\",\"M\",\"M\",\"M\",\"M\",\"M\",\"M\",\"M\",\"M\",\"M\",\"M\",\"M\",\"M\",\"M\",\"M\",\"M\",\"M\",\"M\",\"M\",\"M\",\"M\",\"M\",\"M\",\"M\",\"M\",\"M\",\"M\",\"M\",\"M\",\"M\",\"M\",\"M\",\"M\",\"M\",\"M\",\"M\",\"M\",\"M\",\"M\",\"F\",\"M\",\"M\",\"M\",\"M\",\"M\",\"M\",\"M\",\"F\",\"M\",\"M\",\"M\",\"M\",\"M\",\"M\",\"M\",\"M\",\"M\",\"M\",\"M\",\"M\",\"M\",\"M\",\"M\",\"M\",\"F\",\"M\",\"M\",\"F\",\"M\",\"F\",\"M\",\"F\",\"M\",\"M\",\"M\",\"M\",\"M\",\"M\",\"M\",\"F\",\"M\",\"M\",\"M\",\"M\",\"M\",\"M\",\"M\",\"M\",\"M\",\"F\",\"M\",\"F\",\"F\",\"M\",\"F\",\"M\",\"M\",\"M\",\"M\",\"M\",\"M\",\"F\",\"M\",\"M\",\"M\",\"M\",\"M\",\"M\",\"M\",\"M\",\"M\",\"M\",\"M\",\"F\",\"M\",\"F\",\"M\",\"M\",\"M\",\"M\",\"F\",\"M\",\"M\",\"M\",\"F\",\"M\",\"M\",\"M\",\"M\",\"M\",\"M\",\"M\",\"M\",\"M\",\"M\",\"M\",\"M\",\"M\",\"M\",\"M\",\"M\",\"F\",\"F\",\"F\",\"M\",\"M\",\"F\",\"M\",\"M\",\"F\",\"M\",\"M\",\"M\",\"M\",\"M\",\"M\",\"M\",\"M\",\"M\",\"M\",\"M\",\"M\",\"M\",\"M\",\"M\",\"M\",\"M\",\"F\",\"M\",\"M\",\"F\",\"M\",\"M\",\"M\",\"F\",\"M\",\"F\",\"M\",\"M\",\"M\",\"F\"],\"xaxis\":\"x\",\"yaxis\":\"y\"}],                        {\"barmode\":\"relative\",\"legend\":{\"title\":{\"text\":\"HeartDisease\"},\"tracegroupgap\":0},\"margin\":{\"t\":60},\"template\":{\"data\":{\"bar\":[{\"error_x\":{\"color\":\"#f2f5fa\"},\"error_y\":{\"color\":\"#f2f5fa\"},\"marker\":{\"line\":{\"color\":\"rgb(17,17,17)\",\"width\":0.5},\"pattern\":{\"fillmode\":\"overlay\",\"size\":10,\"solidity\":0.2}},\"type\":\"bar\"}],\"barpolar\":[{\"marker\":{\"line\":{\"color\":\"rgb(17,17,17)\",\"width\":0.5},\"pattern\":{\"fillmode\":\"overlay\",\"size\":10,\"solidity\":0.2}},\"type\":\"barpolar\"}],\"carpet\":[{\"aaxis\":{\"endlinecolor\":\"#A2B1C6\",\"gridcolor\":\"#506784\",\"linecolor\":\"#506784\",\"minorgridcolor\":\"#506784\",\"startlinecolor\":\"#A2B1C6\"},\"baxis\":{\"endlinecolor\":\"#A2B1C6\",\"gridcolor\":\"#506784\",\"linecolor\":\"#506784\",\"minorgridcolor\":\"#506784\",\"startlinecolor\":\"#A2B1C6\"},\"type\":\"carpet\"}],\"choropleth\":[{\"colorbar\":{\"outlinewidth\":0,\"ticks\":\"\"},\"type\":\"choropleth\"}],\"contour\":[{\"colorbar\":{\"outlinewidth\":0,\"ticks\":\"\"},\"colorscale\":[[0.0,\"#0d0887\"],[0.1111111111111111,\"#46039f\"],[0.2222222222222222,\"#7201a8\"],[0.3333333333333333,\"#9c179e\"],[0.4444444444444444,\"#bd3786\"],[0.5555555555555556,\"#d8576b\"],[0.6666666666666666,\"#ed7953\"],[0.7777777777777778,\"#fb9f3a\"],[0.8888888888888888,\"#fdca26\"],[1.0,\"#f0f921\"]],\"type\":\"contour\"}],\"contourcarpet\":[{\"colorbar\":{\"outlinewidth\":0,\"ticks\":\"\"},\"type\":\"contourcarpet\"}],\"heatmap\":[{\"colorbar\":{\"outlinewidth\":0,\"ticks\":\"\"},\"colorscale\":[[0.0,\"#0d0887\"],[0.1111111111111111,\"#46039f\"],[0.2222222222222222,\"#7201a8\"],[0.3333333333333333,\"#9c179e\"],[0.4444444444444444,\"#bd3786\"],[0.5555555555555556,\"#d8576b\"],[0.6666666666666666,\"#ed7953\"],[0.7777777777777778,\"#fb9f3a\"],[0.8888888888888888,\"#fdca26\"],[1.0,\"#f0f921\"]],\"type\":\"heatmap\"}],\"heatmapgl\":[{\"colorbar\":{\"outlinewidth\":0,\"ticks\":\"\"},\"colorscale\":[[0.0,\"#0d0887\"],[0.1111111111111111,\"#46039f\"],[0.2222222222222222,\"#7201a8\"],[0.3333333333333333,\"#9c179e\"],[0.4444444444444444,\"#bd3786\"],[0.5555555555555556,\"#d8576b\"],[0.6666666666666666,\"#ed7953\"],[0.7777777777777778,\"#fb9f3a\"],[0.8888888888888888,\"#fdca26\"],[1.0,\"#f0f921\"]],\"type\":\"heatmapgl\"}],\"histogram\":[{\"marker\":{\"pattern\":{\"fillmode\":\"overlay\",\"size\":10,\"solidity\":0.2}},\"type\":\"histogram\"}],\"histogram2d\":[{\"colorbar\":{\"outlinewidth\":0,\"ticks\":\"\"},\"colorscale\":[[0.0,\"#0d0887\"],[0.1111111111111111,\"#46039f\"],[0.2222222222222222,\"#7201a8\"],[0.3333333333333333,\"#9c179e\"],[0.4444444444444444,\"#bd3786\"],[0.5555555555555556,\"#d8576b\"],[0.6666666666666666,\"#ed7953\"],[0.7777777777777778,\"#fb9f3a\"],[0.8888888888888888,\"#fdca26\"],[1.0,\"#f0f921\"]],\"type\":\"histogram2d\"}],\"histogram2dcontour\":[{\"colorbar\":{\"outlinewidth\":0,\"ticks\":\"\"},\"colorscale\":[[0.0,\"#0d0887\"],[0.1111111111111111,\"#46039f\"],[0.2222222222222222,\"#7201a8\"],[0.3333333333333333,\"#9c179e\"],[0.4444444444444444,\"#bd3786\"],[0.5555555555555556,\"#d8576b\"],[0.6666666666666666,\"#ed7953\"],[0.7777777777777778,\"#fb9f3a\"],[0.8888888888888888,\"#fdca26\"],[1.0,\"#f0f921\"]],\"type\":\"histogram2dcontour\"}],\"mesh3d\":[{\"colorbar\":{\"outlinewidth\":0,\"ticks\":\"\"},\"type\":\"mesh3d\"}],\"parcoords\":[{\"line\":{\"colorbar\":{\"outlinewidth\":0,\"ticks\":\"\"}},\"type\":\"parcoords\"}],\"pie\":[{\"automargin\":true,\"type\":\"pie\"}],\"scatter\":[{\"marker\":{\"line\":{\"color\":\"#283442\"}},\"type\":\"scatter\"}],\"scatter3d\":[{\"line\":{\"colorbar\":{\"outlinewidth\":0,\"ticks\":\"\"}},\"marker\":{\"colorbar\":{\"outlinewidth\":0,\"ticks\":\"\"}},\"type\":\"scatter3d\"}],\"scattercarpet\":[{\"marker\":{\"colorbar\":{\"outlinewidth\":0,\"ticks\":\"\"}},\"type\":\"scattercarpet\"}],\"scattergeo\":[{\"marker\":{\"colorbar\":{\"outlinewidth\":0,\"ticks\":\"\"}},\"type\":\"scattergeo\"}],\"scattergl\":[{\"marker\":{\"line\":{\"color\":\"#283442\"}},\"type\":\"scattergl\"}],\"scattermapbox\":[{\"marker\":{\"colorbar\":{\"outlinewidth\":0,\"ticks\":\"\"}},\"type\":\"scattermapbox\"}],\"scatterpolar\":[{\"marker\":{\"colorbar\":{\"outlinewidth\":0,\"ticks\":\"\"}},\"type\":\"scatterpolar\"}],\"scatterpolargl\":[{\"marker\":{\"colorbar\":{\"outlinewidth\":0,\"ticks\":\"\"}},\"type\":\"scatterpolargl\"}],\"scatterternary\":[{\"marker\":{\"colorbar\":{\"outlinewidth\":0,\"ticks\":\"\"}},\"type\":\"scatterternary\"}],\"surface\":[{\"colorbar\":{\"outlinewidth\":0,\"ticks\":\"\"},\"colorscale\":[[0.0,\"#0d0887\"],[0.1111111111111111,\"#46039f\"],[0.2222222222222222,\"#7201a8\"],[0.3333333333333333,\"#9c179e\"],[0.4444444444444444,\"#bd3786\"],[0.5555555555555556,\"#d8576b\"],[0.6666666666666666,\"#ed7953\"],[0.7777777777777778,\"#fb9f3a\"],[0.8888888888888888,\"#fdca26\"],[1.0,\"#f0f921\"]],\"type\":\"surface\"}],\"table\":[{\"cells\":{\"fill\":{\"color\":\"#506784\"},\"line\":{\"color\":\"rgb(17,17,17)\"}},\"header\":{\"fill\":{\"color\":\"#2a3f5f\"},\"line\":{\"color\":\"rgb(17,17,17)\"}},\"type\":\"table\"}]},\"layout\":{\"annotationdefaults\":{\"arrowcolor\":\"#f2f5fa\",\"arrowhead\":0,\"arrowwidth\":1},\"autotypenumbers\":\"strict\",\"coloraxis\":{\"colorbar\":{\"outlinewidth\":0,\"ticks\":\"\"}},\"colorscale\":{\"diverging\":[[0,\"#8e0152\"],[0.1,\"#c51b7d\"],[0.2,\"#de77ae\"],[0.3,\"#f1b6da\"],[0.4,\"#fde0ef\"],[0.5,\"#f7f7f7\"],[0.6,\"#e6f5d0\"],[0.7,\"#b8e186\"],[0.8,\"#7fbc41\"],[0.9,\"#4d9221\"],[1,\"#276419\"]],\"sequential\":[[0.0,\"#0d0887\"],[0.1111111111111111,\"#46039f\"],[0.2222222222222222,\"#7201a8\"],[0.3333333333333333,\"#9c179e\"],[0.4444444444444444,\"#bd3786\"],[0.5555555555555556,\"#d8576b\"],[0.6666666666666666,\"#ed7953\"],[0.7777777777777778,\"#fb9f3a\"],[0.8888888888888888,\"#fdca26\"],[1.0,\"#f0f921\"]],\"sequentialminus\":[[0.0,\"#0d0887\"],[0.1111111111111111,\"#46039f\"],[0.2222222222222222,\"#7201a8\"],[0.3333333333333333,\"#9c179e\"],[0.4444444444444444,\"#bd3786\"],[0.5555555555555556,\"#d8576b\"],[0.6666666666666666,\"#ed7953\"],[0.7777777777777778,\"#fb9f3a\"],[0.8888888888888888,\"#fdca26\"],[1.0,\"#f0f921\"]]},\"colorway\":[\"#636efa\",\"#EF553B\",\"#00cc96\",\"#ab63fa\",\"#FFA15A\",\"#19d3f3\",\"#FF6692\",\"#B6E880\",\"#FF97FF\",\"#FECB52\"],\"font\":{\"color\":\"#f2f5fa\"},\"geo\":{\"bgcolor\":\"rgb(17,17,17)\",\"lakecolor\":\"rgb(17,17,17)\",\"landcolor\":\"rgb(17,17,17)\",\"showlakes\":true,\"showland\":true,\"subunitcolor\":\"#506784\"},\"hoverlabel\":{\"align\":\"left\"},\"hovermode\":\"closest\",\"mapbox\":{\"style\":\"dark\"},\"paper_bgcolor\":\"rgb(17,17,17)\",\"plot_bgcolor\":\"rgb(17,17,17)\",\"polar\":{\"angularaxis\":{\"gridcolor\":\"#506784\",\"linecolor\":\"#506784\",\"ticks\":\"\"},\"bgcolor\":\"rgb(17,17,17)\",\"radialaxis\":{\"gridcolor\":\"#506784\",\"linecolor\":\"#506784\",\"ticks\":\"\"}},\"scene\":{\"xaxis\":{\"backgroundcolor\":\"rgb(17,17,17)\",\"gridcolor\":\"#506784\",\"gridwidth\":2,\"linecolor\":\"#506784\",\"showbackground\":true,\"ticks\":\"\",\"zerolinecolor\":\"#C8D4E3\"},\"yaxis\":{\"backgroundcolor\":\"rgb(17,17,17)\",\"gridcolor\":\"#506784\",\"gridwidth\":2,\"linecolor\":\"#506784\",\"showbackground\":true,\"ticks\":\"\",\"zerolinecolor\":\"#C8D4E3\"},\"zaxis\":{\"backgroundcolor\":\"rgb(17,17,17)\",\"gridcolor\":\"#506784\",\"gridwidth\":2,\"linecolor\":\"#506784\",\"showbackground\":true,\"ticks\":\"\",\"zerolinecolor\":\"#C8D4E3\"}},\"shapedefaults\":{\"line\":{\"color\":\"#f2f5fa\"}},\"sliderdefaults\":{\"bgcolor\":\"#C8D4E3\",\"bordercolor\":\"rgb(17,17,17)\",\"borderwidth\":1,\"tickwidth\":0},\"ternary\":{\"aaxis\":{\"gridcolor\":\"#506784\",\"linecolor\":\"#506784\",\"ticks\":\"\"},\"baxis\":{\"gridcolor\":\"#506784\",\"linecolor\":\"#506784\",\"ticks\":\"\"},\"bgcolor\":\"rgb(17,17,17)\",\"caxis\":{\"gridcolor\":\"#506784\",\"linecolor\":\"#506784\",\"ticks\":\"\"}},\"title\":{\"x\":0.05},\"updatemenudefaults\":{\"bgcolor\":\"#506784\",\"borderwidth\":0},\"xaxis\":{\"automargin\":true,\"gridcolor\":\"#283442\",\"linecolor\":\"#506784\",\"ticks\":\"\",\"title\":{\"standoff\":15},\"zerolinecolor\":\"#283442\",\"zerolinewidth\":2},\"yaxis\":{\"automargin\":true,\"gridcolor\":\"#283442\",\"linecolor\":\"#506784\",\"ticks\":\"\",\"title\":{\"standoff\":15},\"zerolinecolor\":\"#283442\",\"zerolinewidth\":2}}},\"xaxis\":{\"anchor\":\"y\",\"domain\":[0.0,1.0],\"title\":{\"text\":\"Sex\"}},\"yaxis\":{\"anchor\":\"x\",\"domain\":[0.0,1.0],\"title\":{\"text\":\"count\"}}},                        {\"responsive\": true}                    ).then(function(){\n",
       "                            \n",
       "var gd = document.getElementById('f28eec2d-1a3a-4e7f-b8fc-5dbbc24c0408');\n",
       "var x = new MutationObserver(function (mutations, observer) {{\n",
       "        var display = window.getComputedStyle(gd).display;\n",
       "        if (!display || display === 'none') {{\n",
       "            console.log([gd, 'removed!']);\n",
       "            Plotly.purge(gd);\n",
       "            observer.disconnect();\n",
       "        }}\n",
       "}});\n",
       "\n",
       "// Listen for the removal of the full notebook cells\n",
       "var notebookContainer = gd.closest('#notebook-container');\n",
       "if (notebookContainer) {{\n",
       "    x.observe(notebookContainer, {childList: true});\n",
       "}}\n",
       "\n",
       "// Listen for the clearing of the current output cell\n",
       "var outputEl = gd.closest('.output');\n",
       "if (outputEl) {{\n",
       "    x.observe(outputEl, {childList: true});\n",
       "}}\n",
       "\n",
       "                        })                };                });            </script>        </div>"
      ]
     },
     "metadata": {},
     "output_type": "display_data"
    }
   ],
   "source": [
    "fig=px.histogram(df,x='Sex',color='HeartDisease',template='plotly_dark')\n",
    "fig.show()"
   ]
  },
  {
   "cell_type": "markdown",
   "id": "a199f032",
   "metadata": {},
   "source": [
    "### Old Age VS Heart Disease "
   ]
  },
  {
   "cell_type": "code",
   "execution_count": 379,
   "id": "4b362ea8",
   "metadata": {},
   "outputs": [
    {
     "data": {
      "text/plain": [
       "(498, 12)"
      ]
     },
     "execution_count": 379,
     "metadata": {},
     "output_type": "execute_result"
    }
   ],
   "source": [
    "old_age=df[df['Age']>df['Age'].mean()]\n",
    "old_age.shape"
   ]
  },
  {
   "cell_type": "code",
   "execution_count": 380,
   "id": "d5ac2302",
   "metadata": {},
   "outputs": [
    {
     "data": {
      "text/plain": [
       "(334, 12)"
      ]
     },
     "execution_count": 380,
     "metadata": {},
     "output_type": "execute_result"
    }
   ],
   "source": [
    "old_age_risk=old_age[old_age['HeartDisease']==1]\n",
    "old_age_risk.shape"
   ]
  },
  {
   "cell_type": "code",
   "execution_count": 381,
   "id": "322616b2",
   "metadata": {},
   "outputs": [],
   "source": [
    "oldAge_details={ 'Total old age people':old_age.shape[0],\n",
    "                 'old age people who suffered Heart Diasese':old_age_risk.shape[0],\n",
    "                 '% of old age people who suffered Heart Diasese':np.round(old_age_risk.shape[0]*100/old_age.shape[0])\n",
    "                  }"
   ]
  },
  {
   "cell_type": "code",
   "execution_count": 382,
   "id": "da1af636",
   "metadata": {},
   "outputs": [],
   "source": [
    "old_age_details=pd.DataFrame(oldAge_details,index=['Details'])"
   ]
  },
  {
   "cell_type": "code",
   "execution_count": 383,
   "id": "4d513749",
   "metadata": {},
   "outputs": [
    {
     "data": {
      "text/html": [
       "<div>\n",
       "<style scoped>\n",
       "    .dataframe tbody tr th:only-of-type {\n",
       "        vertical-align: middle;\n",
       "    }\n",
       "\n",
       "    .dataframe tbody tr th {\n",
       "        vertical-align: top;\n",
       "    }\n",
       "\n",
       "    .dataframe thead th {\n",
       "        text-align: right;\n",
       "    }\n",
       "</style>\n",
       "<table border=\"1\" class=\"dataframe\">\n",
       "  <thead>\n",
       "    <tr style=\"text-align: right;\">\n",
       "      <th></th>\n",
       "      <th>Details</th>\n",
       "    </tr>\n",
       "  </thead>\n",
       "  <tbody>\n",
       "    <tr>\n",
       "      <th>Total old age people</th>\n",
       "      <td>498.0</td>\n",
       "    </tr>\n",
       "    <tr>\n",
       "      <th>old age people who suffered Heart Diasese</th>\n",
       "      <td>334.0</td>\n",
       "    </tr>\n",
       "    <tr>\n",
       "      <th>% of old age people who suffered Heart Diasese</th>\n",
       "      <td>67.0</td>\n",
       "    </tr>\n",
       "  </tbody>\n",
       "</table>\n",
       "</div>"
      ],
      "text/plain": [
       "                                                Details\n",
       "Total old age people                              498.0\n",
       "old age people who suffered Heart Diasese         334.0\n",
       "% of old age people who suffered Heart Diasese     67.0"
      ]
     },
     "execution_count": 383,
     "metadata": {},
     "output_type": "execute_result"
    }
   ],
   "source": [
    "old_age_details.T"
   ]
  },
  {
   "cell_type": "markdown",
   "id": "ede30086",
   "metadata": {},
   "source": [
    "### Young people VS Heart Disease"
   ]
  },
  {
   "cell_type": "code",
   "execution_count": 384,
   "id": "a24e4b28",
   "metadata": {},
   "outputs": [
    {
     "data": {
      "text/plain": [
       "420"
      ]
     },
     "execution_count": 384,
     "metadata": {},
     "output_type": "execute_result"
    }
   ],
   "source": [
    "young_people=df[df['Age']<df['Age'].mean()]\n",
    "young_people.shape[0]"
   ]
  },
  {
   "cell_type": "code",
   "execution_count": 385,
   "id": "10b4db7c",
   "metadata": {},
   "outputs": [
    {
     "data": {
      "text/plain": [
       "174"
      ]
     },
     "execution_count": 385,
     "metadata": {},
     "output_type": "execute_result"
    }
   ],
   "source": [
    "young_people_risk=young_people[young_people['HeartDisease']==1]\n",
    "young_people_risk.shape[0]"
   ]
  },
  {
   "cell_type": "code",
   "execution_count": 386,
   "id": "adb086b8",
   "metadata": {},
   "outputs": [],
   "source": [
    "young_people_details={'Total young people':young_people.shape[0],\n",
    "                      'Young people who have heart Disease':young_people_risk.shape[0],\n",
    "                      '% of young people who have heart Disease':np.round((young_people_risk.shape[0]*100)/young_people.shape[0])\n",
    "                       \n",
    "    \n",
    "}"
   ]
  },
  {
   "cell_type": "code",
   "execution_count": 387,
   "id": "c53d8a2b",
   "metadata": {},
   "outputs": [],
   "source": [
    "young_people_details=pd.DataFrame(young_people_details,index=['details'])"
   ]
  },
  {
   "cell_type": "code",
   "execution_count": 388,
   "id": "7625a901",
   "metadata": {},
   "outputs": [
    {
     "data": {
      "text/html": [
       "<div>\n",
       "<style scoped>\n",
       "    .dataframe tbody tr th:only-of-type {\n",
       "        vertical-align: middle;\n",
       "    }\n",
       "\n",
       "    .dataframe tbody tr th {\n",
       "        vertical-align: top;\n",
       "    }\n",
       "\n",
       "    .dataframe thead th {\n",
       "        text-align: right;\n",
       "    }\n",
       "</style>\n",
       "<table border=\"1\" class=\"dataframe\">\n",
       "  <thead>\n",
       "    <tr style=\"text-align: right;\">\n",
       "      <th></th>\n",
       "      <th>details</th>\n",
       "    </tr>\n",
       "  </thead>\n",
       "  <tbody>\n",
       "    <tr>\n",
       "      <th>Total young people</th>\n",
       "      <td>420.0</td>\n",
       "    </tr>\n",
       "    <tr>\n",
       "      <th>Young people who have heart Disease</th>\n",
       "      <td>174.0</td>\n",
       "    </tr>\n",
       "    <tr>\n",
       "      <th>% of young people who have heart Disease</th>\n",
       "      <td>41.0</td>\n",
       "    </tr>\n",
       "  </tbody>\n",
       "</table>\n",
       "</div>"
      ],
      "text/plain": [
       "                                          details\n",
       "Total young people                          420.0\n",
       "Young people who have heart Disease         174.0\n",
       "% of young people who have heart Disease     41.0"
      ]
     },
     "execution_count": 388,
     "metadata": {},
     "output_type": "execute_result"
    }
   ],
   "source": [
    "young_people_details.T"
   ]
  },
  {
   "cell_type": "markdown",
   "id": "ea26ace4",
   "metadata": {},
   "source": [
    "### From above data we can conclude that old age people are more prone to heart Disease than young people "
   ]
  },
  {
   "cell_type": "markdown",
   "id": "05e7b089",
   "metadata": {},
   "source": [
    "### Which type of ChestPain can lead to HeartDisease?"
   ]
  },
  {
   "cell_type": "code",
   "execution_count": 389,
   "id": "6468de76",
   "metadata": {},
   "outputs": [
    {
     "data": {
      "text/plain": [
       "ASY    496\n",
       "NAP    203\n",
       "ATA    173\n",
       "TA      46\n",
       "Name: ChestPainType, dtype: int64"
      ]
     },
     "execution_count": 389,
     "metadata": {},
     "output_type": "execute_result"
    }
   ],
   "source": [
    "df['ChestPainType'].value_counts()"
   ]
  },
  {
   "cell_type": "code",
   "execution_count": 390,
   "id": "b1ff53e2",
   "metadata": {},
   "outputs": [
    {
     "data": {
      "application/vnd.plotly.v1+json": {
       "config": {
        "plotlyServerURL": "https://plot.ly"
       },
       "data": [
        {
         "domain": {
          "x": [
           0,
           1
          ],
          "y": [
           0,
           1
          ]
         },
         "hovertemplate": "ChestPainType=%{label}<extra></extra>",
         "labels": [
          "ATA",
          "NAP",
          "ATA",
          "ASY",
          "NAP",
          "NAP",
          "ATA",
          "ATA",
          "ASY",
          "ATA",
          "NAP",
          "ATA",
          "ATA",
          "ASY",
          "NAP",
          "ATA",
          "ASY",
          "ATA",
          "ASY",
          "ATA",
          "TA",
          "ATA",
          "ATA",
          "ATA",
          "NAP",
          "NAP",
          "ASY",
          "ATA",
          "ATA",
          "ATA",
          "NAP",
          "NAP",
          "ASY",
          "ASY",
          "ATA",
          "ATA",
          "ASY",
          "ATA",
          "ATA",
          "ASY",
          "ATA",
          "NAP",
          "ATA",
          "NAP",
          "ASY",
          "NAP",
          "ASY",
          "ATA",
          "NAP",
          "ASY",
          "ASY",
          "ASY",
          "ATA",
          "ATA",
          "ASY",
          "ATA",
          "ASY",
          "NAP",
          "ASY",
          "ASY",
          "ATA",
          "NAP",
          "ASY",
          "ASY",
          "ATA",
          "ATA",
          "ASY",
          "ATA",
          "ASY",
          "ASY",
          "ATA",
          "ATA",
          "ASY",
          "ASY",
          "ASY",
          "NAP",
          "ASY",
          "ASY",
          "ATA",
          "ASY",
          "NAP",
          "ATA",
          "ASY",
          "ATA",
          "ASY",
          "ASY",
          "ASY",
          "ATA",
          "TA",
          "ASY",
          "ATA",
          "ASY",
          "ATA",
          "ASY",
          "NAP",
          "ASY",
          "ATA",
          "NAP",
          "ASY",
          "ATA",
          "ASY",
          "ASY",
          "ASY",
          "ASY",
          "ASY",
          "ATA",
          "ASY",
          "ATA",
          "ASY",
          "ATA",
          "ATA",
          "ASY",
          "ASY",
          "ATA",
          "NAP",
          "ASY",
          "ASY",
          "ASY",
          "TA",
          "TA",
          "NAP",
          "NAP",
          "ASY",
          "ATA",
          "ATA",
          "ATA",
          "ATA",
          "ASY",
          "ATA",
          "NAP",
          "NAP",
          "ASY",
          "ASY",
          "ASY",
          "ASY",
          "NAP",
          "ATA",
          "ATA",
          "ASY",
          "ASY",
          "ASY",
          "ASY",
          "ASY",
          "ASY",
          "ATA",
          "ASY",
          "ATA",
          "ATA",
          "ATA",
          "ASY",
          "ATA",
          "ATA",
          "ATA",
          "ASY",
          "ATA",
          "ASY",
          "ASY",
          "ASY",
          "ASY",
          "ATA",
          "ASY",
          "ASY",
          "ATA",
          "ATA",
          "ATA",
          "TA",
          "ASY",
          "ATA",
          "ASY",
          "NAP",
          "ATA",
          "NAP",
          "ATA",
          "NAP",
          "ASY",
          "ASY",
          "ASY",
          "ATA",
          "NAP",
          "ASY",
          "ASY",
          "ATA",
          "ASY",
          "ASY",
          "ATA",
          "NAP",
          "ATA",
          "ASY",
          "ASY",
          "ASY",
          "ASY",
          "ATA",
          "ATA",
          "NAP",
          "ATA",
          "TA",
          "ASY",
          "ATA",
          "ASY",
          "TA",
          "TA",
          "NAP",
          "NAP",
          "ATA",
          "ATA",
          "ASY",
          "ATA",
          "ATA",
          "ATA",
          "ASY",
          "ASY",
          "NAP",
          "NAP",
          "NAP",
          "ASY",
          "TA",
          "ASY",
          "NAP",
          "ATA",
          "ATA",
          "ASY",
          "ASY",
          "NAP",
          "NAP",
          "ATA",
          "ASY",
          "NAP",
          "ASY",
          "ATA",
          "ASY",
          "ASY",
          "NAP",
          "ATA",
          "ASY",
          "ATA",
          "ATA",
          "ASY",
          "TA",
          "ASY",
          "ASY",
          "ATA",
          "ASY",
          "ATA",
          "ATA",
          "ASY",
          "TA",
          "NAP",
          "ASY",
          "ASY",
          "ASY",
          "ASY",
          "ASY",
          "ASY",
          "ATA",
          "ASY",
          "NAP",
          "ATA",
          "NAP",
          "NAP",
          "ATA",
          "ATA",
          "ATA",
          "ASY",
          "ASY",
          "NAP",
          "ATA",
          "ASY",
          "ATA",
          "ASY",
          "NAP",
          "ASY",
          "ATA",
          "ASY",
          "NAP",
          "ATA",
          "NAP",
          "NAP",
          "ASY",
          "ASY",
          "ATA",
          "NAP",
          "ASY",
          "NAP",
          "ATA",
          "ASY",
          "NAP",
          "ASY",
          "ATA",
          "ATA",
          "ATA",
          "NAP",
          "ATA",
          "ASY",
          "ASY",
          "TA",
          "ASY",
          "ASY",
          "ASY",
          "ASY",
          "ASY",
          "ASY",
          "ATA",
          "ASY",
          "ASY",
          "ASY",
          "ASY",
          "ASY",
          "ATA",
          "ASY",
          "ASY",
          "ASY",
          "ASY",
          "ASY",
          "ASY",
          "ASY",
          "ATA",
          "NAP",
          "ASY",
          "ASY",
          "ASY",
          "NAP",
          "ASY",
          "ASY",
          "ASY",
          "ASY",
          "ASY",
          "NAP",
          "ASY",
          "ASY",
          "ASY",
          "NAP",
          "ASY",
          "NAP",
          "ASY",
          "ASY",
          "TA",
          "NAP",
          "ASY",
          "ASY",
          "ASY",
          "ASY",
          "ASY",
          "ASY",
          "ASY",
          "ASY",
          "ASY",
          "ASY",
          "ASY",
          "ASY",
          "ASY",
          "ASY",
          "ASY",
          "ASY",
          "ASY",
          "ASY",
          "TA",
          "ASY",
          "ATA",
          "NAP",
          "NAP",
          "NAP",
          "ASY",
          "NAP",
          "ASY",
          "NAP",
          "ASY",
          "ASY",
          "ASY",
          "ASY",
          "ASY",
          "ASY",
          "ASY",
          "ASY",
          "ASY",
          "ASY",
          "NAP",
          "NAP",
          "ASY",
          "ASY",
          "ASY",
          "ASY",
          "ASY",
          "ASY",
          "ASY",
          "ASY",
          "ASY",
          "ASY",
          "ASY",
          "ASY",
          "ASY",
          "ASY",
          "ASY",
          "ASY",
          "ASY",
          "ASY",
          "ASY",
          "TA",
          "ASY",
          "ASY",
          "NAP",
          "ASY",
          "ASY",
          "ASY",
          "ASY",
          "NAP",
          "ASY",
          "ASY",
          "ASY",
          "ASY",
          "NAP",
          "ASY",
          "ASY",
          "ASY",
          "NAP",
          "ASY",
          "ASY",
          "ASY",
          "ASY",
          "ASY",
          "ASY",
          "NAP",
          "NAP",
          "ASY",
          "NAP",
          "NAP",
          "ATA",
          "ATA",
          "ASY",
          "ASY",
          "NAP",
          "ASY",
          "ASY",
          "ASY",
          "ASY",
          "ASY",
          "ASY",
          "ASY",
          "ASY",
          "NAP",
          "NAP",
          "NAP",
          "ASY",
          "ASY",
          "ASY",
          "ASY",
          "NAP",
          "ASY",
          "ASY",
          "ASY",
          "NAP",
          "NAP",
          "ASY",
          "ASY",
          "ASY",
          "ASY",
          "ASY",
          "NAP",
          "ASY",
          "ASY",
          "ASY",
          "ASY",
          "ASY",
          "ASY",
          "ASY",
          "NAP",
          "NAP",
          "NAP",
          "ATA",
          "ASY",
          "ATA",
          "ASY",
          "ASY",
          "ASY",
          "NAP",
          "ATA",
          "ASY",
          "ASY",
          "ASY",
          "ASY",
          "NAP",
          "ATA",
          "NAP",
          "TA",
          "ASY",
          "ASY",
          "ATA",
          "ATA",
          "ASY",
          "TA",
          "ASY",
          "NAP",
          "ASY",
          "TA",
          "NAP",
          "ASY",
          "ASY",
          "ASY",
          "ASY",
          "ASY",
          "ASY",
          "ASY",
          "ASY",
          "ASY",
          "ASY",
          "ASY",
          "NAP",
          "ASY",
          "NAP",
          "ASY",
          "ASY",
          "ASY",
          "ASY",
          "NAP",
          "TA",
          "ASY",
          "NAP",
          "NAP",
          "ASY",
          "NAP",
          "ASY",
          "ASY",
          "ASY",
          "ASY",
          "ASY",
          "ASY",
          "NAP",
          "ASY",
          "ATA",
          "NAP",
          "ASY",
          "ASY",
          "ASY",
          "ASY",
          "ASY",
          "ASY",
          "ASY",
          "NAP",
          "ASY",
          "ASY",
          "ASY",
          "NAP",
          "NAP",
          "ASY",
          "ASY",
          "ATA",
          "ASY",
          "NAP",
          "TA",
          "ASY",
          "TA",
          "ASY",
          "NAP",
          "NAP",
          "TA",
          "NAP",
          "NAP",
          "ASY",
          "NAP",
          "NAP",
          "ASY",
          "NAP",
          "ATA",
          "ASY",
          "ASY",
          "ASY",
          "ASY",
          "ASY",
          "ASY",
          "ASY",
          "ASY",
          "ASY",
          "ASY",
          "ASY",
          "ASY",
          "ASY",
          "ASY",
          "ASY",
          "ASY",
          "ASY",
          "ASY",
          "ASY",
          "ASY",
          "ASY",
          "NAP",
          "ASY",
          "ATA",
          "ASY",
          "NAP",
          "ASY",
          "NAP",
          "ATA",
          "ASY",
          "ASY",
          "ASY",
          "ASY",
          "ASY",
          "ASY",
          "NAP",
          "ASY",
          "ASY",
          "ASY",
          "NAP",
          "NAP",
          "ASY",
          "NAP",
          "ASY",
          "ASY",
          "ASY",
          "ASY",
          "ASY",
          "ASY",
          "TA",
          "ASY",
          "ASY",
          "ATA",
          "ASY",
          "NAP",
          "ATA",
          "ASY",
          "ATA",
          "ASY",
          "NAP",
          "ASY",
          "ASY",
          "ASY",
          "ASY",
          "ASY",
          "NAP",
          "TA",
          "ASY",
          "ASY",
          "ASY",
          "ASY",
          "TA",
          "TA",
          "ASY",
          "ATA",
          "ASY",
          "ASY",
          "ATA",
          "NAP",
          "ASY",
          "NAP",
          "NAP",
          "NAP",
          "NAP",
          "ASY",
          "NAP",
          "ASY",
          "ASY",
          "ASY",
          "ASY",
          "TA",
          "NAP",
          "ASY",
          "ASY",
          "ASY",
          "NAP",
          "ATA",
          "NAP",
          "NAP",
          "NAP",
          "ASY",
          "ATA",
          "ASY",
          "ASY",
          "ATA",
          "NAP",
          "ATA",
          "ATA",
          "ATA",
          "ASY",
          "NAP",
          "ASY",
          "ATA",
          "NAP",
          "ASY",
          "NAP",
          "TA",
          "TA",
          "ASY",
          "ASY",
          "ATA",
          "NAP",
          "NAP",
          "ASY",
          "ASY",
          "ATA",
          "NAP",
          "ASY",
          "ASY",
          "ASY",
          "NAP",
          "NAP",
          "ATA",
          "ASY",
          "ASY",
          "ASY",
          "NAP",
          "ASY",
          "TA",
          "ATA",
          "TA",
          "ATA",
          "ASY",
          "ATA",
          "ASY",
          "ASY",
          "ASY",
          "ASY",
          "ASY",
          "ASY",
          "ASY",
          "NAP",
          "ATA",
          "NAP",
          "ASY",
          "ASY",
          "ASY",
          "ASY",
          "ASY",
          "NAP",
          "ASY",
          "ASY",
          "ATA",
          "ASY",
          "ATA",
          "ASY",
          "NAP",
          "ATA",
          "ATA",
          "ASY",
          "ASY",
          "TA",
          "ASY",
          "NAP",
          "ASY",
          "ASY",
          "NAP",
          "NAP",
          "NAP",
          "ASY",
          "NAP",
          "ATA",
          "ASY",
          "ASY",
          "ASY",
          "ASY",
          "ASY",
          "NAP",
          "NAP",
          "NAP",
          "ASY",
          "ATA",
          "ASY",
          "ASY",
          "ASY",
          "NAP",
          "TA",
          "ATA",
          "ASY",
          "ASY",
          "ASY",
          "NAP",
          "NAP",
          "NAP",
          "NAP",
          "NAP",
          "ASY",
          "NAP",
          "ATA",
          "ASY",
          "ATA",
          "TA",
          "ASY",
          "TA",
          "ASY",
          "ATA",
          "ASY",
          "ASY",
          "ASY",
          "ASY",
          "NAP",
          "ASY",
          "TA",
          "TA",
          "NAP",
          "ASY",
          "NAP",
          "TA",
          "ASY",
          "ASY",
          "NAP",
          "ASY",
          "NAP",
          "NAP",
          "ASY",
          "ASY",
          "ASY",
          "NAP",
          "NAP",
          "ASY",
          "ASY",
          "ASY",
          "NAP",
          "ASY",
          "ASY",
          "ATA",
          "ASY",
          "NAP",
          "ATA",
          "ASY",
          "NAP",
          "TA",
          "ASY",
          "NAP",
          "ASY",
          "ASY",
          "ASY",
          "ASY",
          "TA",
          "NAP",
          "NAP",
          "NAP",
          "NAP",
          "TA",
          "NAP",
          "NAP",
          "ASY",
          "ATA",
          "ATA",
          "NAP",
          "NAP",
          "NAP",
          "ATA",
          "ASY",
          "ASY",
          "NAP",
          "ASY",
          "ASY",
          "ATA",
          "NAP",
          "ASY",
          "TA",
          "TA",
          "ASY",
          "ASY",
          "ASY",
          "ASY",
          "NAP",
          "ASY",
          "ASY",
          "ASY",
          "NAP",
          "ATA",
          "NAP",
          "NAP",
          "ASY",
          "ASY",
          "NAP",
          "ASY",
          "ASY",
          "NAP",
          "NAP",
          "ASY",
          "ASY",
          "ATA",
          "ASY",
          "NAP",
          "NAP",
          "ATA",
          "NAP",
          "ASY",
          "NAP",
          "ASY",
          "NAP",
          "ASY",
          "ATA",
          "ATA",
          "ATA",
          "NAP",
          "ATA",
          "ATA",
          "ASY",
          "ASY",
          "NAP",
          "NAP",
          "ASY",
          "ASY",
          "TA",
          "TA",
          "NAP",
          "NAP",
          "ATA",
          "ASY",
          "ASY",
          "NAP",
          "ASY",
          "ATA",
          "ASY",
          "ASY",
          "ASY",
          "ATA",
          "ATA",
          "ATA",
          "NAP",
          "ATA",
          "ASY",
          "ASY",
          "ASY",
          "ATA",
          "ASY",
          "ASY",
          "TA",
          "ASY",
          "ASY",
          "ATA",
          "NAP"
         ],
         "legendgroup": "",
         "name": "",
         "showlegend": true,
         "type": "pie"
        }
       ],
       "layout": {
        "legend": {
         "tracegroupgap": 0
        },
        "margin": {
         "t": 60
        },
        "template": {
         "data": {
          "bar": [
           {
            "error_x": {
             "color": "#2a3f5f"
            },
            "error_y": {
             "color": "#2a3f5f"
            },
            "marker": {
             "line": {
              "color": "#E5ECF6",
              "width": 0.5
             },
             "pattern": {
              "fillmode": "overlay",
              "size": 10,
              "solidity": 0.2
             }
            },
            "type": "bar"
           }
          ],
          "barpolar": [
           {
            "marker": {
             "line": {
              "color": "#E5ECF6",
              "width": 0.5
             },
             "pattern": {
              "fillmode": "overlay",
              "size": 10,
              "solidity": 0.2
             }
            },
            "type": "barpolar"
           }
          ],
          "carpet": [
           {
            "aaxis": {
             "endlinecolor": "#2a3f5f",
             "gridcolor": "white",
             "linecolor": "white",
             "minorgridcolor": "white",
             "startlinecolor": "#2a3f5f"
            },
            "baxis": {
             "endlinecolor": "#2a3f5f",
             "gridcolor": "white",
             "linecolor": "white",
             "minorgridcolor": "white",
             "startlinecolor": "#2a3f5f"
            },
            "type": "carpet"
           }
          ],
          "choropleth": [
           {
            "colorbar": {
             "outlinewidth": 0,
             "ticks": ""
            },
            "type": "choropleth"
           }
          ],
          "contour": [
           {
            "colorbar": {
             "outlinewidth": 0,
             "ticks": ""
            },
            "colorscale": [
             [
              0,
              "#0d0887"
             ],
             [
              0.1111111111111111,
              "#46039f"
             ],
             [
              0.2222222222222222,
              "#7201a8"
             ],
             [
              0.3333333333333333,
              "#9c179e"
             ],
             [
              0.4444444444444444,
              "#bd3786"
             ],
             [
              0.5555555555555556,
              "#d8576b"
             ],
             [
              0.6666666666666666,
              "#ed7953"
             ],
             [
              0.7777777777777778,
              "#fb9f3a"
             ],
             [
              0.8888888888888888,
              "#fdca26"
             ],
             [
              1,
              "#f0f921"
             ]
            ],
            "type": "contour"
           }
          ],
          "contourcarpet": [
           {
            "colorbar": {
             "outlinewidth": 0,
             "ticks": ""
            },
            "type": "contourcarpet"
           }
          ],
          "heatmap": [
           {
            "colorbar": {
             "outlinewidth": 0,
             "ticks": ""
            },
            "colorscale": [
             [
              0,
              "#0d0887"
             ],
             [
              0.1111111111111111,
              "#46039f"
             ],
             [
              0.2222222222222222,
              "#7201a8"
             ],
             [
              0.3333333333333333,
              "#9c179e"
             ],
             [
              0.4444444444444444,
              "#bd3786"
             ],
             [
              0.5555555555555556,
              "#d8576b"
             ],
             [
              0.6666666666666666,
              "#ed7953"
             ],
             [
              0.7777777777777778,
              "#fb9f3a"
             ],
             [
              0.8888888888888888,
              "#fdca26"
             ],
             [
              1,
              "#f0f921"
             ]
            ],
            "type": "heatmap"
           }
          ],
          "heatmapgl": [
           {
            "colorbar": {
             "outlinewidth": 0,
             "ticks": ""
            },
            "colorscale": [
             [
              0,
              "#0d0887"
             ],
             [
              0.1111111111111111,
              "#46039f"
             ],
             [
              0.2222222222222222,
              "#7201a8"
             ],
             [
              0.3333333333333333,
              "#9c179e"
             ],
             [
              0.4444444444444444,
              "#bd3786"
             ],
             [
              0.5555555555555556,
              "#d8576b"
             ],
             [
              0.6666666666666666,
              "#ed7953"
             ],
             [
              0.7777777777777778,
              "#fb9f3a"
             ],
             [
              0.8888888888888888,
              "#fdca26"
             ],
             [
              1,
              "#f0f921"
             ]
            ],
            "type": "heatmapgl"
           }
          ],
          "histogram": [
           {
            "marker": {
             "pattern": {
              "fillmode": "overlay",
              "size": 10,
              "solidity": 0.2
             }
            },
            "type": "histogram"
           }
          ],
          "histogram2d": [
           {
            "colorbar": {
             "outlinewidth": 0,
             "ticks": ""
            },
            "colorscale": [
             [
              0,
              "#0d0887"
             ],
             [
              0.1111111111111111,
              "#46039f"
             ],
             [
              0.2222222222222222,
              "#7201a8"
             ],
             [
              0.3333333333333333,
              "#9c179e"
             ],
             [
              0.4444444444444444,
              "#bd3786"
             ],
             [
              0.5555555555555556,
              "#d8576b"
             ],
             [
              0.6666666666666666,
              "#ed7953"
             ],
             [
              0.7777777777777778,
              "#fb9f3a"
             ],
             [
              0.8888888888888888,
              "#fdca26"
             ],
             [
              1,
              "#f0f921"
             ]
            ],
            "type": "histogram2d"
           }
          ],
          "histogram2dcontour": [
           {
            "colorbar": {
             "outlinewidth": 0,
             "ticks": ""
            },
            "colorscale": [
             [
              0,
              "#0d0887"
             ],
             [
              0.1111111111111111,
              "#46039f"
             ],
             [
              0.2222222222222222,
              "#7201a8"
             ],
             [
              0.3333333333333333,
              "#9c179e"
             ],
             [
              0.4444444444444444,
              "#bd3786"
             ],
             [
              0.5555555555555556,
              "#d8576b"
             ],
             [
              0.6666666666666666,
              "#ed7953"
             ],
             [
              0.7777777777777778,
              "#fb9f3a"
             ],
             [
              0.8888888888888888,
              "#fdca26"
             ],
             [
              1,
              "#f0f921"
             ]
            ],
            "type": "histogram2dcontour"
           }
          ],
          "mesh3d": [
           {
            "colorbar": {
             "outlinewidth": 0,
             "ticks": ""
            },
            "type": "mesh3d"
           }
          ],
          "parcoords": [
           {
            "line": {
             "colorbar": {
              "outlinewidth": 0,
              "ticks": ""
             }
            },
            "type": "parcoords"
           }
          ],
          "pie": [
           {
            "automargin": true,
            "type": "pie"
           }
          ],
          "scatter": [
           {
            "marker": {
             "colorbar": {
              "outlinewidth": 0,
              "ticks": ""
             }
            },
            "type": "scatter"
           }
          ],
          "scatter3d": [
           {
            "line": {
             "colorbar": {
              "outlinewidth": 0,
              "ticks": ""
             }
            },
            "marker": {
             "colorbar": {
              "outlinewidth": 0,
              "ticks": ""
             }
            },
            "type": "scatter3d"
           }
          ],
          "scattercarpet": [
           {
            "marker": {
             "colorbar": {
              "outlinewidth": 0,
              "ticks": ""
             }
            },
            "type": "scattercarpet"
           }
          ],
          "scattergeo": [
           {
            "marker": {
             "colorbar": {
              "outlinewidth": 0,
              "ticks": ""
             }
            },
            "type": "scattergeo"
           }
          ],
          "scattergl": [
           {
            "marker": {
             "colorbar": {
              "outlinewidth": 0,
              "ticks": ""
             }
            },
            "type": "scattergl"
           }
          ],
          "scattermapbox": [
           {
            "marker": {
             "colorbar": {
              "outlinewidth": 0,
              "ticks": ""
             }
            },
            "type": "scattermapbox"
           }
          ],
          "scatterpolar": [
           {
            "marker": {
             "colorbar": {
              "outlinewidth": 0,
              "ticks": ""
             }
            },
            "type": "scatterpolar"
           }
          ],
          "scatterpolargl": [
           {
            "marker": {
             "colorbar": {
              "outlinewidth": 0,
              "ticks": ""
             }
            },
            "type": "scatterpolargl"
           }
          ],
          "scatterternary": [
           {
            "marker": {
             "colorbar": {
              "outlinewidth": 0,
              "ticks": ""
             }
            },
            "type": "scatterternary"
           }
          ],
          "surface": [
           {
            "colorbar": {
             "outlinewidth": 0,
             "ticks": ""
            },
            "colorscale": [
             [
              0,
              "#0d0887"
             ],
             [
              0.1111111111111111,
              "#46039f"
             ],
             [
              0.2222222222222222,
              "#7201a8"
             ],
             [
              0.3333333333333333,
              "#9c179e"
             ],
             [
              0.4444444444444444,
              "#bd3786"
             ],
             [
              0.5555555555555556,
              "#d8576b"
             ],
             [
              0.6666666666666666,
              "#ed7953"
             ],
             [
              0.7777777777777778,
              "#fb9f3a"
             ],
             [
              0.8888888888888888,
              "#fdca26"
             ],
             [
              1,
              "#f0f921"
             ]
            ],
            "type": "surface"
           }
          ],
          "table": [
           {
            "cells": {
             "fill": {
              "color": "#EBF0F8"
             },
             "line": {
              "color": "white"
             }
            },
            "header": {
             "fill": {
              "color": "#C8D4E3"
             },
             "line": {
              "color": "white"
             }
            },
            "type": "table"
           }
          ]
         },
         "layout": {
          "annotationdefaults": {
           "arrowcolor": "#2a3f5f",
           "arrowhead": 0,
           "arrowwidth": 1
          },
          "autotypenumbers": "strict",
          "coloraxis": {
           "colorbar": {
            "outlinewidth": 0,
            "ticks": ""
           }
          },
          "colorscale": {
           "diverging": [
            [
             0,
             "#8e0152"
            ],
            [
             0.1,
             "#c51b7d"
            ],
            [
             0.2,
             "#de77ae"
            ],
            [
             0.3,
             "#f1b6da"
            ],
            [
             0.4,
             "#fde0ef"
            ],
            [
             0.5,
             "#f7f7f7"
            ],
            [
             0.6,
             "#e6f5d0"
            ],
            [
             0.7,
             "#b8e186"
            ],
            [
             0.8,
             "#7fbc41"
            ],
            [
             0.9,
             "#4d9221"
            ],
            [
             1,
             "#276419"
            ]
           ],
           "sequential": [
            [
             0,
             "#0d0887"
            ],
            [
             0.1111111111111111,
             "#46039f"
            ],
            [
             0.2222222222222222,
             "#7201a8"
            ],
            [
             0.3333333333333333,
             "#9c179e"
            ],
            [
             0.4444444444444444,
             "#bd3786"
            ],
            [
             0.5555555555555556,
             "#d8576b"
            ],
            [
             0.6666666666666666,
             "#ed7953"
            ],
            [
             0.7777777777777778,
             "#fb9f3a"
            ],
            [
             0.8888888888888888,
             "#fdca26"
            ],
            [
             1,
             "#f0f921"
            ]
           ],
           "sequentialminus": [
            [
             0,
             "#0d0887"
            ],
            [
             0.1111111111111111,
             "#46039f"
            ],
            [
             0.2222222222222222,
             "#7201a8"
            ],
            [
             0.3333333333333333,
             "#9c179e"
            ],
            [
             0.4444444444444444,
             "#bd3786"
            ],
            [
             0.5555555555555556,
             "#d8576b"
            ],
            [
             0.6666666666666666,
             "#ed7953"
            ],
            [
             0.7777777777777778,
             "#fb9f3a"
            ],
            [
             0.8888888888888888,
             "#fdca26"
            ],
            [
             1,
             "#f0f921"
            ]
           ]
          },
          "colorway": [
           "#636efa",
           "#EF553B",
           "#00cc96",
           "#ab63fa",
           "#FFA15A",
           "#19d3f3",
           "#FF6692",
           "#B6E880",
           "#FF97FF",
           "#FECB52"
          ],
          "font": {
           "color": "#2a3f5f"
          },
          "geo": {
           "bgcolor": "white",
           "lakecolor": "white",
           "landcolor": "#E5ECF6",
           "showlakes": true,
           "showland": true,
           "subunitcolor": "white"
          },
          "hoverlabel": {
           "align": "left"
          },
          "hovermode": "closest",
          "mapbox": {
           "style": "light"
          },
          "paper_bgcolor": "white",
          "plot_bgcolor": "#E5ECF6",
          "polar": {
           "angularaxis": {
            "gridcolor": "white",
            "linecolor": "white",
            "ticks": ""
           },
           "bgcolor": "#E5ECF6",
           "radialaxis": {
            "gridcolor": "white",
            "linecolor": "white",
            "ticks": ""
           }
          },
          "scene": {
           "xaxis": {
            "backgroundcolor": "#E5ECF6",
            "gridcolor": "white",
            "gridwidth": 2,
            "linecolor": "white",
            "showbackground": true,
            "ticks": "",
            "zerolinecolor": "white"
           },
           "yaxis": {
            "backgroundcolor": "#E5ECF6",
            "gridcolor": "white",
            "gridwidth": 2,
            "linecolor": "white",
            "showbackground": true,
            "ticks": "",
            "zerolinecolor": "white"
           },
           "zaxis": {
            "backgroundcolor": "#E5ECF6",
            "gridcolor": "white",
            "gridwidth": 2,
            "linecolor": "white",
            "showbackground": true,
            "ticks": "",
            "zerolinecolor": "white"
           }
          },
          "shapedefaults": {
           "line": {
            "color": "#2a3f5f"
           }
          },
          "ternary": {
           "aaxis": {
            "gridcolor": "white",
            "linecolor": "white",
            "ticks": ""
           },
           "baxis": {
            "gridcolor": "white",
            "linecolor": "white",
            "ticks": ""
           },
           "bgcolor": "#E5ECF6",
           "caxis": {
            "gridcolor": "white",
            "linecolor": "white",
            "ticks": ""
           }
          },
          "title": {
           "x": 0.05
          },
          "xaxis": {
           "automargin": true,
           "gridcolor": "white",
           "linecolor": "white",
           "ticks": "",
           "title": {
            "standoff": 15
           },
           "zerolinecolor": "white",
           "zerolinewidth": 2
          },
          "yaxis": {
           "automargin": true,
           "gridcolor": "white",
           "linecolor": "white",
           "ticks": "",
           "title": {
            "standoff": 15
           },
           "zerolinecolor": "white",
           "zerolinewidth": 2
          }
         }
        }
       }
      },
      "text/html": [
       "<div>                            <div id=\"1ab11ae4-47b0-4619-ab91-09a00d563d53\" class=\"plotly-graph-div\" style=\"height:525px; width:100%;\"></div>            <script type=\"text/javascript\">                require([\"plotly\"], function(Plotly) {                    window.PLOTLYENV=window.PLOTLYENV || {};                                    if (document.getElementById(\"1ab11ae4-47b0-4619-ab91-09a00d563d53\")) {                    Plotly.newPlot(                        \"1ab11ae4-47b0-4619-ab91-09a00d563d53\",                        [{\"domain\":{\"x\":[0.0,1.0],\"y\":[0.0,1.0]},\"hovertemplate\":\"ChestPainType=%{label}<extra></extra>\",\"labels\":[\"ATA\",\"NAP\",\"ATA\",\"ASY\",\"NAP\",\"NAP\",\"ATA\",\"ATA\",\"ASY\",\"ATA\",\"NAP\",\"ATA\",\"ATA\",\"ASY\",\"NAP\",\"ATA\",\"ASY\",\"ATA\",\"ASY\",\"ATA\",\"TA\",\"ATA\",\"ATA\",\"ATA\",\"NAP\",\"NAP\",\"ASY\",\"ATA\",\"ATA\",\"ATA\",\"NAP\",\"NAP\",\"ASY\",\"ASY\",\"ATA\",\"ATA\",\"ASY\",\"ATA\",\"ATA\",\"ASY\",\"ATA\",\"NAP\",\"ATA\",\"NAP\",\"ASY\",\"NAP\",\"ASY\",\"ATA\",\"NAP\",\"ASY\",\"ASY\",\"ASY\",\"ATA\",\"ATA\",\"ASY\",\"ATA\",\"ASY\",\"NAP\",\"ASY\",\"ASY\",\"ATA\",\"NAP\",\"ASY\",\"ASY\",\"ATA\",\"ATA\",\"ASY\",\"ATA\",\"ASY\",\"ASY\",\"ATA\",\"ATA\",\"ASY\",\"ASY\",\"ASY\",\"NAP\",\"ASY\",\"ASY\",\"ATA\",\"ASY\",\"NAP\",\"ATA\",\"ASY\",\"ATA\",\"ASY\",\"ASY\",\"ASY\",\"ATA\",\"TA\",\"ASY\",\"ATA\",\"ASY\",\"ATA\",\"ASY\",\"NAP\",\"ASY\",\"ATA\",\"NAP\",\"ASY\",\"ATA\",\"ASY\",\"ASY\",\"ASY\",\"ASY\",\"ASY\",\"ATA\",\"ASY\",\"ATA\",\"ASY\",\"ATA\",\"ATA\",\"ASY\",\"ASY\",\"ATA\",\"NAP\",\"ASY\",\"ASY\",\"ASY\",\"TA\",\"TA\",\"NAP\",\"NAP\",\"ASY\",\"ATA\",\"ATA\",\"ATA\",\"ATA\",\"ASY\",\"ATA\",\"NAP\",\"NAP\",\"ASY\",\"ASY\",\"ASY\",\"ASY\",\"NAP\",\"ATA\",\"ATA\",\"ASY\",\"ASY\",\"ASY\",\"ASY\",\"ASY\",\"ASY\",\"ATA\",\"ASY\",\"ATA\",\"ATA\",\"ATA\",\"ASY\",\"ATA\",\"ATA\",\"ATA\",\"ASY\",\"ATA\",\"ASY\",\"ASY\",\"ASY\",\"ASY\",\"ATA\",\"ASY\",\"ASY\",\"ATA\",\"ATA\",\"ATA\",\"TA\",\"ASY\",\"ATA\",\"ASY\",\"NAP\",\"ATA\",\"NAP\",\"ATA\",\"NAP\",\"ASY\",\"ASY\",\"ASY\",\"ATA\",\"NAP\",\"ASY\",\"ASY\",\"ATA\",\"ASY\",\"ASY\",\"ATA\",\"NAP\",\"ATA\",\"ASY\",\"ASY\",\"ASY\",\"ASY\",\"ATA\",\"ATA\",\"NAP\",\"ATA\",\"TA\",\"ASY\",\"ATA\",\"ASY\",\"TA\",\"TA\",\"NAP\",\"NAP\",\"ATA\",\"ATA\",\"ASY\",\"ATA\",\"ATA\",\"ATA\",\"ASY\",\"ASY\",\"NAP\",\"NAP\",\"NAP\",\"ASY\",\"TA\",\"ASY\",\"NAP\",\"ATA\",\"ATA\",\"ASY\",\"ASY\",\"NAP\",\"NAP\",\"ATA\",\"ASY\",\"NAP\",\"ASY\",\"ATA\",\"ASY\",\"ASY\",\"NAP\",\"ATA\",\"ASY\",\"ATA\",\"ATA\",\"ASY\",\"TA\",\"ASY\",\"ASY\",\"ATA\",\"ASY\",\"ATA\",\"ATA\",\"ASY\",\"TA\",\"NAP\",\"ASY\",\"ASY\",\"ASY\",\"ASY\",\"ASY\",\"ASY\",\"ATA\",\"ASY\",\"NAP\",\"ATA\",\"NAP\",\"NAP\",\"ATA\",\"ATA\",\"ATA\",\"ASY\",\"ASY\",\"NAP\",\"ATA\",\"ASY\",\"ATA\",\"ASY\",\"NAP\",\"ASY\",\"ATA\",\"ASY\",\"NAP\",\"ATA\",\"NAP\",\"NAP\",\"ASY\",\"ASY\",\"ATA\",\"NAP\",\"ASY\",\"NAP\",\"ATA\",\"ASY\",\"NAP\",\"ASY\",\"ATA\",\"ATA\",\"ATA\",\"NAP\",\"ATA\",\"ASY\",\"ASY\",\"TA\",\"ASY\",\"ASY\",\"ASY\",\"ASY\",\"ASY\",\"ASY\",\"ATA\",\"ASY\",\"ASY\",\"ASY\",\"ASY\",\"ASY\",\"ATA\",\"ASY\",\"ASY\",\"ASY\",\"ASY\",\"ASY\",\"ASY\",\"ASY\",\"ATA\",\"NAP\",\"ASY\",\"ASY\",\"ASY\",\"NAP\",\"ASY\",\"ASY\",\"ASY\",\"ASY\",\"ASY\",\"NAP\",\"ASY\",\"ASY\",\"ASY\",\"NAP\",\"ASY\",\"NAP\",\"ASY\",\"ASY\",\"TA\",\"NAP\",\"ASY\",\"ASY\",\"ASY\",\"ASY\",\"ASY\",\"ASY\",\"ASY\",\"ASY\",\"ASY\",\"ASY\",\"ASY\",\"ASY\",\"ASY\",\"ASY\",\"ASY\",\"ASY\",\"ASY\",\"ASY\",\"TA\",\"ASY\",\"ATA\",\"NAP\",\"NAP\",\"NAP\",\"ASY\",\"NAP\",\"ASY\",\"NAP\",\"ASY\",\"ASY\",\"ASY\",\"ASY\",\"ASY\",\"ASY\",\"ASY\",\"ASY\",\"ASY\",\"ASY\",\"NAP\",\"NAP\",\"ASY\",\"ASY\",\"ASY\",\"ASY\",\"ASY\",\"ASY\",\"ASY\",\"ASY\",\"ASY\",\"ASY\",\"ASY\",\"ASY\",\"ASY\",\"ASY\",\"ASY\",\"ASY\",\"ASY\",\"ASY\",\"ASY\",\"TA\",\"ASY\",\"ASY\",\"NAP\",\"ASY\",\"ASY\",\"ASY\",\"ASY\",\"NAP\",\"ASY\",\"ASY\",\"ASY\",\"ASY\",\"NAP\",\"ASY\",\"ASY\",\"ASY\",\"NAP\",\"ASY\",\"ASY\",\"ASY\",\"ASY\",\"ASY\",\"ASY\",\"NAP\",\"NAP\",\"ASY\",\"NAP\",\"NAP\",\"ATA\",\"ATA\",\"ASY\",\"ASY\",\"NAP\",\"ASY\",\"ASY\",\"ASY\",\"ASY\",\"ASY\",\"ASY\",\"ASY\",\"ASY\",\"NAP\",\"NAP\",\"NAP\",\"ASY\",\"ASY\",\"ASY\",\"ASY\",\"NAP\",\"ASY\",\"ASY\",\"ASY\",\"NAP\",\"NAP\",\"ASY\",\"ASY\",\"ASY\",\"ASY\",\"ASY\",\"NAP\",\"ASY\",\"ASY\",\"ASY\",\"ASY\",\"ASY\",\"ASY\",\"ASY\",\"NAP\",\"NAP\",\"NAP\",\"ATA\",\"ASY\",\"ATA\",\"ASY\",\"ASY\",\"ASY\",\"NAP\",\"ATA\",\"ASY\",\"ASY\",\"ASY\",\"ASY\",\"NAP\",\"ATA\",\"NAP\",\"TA\",\"ASY\",\"ASY\",\"ATA\",\"ATA\",\"ASY\",\"TA\",\"ASY\",\"NAP\",\"ASY\",\"TA\",\"NAP\",\"ASY\",\"ASY\",\"ASY\",\"ASY\",\"ASY\",\"ASY\",\"ASY\",\"ASY\",\"ASY\",\"ASY\",\"ASY\",\"NAP\",\"ASY\",\"NAP\",\"ASY\",\"ASY\",\"ASY\",\"ASY\",\"NAP\",\"TA\",\"ASY\",\"NAP\",\"NAP\",\"ASY\",\"NAP\",\"ASY\",\"ASY\",\"ASY\",\"ASY\",\"ASY\",\"ASY\",\"NAP\",\"ASY\",\"ATA\",\"NAP\",\"ASY\",\"ASY\",\"ASY\",\"ASY\",\"ASY\",\"ASY\",\"ASY\",\"NAP\",\"ASY\",\"ASY\",\"ASY\",\"NAP\",\"NAP\",\"ASY\",\"ASY\",\"ATA\",\"ASY\",\"NAP\",\"TA\",\"ASY\",\"TA\",\"ASY\",\"NAP\",\"NAP\",\"TA\",\"NAP\",\"NAP\",\"ASY\",\"NAP\",\"NAP\",\"ASY\",\"NAP\",\"ATA\",\"ASY\",\"ASY\",\"ASY\",\"ASY\",\"ASY\",\"ASY\",\"ASY\",\"ASY\",\"ASY\",\"ASY\",\"ASY\",\"ASY\",\"ASY\",\"ASY\",\"ASY\",\"ASY\",\"ASY\",\"ASY\",\"ASY\",\"ASY\",\"ASY\",\"NAP\",\"ASY\",\"ATA\",\"ASY\",\"NAP\",\"ASY\",\"NAP\",\"ATA\",\"ASY\",\"ASY\",\"ASY\",\"ASY\",\"ASY\",\"ASY\",\"NAP\",\"ASY\",\"ASY\",\"ASY\",\"NAP\",\"NAP\",\"ASY\",\"NAP\",\"ASY\",\"ASY\",\"ASY\",\"ASY\",\"ASY\",\"ASY\",\"TA\",\"ASY\",\"ASY\",\"ATA\",\"ASY\",\"NAP\",\"ATA\",\"ASY\",\"ATA\",\"ASY\",\"NAP\",\"ASY\",\"ASY\",\"ASY\",\"ASY\",\"ASY\",\"NAP\",\"TA\",\"ASY\",\"ASY\",\"ASY\",\"ASY\",\"TA\",\"TA\",\"ASY\",\"ATA\",\"ASY\",\"ASY\",\"ATA\",\"NAP\",\"ASY\",\"NAP\",\"NAP\",\"NAP\",\"NAP\",\"ASY\",\"NAP\",\"ASY\",\"ASY\",\"ASY\",\"ASY\",\"TA\",\"NAP\",\"ASY\",\"ASY\",\"ASY\",\"NAP\",\"ATA\",\"NAP\",\"NAP\",\"NAP\",\"ASY\",\"ATA\",\"ASY\",\"ASY\",\"ATA\",\"NAP\",\"ATA\",\"ATA\",\"ATA\",\"ASY\",\"NAP\",\"ASY\",\"ATA\",\"NAP\",\"ASY\",\"NAP\",\"TA\",\"TA\",\"ASY\",\"ASY\",\"ATA\",\"NAP\",\"NAP\",\"ASY\",\"ASY\",\"ATA\",\"NAP\",\"ASY\",\"ASY\",\"ASY\",\"NAP\",\"NAP\",\"ATA\",\"ASY\",\"ASY\",\"ASY\",\"NAP\",\"ASY\",\"TA\",\"ATA\",\"TA\",\"ATA\",\"ASY\",\"ATA\",\"ASY\",\"ASY\",\"ASY\",\"ASY\",\"ASY\",\"ASY\",\"ASY\",\"NAP\",\"ATA\",\"NAP\",\"ASY\",\"ASY\",\"ASY\",\"ASY\",\"ASY\",\"NAP\",\"ASY\",\"ASY\",\"ATA\",\"ASY\",\"ATA\",\"ASY\",\"NAP\",\"ATA\",\"ATA\",\"ASY\",\"ASY\",\"TA\",\"ASY\",\"NAP\",\"ASY\",\"ASY\",\"NAP\",\"NAP\",\"NAP\",\"ASY\",\"NAP\",\"ATA\",\"ASY\",\"ASY\",\"ASY\",\"ASY\",\"ASY\",\"NAP\",\"NAP\",\"NAP\",\"ASY\",\"ATA\",\"ASY\",\"ASY\",\"ASY\",\"NAP\",\"TA\",\"ATA\",\"ASY\",\"ASY\",\"ASY\",\"NAP\",\"NAP\",\"NAP\",\"NAP\",\"NAP\",\"ASY\",\"NAP\",\"ATA\",\"ASY\",\"ATA\",\"TA\",\"ASY\",\"TA\",\"ASY\",\"ATA\",\"ASY\",\"ASY\",\"ASY\",\"ASY\",\"NAP\",\"ASY\",\"TA\",\"TA\",\"NAP\",\"ASY\",\"NAP\",\"TA\",\"ASY\",\"ASY\",\"NAP\",\"ASY\",\"NAP\",\"NAP\",\"ASY\",\"ASY\",\"ASY\",\"NAP\",\"NAP\",\"ASY\",\"ASY\",\"ASY\",\"NAP\",\"ASY\",\"ASY\",\"ATA\",\"ASY\",\"NAP\",\"ATA\",\"ASY\",\"NAP\",\"TA\",\"ASY\",\"NAP\",\"ASY\",\"ASY\",\"ASY\",\"ASY\",\"TA\",\"NAP\",\"NAP\",\"NAP\",\"NAP\",\"TA\",\"NAP\",\"NAP\",\"ASY\",\"ATA\",\"ATA\",\"NAP\",\"NAP\",\"NAP\",\"ATA\",\"ASY\",\"ASY\",\"NAP\",\"ASY\",\"ASY\",\"ATA\",\"NAP\",\"ASY\",\"TA\",\"TA\",\"ASY\",\"ASY\",\"ASY\",\"ASY\",\"NAP\",\"ASY\",\"ASY\",\"ASY\",\"NAP\",\"ATA\",\"NAP\",\"NAP\",\"ASY\",\"ASY\",\"NAP\",\"ASY\",\"ASY\",\"NAP\",\"NAP\",\"ASY\",\"ASY\",\"ATA\",\"ASY\",\"NAP\",\"NAP\",\"ATA\",\"NAP\",\"ASY\",\"NAP\",\"ASY\",\"NAP\",\"ASY\",\"ATA\",\"ATA\",\"ATA\",\"NAP\",\"ATA\",\"ATA\",\"ASY\",\"ASY\",\"NAP\",\"NAP\",\"ASY\",\"ASY\",\"TA\",\"TA\",\"NAP\",\"NAP\",\"ATA\",\"ASY\",\"ASY\",\"NAP\",\"ASY\",\"ATA\",\"ASY\",\"ASY\",\"ASY\",\"ATA\",\"ATA\",\"ATA\",\"NAP\",\"ATA\",\"ASY\",\"ASY\",\"ASY\",\"ATA\",\"ASY\",\"ASY\",\"TA\",\"ASY\",\"ASY\",\"ATA\",\"NAP\"],\"legendgroup\":\"\",\"name\":\"\",\"showlegend\":true,\"type\":\"pie\"}],                        {\"legend\":{\"tracegroupgap\":0},\"margin\":{\"t\":60},\"template\":{\"data\":{\"bar\":[{\"error_x\":{\"color\":\"#2a3f5f\"},\"error_y\":{\"color\":\"#2a3f5f\"},\"marker\":{\"line\":{\"color\":\"#E5ECF6\",\"width\":0.5},\"pattern\":{\"fillmode\":\"overlay\",\"size\":10,\"solidity\":0.2}},\"type\":\"bar\"}],\"barpolar\":[{\"marker\":{\"line\":{\"color\":\"#E5ECF6\",\"width\":0.5},\"pattern\":{\"fillmode\":\"overlay\",\"size\":10,\"solidity\":0.2}},\"type\":\"barpolar\"}],\"carpet\":[{\"aaxis\":{\"endlinecolor\":\"#2a3f5f\",\"gridcolor\":\"white\",\"linecolor\":\"white\",\"minorgridcolor\":\"white\",\"startlinecolor\":\"#2a3f5f\"},\"baxis\":{\"endlinecolor\":\"#2a3f5f\",\"gridcolor\":\"white\",\"linecolor\":\"white\",\"minorgridcolor\":\"white\",\"startlinecolor\":\"#2a3f5f\"},\"type\":\"carpet\"}],\"choropleth\":[{\"colorbar\":{\"outlinewidth\":0,\"ticks\":\"\"},\"type\":\"choropleth\"}],\"contour\":[{\"colorbar\":{\"outlinewidth\":0,\"ticks\":\"\"},\"colorscale\":[[0.0,\"#0d0887\"],[0.1111111111111111,\"#46039f\"],[0.2222222222222222,\"#7201a8\"],[0.3333333333333333,\"#9c179e\"],[0.4444444444444444,\"#bd3786\"],[0.5555555555555556,\"#d8576b\"],[0.6666666666666666,\"#ed7953\"],[0.7777777777777778,\"#fb9f3a\"],[0.8888888888888888,\"#fdca26\"],[1.0,\"#f0f921\"]],\"type\":\"contour\"}],\"contourcarpet\":[{\"colorbar\":{\"outlinewidth\":0,\"ticks\":\"\"},\"type\":\"contourcarpet\"}],\"heatmap\":[{\"colorbar\":{\"outlinewidth\":0,\"ticks\":\"\"},\"colorscale\":[[0.0,\"#0d0887\"],[0.1111111111111111,\"#46039f\"],[0.2222222222222222,\"#7201a8\"],[0.3333333333333333,\"#9c179e\"],[0.4444444444444444,\"#bd3786\"],[0.5555555555555556,\"#d8576b\"],[0.6666666666666666,\"#ed7953\"],[0.7777777777777778,\"#fb9f3a\"],[0.8888888888888888,\"#fdca26\"],[1.0,\"#f0f921\"]],\"type\":\"heatmap\"}],\"heatmapgl\":[{\"colorbar\":{\"outlinewidth\":0,\"ticks\":\"\"},\"colorscale\":[[0.0,\"#0d0887\"],[0.1111111111111111,\"#46039f\"],[0.2222222222222222,\"#7201a8\"],[0.3333333333333333,\"#9c179e\"],[0.4444444444444444,\"#bd3786\"],[0.5555555555555556,\"#d8576b\"],[0.6666666666666666,\"#ed7953\"],[0.7777777777777778,\"#fb9f3a\"],[0.8888888888888888,\"#fdca26\"],[1.0,\"#f0f921\"]],\"type\":\"heatmapgl\"}],\"histogram\":[{\"marker\":{\"pattern\":{\"fillmode\":\"overlay\",\"size\":10,\"solidity\":0.2}},\"type\":\"histogram\"}],\"histogram2d\":[{\"colorbar\":{\"outlinewidth\":0,\"ticks\":\"\"},\"colorscale\":[[0.0,\"#0d0887\"],[0.1111111111111111,\"#46039f\"],[0.2222222222222222,\"#7201a8\"],[0.3333333333333333,\"#9c179e\"],[0.4444444444444444,\"#bd3786\"],[0.5555555555555556,\"#d8576b\"],[0.6666666666666666,\"#ed7953\"],[0.7777777777777778,\"#fb9f3a\"],[0.8888888888888888,\"#fdca26\"],[1.0,\"#f0f921\"]],\"type\":\"histogram2d\"}],\"histogram2dcontour\":[{\"colorbar\":{\"outlinewidth\":0,\"ticks\":\"\"},\"colorscale\":[[0.0,\"#0d0887\"],[0.1111111111111111,\"#46039f\"],[0.2222222222222222,\"#7201a8\"],[0.3333333333333333,\"#9c179e\"],[0.4444444444444444,\"#bd3786\"],[0.5555555555555556,\"#d8576b\"],[0.6666666666666666,\"#ed7953\"],[0.7777777777777778,\"#fb9f3a\"],[0.8888888888888888,\"#fdca26\"],[1.0,\"#f0f921\"]],\"type\":\"histogram2dcontour\"}],\"mesh3d\":[{\"colorbar\":{\"outlinewidth\":0,\"ticks\":\"\"},\"type\":\"mesh3d\"}],\"parcoords\":[{\"line\":{\"colorbar\":{\"outlinewidth\":0,\"ticks\":\"\"}},\"type\":\"parcoords\"}],\"pie\":[{\"automargin\":true,\"type\":\"pie\"}],\"scatter\":[{\"marker\":{\"colorbar\":{\"outlinewidth\":0,\"ticks\":\"\"}},\"type\":\"scatter\"}],\"scatter3d\":[{\"line\":{\"colorbar\":{\"outlinewidth\":0,\"ticks\":\"\"}},\"marker\":{\"colorbar\":{\"outlinewidth\":0,\"ticks\":\"\"}},\"type\":\"scatter3d\"}],\"scattercarpet\":[{\"marker\":{\"colorbar\":{\"outlinewidth\":0,\"ticks\":\"\"}},\"type\":\"scattercarpet\"}],\"scattergeo\":[{\"marker\":{\"colorbar\":{\"outlinewidth\":0,\"ticks\":\"\"}},\"type\":\"scattergeo\"}],\"scattergl\":[{\"marker\":{\"colorbar\":{\"outlinewidth\":0,\"ticks\":\"\"}},\"type\":\"scattergl\"}],\"scattermapbox\":[{\"marker\":{\"colorbar\":{\"outlinewidth\":0,\"ticks\":\"\"}},\"type\":\"scattermapbox\"}],\"scatterpolar\":[{\"marker\":{\"colorbar\":{\"outlinewidth\":0,\"ticks\":\"\"}},\"type\":\"scatterpolar\"}],\"scatterpolargl\":[{\"marker\":{\"colorbar\":{\"outlinewidth\":0,\"ticks\":\"\"}},\"type\":\"scatterpolargl\"}],\"scatterternary\":[{\"marker\":{\"colorbar\":{\"outlinewidth\":0,\"ticks\":\"\"}},\"type\":\"scatterternary\"}],\"surface\":[{\"colorbar\":{\"outlinewidth\":0,\"ticks\":\"\"},\"colorscale\":[[0.0,\"#0d0887\"],[0.1111111111111111,\"#46039f\"],[0.2222222222222222,\"#7201a8\"],[0.3333333333333333,\"#9c179e\"],[0.4444444444444444,\"#bd3786\"],[0.5555555555555556,\"#d8576b\"],[0.6666666666666666,\"#ed7953\"],[0.7777777777777778,\"#fb9f3a\"],[0.8888888888888888,\"#fdca26\"],[1.0,\"#f0f921\"]],\"type\":\"surface\"}],\"table\":[{\"cells\":{\"fill\":{\"color\":\"#EBF0F8\"},\"line\":{\"color\":\"white\"}},\"header\":{\"fill\":{\"color\":\"#C8D4E3\"},\"line\":{\"color\":\"white\"}},\"type\":\"table\"}]},\"layout\":{\"annotationdefaults\":{\"arrowcolor\":\"#2a3f5f\",\"arrowhead\":0,\"arrowwidth\":1},\"autotypenumbers\":\"strict\",\"coloraxis\":{\"colorbar\":{\"outlinewidth\":0,\"ticks\":\"\"}},\"colorscale\":{\"diverging\":[[0,\"#8e0152\"],[0.1,\"#c51b7d\"],[0.2,\"#de77ae\"],[0.3,\"#f1b6da\"],[0.4,\"#fde0ef\"],[0.5,\"#f7f7f7\"],[0.6,\"#e6f5d0\"],[0.7,\"#b8e186\"],[0.8,\"#7fbc41\"],[0.9,\"#4d9221\"],[1,\"#276419\"]],\"sequential\":[[0.0,\"#0d0887\"],[0.1111111111111111,\"#46039f\"],[0.2222222222222222,\"#7201a8\"],[0.3333333333333333,\"#9c179e\"],[0.4444444444444444,\"#bd3786\"],[0.5555555555555556,\"#d8576b\"],[0.6666666666666666,\"#ed7953\"],[0.7777777777777778,\"#fb9f3a\"],[0.8888888888888888,\"#fdca26\"],[1.0,\"#f0f921\"]],\"sequentialminus\":[[0.0,\"#0d0887\"],[0.1111111111111111,\"#46039f\"],[0.2222222222222222,\"#7201a8\"],[0.3333333333333333,\"#9c179e\"],[0.4444444444444444,\"#bd3786\"],[0.5555555555555556,\"#d8576b\"],[0.6666666666666666,\"#ed7953\"],[0.7777777777777778,\"#fb9f3a\"],[0.8888888888888888,\"#fdca26\"],[1.0,\"#f0f921\"]]},\"colorway\":[\"#636efa\",\"#EF553B\",\"#00cc96\",\"#ab63fa\",\"#FFA15A\",\"#19d3f3\",\"#FF6692\",\"#B6E880\",\"#FF97FF\",\"#FECB52\"],\"font\":{\"color\":\"#2a3f5f\"},\"geo\":{\"bgcolor\":\"white\",\"lakecolor\":\"white\",\"landcolor\":\"#E5ECF6\",\"showlakes\":true,\"showland\":true,\"subunitcolor\":\"white\"},\"hoverlabel\":{\"align\":\"left\"},\"hovermode\":\"closest\",\"mapbox\":{\"style\":\"light\"},\"paper_bgcolor\":\"white\",\"plot_bgcolor\":\"#E5ECF6\",\"polar\":{\"angularaxis\":{\"gridcolor\":\"white\",\"linecolor\":\"white\",\"ticks\":\"\"},\"bgcolor\":\"#E5ECF6\",\"radialaxis\":{\"gridcolor\":\"white\",\"linecolor\":\"white\",\"ticks\":\"\"}},\"scene\":{\"xaxis\":{\"backgroundcolor\":\"#E5ECF6\",\"gridcolor\":\"white\",\"gridwidth\":2,\"linecolor\":\"white\",\"showbackground\":true,\"ticks\":\"\",\"zerolinecolor\":\"white\"},\"yaxis\":{\"backgroundcolor\":\"#E5ECF6\",\"gridcolor\":\"white\",\"gridwidth\":2,\"linecolor\":\"white\",\"showbackground\":true,\"ticks\":\"\",\"zerolinecolor\":\"white\"},\"zaxis\":{\"backgroundcolor\":\"#E5ECF6\",\"gridcolor\":\"white\",\"gridwidth\":2,\"linecolor\":\"white\",\"showbackground\":true,\"ticks\":\"\",\"zerolinecolor\":\"white\"}},\"shapedefaults\":{\"line\":{\"color\":\"#2a3f5f\"}},\"ternary\":{\"aaxis\":{\"gridcolor\":\"white\",\"linecolor\":\"white\",\"ticks\":\"\"},\"baxis\":{\"gridcolor\":\"white\",\"linecolor\":\"white\",\"ticks\":\"\"},\"bgcolor\":\"#E5ECF6\",\"caxis\":{\"gridcolor\":\"white\",\"linecolor\":\"white\",\"ticks\":\"\"}},\"title\":{\"x\":0.05},\"xaxis\":{\"automargin\":true,\"gridcolor\":\"white\",\"linecolor\":\"white\",\"ticks\":\"\",\"title\":{\"standoff\":15},\"zerolinecolor\":\"white\",\"zerolinewidth\":2},\"yaxis\":{\"automargin\":true,\"gridcolor\":\"white\",\"linecolor\":\"white\",\"ticks\":\"\",\"title\":{\"standoff\":15},\"zerolinecolor\":\"white\",\"zerolinewidth\":2}}}},                        {\"responsive\": true}                    ).then(function(){\n",
       "                            \n",
       "var gd = document.getElementById('1ab11ae4-47b0-4619-ab91-09a00d563d53');\n",
       "var x = new MutationObserver(function (mutations, observer) {{\n",
       "        var display = window.getComputedStyle(gd).display;\n",
       "        if (!display || display === 'none') {{\n",
       "            console.log([gd, 'removed!']);\n",
       "            Plotly.purge(gd);\n",
       "            observer.disconnect();\n",
       "        }}\n",
       "}});\n",
       "\n",
       "// Listen for the removal of the full notebook cells\n",
       "var notebookContainer = gd.closest('#notebook-container');\n",
       "if (notebookContainer) {{\n",
       "    x.observe(notebookContainer, {childList: true});\n",
       "}}\n",
       "\n",
       "// Listen for the clearing of the current output cell\n",
       "var outputEl = gd.closest('.output');\n",
       "if (outputEl) {{\n",
       "    x.observe(outputEl, {childList: true});\n",
       "}}\n",
       "\n",
       "                        })                };                });            </script>        </div>"
      ]
     },
     "metadata": {},
     "output_type": "display_data"
    }
   ],
   "source": [
    "fig=px.pie(df,names='ChestPainType')\n",
    "fig.show()"
   ]
  },
  {
   "cell_type": "code",
   "execution_count": 391,
   "id": "180f8d7d",
   "metadata": {},
   "outputs": [],
   "source": [
    "asy=df[df['ChestPainType']=='ASY']\n",
    "nap=df[df['ChestPainType']=='NAP']\n",
    "ata=df[df['ChestPainType']=='ATA']\n",
    "ta=df[df['ChestPainType']=='TA']\n",
    "\n",
    "asy_heartRisk=asy[asy['HeartDisease']==1]\n",
    "nap_heartRisk=nap[nap['HeartDisease']==1]\n",
    "ata_heartRisk=ata[ata['HeartDisease']==1]\n",
    "ta_heartRisk=ta[ta['HeartDisease']==1]"
   ]
  },
  {
   "cell_type": "code",
   "execution_count": 392,
   "id": "067205bd",
   "metadata": {},
   "outputs": [],
   "source": [
    "ChestPainDetails={\n",
    "                   '% of heart Disease with ASY Type ChestPain':np.round(asy_heartRisk.shape[0]*100)/asy.shape[0],\n",
    "                   '% of heart Disease with NAP Type ChestPain':np.round(nap_heartRisk.shape[0]*100)/nap.shape[0],\n",
    "                   '% of heart Disease with ATA Type ChestPain':np.round(ata_heartRisk.shape[0]*100)/ata.shape[0],\n",
    "                   '% of heart Disease with TA Type ChestPain':np.round(ta_heartRisk.shape[0]*100)/ta.shape[0]\n",
    "    \n",
    "}"
   ]
  },
  {
   "cell_type": "code",
   "execution_count": 393,
   "id": "cfb2ac93",
   "metadata": {},
   "outputs": [],
   "source": [
    "chestPain=pd.DataFrame(ChestPainDetails,index=['Details'])"
   ]
  },
  {
   "cell_type": "code",
   "execution_count": 394,
   "id": "a53fe667",
   "metadata": {},
   "outputs": [
    {
     "data": {
      "text/html": [
       "<div>\n",
       "<style scoped>\n",
       "    .dataframe tbody tr th:only-of-type {\n",
       "        vertical-align: middle;\n",
       "    }\n",
       "\n",
       "    .dataframe tbody tr th {\n",
       "        vertical-align: top;\n",
       "    }\n",
       "\n",
       "    .dataframe thead th {\n",
       "        text-align: right;\n",
       "    }\n",
       "</style>\n",
       "<table border=\"1\" class=\"dataframe\">\n",
       "  <thead>\n",
       "    <tr style=\"text-align: right;\">\n",
       "      <th></th>\n",
       "      <th>Details</th>\n",
       "    </tr>\n",
       "  </thead>\n",
       "  <tbody>\n",
       "    <tr>\n",
       "      <th>% of heart Disease with ASY Type ChestPain</th>\n",
       "      <td>79.032258</td>\n",
       "    </tr>\n",
       "    <tr>\n",
       "      <th>% of heart Disease with NAP Type ChestPain</th>\n",
       "      <td>35.467980</td>\n",
       "    </tr>\n",
       "    <tr>\n",
       "      <th>% of heart Disease with ATA Type ChestPain</th>\n",
       "      <td>13.872832</td>\n",
       "    </tr>\n",
       "    <tr>\n",
       "      <th>% of heart Disease with TA Type ChestPain</th>\n",
       "      <td>43.478261</td>\n",
       "    </tr>\n",
       "  </tbody>\n",
       "</table>\n",
       "</div>"
      ],
      "text/plain": [
       "                                              Details\n",
       "% of heart Disease with ASY Type ChestPain  79.032258\n",
       "% of heart Disease with NAP Type ChestPain  35.467980\n",
       "% of heart Disease with ATA Type ChestPain  13.872832\n",
       "% of heart Disease with TA Type ChestPain   43.478261"
      ]
     },
     "execution_count": 394,
     "metadata": {},
     "output_type": "execute_result"
    }
   ],
   "source": [
    "chestPain.T"
   ]
  },
  {
   "cell_type": "markdown",
   "id": "44c8670b",
   "metadata": {},
   "source": [
    "### From above data we can conclude that people with ChestPain Type ASY are more prone to Heart Disease .We cannot take TA type ChestPain into consideration as it only has 46 examples . People with ATA type ChestPain are least Prone to Heart Disease.\n"
   ]
  },
  {
   "cell_type": "code",
   "execution_count": 395,
   "id": "64527194",
   "metadata": {},
   "outputs": [
    {
     "data": {
      "application/vnd.plotly.v1+json": {
       "config": {
        "plotlyServerURL": "https://plot.ly"
       },
       "data": [
        {
         "alignmentgroup": "True",
         "bingroup": "x",
         "hovertemplate": "HeartDisease=0<br>ChestPainType=%{x}<br>count=%{y}<extra></extra>",
         "legendgroup": "0",
         "marker": {
          "color": "#636efa",
          "pattern": {
           "shape": ""
          }
         },
         "name": "0",
         "offsetgroup": "0",
         "orientation": "v",
         "showlegend": true,
         "type": "histogram",
         "x": [
          "ATA",
          "ATA",
          "NAP",
          "NAP",
          "ATA",
          "ATA",
          "ATA",
          "NAP",
          "ATA",
          "NAP",
          "ATA",
          "ATA",
          "TA",
          "ATA",
          "ATA",
          "NAP",
          "NAP",
          "ASY",
          "ATA",
          "ATA",
          "ATA",
          "NAP",
          "ATA",
          "ATA",
          "ATA",
          "ATA",
          "ASY",
          "ATA",
          "ATA",
          "NAP",
          "NAP",
          "ASY",
          "ATA",
          "NAP",
          "ATA",
          "ATA",
          "ASY",
          "ATA",
          "ASY",
          "ATA",
          "NAP",
          "ASY",
          "ATA",
          "ATA",
          "ASY",
          "ATA",
          "ASY",
          "ATA",
          "ASY",
          "NAP",
          "ASY",
          "ATA",
          "NAP",
          "ATA",
          "ATA",
          "ATA",
          "ASY",
          "ATA",
          "ASY",
          "ATA",
          "NAP",
          "ATA",
          "NAP",
          "ASY",
          "ATA",
          "ASY",
          "ATA",
          "ASY",
          "ATA",
          "ASY",
          "ATA",
          "ATA",
          "ASY",
          "ATA",
          "NAP",
          "TA",
          "NAP",
          "ASY",
          "ATA",
          "ATA",
          "ATA",
          "ASY",
          "ATA",
          "NAP",
          "NAP",
          "ASY",
          "ATA",
          "ATA",
          "ASY",
          "ASY",
          "ATA",
          "ATA",
          "ATA",
          "ATA",
          "ATA",
          "ATA",
          "ASY",
          "ATA",
          "ASY",
          "ATA",
          "ATA",
          "ATA",
          "ATA",
          "ATA",
          "ASY",
          "NAP",
          "ATA",
          "NAP",
          "ATA",
          "NAP",
          "ATA",
          "NAP",
          "ASY",
          "ATA",
          "ASY",
          "ATA",
          "ATA",
          "ASY",
          "ASY",
          "ATA",
          "ATA",
          "NAP",
          "ATA",
          "TA",
          "ASY",
          "ATA",
          "TA",
          "TA",
          "NAP",
          "NAP",
          "ATA",
          "ATA",
          "ASY",
          "ATA",
          "ATA",
          "NAP",
          "NAP",
          "TA",
          "NAP",
          "ATA",
          "ATA",
          "NAP",
          "NAP",
          "ATA",
          "NAP",
          "ATA",
          "ASY",
          "ASY",
          "NAP",
          "ATA",
          "ASY",
          "ATA",
          "ATA",
          "ATA",
          "ATA",
          "TA",
          "ASY",
          "ATA",
          "NAP",
          "ATA",
          "NAP",
          "NAP",
          "ATA",
          "ATA",
          "ATA",
          "ATA",
          "ATA",
          "NAP",
          "ASY",
          "ATA",
          "NAP",
          "ATA",
          "NAP",
          "ASY",
          "ATA",
          "NAP",
          "NAP",
          "ATA",
          "ASY",
          "NAP",
          "ASY",
          "ATA",
          "ATA",
          "ATA",
          "NAP",
          "ATA",
          "ASY",
          "ATA",
          "ATA",
          "ASY",
          "ASY",
          "NAP",
          "NAP",
          "NAP",
          "NAP",
          "ASY",
          "NAP",
          "NAP",
          "NAP",
          "ATA",
          "ASY",
          "ASY",
          "ASY",
          "NAP",
          "ASY",
          "ASY",
          "ASY",
          "ASY",
          "NAP",
          "ATA",
          "ATA",
          "ATA",
          "ASY",
          "ATA",
          "TA",
          "ASY",
          "ASY",
          "NAP",
          "ASY",
          "NAP",
          "NAP",
          "ASY",
          "ASY",
          "NAP",
          "ATA",
          "ASY",
          "ATA",
          "ASY",
          "TA",
          "NAP",
          "NAP",
          "ASY",
          "NAP",
          "ATA",
          "ASY",
          "ASY",
          "NAP",
          "NAP",
          "ATA",
          "ASY",
          "NAP",
          "ASY",
          "NAP",
          "ASY",
          "TA",
          "ASY",
          "NAP",
          "ASY",
          "ATA",
          "ASY",
          "ASY",
          "ASY",
          "NAP",
          "ASY",
          "ASY",
          "TA",
          "TA",
          "ATA",
          "ASY",
          "ASY",
          "ATA",
          "NAP",
          "ASY",
          "NAP",
          "NAP",
          "ASY",
          "NAP",
          "NAP",
          "ASY",
          "ASY",
          "NAP",
          "ATA",
          "NAP",
          "ATA",
          "NAP",
          "ATA",
          "ATA",
          "ATA",
          "NAP",
          "NAP",
          "NAP",
          "TA",
          "TA",
          "ASY",
          "NAP",
          "ASY",
          "ATA",
          "NAP",
          "ASY",
          "ASY",
          "NAP",
          "NAP",
          "ATA",
          "NAP",
          "ASY",
          "TA",
          "ATA",
          "TA",
          "ATA",
          "ATA",
          "ASY",
          "NAP",
          "ATA",
          "NAP",
          "ASY",
          "NAP",
          "ATA",
          "ATA",
          "NAP",
          "ATA",
          "ATA",
          "TA",
          "NAP",
          "NAP",
          "NAP",
          "NAP",
          "ATA",
          "ASY",
          "NAP",
          "NAP",
          "NAP",
          "ATA",
          "ASY",
          "ASY",
          "TA",
          "NAP",
          "NAP",
          "NAP",
          "NAP",
          "ASY",
          "NAP",
          "ATA",
          "ATA",
          "TA",
          "ATA",
          "ASY",
          "ASY",
          "ASY",
          "NAP",
          "ASY",
          "TA",
          "NAP",
          "TA",
          "NAP",
          "NAP",
          "ASY",
          "NAP",
          "NAP",
          "ASY",
          "ASY",
          "ASY",
          "ATA",
          "NAP",
          "ATA",
          "ASY",
          "NAP",
          "TA",
          "NAP",
          "TA",
          "NAP",
          "NAP",
          "NAP",
          "NAP",
          "NAP",
          "ATA",
          "ATA",
          "NAP",
          "NAP",
          "NAP",
          "ATA",
          "NAP",
          "ASY",
          "ATA",
          "TA",
          "TA",
          "ASY",
          "NAP",
          "ASY",
          "NAP",
          "ATA",
          "NAP",
          "ASY",
          "NAP",
          "NAP",
          "ATA",
          "NAP",
          "NAP",
          "ATA",
          "NAP",
          "ASY",
          "NAP",
          "ATA",
          "NAP",
          "ATA",
          "ATA",
          "ASY",
          "NAP",
          "NAP",
          "TA",
          "NAP",
          "NAP",
          "ASY",
          "NAP",
          "ATA",
          "ATA",
          "ATA",
          "ATA",
          "ATA",
          "ATA",
          "NAP"
         ],
         "xaxis": "x",
         "yaxis": "y"
        },
        {
         "alignmentgroup": "True",
         "bingroup": "x",
         "hovertemplate": "HeartDisease=1<br>ChestPainType=%{x}<br>count=%{y}<extra></extra>",
         "legendgroup": "1",
         "marker": {
          "color": "#EF553B",
          "pattern": {
           "shape": ""
          }
         },
         "name": "1",
         "offsetgroup": "1",
         "orientation": "v",
         "showlegend": true,
         "type": "histogram",
         "x": [
          "NAP",
          "ASY",
          "ASY",
          "ATA",
          "ASY",
          "ASY",
          "ASY",
          "ATA",
          "ATA",
          "NAP",
          "ASY",
          "ASY",
          "ASY",
          "NAP",
          "ASY",
          "ASY",
          "ASY",
          "ASY",
          "ASY",
          "NAP",
          "ASY",
          "ASY",
          "ASY",
          "ATA",
          "ASY",
          "ASY",
          "ASY",
          "ASY",
          "ASY",
          "ASY",
          "ASY",
          "ASY",
          "TA",
          "ASY",
          "ASY",
          "ASY",
          "ASY",
          "ASY",
          "ASY",
          "ASY",
          "ASY",
          "ASY",
          "ASY",
          "TA",
          "NAP",
          "ATA",
          "ASY",
          "ASY",
          "ASY",
          "NAP",
          "ASY",
          "ASY",
          "ASY",
          "ASY",
          "ASY",
          "ATA",
          "ASY",
          "ASY",
          "ASY",
          "ASY",
          "ASY",
          "ASY",
          "TA",
          "ASY",
          "ASY",
          "ASY",
          "ASY",
          "ASY",
          "ASY",
          "NAP",
          "ASY",
          "ASY",
          "ASY",
          "ATA",
          "ASY",
          "ASY",
          "NAP",
          "ASY",
          "ASY",
          "ASY",
          "ASY",
          "ASY",
          "ASY",
          "ASY",
          "TA",
          "ASY",
          "ASY",
          "ASY",
          "ATA",
          "ASY",
          "NAP",
          "ASY",
          "ASY",
          "ASY",
          "ASY",
          "ASY",
          "ASY",
          "ASY",
          "ASY",
          "NAP",
          "ASY",
          "ASY",
          "ASY",
          "NAP",
          "ASY",
          "ASY",
          "ASY",
          "TA",
          "ASY",
          "ASY",
          "ASY",
          "ASY",
          "ASY",
          "ASY",
          "ASY",
          "ASY",
          "ASY",
          "ASY",
          "ASY",
          "ASY",
          "ASY",
          "ASY",
          "ASY",
          "ASY",
          "ATA",
          "NAP",
          "ASY",
          "ASY",
          "ASY",
          "NAP",
          "ASY",
          "ASY",
          "ASY",
          "ASY",
          "ASY",
          "ASY",
          "ASY",
          "ASY",
          "NAP",
          "ASY",
          "ASY",
          "ASY",
          "TA",
          "ASY",
          "ASY",
          "ASY",
          "ASY",
          "ASY",
          "ASY",
          "ASY",
          "ASY",
          "ASY",
          "ASY",
          "ASY",
          "ASY",
          "ASY",
          "ASY",
          "ASY",
          "ASY",
          "ASY",
          "ASY",
          "TA",
          "ASY",
          "ATA",
          "NAP",
          "NAP",
          "NAP",
          "ASY",
          "NAP",
          "ASY",
          "ASY",
          "ASY",
          "ASY",
          "ASY",
          "ASY",
          "ASY",
          "ASY",
          "ASY",
          "ASY",
          "ASY",
          "NAP",
          "NAP",
          "ASY",
          "ASY",
          "ASY",
          "ASY",
          "ASY",
          "ASY",
          "ASY",
          "ASY",
          "ASY",
          "ASY",
          "ASY",
          "ASY",
          "ASY",
          "ASY",
          "ASY",
          "ASY",
          "ASY",
          "ASY",
          "ASY",
          "TA",
          "ASY",
          "ASY",
          "NAP",
          "ASY",
          "ASY",
          "ASY",
          "ASY",
          "NAP",
          "ASY",
          "ASY",
          "ASY",
          "ASY",
          "NAP",
          "ASY",
          "ASY",
          "ASY",
          "NAP",
          "ASY",
          "ASY",
          "ASY",
          "ASY",
          "ASY",
          "ASY",
          "NAP",
          "ATA",
          "ASY",
          "ASY",
          "NAP",
          "ASY",
          "ASY",
          "ASY",
          "ASY",
          "ASY",
          "NAP",
          "NAP",
          "ASY",
          "ASY",
          "ASY",
          "ASY",
          "NAP",
          "ASY",
          "ASY",
          "ASY",
          "NAP",
          "NAP",
          "ASY",
          "ASY",
          "ASY",
          "NAP",
          "ASY",
          "ASY",
          "ASY",
          "ASY",
          "ASY",
          "NAP",
          "NAP",
          "ASY",
          "ASY",
          "ASY",
          "ASY",
          "NAP",
          "ASY",
          "ASY",
          "ASY",
          "NAP",
          "ATA",
          "NAP",
          "TA",
          "ASY",
          "ASY",
          "ATA",
          "ASY",
          "ASY",
          "NAP",
          "ASY",
          "TA",
          "NAP",
          "ASY",
          "ASY",
          "ASY",
          "ASY",
          "ASY",
          "ASY",
          "ASY",
          "ASY",
          "ASY",
          "NAP",
          "ASY",
          "ASY",
          "ASY",
          "ASY",
          "TA",
          "ASY",
          "NAP",
          "ASY",
          "NAP",
          "ASY",
          "ASY",
          "ASY",
          "ASY",
          "ASY",
          "NAP",
          "ASY",
          "ASY",
          "ASY",
          "ASY",
          "ASY",
          "ASY",
          "ASY",
          "NAP",
          "ASY",
          "ASY",
          "NAP",
          "NAP",
          "ASY",
          "ASY",
          "NAP",
          "TA",
          "ASY",
          "ASY",
          "NAP",
          "TA",
          "NAP",
          "NAP",
          "NAP",
          "ASY",
          "ASY",
          "ASY",
          "ASY",
          "ASY",
          "ASY",
          "ASY",
          "ASY",
          "ASY",
          "ASY",
          "ASY",
          "ASY",
          "ASY",
          "ASY",
          "ASY",
          "ASY",
          "ASY",
          "ASY",
          "ASY",
          "ASY",
          "ASY",
          "ATA",
          "ASY",
          "ASY",
          "NAP",
          "ASY",
          "ASY",
          "ASY",
          "ASY",
          "ASY",
          "ASY",
          "ASY",
          "NAP",
          "NAP",
          "ASY",
          "ASY",
          "ASY",
          "ASY",
          "ASY",
          "ASY",
          "ASY",
          "ATA",
          "ASY",
          "ATA",
          "NAP",
          "ASY",
          "ASY",
          "ASY",
          "TA",
          "ASY",
          "ASY",
          "ASY",
          "NAP",
          "NAP",
          "ASY",
          "ASY",
          "ASY",
          "ASY",
          "TA",
          "ASY",
          "NAP",
          "NAP",
          "ASY",
          "ATA",
          "ASY",
          "ASY",
          "ASY",
          "ASY",
          "ATA",
          "ASY",
          "ASY",
          "ATA",
          "NAP",
          "ASY",
          "ASY",
          "ASY",
          "ASY",
          "ASY",
          "ASY",
          "ASY",
          "ASY",
          "ASY",
          "ASY",
          "ASY",
          "ASY",
          "ASY",
          "ASY",
          "ASY",
          "ASY",
          "ASY",
          "ASY",
          "ASY",
          "ASY",
          "ASY",
          "ASY",
          "ASY",
          "NAP",
          "ASY",
          "ASY",
          "ASY",
          "ASY",
          "ASY",
          "ASY",
          "ASY",
          "ASY",
          "ASY",
          "NAP",
          "ATA",
          "ASY",
          "ASY",
          "ASY",
          "NAP",
          "ASY",
          "ASY",
          "TA",
          "ASY",
          "ASY",
          "TA",
          "NAP",
          "ASY",
          "ASY",
          "ASY",
          "NAP",
          "ASY",
          "ASY",
          "ASY",
          "ASY",
          "NAP",
          "ASY",
          "ASY",
          "ASY",
          "ASY",
          "ASY",
          "ASY",
          "ASY",
          "NAP",
          "TA",
          "ASY",
          "ASY",
          "ASY",
          "ASY",
          "NAP",
          "ASY",
          "ASY",
          "ASY",
          "ASY",
          "ASY",
          "ASY",
          "NAP",
          "ASY",
          "ASY",
          "ASY",
          "NAP",
          "ASY",
          "ASY",
          "ASY",
          "ASY",
          "NAP",
          "ASY",
          "ATA",
          "ATA",
          "ASY",
          "ASY",
          "ASY",
          "TA",
          "ATA",
          "ASY",
          "ASY",
          "ASY",
          "ASY",
          "ASY",
          "NAP",
          "ASY",
          "ASY",
          "ASY",
          "ASY",
          "ASY",
          "TA",
          "ASY",
          "ASY",
          "ATA"
         ],
         "xaxis": "x",
         "yaxis": "y"
        }
       ],
       "layout": {
        "barmode": "relative",
        "legend": {
         "title": {
          "text": "HeartDisease"
         },
         "tracegroupgap": 0
        },
        "margin": {
         "t": 60
        },
        "template": {
         "data": {
          "bar": [
           {
            "error_x": {
             "color": "#2a3f5f"
            },
            "error_y": {
             "color": "#2a3f5f"
            },
            "marker": {
             "line": {
              "color": "#E5ECF6",
              "width": 0.5
             },
             "pattern": {
              "fillmode": "overlay",
              "size": 10,
              "solidity": 0.2
             }
            },
            "type": "bar"
           }
          ],
          "barpolar": [
           {
            "marker": {
             "line": {
              "color": "#E5ECF6",
              "width": 0.5
             },
             "pattern": {
              "fillmode": "overlay",
              "size": 10,
              "solidity": 0.2
             }
            },
            "type": "barpolar"
           }
          ],
          "carpet": [
           {
            "aaxis": {
             "endlinecolor": "#2a3f5f",
             "gridcolor": "white",
             "linecolor": "white",
             "minorgridcolor": "white",
             "startlinecolor": "#2a3f5f"
            },
            "baxis": {
             "endlinecolor": "#2a3f5f",
             "gridcolor": "white",
             "linecolor": "white",
             "minorgridcolor": "white",
             "startlinecolor": "#2a3f5f"
            },
            "type": "carpet"
           }
          ],
          "choropleth": [
           {
            "colorbar": {
             "outlinewidth": 0,
             "ticks": ""
            },
            "type": "choropleth"
           }
          ],
          "contour": [
           {
            "colorbar": {
             "outlinewidth": 0,
             "ticks": ""
            },
            "colorscale": [
             [
              0,
              "#0d0887"
             ],
             [
              0.1111111111111111,
              "#46039f"
             ],
             [
              0.2222222222222222,
              "#7201a8"
             ],
             [
              0.3333333333333333,
              "#9c179e"
             ],
             [
              0.4444444444444444,
              "#bd3786"
             ],
             [
              0.5555555555555556,
              "#d8576b"
             ],
             [
              0.6666666666666666,
              "#ed7953"
             ],
             [
              0.7777777777777778,
              "#fb9f3a"
             ],
             [
              0.8888888888888888,
              "#fdca26"
             ],
             [
              1,
              "#f0f921"
             ]
            ],
            "type": "contour"
           }
          ],
          "contourcarpet": [
           {
            "colorbar": {
             "outlinewidth": 0,
             "ticks": ""
            },
            "type": "contourcarpet"
           }
          ],
          "heatmap": [
           {
            "colorbar": {
             "outlinewidth": 0,
             "ticks": ""
            },
            "colorscale": [
             [
              0,
              "#0d0887"
             ],
             [
              0.1111111111111111,
              "#46039f"
             ],
             [
              0.2222222222222222,
              "#7201a8"
             ],
             [
              0.3333333333333333,
              "#9c179e"
             ],
             [
              0.4444444444444444,
              "#bd3786"
             ],
             [
              0.5555555555555556,
              "#d8576b"
             ],
             [
              0.6666666666666666,
              "#ed7953"
             ],
             [
              0.7777777777777778,
              "#fb9f3a"
             ],
             [
              0.8888888888888888,
              "#fdca26"
             ],
             [
              1,
              "#f0f921"
             ]
            ],
            "type": "heatmap"
           }
          ],
          "heatmapgl": [
           {
            "colorbar": {
             "outlinewidth": 0,
             "ticks": ""
            },
            "colorscale": [
             [
              0,
              "#0d0887"
             ],
             [
              0.1111111111111111,
              "#46039f"
             ],
             [
              0.2222222222222222,
              "#7201a8"
             ],
             [
              0.3333333333333333,
              "#9c179e"
             ],
             [
              0.4444444444444444,
              "#bd3786"
             ],
             [
              0.5555555555555556,
              "#d8576b"
             ],
             [
              0.6666666666666666,
              "#ed7953"
             ],
             [
              0.7777777777777778,
              "#fb9f3a"
             ],
             [
              0.8888888888888888,
              "#fdca26"
             ],
             [
              1,
              "#f0f921"
             ]
            ],
            "type": "heatmapgl"
           }
          ],
          "histogram": [
           {
            "marker": {
             "pattern": {
              "fillmode": "overlay",
              "size": 10,
              "solidity": 0.2
             }
            },
            "type": "histogram"
           }
          ],
          "histogram2d": [
           {
            "colorbar": {
             "outlinewidth": 0,
             "ticks": ""
            },
            "colorscale": [
             [
              0,
              "#0d0887"
             ],
             [
              0.1111111111111111,
              "#46039f"
             ],
             [
              0.2222222222222222,
              "#7201a8"
             ],
             [
              0.3333333333333333,
              "#9c179e"
             ],
             [
              0.4444444444444444,
              "#bd3786"
             ],
             [
              0.5555555555555556,
              "#d8576b"
             ],
             [
              0.6666666666666666,
              "#ed7953"
             ],
             [
              0.7777777777777778,
              "#fb9f3a"
             ],
             [
              0.8888888888888888,
              "#fdca26"
             ],
             [
              1,
              "#f0f921"
             ]
            ],
            "type": "histogram2d"
           }
          ],
          "histogram2dcontour": [
           {
            "colorbar": {
             "outlinewidth": 0,
             "ticks": ""
            },
            "colorscale": [
             [
              0,
              "#0d0887"
             ],
             [
              0.1111111111111111,
              "#46039f"
             ],
             [
              0.2222222222222222,
              "#7201a8"
             ],
             [
              0.3333333333333333,
              "#9c179e"
             ],
             [
              0.4444444444444444,
              "#bd3786"
             ],
             [
              0.5555555555555556,
              "#d8576b"
             ],
             [
              0.6666666666666666,
              "#ed7953"
             ],
             [
              0.7777777777777778,
              "#fb9f3a"
             ],
             [
              0.8888888888888888,
              "#fdca26"
             ],
             [
              1,
              "#f0f921"
             ]
            ],
            "type": "histogram2dcontour"
           }
          ],
          "mesh3d": [
           {
            "colorbar": {
             "outlinewidth": 0,
             "ticks": ""
            },
            "type": "mesh3d"
           }
          ],
          "parcoords": [
           {
            "line": {
             "colorbar": {
              "outlinewidth": 0,
              "ticks": ""
             }
            },
            "type": "parcoords"
           }
          ],
          "pie": [
           {
            "automargin": true,
            "type": "pie"
           }
          ],
          "scatter": [
           {
            "marker": {
             "colorbar": {
              "outlinewidth": 0,
              "ticks": ""
             }
            },
            "type": "scatter"
           }
          ],
          "scatter3d": [
           {
            "line": {
             "colorbar": {
              "outlinewidth": 0,
              "ticks": ""
             }
            },
            "marker": {
             "colorbar": {
              "outlinewidth": 0,
              "ticks": ""
             }
            },
            "type": "scatter3d"
           }
          ],
          "scattercarpet": [
           {
            "marker": {
             "colorbar": {
              "outlinewidth": 0,
              "ticks": ""
             }
            },
            "type": "scattercarpet"
           }
          ],
          "scattergeo": [
           {
            "marker": {
             "colorbar": {
              "outlinewidth": 0,
              "ticks": ""
             }
            },
            "type": "scattergeo"
           }
          ],
          "scattergl": [
           {
            "marker": {
             "colorbar": {
              "outlinewidth": 0,
              "ticks": ""
             }
            },
            "type": "scattergl"
           }
          ],
          "scattermapbox": [
           {
            "marker": {
             "colorbar": {
              "outlinewidth": 0,
              "ticks": ""
             }
            },
            "type": "scattermapbox"
           }
          ],
          "scatterpolar": [
           {
            "marker": {
             "colorbar": {
              "outlinewidth": 0,
              "ticks": ""
             }
            },
            "type": "scatterpolar"
           }
          ],
          "scatterpolargl": [
           {
            "marker": {
             "colorbar": {
              "outlinewidth": 0,
              "ticks": ""
             }
            },
            "type": "scatterpolargl"
           }
          ],
          "scatterternary": [
           {
            "marker": {
             "colorbar": {
              "outlinewidth": 0,
              "ticks": ""
             }
            },
            "type": "scatterternary"
           }
          ],
          "surface": [
           {
            "colorbar": {
             "outlinewidth": 0,
             "ticks": ""
            },
            "colorscale": [
             [
              0,
              "#0d0887"
             ],
             [
              0.1111111111111111,
              "#46039f"
             ],
             [
              0.2222222222222222,
              "#7201a8"
             ],
             [
              0.3333333333333333,
              "#9c179e"
             ],
             [
              0.4444444444444444,
              "#bd3786"
             ],
             [
              0.5555555555555556,
              "#d8576b"
             ],
             [
              0.6666666666666666,
              "#ed7953"
             ],
             [
              0.7777777777777778,
              "#fb9f3a"
             ],
             [
              0.8888888888888888,
              "#fdca26"
             ],
             [
              1,
              "#f0f921"
             ]
            ],
            "type": "surface"
           }
          ],
          "table": [
           {
            "cells": {
             "fill": {
              "color": "#EBF0F8"
             },
             "line": {
              "color": "white"
             }
            },
            "header": {
             "fill": {
              "color": "#C8D4E3"
             },
             "line": {
              "color": "white"
             }
            },
            "type": "table"
           }
          ]
         },
         "layout": {
          "annotationdefaults": {
           "arrowcolor": "#2a3f5f",
           "arrowhead": 0,
           "arrowwidth": 1
          },
          "autotypenumbers": "strict",
          "coloraxis": {
           "colorbar": {
            "outlinewidth": 0,
            "ticks": ""
           }
          },
          "colorscale": {
           "diverging": [
            [
             0,
             "#8e0152"
            ],
            [
             0.1,
             "#c51b7d"
            ],
            [
             0.2,
             "#de77ae"
            ],
            [
             0.3,
             "#f1b6da"
            ],
            [
             0.4,
             "#fde0ef"
            ],
            [
             0.5,
             "#f7f7f7"
            ],
            [
             0.6,
             "#e6f5d0"
            ],
            [
             0.7,
             "#b8e186"
            ],
            [
             0.8,
             "#7fbc41"
            ],
            [
             0.9,
             "#4d9221"
            ],
            [
             1,
             "#276419"
            ]
           ],
           "sequential": [
            [
             0,
             "#0d0887"
            ],
            [
             0.1111111111111111,
             "#46039f"
            ],
            [
             0.2222222222222222,
             "#7201a8"
            ],
            [
             0.3333333333333333,
             "#9c179e"
            ],
            [
             0.4444444444444444,
             "#bd3786"
            ],
            [
             0.5555555555555556,
             "#d8576b"
            ],
            [
             0.6666666666666666,
             "#ed7953"
            ],
            [
             0.7777777777777778,
             "#fb9f3a"
            ],
            [
             0.8888888888888888,
             "#fdca26"
            ],
            [
             1,
             "#f0f921"
            ]
           ],
           "sequentialminus": [
            [
             0,
             "#0d0887"
            ],
            [
             0.1111111111111111,
             "#46039f"
            ],
            [
             0.2222222222222222,
             "#7201a8"
            ],
            [
             0.3333333333333333,
             "#9c179e"
            ],
            [
             0.4444444444444444,
             "#bd3786"
            ],
            [
             0.5555555555555556,
             "#d8576b"
            ],
            [
             0.6666666666666666,
             "#ed7953"
            ],
            [
             0.7777777777777778,
             "#fb9f3a"
            ],
            [
             0.8888888888888888,
             "#fdca26"
            ],
            [
             1,
             "#f0f921"
            ]
           ]
          },
          "colorway": [
           "#636efa",
           "#EF553B",
           "#00cc96",
           "#ab63fa",
           "#FFA15A",
           "#19d3f3",
           "#FF6692",
           "#B6E880",
           "#FF97FF",
           "#FECB52"
          ],
          "font": {
           "color": "#2a3f5f"
          },
          "geo": {
           "bgcolor": "white",
           "lakecolor": "white",
           "landcolor": "#E5ECF6",
           "showlakes": true,
           "showland": true,
           "subunitcolor": "white"
          },
          "hoverlabel": {
           "align": "left"
          },
          "hovermode": "closest",
          "mapbox": {
           "style": "light"
          },
          "paper_bgcolor": "white",
          "plot_bgcolor": "#E5ECF6",
          "polar": {
           "angularaxis": {
            "gridcolor": "white",
            "linecolor": "white",
            "ticks": ""
           },
           "bgcolor": "#E5ECF6",
           "radialaxis": {
            "gridcolor": "white",
            "linecolor": "white",
            "ticks": ""
           }
          },
          "scene": {
           "xaxis": {
            "backgroundcolor": "#E5ECF6",
            "gridcolor": "white",
            "gridwidth": 2,
            "linecolor": "white",
            "showbackground": true,
            "ticks": "",
            "zerolinecolor": "white"
           },
           "yaxis": {
            "backgroundcolor": "#E5ECF6",
            "gridcolor": "white",
            "gridwidth": 2,
            "linecolor": "white",
            "showbackground": true,
            "ticks": "",
            "zerolinecolor": "white"
           },
           "zaxis": {
            "backgroundcolor": "#E5ECF6",
            "gridcolor": "white",
            "gridwidth": 2,
            "linecolor": "white",
            "showbackground": true,
            "ticks": "",
            "zerolinecolor": "white"
           }
          },
          "shapedefaults": {
           "line": {
            "color": "#2a3f5f"
           }
          },
          "ternary": {
           "aaxis": {
            "gridcolor": "white",
            "linecolor": "white",
            "ticks": ""
           },
           "baxis": {
            "gridcolor": "white",
            "linecolor": "white",
            "ticks": ""
           },
           "bgcolor": "#E5ECF6",
           "caxis": {
            "gridcolor": "white",
            "linecolor": "white",
            "ticks": ""
           }
          },
          "title": {
           "x": 0.05
          },
          "xaxis": {
           "automargin": true,
           "gridcolor": "white",
           "linecolor": "white",
           "ticks": "",
           "title": {
            "standoff": 15
           },
           "zerolinecolor": "white",
           "zerolinewidth": 2
          },
          "yaxis": {
           "automargin": true,
           "gridcolor": "white",
           "linecolor": "white",
           "ticks": "",
           "title": {
            "standoff": 15
           },
           "zerolinecolor": "white",
           "zerolinewidth": 2
          }
         }
        },
        "xaxis": {
         "anchor": "y",
         "domain": [
          0,
          1
         ],
         "title": {
          "text": "ChestPainType"
         }
        },
        "yaxis": {
         "anchor": "x",
         "domain": [
          0,
          1
         ],
         "title": {
          "text": "count"
         }
        }
       }
      },
      "text/html": [
       "<div>                            <div id=\"afdfff0a-b441-4aa0-9c08-044cf36e3b02\" class=\"plotly-graph-div\" style=\"height:525px; width:100%;\"></div>            <script type=\"text/javascript\">                require([\"plotly\"], function(Plotly) {                    window.PLOTLYENV=window.PLOTLYENV || {};                                    if (document.getElementById(\"afdfff0a-b441-4aa0-9c08-044cf36e3b02\")) {                    Plotly.newPlot(                        \"afdfff0a-b441-4aa0-9c08-044cf36e3b02\",                        [{\"alignmentgroup\":\"True\",\"bingroup\":\"x\",\"hovertemplate\":\"HeartDisease=0<br>ChestPainType=%{x}<br>count=%{y}<extra></extra>\",\"legendgroup\":\"0\",\"marker\":{\"color\":\"#636efa\",\"pattern\":{\"shape\":\"\"}},\"name\":\"0\",\"offsetgroup\":\"0\",\"orientation\":\"v\",\"showlegend\":true,\"type\":\"histogram\",\"x\":[\"ATA\",\"ATA\",\"NAP\",\"NAP\",\"ATA\",\"ATA\",\"ATA\",\"NAP\",\"ATA\",\"NAP\",\"ATA\",\"ATA\",\"TA\",\"ATA\",\"ATA\",\"NAP\",\"NAP\",\"ASY\",\"ATA\",\"ATA\",\"ATA\",\"NAP\",\"ATA\",\"ATA\",\"ATA\",\"ATA\",\"ASY\",\"ATA\",\"ATA\",\"NAP\",\"NAP\",\"ASY\",\"ATA\",\"NAP\",\"ATA\",\"ATA\",\"ASY\",\"ATA\",\"ASY\",\"ATA\",\"NAP\",\"ASY\",\"ATA\",\"ATA\",\"ASY\",\"ATA\",\"ASY\",\"ATA\",\"ASY\",\"NAP\",\"ASY\",\"ATA\",\"NAP\",\"ATA\",\"ATA\",\"ATA\",\"ASY\",\"ATA\",\"ASY\",\"ATA\",\"NAP\",\"ATA\",\"NAP\",\"ASY\",\"ATA\",\"ASY\",\"ATA\",\"ASY\",\"ATA\",\"ASY\",\"ATA\",\"ATA\",\"ASY\",\"ATA\",\"NAP\",\"TA\",\"NAP\",\"ASY\",\"ATA\",\"ATA\",\"ATA\",\"ASY\",\"ATA\",\"NAP\",\"NAP\",\"ASY\",\"ATA\",\"ATA\",\"ASY\",\"ASY\",\"ATA\",\"ATA\",\"ATA\",\"ATA\",\"ATA\",\"ATA\",\"ASY\",\"ATA\",\"ASY\",\"ATA\",\"ATA\",\"ATA\",\"ATA\",\"ATA\",\"ASY\",\"NAP\",\"ATA\",\"NAP\",\"ATA\",\"NAP\",\"ATA\",\"NAP\",\"ASY\",\"ATA\",\"ASY\",\"ATA\",\"ATA\",\"ASY\",\"ASY\",\"ATA\",\"ATA\",\"NAP\",\"ATA\",\"TA\",\"ASY\",\"ATA\",\"TA\",\"TA\",\"NAP\",\"NAP\",\"ATA\",\"ATA\",\"ASY\",\"ATA\",\"ATA\",\"NAP\",\"NAP\",\"TA\",\"NAP\",\"ATA\",\"ATA\",\"NAP\",\"NAP\",\"ATA\",\"NAP\",\"ATA\",\"ASY\",\"ASY\",\"NAP\",\"ATA\",\"ASY\",\"ATA\",\"ATA\",\"ATA\",\"ATA\",\"TA\",\"ASY\",\"ATA\",\"NAP\",\"ATA\",\"NAP\",\"NAP\",\"ATA\",\"ATA\",\"ATA\",\"ATA\",\"ATA\",\"NAP\",\"ASY\",\"ATA\",\"NAP\",\"ATA\",\"NAP\",\"ASY\",\"ATA\",\"NAP\",\"NAP\",\"ATA\",\"ASY\",\"NAP\",\"ASY\",\"ATA\",\"ATA\",\"ATA\",\"NAP\",\"ATA\",\"ASY\",\"ATA\",\"ATA\",\"ASY\",\"ASY\",\"NAP\",\"NAP\",\"NAP\",\"NAP\",\"ASY\",\"NAP\",\"NAP\",\"NAP\",\"ATA\",\"ASY\",\"ASY\",\"ASY\",\"NAP\",\"ASY\",\"ASY\",\"ASY\",\"ASY\",\"NAP\",\"ATA\",\"ATA\",\"ATA\",\"ASY\",\"ATA\",\"TA\",\"ASY\",\"ASY\",\"NAP\",\"ASY\",\"NAP\",\"NAP\",\"ASY\",\"ASY\",\"NAP\",\"ATA\",\"ASY\",\"ATA\",\"ASY\",\"TA\",\"NAP\",\"NAP\",\"ASY\",\"NAP\",\"ATA\",\"ASY\",\"ASY\",\"NAP\",\"NAP\",\"ATA\",\"ASY\",\"NAP\",\"ASY\",\"NAP\",\"ASY\",\"TA\",\"ASY\",\"NAP\",\"ASY\",\"ATA\",\"ASY\",\"ASY\",\"ASY\",\"NAP\",\"ASY\",\"ASY\",\"TA\",\"TA\",\"ATA\",\"ASY\",\"ASY\",\"ATA\",\"NAP\",\"ASY\",\"NAP\",\"NAP\",\"ASY\",\"NAP\",\"NAP\",\"ASY\",\"ASY\",\"NAP\",\"ATA\",\"NAP\",\"ATA\",\"NAP\",\"ATA\",\"ATA\",\"ATA\",\"NAP\",\"NAP\",\"NAP\",\"TA\",\"TA\",\"ASY\",\"NAP\",\"ASY\",\"ATA\",\"NAP\",\"ASY\",\"ASY\",\"NAP\",\"NAP\",\"ATA\",\"NAP\",\"ASY\",\"TA\",\"ATA\",\"TA\",\"ATA\",\"ATA\",\"ASY\",\"NAP\",\"ATA\",\"NAP\",\"ASY\",\"NAP\",\"ATA\",\"ATA\",\"NAP\",\"ATA\",\"ATA\",\"TA\",\"NAP\",\"NAP\",\"NAP\",\"NAP\",\"ATA\",\"ASY\",\"NAP\",\"NAP\",\"NAP\",\"ATA\",\"ASY\",\"ASY\",\"TA\",\"NAP\",\"NAP\",\"NAP\",\"NAP\",\"ASY\",\"NAP\",\"ATA\",\"ATA\",\"TA\",\"ATA\",\"ASY\",\"ASY\",\"ASY\",\"NAP\",\"ASY\",\"TA\",\"NAP\",\"TA\",\"NAP\",\"NAP\",\"ASY\",\"NAP\",\"NAP\",\"ASY\",\"ASY\",\"ASY\",\"ATA\",\"NAP\",\"ATA\",\"ASY\",\"NAP\",\"TA\",\"NAP\",\"TA\",\"NAP\",\"NAP\",\"NAP\",\"NAP\",\"NAP\",\"ATA\",\"ATA\",\"NAP\",\"NAP\",\"NAP\",\"ATA\",\"NAP\",\"ASY\",\"ATA\",\"TA\",\"TA\",\"ASY\",\"NAP\",\"ASY\",\"NAP\",\"ATA\",\"NAP\",\"ASY\",\"NAP\",\"NAP\",\"ATA\",\"NAP\",\"NAP\",\"ATA\",\"NAP\",\"ASY\",\"NAP\",\"ATA\",\"NAP\",\"ATA\",\"ATA\",\"ASY\",\"NAP\",\"NAP\",\"TA\",\"NAP\",\"NAP\",\"ASY\",\"NAP\",\"ATA\",\"ATA\",\"ATA\",\"ATA\",\"ATA\",\"ATA\",\"NAP\"],\"xaxis\":\"x\",\"yaxis\":\"y\"},{\"alignmentgroup\":\"True\",\"bingroup\":\"x\",\"hovertemplate\":\"HeartDisease=1<br>ChestPainType=%{x}<br>count=%{y}<extra></extra>\",\"legendgroup\":\"1\",\"marker\":{\"color\":\"#EF553B\",\"pattern\":{\"shape\":\"\"}},\"name\":\"1\",\"offsetgroup\":\"1\",\"orientation\":\"v\",\"showlegend\":true,\"type\":\"histogram\",\"x\":[\"NAP\",\"ASY\",\"ASY\",\"ATA\",\"ASY\",\"ASY\",\"ASY\",\"ATA\",\"ATA\",\"NAP\",\"ASY\",\"ASY\",\"ASY\",\"NAP\",\"ASY\",\"ASY\",\"ASY\",\"ASY\",\"ASY\",\"NAP\",\"ASY\",\"ASY\",\"ASY\",\"ATA\",\"ASY\",\"ASY\",\"ASY\",\"ASY\",\"ASY\",\"ASY\",\"ASY\",\"ASY\",\"TA\",\"ASY\",\"ASY\",\"ASY\",\"ASY\",\"ASY\",\"ASY\",\"ASY\",\"ASY\",\"ASY\",\"ASY\",\"TA\",\"NAP\",\"ATA\",\"ASY\",\"ASY\",\"ASY\",\"NAP\",\"ASY\",\"ASY\",\"ASY\",\"ASY\",\"ASY\",\"ATA\",\"ASY\",\"ASY\",\"ASY\",\"ASY\",\"ASY\",\"ASY\",\"TA\",\"ASY\",\"ASY\",\"ASY\",\"ASY\",\"ASY\",\"ASY\",\"NAP\",\"ASY\",\"ASY\",\"ASY\",\"ATA\",\"ASY\",\"ASY\",\"NAP\",\"ASY\",\"ASY\",\"ASY\",\"ASY\",\"ASY\",\"ASY\",\"ASY\",\"TA\",\"ASY\",\"ASY\",\"ASY\",\"ATA\",\"ASY\",\"NAP\",\"ASY\",\"ASY\",\"ASY\",\"ASY\",\"ASY\",\"ASY\",\"ASY\",\"ASY\",\"NAP\",\"ASY\",\"ASY\",\"ASY\",\"NAP\",\"ASY\",\"ASY\",\"ASY\",\"TA\",\"ASY\",\"ASY\",\"ASY\",\"ASY\",\"ASY\",\"ASY\",\"ASY\",\"ASY\",\"ASY\",\"ASY\",\"ASY\",\"ASY\",\"ASY\",\"ASY\",\"ASY\",\"ASY\",\"ATA\",\"NAP\",\"ASY\",\"ASY\",\"ASY\",\"NAP\",\"ASY\",\"ASY\",\"ASY\",\"ASY\",\"ASY\",\"ASY\",\"ASY\",\"ASY\",\"NAP\",\"ASY\",\"ASY\",\"ASY\",\"TA\",\"ASY\",\"ASY\",\"ASY\",\"ASY\",\"ASY\",\"ASY\",\"ASY\",\"ASY\",\"ASY\",\"ASY\",\"ASY\",\"ASY\",\"ASY\",\"ASY\",\"ASY\",\"ASY\",\"ASY\",\"ASY\",\"TA\",\"ASY\",\"ATA\",\"NAP\",\"NAP\",\"NAP\",\"ASY\",\"NAP\",\"ASY\",\"ASY\",\"ASY\",\"ASY\",\"ASY\",\"ASY\",\"ASY\",\"ASY\",\"ASY\",\"ASY\",\"ASY\",\"NAP\",\"NAP\",\"ASY\",\"ASY\",\"ASY\",\"ASY\",\"ASY\",\"ASY\",\"ASY\",\"ASY\",\"ASY\",\"ASY\",\"ASY\",\"ASY\",\"ASY\",\"ASY\",\"ASY\",\"ASY\",\"ASY\",\"ASY\",\"ASY\",\"TA\",\"ASY\",\"ASY\",\"NAP\",\"ASY\",\"ASY\",\"ASY\",\"ASY\",\"NAP\",\"ASY\",\"ASY\",\"ASY\",\"ASY\",\"NAP\",\"ASY\",\"ASY\",\"ASY\",\"NAP\",\"ASY\",\"ASY\",\"ASY\",\"ASY\",\"ASY\",\"ASY\",\"NAP\",\"ATA\",\"ASY\",\"ASY\",\"NAP\",\"ASY\",\"ASY\",\"ASY\",\"ASY\",\"ASY\",\"NAP\",\"NAP\",\"ASY\",\"ASY\",\"ASY\",\"ASY\",\"NAP\",\"ASY\",\"ASY\",\"ASY\",\"NAP\",\"NAP\",\"ASY\",\"ASY\",\"ASY\",\"NAP\",\"ASY\",\"ASY\",\"ASY\",\"ASY\",\"ASY\",\"NAP\",\"NAP\",\"ASY\",\"ASY\",\"ASY\",\"ASY\",\"NAP\",\"ASY\",\"ASY\",\"ASY\",\"NAP\",\"ATA\",\"NAP\",\"TA\",\"ASY\",\"ASY\",\"ATA\",\"ASY\",\"ASY\",\"NAP\",\"ASY\",\"TA\",\"NAP\",\"ASY\",\"ASY\",\"ASY\",\"ASY\",\"ASY\",\"ASY\",\"ASY\",\"ASY\",\"ASY\",\"NAP\",\"ASY\",\"ASY\",\"ASY\",\"ASY\",\"TA\",\"ASY\",\"NAP\",\"ASY\",\"NAP\",\"ASY\",\"ASY\",\"ASY\",\"ASY\",\"ASY\",\"NAP\",\"ASY\",\"ASY\",\"ASY\",\"ASY\",\"ASY\",\"ASY\",\"ASY\",\"NAP\",\"ASY\",\"ASY\",\"NAP\",\"NAP\",\"ASY\",\"ASY\",\"NAP\",\"TA\",\"ASY\",\"ASY\",\"NAP\",\"TA\",\"NAP\",\"NAP\",\"NAP\",\"ASY\",\"ASY\",\"ASY\",\"ASY\",\"ASY\",\"ASY\",\"ASY\",\"ASY\",\"ASY\",\"ASY\",\"ASY\",\"ASY\",\"ASY\",\"ASY\",\"ASY\",\"ASY\",\"ASY\",\"ASY\",\"ASY\",\"ASY\",\"ASY\",\"ATA\",\"ASY\",\"ASY\",\"NAP\",\"ASY\",\"ASY\",\"ASY\",\"ASY\",\"ASY\",\"ASY\",\"ASY\",\"NAP\",\"NAP\",\"ASY\",\"ASY\",\"ASY\",\"ASY\",\"ASY\",\"ASY\",\"ASY\",\"ATA\",\"ASY\",\"ATA\",\"NAP\",\"ASY\",\"ASY\",\"ASY\",\"TA\",\"ASY\",\"ASY\",\"ASY\",\"NAP\",\"NAP\",\"ASY\",\"ASY\",\"ASY\",\"ASY\",\"TA\",\"ASY\",\"NAP\",\"NAP\",\"ASY\",\"ATA\",\"ASY\",\"ASY\",\"ASY\",\"ASY\",\"ATA\",\"ASY\",\"ASY\",\"ATA\",\"NAP\",\"ASY\",\"ASY\",\"ASY\",\"ASY\",\"ASY\",\"ASY\",\"ASY\",\"ASY\",\"ASY\",\"ASY\",\"ASY\",\"ASY\",\"ASY\",\"ASY\",\"ASY\",\"ASY\",\"ASY\",\"ASY\",\"ASY\",\"ASY\",\"ASY\",\"ASY\",\"ASY\",\"NAP\",\"ASY\",\"ASY\",\"ASY\",\"ASY\",\"ASY\",\"ASY\",\"ASY\",\"ASY\",\"ASY\",\"NAP\",\"ATA\",\"ASY\",\"ASY\",\"ASY\",\"NAP\",\"ASY\",\"ASY\",\"TA\",\"ASY\",\"ASY\",\"TA\",\"NAP\",\"ASY\",\"ASY\",\"ASY\",\"NAP\",\"ASY\",\"ASY\",\"ASY\",\"ASY\",\"NAP\",\"ASY\",\"ASY\",\"ASY\",\"ASY\",\"ASY\",\"ASY\",\"ASY\",\"NAP\",\"TA\",\"ASY\",\"ASY\",\"ASY\",\"ASY\",\"NAP\",\"ASY\",\"ASY\",\"ASY\",\"ASY\",\"ASY\",\"ASY\",\"NAP\",\"ASY\",\"ASY\",\"ASY\",\"NAP\",\"ASY\",\"ASY\",\"ASY\",\"ASY\",\"NAP\",\"ASY\",\"ATA\",\"ATA\",\"ASY\",\"ASY\",\"ASY\",\"TA\",\"ATA\",\"ASY\",\"ASY\",\"ASY\",\"ASY\",\"ASY\",\"NAP\",\"ASY\",\"ASY\",\"ASY\",\"ASY\",\"ASY\",\"TA\",\"ASY\",\"ASY\",\"ATA\"],\"xaxis\":\"x\",\"yaxis\":\"y\"}],                        {\"barmode\":\"relative\",\"legend\":{\"title\":{\"text\":\"HeartDisease\"},\"tracegroupgap\":0},\"margin\":{\"t\":60},\"template\":{\"data\":{\"bar\":[{\"error_x\":{\"color\":\"#2a3f5f\"},\"error_y\":{\"color\":\"#2a3f5f\"},\"marker\":{\"line\":{\"color\":\"#E5ECF6\",\"width\":0.5},\"pattern\":{\"fillmode\":\"overlay\",\"size\":10,\"solidity\":0.2}},\"type\":\"bar\"}],\"barpolar\":[{\"marker\":{\"line\":{\"color\":\"#E5ECF6\",\"width\":0.5},\"pattern\":{\"fillmode\":\"overlay\",\"size\":10,\"solidity\":0.2}},\"type\":\"barpolar\"}],\"carpet\":[{\"aaxis\":{\"endlinecolor\":\"#2a3f5f\",\"gridcolor\":\"white\",\"linecolor\":\"white\",\"minorgridcolor\":\"white\",\"startlinecolor\":\"#2a3f5f\"},\"baxis\":{\"endlinecolor\":\"#2a3f5f\",\"gridcolor\":\"white\",\"linecolor\":\"white\",\"minorgridcolor\":\"white\",\"startlinecolor\":\"#2a3f5f\"},\"type\":\"carpet\"}],\"choropleth\":[{\"colorbar\":{\"outlinewidth\":0,\"ticks\":\"\"},\"type\":\"choropleth\"}],\"contour\":[{\"colorbar\":{\"outlinewidth\":0,\"ticks\":\"\"},\"colorscale\":[[0.0,\"#0d0887\"],[0.1111111111111111,\"#46039f\"],[0.2222222222222222,\"#7201a8\"],[0.3333333333333333,\"#9c179e\"],[0.4444444444444444,\"#bd3786\"],[0.5555555555555556,\"#d8576b\"],[0.6666666666666666,\"#ed7953\"],[0.7777777777777778,\"#fb9f3a\"],[0.8888888888888888,\"#fdca26\"],[1.0,\"#f0f921\"]],\"type\":\"contour\"}],\"contourcarpet\":[{\"colorbar\":{\"outlinewidth\":0,\"ticks\":\"\"},\"type\":\"contourcarpet\"}],\"heatmap\":[{\"colorbar\":{\"outlinewidth\":0,\"ticks\":\"\"},\"colorscale\":[[0.0,\"#0d0887\"],[0.1111111111111111,\"#46039f\"],[0.2222222222222222,\"#7201a8\"],[0.3333333333333333,\"#9c179e\"],[0.4444444444444444,\"#bd3786\"],[0.5555555555555556,\"#d8576b\"],[0.6666666666666666,\"#ed7953\"],[0.7777777777777778,\"#fb9f3a\"],[0.8888888888888888,\"#fdca26\"],[1.0,\"#f0f921\"]],\"type\":\"heatmap\"}],\"heatmapgl\":[{\"colorbar\":{\"outlinewidth\":0,\"ticks\":\"\"},\"colorscale\":[[0.0,\"#0d0887\"],[0.1111111111111111,\"#46039f\"],[0.2222222222222222,\"#7201a8\"],[0.3333333333333333,\"#9c179e\"],[0.4444444444444444,\"#bd3786\"],[0.5555555555555556,\"#d8576b\"],[0.6666666666666666,\"#ed7953\"],[0.7777777777777778,\"#fb9f3a\"],[0.8888888888888888,\"#fdca26\"],[1.0,\"#f0f921\"]],\"type\":\"heatmapgl\"}],\"histogram\":[{\"marker\":{\"pattern\":{\"fillmode\":\"overlay\",\"size\":10,\"solidity\":0.2}},\"type\":\"histogram\"}],\"histogram2d\":[{\"colorbar\":{\"outlinewidth\":0,\"ticks\":\"\"},\"colorscale\":[[0.0,\"#0d0887\"],[0.1111111111111111,\"#46039f\"],[0.2222222222222222,\"#7201a8\"],[0.3333333333333333,\"#9c179e\"],[0.4444444444444444,\"#bd3786\"],[0.5555555555555556,\"#d8576b\"],[0.6666666666666666,\"#ed7953\"],[0.7777777777777778,\"#fb9f3a\"],[0.8888888888888888,\"#fdca26\"],[1.0,\"#f0f921\"]],\"type\":\"histogram2d\"}],\"histogram2dcontour\":[{\"colorbar\":{\"outlinewidth\":0,\"ticks\":\"\"},\"colorscale\":[[0.0,\"#0d0887\"],[0.1111111111111111,\"#46039f\"],[0.2222222222222222,\"#7201a8\"],[0.3333333333333333,\"#9c179e\"],[0.4444444444444444,\"#bd3786\"],[0.5555555555555556,\"#d8576b\"],[0.6666666666666666,\"#ed7953\"],[0.7777777777777778,\"#fb9f3a\"],[0.8888888888888888,\"#fdca26\"],[1.0,\"#f0f921\"]],\"type\":\"histogram2dcontour\"}],\"mesh3d\":[{\"colorbar\":{\"outlinewidth\":0,\"ticks\":\"\"},\"type\":\"mesh3d\"}],\"parcoords\":[{\"line\":{\"colorbar\":{\"outlinewidth\":0,\"ticks\":\"\"}},\"type\":\"parcoords\"}],\"pie\":[{\"automargin\":true,\"type\":\"pie\"}],\"scatter\":[{\"marker\":{\"colorbar\":{\"outlinewidth\":0,\"ticks\":\"\"}},\"type\":\"scatter\"}],\"scatter3d\":[{\"line\":{\"colorbar\":{\"outlinewidth\":0,\"ticks\":\"\"}},\"marker\":{\"colorbar\":{\"outlinewidth\":0,\"ticks\":\"\"}},\"type\":\"scatter3d\"}],\"scattercarpet\":[{\"marker\":{\"colorbar\":{\"outlinewidth\":0,\"ticks\":\"\"}},\"type\":\"scattercarpet\"}],\"scattergeo\":[{\"marker\":{\"colorbar\":{\"outlinewidth\":0,\"ticks\":\"\"}},\"type\":\"scattergeo\"}],\"scattergl\":[{\"marker\":{\"colorbar\":{\"outlinewidth\":0,\"ticks\":\"\"}},\"type\":\"scattergl\"}],\"scattermapbox\":[{\"marker\":{\"colorbar\":{\"outlinewidth\":0,\"ticks\":\"\"}},\"type\":\"scattermapbox\"}],\"scatterpolar\":[{\"marker\":{\"colorbar\":{\"outlinewidth\":0,\"ticks\":\"\"}},\"type\":\"scatterpolar\"}],\"scatterpolargl\":[{\"marker\":{\"colorbar\":{\"outlinewidth\":0,\"ticks\":\"\"}},\"type\":\"scatterpolargl\"}],\"scatterternary\":[{\"marker\":{\"colorbar\":{\"outlinewidth\":0,\"ticks\":\"\"}},\"type\":\"scatterternary\"}],\"surface\":[{\"colorbar\":{\"outlinewidth\":0,\"ticks\":\"\"},\"colorscale\":[[0.0,\"#0d0887\"],[0.1111111111111111,\"#46039f\"],[0.2222222222222222,\"#7201a8\"],[0.3333333333333333,\"#9c179e\"],[0.4444444444444444,\"#bd3786\"],[0.5555555555555556,\"#d8576b\"],[0.6666666666666666,\"#ed7953\"],[0.7777777777777778,\"#fb9f3a\"],[0.8888888888888888,\"#fdca26\"],[1.0,\"#f0f921\"]],\"type\":\"surface\"}],\"table\":[{\"cells\":{\"fill\":{\"color\":\"#EBF0F8\"},\"line\":{\"color\":\"white\"}},\"header\":{\"fill\":{\"color\":\"#C8D4E3\"},\"line\":{\"color\":\"white\"}},\"type\":\"table\"}]},\"layout\":{\"annotationdefaults\":{\"arrowcolor\":\"#2a3f5f\",\"arrowhead\":0,\"arrowwidth\":1},\"autotypenumbers\":\"strict\",\"coloraxis\":{\"colorbar\":{\"outlinewidth\":0,\"ticks\":\"\"}},\"colorscale\":{\"diverging\":[[0,\"#8e0152\"],[0.1,\"#c51b7d\"],[0.2,\"#de77ae\"],[0.3,\"#f1b6da\"],[0.4,\"#fde0ef\"],[0.5,\"#f7f7f7\"],[0.6,\"#e6f5d0\"],[0.7,\"#b8e186\"],[0.8,\"#7fbc41\"],[0.9,\"#4d9221\"],[1,\"#276419\"]],\"sequential\":[[0.0,\"#0d0887\"],[0.1111111111111111,\"#46039f\"],[0.2222222222222222,\"#7201a8\"],[0.3333333333333333,\"#9c179e\"],[0.4444444444444444,\"#bd3786\"],[0.5555555555555556,\"#d8576b\"],[0.6666666666666666,\"#ed7953\"],[0.7777777777777778,\"#fb9f3a\"],[0.8888888888888888,\"#fdca26\"],[1.0,\"#f0f921\"]],\"sequentialminus\":[[0.0,\"#0d0887\"],[0.1111111111111111,\"#46039f\"],[0.2222222222222222,\"#7201a8\"],[0.3333333333333333,\"#9c179e\"],[0.4444444444444444,\"#bd3786\"],[0.5555555555555556,\"#d8576b\"],[0.6666666666666666,\"#ed7953\"],[0.7777777777777778,\"#fb9f3a\"],[0.8888888888888888,\"#fdca26\"],[1.0,\"#f0f921\"]]},\"colorway\":[\"#636efa\",\"#EF553B\",\"#00cc96\",\"#ab63fa\",\"#FFA15A\",\"#19d3f3\",\"#FF6692\",\"#B6E880\",\"#FF97FF\",\"#FECB52\"],\"font\":{\"color\":\"#2a3f5f\"},\"geo\":{\"bgcolor\":\"white\",\"lakecolor\":\"white\",\"landcolor\":\"#E5ECF6\",\"showlakes\":true,\"showland\":true,\"subunitcolor\":\"white\"},\"hoverlabel\":{\"align\":\"left\"},\"hovermode\":\"closest\",\"mapbox\":{\"style\":\"light\"},\"paper_bgcolor\":\"white\",\"plot_bgcolor\":\"#E5ECF6\",\"polar\":{\"angularaxis\":{\"gridcolor\":\"white\",\"linecolor\":\"white\",\"ticks\":\"\"},\"bgcolor\":\"#E5ECF6\",\"radialaxis\":{\"gridcolor\":\"white\",\"linecolor\":\"white\",\"ticks\":\"\"}},\"scene\":{\"xaxis\":{\"backgroundcolor\":\"#E5ECF6\",\"gridcolor\":\"white\",\"gridwidth\":2,\"linecolor\":\"white\",\"showbackground\":true,\"ticks\":\"\",\"zerolinecolor\":\"white\"},\"yaxis\":{\"backgroundcolor\":\"#E5ECF6\",\"gridcolor\":\"white\",\"gridwidth\":2,\"linecolor\":\"white\",\"showbackground\":true,\"ticks\":\"\",\"zerolinecolor\":\"white\"},\"zaxis\":{\"backgroundcolor\":\"#E5ECF6\",\"gridcolor\":\"white\",\"gridwidth\":2,\"linecolor\":\"white\",\"showbackground\":true,\"ticks\":\"\",\"zerolinecolor\":\"white\"}},\"shapedefaults\":{\"line\":{\"color\":\"#2a3f5f\"}},\"ternary\":{\"aaxis\":{\"gridcolor\":\"white\",\"linecolor\":\"white\",\"ticks\":\"\"},\"baxis\":{\"gridcolor\":\"white\",\"linecolor\":\"white\",\"ticks\":\"\"},\"bgcolor\":\"#E5ECF6\",\"caxis\":{\"gridcolor\":\"white\",\"linecolor\":\"white\",\"ticks\":\"\"}},\"title\":{\"x\":0.05},\"xaxis\":{\"automargin\":true,\"gridcolor\":\"white\",\"linecolor\":\"white\",\"ticks\":\"\",\"title\":{\"standoff\":15},\"zerolinecolor\":\"white\",\"zerolinewidth\":2},\"yaxis\":{\"automargin\":true,\"gridcolor\":\"white\",\"linecolor\":\"white\",\"ticks\":\"\",\"title\":{\"standoff\":15},\"zerolinecolor\":\"white\",\"zerolinewidth\":2}}},\"xaxis\":{\"anchor\":\"y\",\"domain\":[0.0,1.0],\"title\":{\"text\":\"ChestPainType\"}},\"yaxis\":{\"anchor\":\"x\",\"domain\":[0.0,1.0],\"title\":{\"text\":\"count\"}}},                        {\"responsive\": true}                    ).then(function(){\n",
       "                            \n",
       "var gd = document.getElementById('afdfff0a-b441-4aa0-9c08-044cf36e3b02');\n",
       "var x = new MutationObserver(function (mutations, observer) {{\n",
       "        var display = window.getComputedStyle(gd).display;\n",
       "        if (!display || display === 'none') {{\n",
       "            console.log([gd, 'removed!']);\n",
       "            Plotly.purge(gd);\n",
       "            observer.disconnect();\n",
       "        }}\n",
       "}});\n",
       "\n",
       "// Listen for the removal of the full notebook cells\n",
       "var notebookContainer = gd.closest('#notebook-container');\n",
       "if (notebookContainer) {{\n",
       "    x.observe(notebookContainer, {childList: true});\n",
       "}}\n",
       "\n",
       "// Listen for the clearing of the current output cell\n",
       "var outputEl = gd.closest('.output');\n",
       "if (outputEl) {{\n",
       "    x.observe(outputEl, {childList: true});\n",
       "}}\n",
       "\n",
       "                        })                };                });            </script>        </div>"
      ]
     },
     "metadata": {},
     "output_type": "display_data"
    }
   ],
   "source": [
    "fig=px.histogram(df,x='ChestPainType',color='HeartDisease')\n",
    "fig.show()\n"
   ]
  },
  {
   "cell_type": "markdown",
   "id": "abd8610e",
   "metadata": {},
   "source": [
    "### Excercise Induced Angina VS Heart Disease "
   ]
  },
  {
   "cell_type": "code",
   "execution_count": 396,
   "id": "aa417b7f",
   "metadata": {},
   "outputs": [],
   "source": [
    "angina=df[df['ExerciseAngina']=='N']\n",
    "no_angina=angina[angina['HeartDisease']==1]\n"
   ]
  },
  {
   "cell_type": "code",
   "execution_count": 397,
   "id": "1455481a",
   "metadata": {},
   "outputs": [
    {
     "name": "stdout",
     "output_type": "stream",
     "text": [
      "people with No Angima who are still having Heart Disease 35.0\n"
     ]
    }
   ],
   "source": [
    "print('people with No Angima who are still having Heart Disease',np.round(no_angina.shape[0]*100/angina.shape[0]))"
   ]
  },
  {
   "cell_type": "code",
   "execution_count": 398,
   "id": "809e193b",
   "metadata": {},
   "outputs": [
    {
     "data": {
      "application/vnd.plotly.v1+json": {
       "config": {
        "plotlyServerURL": "https://plot.ly"
       },
       "data": [
        {
         "alignmentgroup": "True",
         "bingroup": "x",
         "hovertemplate": "HeartDisease=0<br>ExerciseAngina=%{x}<br>count=%{y}<extra></extra>",
         "legendgroup": "0",
         "marker": {
          "color": "#636efa",
          "pattern": {
           "shape": ""
          }
         },
         "name": "0",
         "offsetgroup": "0",
         "orientation": "v",
         "showlegend": true,
         "type": "histogram",
         "x": [
          "N",
          "N",
          "N",
          "N",
          "N",
          "N",
          "N",
          "N",
          "N",
          "N",
          "N",
          "N",
          "N",
          "N",
          "N",
          "N",
          "N",
          "Y",
          "N",
          "N",
          "N",
          "N",
          "N",
          "N",
          "N",
          "N",
          "Y",
          "N",
          "N",
          "N",
          "Y",
          "N",
          "N",
          "N",
          "N",
          "N",
          "Y",
          "N",
          "N",
          "N",
          "N",
          "N",
          "N",
          "N",
          "N",
          "N",
          "N",
          "N",
          "N",
          "N",
          "N",
          "Y",
          "N",
          "N",
          "N",
          "Y",
          "Y",
          "N",
          "N",
          "N",
          "N",
          "N",
          "N",
          "N",
          "N",
          "N",
          "N",
          "N",
          "N",
          "N",
          "N",
          "N",
          "Y",
          "N",
          "N",
          "N",
          "N",
          "N",
          "N",
          "N",
          "N",
          "N",
          "N",
          "Y",
          "N",
          "Y",
          "N",
          "N",
          "N",
          "N",
          "N",
          "N",
          "N",
          "N",
          "N",
          "N",
          "N",
          "N",
          "N",
          "N",
          "N",
          "N",
          "N",
          "N",
          "N",
          "N",
          "N",
          "N",
          "N",
          "N",
          "N",
          "N",
          "N",
          "N",
          "Y",
          "N",
          "N",
          "Y",
          "N",
          "N",
          "N",
          "N",
          "N",
          "N",
          "N",
          "N",
          "N",
          "N",
          "N",
          "N",
          "N",
          "N",
          "Y",
          "N",
          "N",
          "Y",
          "N",
          "N",
          "N",
          "N",
          "N",
          "N",
          "N",
          "N",
          "N",
          "N",
          "N",
          "N",
          "N",
          "N",
          "N",
          "N",
          "Y",
          "N",
          "N",
          "N",
          "Y",
          "N",
          "N",
          "N",
          "N",
          "N",
          "N",
          "Y",
          "N",
          "N",
          "N",
          "N",
          "N",
          "N",
          "N",
          "N",
          "N",
          "Y",
          "N",
          "N",
          "Y",
          "N",
          "N",
          "N",
          "N",
          "N",
          "N",
          "N",
          "N",
          "N",
          "N",
          "N",
          "N",
          "N",
          "Y",
          "N",
          "N",
          "N",
          "N",
          "N",
          "Y",
          "N",
          "Y",
          "N",
          "N",
          "N",
          "Y",
          "N",
          "Y",
          "Y",
          "N",
          "N",
          "N",
          "N",
          "N",
          "N",
          "N",
          "N",
          "N",
          "N",
          "N",
          "Y",
          "N",
          "N",
          "N",
          "N",
          "N",
          "N",
          "N",
          "N",
          "Y",
          "N",
          "N",
          "N",
          "N",
          "Y",
          "N",
          "N",
          "Y",
          "Y",
          "N",
          "N",
          "N",
          "N",
          "N",
          "Y",
          "Y",
          "N",
          "N",
          "N",
          "N",
          "Y",
          "Y",
          "N",
          "N",
          "Y",
          "N",
          "N",
          "N",
          "Y",
          "Y",
          "N",
          "N",
          "N",
          "Y",
          "N",
          "Y",
          "N",
          "N",
          "N",
          "N",
          "N",
          "N",
          "N",
          "Y",
          "N",
          "N",
          "N",
          "N",
          "N",
          "N",
          "N",
          "N",
          "N",
          "N",
          "N",
          "N",
          "Y",
          "N",
          "Y",
          "N",
          "N",
          "N",
          "Y",
          "N",
          "N",
          "N",
          "N",
          "Y",
          "N",
          "N",
          "N",
          "N",
          "Y",
          "N",
          "N",
          "N",
          "N",
          "N",
          "Y",
          "N",
          "N",
          "N",
          "N",
          "N",
          "N",
          "N",
          "N",
          "N",
          "N",
          "N",
          "N",
          "N",
          "Y",
          "N",
          "N",
          "Y",
          "N",
          "Y",
          "Y",
          "N",
          "N",
          "N",
          "N",
          "N",
          "N",
          "N",
          "N",
          "N",
          "N",
          "Y",
          "N",
          "N",
          "Y",
          "N",
          "N",
          "N",
          "N",
          "N",
          "N",
          "N",
          "N",
          "N",
          "N",
          "N",
          "N",
          "N",
          "N",
          "N",
          "N",
          "N",
          "N",
          "N",
          "N",
          "Y",
          "N",
          "N",
          "N",
          "N",
          "N",
          "N",
          "Y",
          "N",
          "N",
          "N",
          "N",
          "N",
          "N",
          "N",
          "N",
          "N",
          "N",
          "N",
          "N",
          "N",
          "N",
          "N",
          "N",
          "N",
          "N",
          "N",
          "N",
          "Y",
          "N",
          "N",
          "N",
          "N",
          "N",
          "N",
          "N",
          "N",
          "N",
          "N",
          "N",
          "N",
          "N",
          "N",
          "N",
          "N",
          "N",
          "N",
          "N",
          "N",
          "N"
         ],
         "xaxis": "x",
         "yaxis": "y"
        },
        {
         "alignmentgroup": "True",
         "bingroup": "x",
         "hovertemplate": "HeartDisease=1<br>ExerciseAngina=%{x}<br>count=%{y}<extra></extra>",
         "legendgroup": "1",
         "marker": {
          "color": "#EF553B",
          "pattern": {
           "shape": ""
          }
         },
         "name": "1",
         "offsetgroup": "1",
         "orientation": "v",
         "showlegend": true,
         "type": "histogram",
         "x": [
          "N",
          "Y",
          "Y",
          "Y",
          "Y",
          "N",
          "N",
          "N",
          "Y",
          "N",
          "N",
          "N",
          "Y",
          "Y",
          "Y",
          "N",
          "Y",
          "Y",
          "Y",
          "N",
          "Y",
          "Y",
          "Y",
          "Y",
          "N",
          "Y",
          "N",
          "N",
          "N",
          "Y",
          "Y",
          "Y",
          "N",
          "Y",
          "Y",
          "Y",
          "N",
          "Y",
          "N",
          "Y",
          "Y",
          "N",
          "Y",
          "N",
          "N",
          "Y",
          "Y",
          "Y",
          "Y",
          "N",
          "Y",
          "Y",
          "Y",
          "Y",
          "Y",
          "N",
          "Y",
          "Y",
          "Y",
          "Y",
          "Y",
          "Y",
          "N",
          "Y",
          "Y",
          "Y",
          "N",
          "Y",
          "Y",
          "N",
          "Y",
          "Y",
          "Y",
          "N",
          "N",
          "N",
          "Y",
          "Y",
          "N",
          "N",
          "Y",
          "N",
          "Y",
          "Y",
          "N",
          "Y",
          "Y",
          "Y",
          "Y",
          "Y",
          "Y",
          "Y",
          "Y",
          "Y",
          "N",
          "N",
          "Y",
          "Y",
          "N",
          "Y",
          "Y",
          "Y",
          "Y",
          "N",
          "Y",
          "N",
          "Y",
          "N",
          "Y",
          "Y",
          "Y",
          "N",
          "N",
          "N",
          "N",
          "Y",
          "N",
          "Y",
          "N",
          "N",
          "N",
          "N",
          "N",
          "N",
          "N",
          "N",
          "Y",
          "N",
          "N",
          "N",
          "N",
          "N",
          "Y",
          "N",
          "Y",
          "Y",
          "Y",
          "Y",
          "N",
          "N",
          "N",
          "N",
          "N",
          "N",
          "N",
          "N",
          "N",
          "Y",
          "N",
          "N",
          "N",
          "N",
          "N",
          "N",
          "Y",
          "Y",
          "N",
          "Y",
          "Y",
          "Y",
          "N",
          "N",
          "Y",
          "N",
          "Y",
          "N",
          "Y",
          "Y",
          "N",
          "N",
          "Y",
          "Y",
          "Y",
          "Y",
          "Y",
          "Y",
          "Y",
          "Y",
          "Y",
          "Y",
          "N",
          "Y",
          "N",
          "Y",
          "Y",
          "Y",
          "Y",
          "Y",
          "N",
          "N",
          "Y",
          "Y",
          "Y",
          "N",
          "N",
          "N",
          "Y",
          "N",
          "Y",
          "Y",
          "N",
          "N",
          "Y",
          "Y",
          "N",
          "N",
          "N",
          "N",
          "Y",
          "Y",
          "Y",
          "Y",
          "Y",
          "N",
          "Y",
          "N",
          "N",
          "Y",
          "N",
          "Y",
          "N",
          "Y",
          "Y",
          "Y",
          "Y",
          "Y",
          "N",
          "Y",
          "Y",
          "Y",
          "Y",
          "Y",
          "Y",
          "N",
          "N",
          "Y",
          "N",
          "N",
          "Y",
          "Y",
          "Y",
          "Y",
          "Y",
          "Y",
          "Y",
          "N",
          "Y",
          "Y",
          "Y",
          "Y",
          "Y",
          "N",
          "N",
          "Y",
          "Y",
          "Y",
          "Y",
          "Y",
          "Y",
          "N",
          "Y",
          "Y",
          "Y",
          "Y",
          "Y",
          "Y",
          "Y",
          "Y",
          "N",
          "N",
          "Y",
          "Y",
          "Y",
          "Y",
          "Y",
          "Y",
          "N",
          "N",
          "Y",
          "Y",
          "Y",
          "Y",
          "Y",
          "Y",
          "Y",
          "Y",
          "Y",
          "Y",
          "Y",
          "Y",
          "N",
          "N",
          "Y",
          "Y",
          "N",
          "N",
          "Y",
          "Y",
          "Y",
          "Y",
          "Y",
          "Y",
          "Y",
          "Y",
          "Y",
          "Y",
          "Y",
          "N",
          "Y",
          "Y",
          "Y",
          "Y",
          "Y",
          "Y",
          "Y",
          "N",
          "Y",
          "Y",
          "N",
          "N",
          "N",
          "N",
          "Y",
          "Y",
          "Y",
          "Y",
          "Y",
          "Y",
          "Y",
          "Y",
          "Y",
          "Y",
          "Y",
          "Y",
          "Y",
          "Y",
          "Y",
          "N",
          "Y",
          "Y",
          "Y",
          "Y",
          "Y",
          "Y",
          "Y",
          "Y",
          "Y",
          "Y",
          "N",
          "Y",
          "Y",
          "N",
          "Y",
          "N",
          "Y",
          "Y",
          "N",
          "Y",
          "N",
          "Y",
          "Y",
          "Y",
          "Y",
          "Y",
          "Y",
          "N",
          "N",
          "N",
          "Y",
          "N",
          "N",
          "Y",
          "Y",
          "N",
          "N",
          "N",
          "Y",
          "Y",
          "Y",
          "N",
          "N",
          "Y",
          "Y",
          "Y",
          "Y",
          "N",
          "N",
          "N",
          "N",
          "N",
          "Y",
          "N",
          "Y",
          "Y",
          "Y",
          "N",
          "Y",
          "Y",
          "N",
          "N",
          "Y",
          "Y",
          "N",
          "Y",
          "Y",
          "N",
          "N",
          "Y",
          "Y",
          "N",
          "Y",
          "N",
          "N",
          "N",
          "N",
          "N",
          "N",
          "Y",
          "Y",
          "N",
          "N",
          "Y",
          "Y",
          "N",
          "Y",
          "Y",
          "Y",
          "Y",
          "Y",
          "Y",
          "Y",
          "Y",
          "N",
          "N",
          "N",
          "Y",
          "N",
          "Y",
          "N",
          "Y",
          "Y",
          "Y",
          "Y",
          "Y",
          "N",
          "N",
          "Y",
          "N",
          "Y",
          "N",
          "N",
          "Y",
          "N",
          "Y",
          "Y",
          "Y",
          "Y",
          "Y",
          "N",
          "Y",
          "Y",
          "Y",
          "Y",
          "N",
          "Y",
          "Y",
          "N",
          "Y",
          "N",
          "Y",
          "Y",
          "N",
          "Y",
          "N",
          "Y",
          "Y",
          "N",
          "Y",
          "N",
          "N",
          "Y",
          "N",
          "N",
          "Y",
          "N",
          "Y",
          "N",
          "N",
          "Y",
          "Y",
          "Y",
          "N",
          "N",
          "Y",
          "Y",
          "N",
          "N",
          "Y",
          "N",
          "Y",
          "Y",
          "Y",
          "N",
          "Y",
          "N",
          "N",
          "Y",
          "N"
         ],
         "xaxis": "x",
         "yaxis": "y"
        }
       ],
       "layout": {
        "barmode": "relative",
        "legend": {
         "title": {
          "text": "HeartDisease"
         },
         "tracegroupgap": 0
        },
        "margin": {
         "t": 60
        },
        "template": {
         "data": {
          "bar": [
           {
            "error_x": {
             "color": "#2a3f5f"
            },
            "error_y": {
             "color": "#2a3f5f"
            },
            "marker": {
             "line": {
              "color": "#E5ECF6",
              "width": 0.5
             },
             "pattern": {
              "fillmode": "overlay",
              "size": 10,
              "solidity": 0.2
             }
            },
            "type": "bar"
           }
          ],
          "barpolar": [
           {
            "marker": {
             "line": {
              "color": "#E5ECF6",
              "width": 0.5
             },
             "pattern": {
              "fillmode": "overlay",
              "size": 10,
              "solidity": 0.2
             }
            },
            "type": "barpolar"
           }
          ],
          "carpet": [
           {
            "aaxis": {
             "endlinecolor": "#2a3f5f",
             "gridcolor": "white",
             "linecolor": "white",
             "minorgridcolor": "white",
             "startlinecolor": "#2a3f5f"
            },
            "baxis": {
             "endlinecolor": "#2a3f5f",
             "gridcolor": "white",
             "linecolor": "white",
             "minorgridcolor": "white",
             "startlinecolor": "#2a3f5f"
            },
            "type": "carpet"
           }
          ],
          "choropleth": [
           {
            "colorbar": {
             "outlinewidth": 0,
             "ticks": ""
            },
            "type": "choropleth"
           }
          ],
          "contour": [
           {
            "colorbar": {
             "outlinewidth": 0,
             "ticks": ""
            },
            "colorscale": [
             [
              0,
              "#0d0887"
             ],
             [
              0.1111111111111111,
              "#46039f"
             ],
             [
              0.2222222222222222,
              "#7201a8"
             ],
             [
              0.3333333333333333,
              "#9c179e"
             ],
             [
              0.4444444444444444,
              "#bd3786"
             ],
             [
              0.5555555555555556,
              "#d8576b"
             ],
             [
              0.6666666666666666,
              "#ed7953"
             ],
             [
              0.7777777777777778,
              "#fb9f3a"
             ],
             [
              0.8888888888888888,
              "#fdca26"
             ],
             [
              1,
              "#f0f921"
             ]
            ],
            "type": "contour"
           }
          ],
          "contourcarpet": [
           {
            "colorbar": {
             "outlinewidth": 0,
             "ticks": ""
            },
            "type": "contourcarpet"
           }
          ],
          "heatmap": [
           {
            "colorbar": {
             "outlinewidth": 0,
             "ticks": ""
            },
            "colorscale": [
             [
              0,
              "#0d0887"
             ],
             [
              0.1111111111111111,
              "#46039f"
             ],
             [
              0.2222222222222222,
              "#7201a8"
             ],
             [
              0.3333333333333333,
              "#9c179e"
             ],
             [
              0.4444444444444444,
              "#bd3786"
             ],
             [
              0.5555555555555556,
              "#d8576b"
             ],
             [
              0.6666666666666666,
              "#ed7953"
             ],
             [
              0.7777777777777778,
              "#fb9f3a"
             ],
             [
              0.8888888888888888,
              "#fdca26"
             ],
             [
              1,
              "#f0f921"
             ]
            ],
            "type": "heatmap"
           }
          ],
          "heatmapgl": [
           {
            "colorbar": {
             "outlinewidth": 0,
             "ticks": ""
            },
            "colorscale": [
             [
              0,
              "#0d0887"
             ],
             [
              0.1111111111111111,
              "#46039f"
             ],
             [
              0.2222222222222222,
              "#7201a8"
             ],
             [
              0.3333333333333333,
              "#9c179e"
             ],
             [
              0.4444444444444444,
              "#bd3786"
             ],
             [
              0.5555555555555556,
              "#d8576b"
             ],
             [
              0.6666666666666666,
              "#ed7953"
             ],
             [
              0.7777777777777778,
              "#fb9f3a"
             ],
             [
              0.8888888888888888,
              "#fdca26"
             ],
             [
              1,
              "#f0f921"
             ]
            ],
            "type": "heatmapgl"
           }
          ],
          "histogram": [
           {
            "marker": {
             "pattern": {
              "fillmode": "overlay",
              "size": 10,
              "solidity": 0.2
             }
            },
            "type": "histogram"
           }
          ],
          "histogram2d": [
           {
            "colorbar": {
             "outlinewidth": 0,
             "ticks": ""
            },
            "colorscale": [
             [
              0,
              "#0d0887"
             ],
             [
              0.1111111111111111,
              "#46039f"
             ],
             [
              0.2222222222222222,
              "#7201a8"
             ],
             [
              0.3333333333333333,
              "#9c179e"
             ],
             [
              0.4444444444444444,
              "#bd3786"
             ],
             [
              0.5555555555555556,
              "#d8576b"
             ],
             [
              0.6666666666666666,
              "#ed7953"
             ],
             [
              0.7777777777777778,
              "#fb9f3a"
             ],
             [
              0.8888888888888888,
              "#fdca26"
             ],
             [
              1,
              "#f0f921"
             ]
            ],
            "type": "histogram2d"
           }
          ],
          "histogram2dcontour": [
           {
            "colorbar": {
             "outlinewidth": 0,
             "ticks": ""
            },
            "colorscale": [
             [
              0,
              "#0d0887"
             ],
             [
              0.1111111111111111,
              "#46039f"
             ],
             [
              0.2222222222222222,
              "#7201a8"
             ],
             [
              0.3333333333333333,
              "#9c179e"
             ],
             [
              0.4444444444444444,
              "#bd3786"
             ],
             [
              0.5555555555555556,
              "#d8576b"
             ],
             [
              0.6666666666666666,
              "#ed7953"
             ],
             [
              0.7777777777777778,
              "#fb9f3a"
             ],
             [
              0.8888888888888888,
              "#fdca26"
             ],
             [
              1,
              "#f0f921"
             ]
            ],
            "type": "histogram2dcontour"
           }
          ],
          "mesh3d": [
           {
            "colorbar": {
             "outlinewidth": 0,
             "ticks": ""
            },
            "type": "mesh3d"
           }
          ],
          "parcoords": [
           {
            "line": {
             "colorbar": {
              "outlinewidth": 0,
              "ticks": ""
             }
            },
            "type": "parcoords"
           }
          ],
          "pie": [
           {
            "automargin": true,
            "type": "pie"
           }
          ],
          "scatter": [
           {
            "marker": {
             "colorbar": {
              "outlinewidth": 0,
              "ticks": ""
             }
            },
            "type": "scatter"
           }
          ],
          "scatter3d": [
           {
            "line": {
             "colorbar": {
              "outlinewidth": 0,
              "ticks": ""
             }
            },
            "marker": {
             "colorbar": {
              "outlinewidth": 0,
              "ticks": ""
             }
            },
            "type": "scatter3d"
           }
          ],
          "scattercarpet": [
           {
            "marker": {
             "colorbar": {
              "outlinewidth": 0,
              "ticks": ""
             }
            },
            "type": "scattercarpet"
           }
          ],
          "scattergeo": [
           {
            "marker": {
             "colorbar": {
              "outlinewidth": 0,
              "ticks": ""
             }
            },
            "type": "scattergeo"
           }
          ],
          "scattergl": [
           {
            "marker": {
             "colorbar": {
              "outlinewidth": 0,
              "ticks": ""
             }
            },
            "type": "scattergl"
           }
          ],
          "scattermapbox": [
           {
            "marker": {
             "colorbar": {
              "outlinewidth": 0,
              "ticks": ""
             }
            },
            "type": "scattermapbox"
           }
          ],
          "scatterpolar": [
           {
            "marker": {
             "colorbar": {
              "outlinewidth": 0,
              "ticks": ""
             }
            },
            "type": "scatterpolar"
           }
          ],
          "scatterpolargl": [
           {
            "marker": {
             "colorbar": {
              "outlinewidth": 0,
              "ticks": ""
             }
            },
            "type": "scatterpolargl"
           }
          ],
          "scatterternary": [
           {
            "marker": {
             "colorbar": {
              "outlinewidth": 0,
              "ticks": ""
             }
            },
            "type": "scatterternary"
           }
          ],
          "surface": [
           {
            "colorbar": {
             "outlinewidth": 0,
             "ticks": ""
            },
            "colorscale": [
             [
              0,
              "#0d0887"
             ],
             [
              0.1111111111111111,
              "#46039f"
             ],
             [
              0.2222222222222222,
              "#7201a8"
             ],
             [
              0.3333333333333333,
              "#9c179e"
             ],
             [
              0.4444444444444444,
              "#bd3786"
             ],
             [
              0.5555555555555556,
              "#d8576b"
             ],
             [
              0.6666666666666666,
              "#ed7953"
             ],
             [
              0.7777777777777778,
              "#fb9f3a"
             ],
             [
              0.8888888888888888,
              "#fdca26"
             ],
             [
              1,
              "#f0f921"
             ]
            ],
            "type": "surface"
           }
          ],
          "table": [
           {
            "cells": {
             "fill": {
              "color": "#EBF0F8"
             },
             "line": {
              "color": "white"
             }
            },
            "header": {
             "fill": {
              "color": "#C8D4E3"
             },
             "line": {
              "color": "white"
             }
            },
            "type": "table"
           }
          ]
         },
         "layout": {
          "annotationdefaults": {
           "arrowcolor": "#2a3f5f",
           "arrowhead": 0,
           "arrowwidth": 1
          },
          "autotypenumbers": "strict",
          "coloraxis": {
           "colorbar": {
            "outlinewidth": 0,
            "ticks": ""
           }
          },
          "colorscale": {
           "diverging": [
            [
             0,
             "#8e0152"
            ],
            [
             0.1,
             "#c51b7d"
            ],
            [
             0.2,
             "#de77ae"
            ],
            [
             0.3,
             "#f1b6da"
            ],
            [
             0.4,
             "#fde0ef"
            ],
            [
             0.5,
             "#f7f7f7"
            ],
            [
             0.6,
             "#e6f5d0"
            ],
            [
             0.7,
             "#b8e186"
            ],
            [
             0.8,
             "#7fbc41"
            ],
            [
             0.9,
             "#4d9221"
            ],
            [
             1,
             "#276419"
            ]
           ],
           "sequential": [
            [
             0,
             "#0d0887"
            ],
            [
             0.1111111111111111,
             "#46039f"
            ],
            [
             0.2222222222222222,
             "#7201a8"
            ],
            [
             0.3333333333333333,
             "#9c179e"
            ],
            [
             0.4444444444444444,
             "#bd3786"
            ],
            [
             0.5555555555555556,
             "#d8576b"
            ],
            [
             0.6666666666666666,
             "#ed7953"
            ],
            [
             0.7777777777777778,
             "#fb9f3a"
            ],
            [
             0.8888888888888888,
             "#fdca26"
            ],
            [
             1,
             "#f0f921"
            ]
           ],
           "sequentialminus": [
            [
             0,
             "#0d0887"
            ],
            [
             0.1111111111111111,
             "#46039f"
            ],
            [
             0.2222222222222222,
             "#7201a8"
            ],
            [
             0.3333333333333333,
             "#9c179e"
            ],
            [
             0.4444444444444444,
             "#bd3786"
            ],
            [
             0.5555555555555556,
             "#d8576b"
            ],
            [
             0.6666666666666666,
             "#ed7953"
            ],
            [
             0.7777777777777778,
             "#fb9f3a"
            ],
            [
             0.8888888888888888,
             "#fdca26"
            ],
            [
             1,
             "#f0f921"
            ]
           ]
          },
          "colorway": [
           "#636efa",
           "#EF553B",
           "#00cc96",
           "#ab63fa",
           "#FFA15A",
           "#19d3f3",
           "#FF6692",
           "#B6E880",
           "#FF97FF",
           "#FECB52"
          ],
          "font": {
           "color": "#2a3f5f"
          },
          "geo": {
           "bgcolor": "white",
           "lakecolor": "white",
           "landcolor": "#E5ECF6",
           "showlakes": true,
           "showland": true,
           "subunitcolor": "white"
          },
          "hoverlabel": {
           "align": "left"
          },
          "hovermode": "closest",
          "mapbox": {
           "style": "light"
          },
          "paper_bgcolor": "white",
          "plot_bgcolor": "#E5ECF6",
          "polar": {
           "angularaxis": {
            "gridcolor": "white",
            "linecolor": "white",
            "ticks": ""
           },
           "bgcolor": "#E5ECF6",
           "radialaxis": {
            "gridcolor": "white",
            "linecolor": "white",
            "ticks": ""
           }
          },
          "scene": {
           "xaxis": {
            "backgroundcolor": "#E5ECF6",
            "gridcolor": "white",
            "gridwidth": 2,
            "linecolor": "white",
            "showbackground": true,
            "ticks": "",
            "zerolinecolor": "white"
           },
           "yaxis": {
            "backgroundcolor": "#E5ECF6",
            "gridcolor": "white",
            "gridwidth": 2,
            "linecolor": "white",
            "showbackground": true,
            "ticks": "",
            "zerolinecolor": "white"
           },
           "zaxis": {
            "backgroundcolor": "#E5ECF6",
            "gridcolor": "white",
            "gridwidth": 2,
            "linecolor": "white",
            "showbackground": true,
            "ticks": "",
            "zerolinecolor": "white"
           }
          },
          "shapedefaults": {
           "line": {
            "color": "#2a3f5f"
           }
          },
          "ternary": {
           "aaxis": {
            "gridcolor": "white",
            "linecolor": "white",
            "ticks": ""
           },
           "baxis": {
            "gridcolor": "white",
            "linecolor": "white",
            "ticks": ""
           },
           "bgcolor": "#E5ECF6",
           "caxis": {
            "gridcolor": "white",
            "linecolor": "white",
            "ticks": ""
           }
          },
          "title": {
           "x": 0.05
          },
          "xaxis": {
           "automargin": true,
           "gridcolor": "white",
           "linecolor": "white",
           "ticks": "",
           "title": {
            "standoff": 15
           },
           "zerolinecolor": "white",
           "zerolinewidth": 2
          },
          "yaxis": {
           "automargin": true,
           "gridcolor": "white",
           "linecolor": "white",
           "ticks": "",
           "title": {
            "standoff": 15
           },
           "zerolinecolor": "white",
           "zerolinewidth": 2
          }
         }
        },
        "xaxis": {
         "anchor": "y",
         "domain": [
          0,
          1
         ],
         "title": {
          "text": "ExerciseAngina"
         }
        },
        "yaxis": {
         "anchor": "x",
         "domain": [
          0,
          1
         ],
         "title": {
          "text": "count"
         }
        }
       }
      },
      "text/html": [
       "<div>                            <div id=\"71a77d1c-31ef-4407-99bc-ecd4a91ef422\" class=\"plotly-graph-div\" style=\"height:525px; width:100%;\"></div>            <script type=\"text/javascript\">                require([\"plotly\"], function(Plotly) {                    window.PLOTLYENV=window.PLOTLYENV || {};                                    if (document.getElementById(\"71a77d1c-31ef-4407-99bc-ecd4a91ef422\")) {                    Plotly.newPlot(                        \"71a77d1c-31ef-4407-99bc-ecd4a91ef422\",                        [{\"alignmentgroup\":\"True\",\"bingroup\":\"x\",\"hovertemplate\":\"HeartDisease=0<br>ExerciseAngina=%{x}<br>count=%{y}<extra></extra>\",\"legendgroup\":\"0\",\"marker\":{\"color\":\"#636efa\",\"pattern\":{\"shape\":\"\"}},\"name\":\"0\",\"offsetgroup\":\"0\",\"orientation\":\"v\",\"showlegend\":true,\"type\":\"histogram\",\"x\":[\"N\",\"N\",\"N\",\"N\",\"N\",\"N\",\"N\",\"N\",\"N\",\"N\",\"N\",\"N\",\"N\",\"N\",\"N\",\"N\",\"N\",\"Y\",\"N\",\"N\",\"N\",\"N\",\"N\",\"N\",\"N\",\"N\",\"Y\",\"N\",\"N\",\"N\",\"Y\",\"N\",\"N\",\"N\",\"N\",\"N\",\"Y\",\"N\",\"N\",\"N\",\"N\",\"N\",\"N\",\"N\",\"N\",\"N\",\"N\",\"N\",\"N\",\"N\",\"N\",\"Y\",\"N\",\"N\",\"N\",\"Y\",\"Y\",\"N\",\"N\",\"N\",\"N\",\"N\",\"N\",\"N\",\"N\",\"N\",\"N\",\"N\",\"N\",\"N\",\"N\",\"N\",\"Y\",\"N\",\"N\",\"N\",\"N\",\"N\",\"N\",\"N\",\"N\",\"N\",\"N\",\"Y\",\"N\",\"Y\",\"N\",\"N\",\"N\",\"N\",\"N\",\"N\",\"N\",\"N\",\"N\",\"N\",\"N\",\"N\",\"N\",\"N\",\"N\",\"N\",\"N\",\"N\",\"N\",\"N\",\"N\",\"N\",\"N\",\"N\",\"N\",\"N\",\"N\",\"N\",\"Y\",\"N\",\"N\",\"Y\",\"N\",\"N\",\"N\",\"N\",\"N\",\"N\",\"N\",\"N\",\"N\",\"N\",\"N\",\"N\",\"N\",\"N\",\"Y\",\"N\",\"N\",\"Y\",\"N\",\"N\",\"N\",\"N\",\"N\",\"N\",\"N\",\"N\",\"N\",\"N\",\"N\",\"N\",\"N\",\"N\",\"N\",\"N\",\"Y\",\"N\",\"N\",\"N\",\"Y\",\"N\",\"N\",\"N\",\"N\",\"N\",\"N\",\"Y\",\"N\",\"N\",\"N\",\"N\",\"N\",\"N\",\"N\",\"N\",\"N\",\"Y\",\"N\",\"N\",\"Y\",\"N\",\"N\",\"N\",\"N\",\"N\",\"N\",\"N\",\"N\",\"N\",\"N\",\"N\",\"N\",\"N\",\"Y\",\"N\",\"N\",\"N\",\"N\",\"N\",\"Y\",\"N\",\"Y\",\"N\",\"N\",\"N\",\"Y\",\"N\",\"Y\",\"Y\",\"N\",\"N\",\"N\",\"N\",\"N\",\"N\",\"N\",\"N\",\"N\",\"N\",\"N\",\"Y\",\"N\",\"N\",\"N\",\"N\",\"N\",\"N\",\"N\",\"N\",\"Y\",\"N\",\"N\",\"N\",\"N\",\"Y\",\"N\",\"N\",\"Y\",\"Y\",\"N\",\"N\",\"N\",\"N\",\"N\",\"Y\",\"Y\",\"N\",\"N\",\"N\",\"N\",\"Y\",\"Y\",\"N\",\"N\",\"Y\",\"N\",\"N\",\"N\",\"Y\",\"Y\",\"N\",\"N\",\"N\",\"Y\",\"N\",\"Y\",\"N\",\"N\",\"N\",\"N\",\"N\",\"N\",\"N\",\"Y\",\"N\",\"N\",\"N\",\"N\",\"N\",\"N\",\"N\",\"N\",\"N\",\"N\",\"N\",\"N\",\"Y\",\"N\",\"Y\",\"N\",\"N\",\"N\",\"Y\",\"N\",\"N\",\"N\",\"N\",\"Y\",\"N\",\"N\",\"N\",\"N\",\"Y\",\"N\",\"N\",\"N\",\"N\",\"N\",\"Y\",\"N\",\"N\",\"N\",\"N\",\"N\",\"N\",\"N\",\"N\",\"N\",\"N\",\"N\",\"N\",\"N\",\"Y\",\"N\",\"N\",\"Y\",\"N\",\"Y\",\"Y\",\"N\",\"N\",\"N\",\"N\",\"N\",\"N\",\"N\",\"N\",\"N\",\"N\",\"Y\",\"N\",\"N\",\"Y\",\"N\",\"N\",\"N\",\"N\",\"N\",\"N\",\"N\",\"N\",\"N\",\"N\",\"N\",\"N\",\"N\",\"N\",\"N\",\"N\",\"N\",\"N\",\"N\",\"N\",\"Y\",\"N\",\"N\",\"N\",\"N\",\"N\",\"N\",\"Y\",\"N\",\"N\",\"N\",\"N\",\"N\",\"N\",\"N\",\"N\",\"N\",\"N\",\"N\",\"N\",\"N\",\"N\",\"N\",\"N\",\"N\",\"N\",\"N\",\"N\",\"Y\",\"N\",\"N\",\"N\",\"N\",\"N\",\"N\",\"N\",\"N\",\"N\",\"N\",\"N\",\"N\",\"N\",\"N\",\"N\",\"N\",\"N\",\"N\",\"N\",\"N\",\"N\"],\"xaxis\":\"x\",\"yaxis\":\"y\"},{\"alignmentgroup\":\"True\",\"bingroup\":\"x\",\"hovertemplate\":\"HeartDisease=1<br>ExerciseAngina=%{x}<br>count=%{y}<extra></extra>\",\"legendgroup\":\"1\",\"marker\":{\"color\":\"#EF553B\",\"pattern\":{\"shape\":\"\"}},\"name\":\"1\",\"offsetgroup\":\"1\",\"orientation\":\"v\",\"showlegend\":true,\"type\":\"histogram\",\"x\":[\"N\",\"Y\",\"Y\",\"Y\",\"Y\",\"N\",\"N\",\"N\",\"Y\",\"N\",\"N\",\"N\",\"Y\",\"Y\",\"Y\",\"N\",\"Y\",\"Y\",\"Y\",\"N\",\"Y\",\"Y\",\"Y\",\"Y\",\"N\",\"Y\",\"N\",\"N\",\"N\",\"Y\",\"Y\",\"Y\",\"N\",\"Y\",\"Y\",\"Y\",\"N\",\"Y\",\"N\",\"Y\",\"Y\",\"N\",\"Y\",\"N\",\"N\",\"Y\",\"Y\",\"Y\",\"Y\",\"N\",\"Y\",\"Y\",\"Y\",\"Y\",\"Y\",\"N\",\"Y\",\"Y\",\"Y\",\"Y\",\"Y\",\"Y\",\"N\",\"Y\",\"Y\",\"Y\",\"N\",\"Y\",\"Y\",\"N\",\"Y\",\"Y\",\"Y\",\"N\",\"N\",\"N\",\"Y\",\"Y\",\"N\",\"N\",\"Y\",\"N\",\"Y\",\"Y\",\"N\",\"Y\",\"Y\",\"Y\",\"Y\",\"Y\",\"Y\",\"Y\",\"Y\",\"Y\",\"N\",\"N\",\"Y\",\"Y\",\"N\",\"Y\",\"Y\",\"Y\",\"Y\",\"N\",\"Y\",\"N\",\"Y\",\"N\",\"Y\",\"Y\",\"Y\",\"N\",\"N\",\"N\",\"N\",\"Y\",\"N\",\"Y\",\"N\",\"N\",\"N\",\"N\",\"N\",\"N\",\"N\",\"N\",\"Y\",\"N\",\"N\",\"N\",\"N\",\"N\",\"Y\",\"N\",\"Y\",\"Y\",\"Y\",\"Y\",\"N\",\"N\",\"N\",\"N\",\"N\",\"N\",\"N\",\"N\",\"N\",\"Y\",\"N\",\"N\",\"N\",\"N\",\"N\",\"N\",\"Y\",\"Y\",\"N\",\"Y\",\"Y\",\"Y\",\"N\",\"N\",\"Y\",\"N\",\"Y\",\"N\",\"Y\",\"Y\",\"N\",\"N\",\"Y\",\"Y\",\"Y\",\"Y\",\"Y\",\"Y\",\"Y\",\"Y\",\"Y\",\"Y\",\"N\",\"Y\",\"N\",\"Y\",\"Y\",\"Y\",\"Y\",\"Y\",\"N\",\"N\",\"Y\",\"Y\",\"Y\",\"N\",\"N\",\"N\",\"Y\",\"N\",\"Y\",\"Y\",\"N\",\"N\",\"Y\",\"Y\",\"N\",\"N\",\"N\",\"N\",\"Y\",\"Y\",\"Y\",\"Y\",\"Y\",\"N\",\"Y\",\"N\",\"N\",\"Y\",\"N\",\"Y\",\"N\",\"Y\",\"Y\",\"Y\",\"Y\",\"Y\",\"N\",\"Y\",\"Y\",\"Y\",\"Y\",\"Y\",\"Y\",\"N\",\"N\",\"Y\",\"N\",\"N\",\"Y\",\"Y\",\"Y\",\"Y\",\"Y\",\"Y\",\"Y\",\"N\",\"Y\",\"Y\",\"Y\",\"Y\",\"Y\",\"N\",\"N\",\"Y\",\"Y\",\"Y\",\"Y\",\"Y\",\"Y\",\"N\",\"Y\",\"Y\",\"Y\",\"Y\",\"Y\",\"Y\",\"Y\",\"Y\",\"N\",\"N\",\"Y\",\"Y\",\"Y\",\"Y\",\"Y\",\"Y\",\"N\",\"N\",\"Y\",\"Y\",\"Y\",\"Y\",\"Y\",\"Y\",\"Y\",\"Y\",\"Y\",\"Y\",\"Y\",\"Y\",\"N\",\"N\",\"Y\",\"Y\",\"N\",\"N\",\"Y\",\"Y\",\"Y\",\"Y\",\"Y\",\"Y\",\"Y\",\"Y\",\"Y\",\"Y\",\"Y\",\"N\",\"Y\",\"Y\",\"Y\",\"Y\",\"Y\",\"Y\",\"Y\",\"N\",\"Y\",\"Y\",\"N\",\"N\",\"N\",\"N\",\"Y\",\"Y\",\"Y\",\"Y\",\"Y\",\"Y\",\"Y\",\"Y\",\"Y\",\"Y\",\"Y\",\"Y\",\"Y\",\"Y\",\"Y\",\"N\",\"Y\",\"Y\",\"Y\",\"Y\",\"Y\",\"Y\",\"Y\",\"Y\",\"Y\",\"Y\",\"N\",\"Y\",\"Y\",\"N\",\"Y\",\"N\",\"Y\",\"Y\",\"N\",\"Y\",\"N\",\"Y\",\"Y\",\"Y\",\"Y\",\"Y\",\"Y\",\"N\",\"N\",\"N\",\"Y\",\"N\",\"N\",\"Y\",\"Y\",\"N\",\"N\",\"N\",\"Y\",\"Y\",\"Y\",\"N\",\"N\",\"Y\",\"Y\",\"Y\",\"Y\",\"N\",\"N\",\"N\",\"N\",\"N\",\"Y\",\"N\",\"Y\",\"Y\",\"Y\",\"N\",\"Y\",\"Y\",\"N\",\"N\",\"Y\",\"Y\",\"N\",\"Y\",\"Y\",\"N\",\"N\",\"Y\",\"Y\",\"N\",\"Y\",\"N\",\"N\",\"N\",\"N\",\"N\",\"N\",\"Y\",\"Y\",\"N\",\"N\",\"Y\",\"Y\",\"N\",\"Y\",\"Y\",\"Y\",\"Y\",\"Y\",\"Y\",\"Y\",\"Y\",\"N\",\"N\",\"N\",\"Y\",\"N\",\"Y\",\"N\",\"Y\",\"Y\",\"Y\",\"Y\",\"Y\",\"N\",\"N\",\"Y\",\"N\",\"Y\",\"N\",\"N\",\"Y\",\"N\",\"Y\",\"Y\",\"Y\",\"Y\",\"Y\",\"N\",\"Y\",\"Y\",\"Y\",\"Y\",\"N\",\"Y\",\"Y\",\"N\",\"Y\",\"N\",\"Y\",\"Y\",\"N\",\"Y\",\"N\",\"Y\",\"Y\",\"N\",\"Y\",\"N\",\"N\",\"Y\",\"N\",\"N\",\"Y\",\"N\",\"Y\",\"N\",\"N\",\"Y\",\"Y\",\"Y\",\"N\",\"N\",\"Y\",\"Y\",\"N\",\"N\",\"Y\",\"N\",\"Y\",\"Y\",\"Y\",\"N\",\"Y\",\"N\",\"N\",\"Y\",\"N\"],\"xaxis\":\"x\",\"yaxis\":\"y\"}],                        {\"barmode\":\"relative\",\"legend\":{\"title\":{\"text\":\"HeartDisease\"},\"tracegroupgap\":0},\"margin\":{\"t\":60},\"template\":{\"data\":{\"bar\":[{\"error_x\":{\"color\":\"#2a3f5f\"},\"error_y\":{\"color\":\"#2a3f5f\"},\"marker\":{\"line\":{\"color\":\"#E5ECF6\",\"width\":0.5},\"pattern\":{\"fillmode\":\"overlay\",\"size\":10,\"solidity\":0.2}},\"type\":\"bar\"}],\"barpolar\":[{\"marker\":{\"line\":{\"color\":\"#E5ECF6\",\"width\":0.5},\"pattern\":{\"fillmode\":\"overlay\",\"size\":10,\"solidity\":0.2}},\"type\":\"barpolar\"}],\"carpet\":[{\"aaxis\":{\"endlinecolor\":\"#2a3f5f\",\"gridcolor\":\"white\",\"linecolor\":\"white\",\"minorgridcolor\":\"white\",\"startlinecolor\":\"#2a3f5f\"},\"baxis\":{\"endlinecolor\":\"#2a3f5f\",\"gridcolor\":\"white\",\"linecolor\":\"white\",\"minorgridcolor\":\"white\",\"startlinecolor\":\"#2a3f5f\"},\"type\":\"carpet\"}],\"choropleth\":[{\"colorbar\":{\"outlinewidth\":0,\"ticks\":\"\"},\"type\":\"choropleth\"}],\"contour\":[{\"colorbar\":{\"outlinewidth\":0,\"ticks\":\"\"},\"colorscale\":[[0.0,\"#0d0887\"],[0.1111111111111111,\"#46039f\"],[0.2222222222222222,\"#7201a8\"],[0.3333333333333333,\"#9c179e\"],[0.4444444444444444,\"#bd3786\"],[0.5555555555555556,\"#d8576b\"],[0.6666666666666666,\"#ed7953\"],[0.7777777777777778,\"#fb9f3a\"],[0.8888888888888888,\"#fdca26\"],[1.0,\"#f0f921\"]],\"type\":\"contour\"}],\"contourcarpet\":[{\"colorbar\":{\"outlinewidth\":0,\"ticks\":\"\"},\"type\":\"contourcarpet\"}],\"heatmap\":[{\"colorbar\":{\"outlinewidth\":0,\"ticks\":\"\"},\"colorscale\":[[0.0,\"#0d0887\"],[0.1111111111111111,\"#46039f\"],[0.2222222222222222,\"#7201a8\"],[0.3333333333333333,\"#9c179e\"],[0.4444444444444444,\"#bd3786\"],[0.5555555555555556,\"#d8576b\"],[0.6666666666666666,\"#ed7953\"],[0.7777777777777778,\"#fb9f3a\"],[0.8888888888888888,\"#fdca26\"],[1.0,\"#f0f921\"]],\"type\":\"heatmap\"}],\"heatmapgl\":[{\"colorbar\":{\"outlinewidth\":0,\"ticks\":\"\"},\"colorscale\":[[0.0,\"#0d0887\"],[0.1111111111111111,\"#46039f\"],[0.2222222222222222,\"#7201a8\"],[0.3333333333333333,\"#9c179e\"],[0.4444444444444444,\"#bd3786\"],[0.5555555555555556,\"#d8576b\"],[0.6666666666666666,\"#ed7953\"],[0.7777777777777778,\"#fb9f3a\"],[0.8888888888888888,\"#fdca26\"],[1.0,\"#f0f921\"]],\"type\":\"heatmapgl\"}],\"histogram\":[{\"marker\":{\"pattern\":{\"fillmode\":\"overlay\",\"size\":10,\"solidity\":0.2}},\"type\":\"histogram\"}],\"histogram2d\":[{\"colorbar\":{\"outlinewidth\":0,\"ticks\":\"\"},\"colorscale\":[[0.0,\"#0d0887\"],[0.1111111111111111,\"#46039f\"],[0.2222222222222222,\"#7201a8\"],[0.3333333333333333,\"#9c179e\"],[0.4444444444444444,\"#bd3786\"],[0.5555555555555556,\"#d8576b\"],[0.6666666666666666,\"#ed7953\"],[0.7777777777777778,\"#fb9f3a\"],[0.8888888888888888,\"#fdca26\"],[1.0,\"#f0f921\"]],\"type\":\"histogram2d\"}],\"histogram2dcontour\":[{\"colorbar\":{\"outlinewidth\":0,\"ticks\":\"\"},\"colorscale\":[[0.0,\"#0d0887\"],[0.1111111111111111,\"#46039f\"],[0.2222222222222222,\"#7201a8\"],[0.3333333333333333,\"#9c179e\"],[0.4444444444444444,\"#bd3786\"],[0.5555555555555556,\"#d8576b\"],[0.6666666666666666,\"#ed7953\"],[0.7777777777777778,\"#fb9f3a\"],[0.8888888888888888,\"#fdca26\"],[1.0,\"#f0f921\"]],\"type\":\"histogram2dcontour\"}],\"mesh3d\":[{\"colorbar\":{\"outlinewidth\":0,\"ticks\":\"\"},\"type\":\"mesh3d\"}],\"parcoords\":[{\"line\":{\"colorbar\":{\"outlinewidth\":0,\"ticks\":\"\"}},\"type\":\"parcoords\"}],\"pie\":[{\"automargin\":true,\"type\":\"pie\"}],\"scatter\":[{\"marker\":{\"colorbar\":{\"outlinewidth\":0,\"ticks\":\"\"}},\"type\":\"scatter\"}],\"scatter3d\":[{\"line\":{\"colorbar\":{\"outlinewidth\":0,\"ticks\":\"\"}},\"marker\":{\"colorbar\":{\"outlinewidth\":0,\"ticks\":\"\"}},\"type\":\"scatter3d\"}],\"scattercarpet\":[{\"marker\":{\"colorbar\":{\"outlinewidth\":0,\"ticks\":\"\"}},\"type\":\"scattercarpet\"}],\"scattergeo\":[{\"marker\":{\"colorbar\":{\"outlinewidth\":0,\"ticks\":\"\"}},\"type\":\"scattergeo\"}],\"scattergl\":[{\"marker\":{\"colorbar\":{\"outlinewidth\":0,\"ticks\":\"\"}},\"type\":\"scattergl\"}],\"scattermapbox\":[{\"marker\":{\"colorbar\":{\"outlinewidth\":0,\"ticks\":\"\"}},\"type\":\"scattermapbox\"}],\"scatterpolar\":[{\"marker\":{\"colorbar\":{\"outlinewidth\":0,\"ticks\":\"\"}},\"type\":\"scatterpolar\"}],\"scatterpolargl\":[{\"marker\":{\"colorbar\":{\"outlinewidth\":0,\"ticks\":\"\"}},\"type\":\"scatterpolargl\"}],\"scatterternary\":[{\"marker\":{\"colorbar\":{\"outlinewidth\":0,\"ticks\":\"\"}},\"type\":\"scatterternary\"}],\"surface\":[{\"colorbar\":{\"outlinewidth\":0,\"ticks\":\"\"},\"colorscale\":[[0.0,\"#0d0887\"],[0.1111111111111111,\"#46039f\"],[0.2222222222222222,\"#7201a8\"],[0.3333333333333333,\"#9c179e\"],[0.4444444444444444,\"#bd3786\"],[0.5555555555555556,\"#d8576b\"],[0.6666666666666666,\"#ed7953\"],[0.7777777777777778,\"#fb9f3a\"],[0.8888888888888888,\"#fdca26\"],[1.0,\"#f0f921\"]],\"type\":\"surface\"}],\"table\":[{\"cells\":{\"fill\":{\"color\":\"#EBF0F8\"},\"line\":{\"color\":\"white\"}},\"header\":{\"fill\":{\"color\":\"#C8D4E3\"},\"line\":{\"color\":\"white\"}},\"type\":\"table\"}]},\"layout\":{\"annotationdefaults\":{\"arrowcolor\":\"#2a3f5f\",\"arrowhead\":0,\"arrowwidth\":1},\"autotypenumbers\":\"strict\",\"coloraxis\":{\"colorbar\":{\"outlinewidth\":0,\"ticks\":\"\"}},\"colorscale\":{\"diverging\":[[0,\"#8e0152\"],[0.1,\"#c51b7d\"],[0.2,\"#de77ae\"],[0.3,\"#f1b6da\"],[0.4,\"#fde0ef\"],[0.5,\"#f7f7f7\"],[0.6,\"#e6f5d0\"],[0.7,\"#b8e186\"],[0.8,\"#7fbc41\"],[0.9,\"#4d9221\"],[1,\"#276419\"]],\"sequential\":[[0.0,\"#0d0887\"],[0.1111111111111111,\"#46039f\"],[0.2222222222222222,\"#7201a8\"],[0.3333333333333333,\"#9c179e\"],[0.4444444444444444,\"#bd3786\"],[0.5555555555555556,\"#d8576b\"],[0.6666666666666666,\"#ed7953\"],[0.7777777777777778,\"#fb9f3a\"],[0.8888888888888888,\"#fdca26\"],[1.0,\"#f0f921\"]],\"sequentialminus\":[[0.0,\"#0d0887\"],[0.1111111111111111,\"#46039f\"],[0.2222222222222222,\"#7201a8\"],[0.3333333333333333,\"#9c179e\"],[0.4444444444444444,\"#bd3786\"],[0.5555555555555556,\"#d8576b\"],[0.6666666666666666,\"#ed7953\"],[0.7777777777777778,\"#fb9f3a\"],[0.8888888888888888,\"#fdca26\"],[1.0,\"#f0f921\"]]},\"colorway\":[\"#636efa\",\"#EF553B\",\"#00cc96\",\"#ab63fa\",\"#FFA15A\",\"#19d3f3\",\"#FF6692\",\"#B6E880\",\"#FF97FF\",\"#FECB52\"],\"font\":{\"color\":\"#2a3f5f\"},\"geo\":{\"bgcolor\":\"white\",\"lakecolor\":\"white\",\"landcolor\":\"#E5ECF6\",\"showlakes\":true,\"showland\":true,\"subunitcolor\":\"white\"},\"hoverlabel\":{\"align\":\"left\"},\"hovermode\":\"closest\",\"mapbox\":{\"style\":\"light\"},\"paper_bgcolor\":\"white\",\"plot_bgcolor\":\"#E5ECF6\",\"polar\":{\"angularaxis\":{\"gridcolor\":\"white\",\"linecolor\":\"white\",\"ticks\":\"\"},\"bgcolor\":\"#E5ECF6\",\"radialaxis\":{\"gridcolor\":\"white\",\"linecolor\":\"white\",\"ticks\":\"\"}},\"scene\":{\"xaxis\":{\"backgroundcolor\":\"#E5ECF6\",\"gridcolor\":\"white\",\"gridwidth\":2,\"linecolor\":\"white\",\"showbackground\":true,\"ticks\":\"\",\"zerolinecolor\":\"white\"},\"yaxis\":{\"backgroundcolor\":\"#E5ECF6\",\"gridcolor\":\"white\",\"gridwidth\":2,\"linecolor\":\"white\",\"showbackground\":true,\"ticks\":\"\",\"zerolinecolor\":\"white\"},\"zaxis\":{\"backgroundcolor\":\"#E5ECF6\",\"gridcolor\":\"white\",\"gridwidth\":2,\"linecolor\":\"white\",\"showbackground\":true,\"ticks\":\"\",\"zerolinecolor\":\"white\"}},\"shapedefaults\":{\"line\":{\"color\":\"#2a3f5f\"}},\"ternary\":{\"aaxis\":{\"gridcolor\":\"white\",\"linecolor\":\"white\",\"ticks\":\"\"},\"baxis\":{\"gridcolor\":\"white\",\"linecolor\":\"white\",\"ticks\":\"\"},\"bgcolor\":\"#E5ECF6\",\"caxis\":{\"gridcolor\":\"white\",\"linecolor\":\"white\",\"ticks\":\"\"}},\"title\":{\"x\":0.05},\"xaxis\":{\"automargin\":true,\"gridcolor\":\"white\",\"linecolor\":\"white\",\"ticks\":\"\",\"title\":{\"standoff\":15},\"zerolinecolor\":\"white\",\"zerolinewidth\":2},\"yaxis\":{\"automargin\":true,\"gridcolor\":\"white\",\"linecolor\":\"white\",\"ticks\":\"\",\"title\":{\"standoff\":15},\"zerolinecolor\":\"white\",\"zerolinewidth\":2}}},\"xaxis\":{\"anchor\":\"y\",\"domain\":[0.0,1.0],\"title\":{\"text\":\"ExerciseAngina\"}},\"yaxis\":{\"anchor\":\"x\",\"domain\":[0.0,1.0],\"title\":{\"text\":\"count\"}}},                        {\"responsive\": true}                    ).then(function(){\n",
       "                            \n",
       "var gd = document.getElementById('71a77d1c-31ef-4407-99bc-ecd4a91ef422');\n",
       "var x = new MutationObserver(function (mutations, observer) {{\n",
       "        var display = window.getComputedStyle(gd).display;\n",
       "        if (!display || display === 'none') {{\n",
       "            console.log([gd, 'removed!']);\n",
       "            Plotly.purge(gd);\n",
       "            observer.disconnect();\n",
       "        }}\n",
       "}});\n",
       "\n",
       "// Listen for the removal of the full notebook cells\n",
       "var notebookContainer = gd.closest('#notebook-container');\n",
       "if (notebookContainer) {{\n",
       "    x.observe(notebookContainer, {childList: true});\n",
       "}}\n",
       "\n",
       "// Listen for the clearing of the current output cell\n",
       "var outputEl = gd.closest('.output');\n",
       "if (outputEl) {{\n",
       "    x.observe(outputEl, {childList: true});\n",
       "}}\n",
       "\n",
       "                        })                };                });            </script>        </div>"
      ]
     },
     "metadata": {},
     "output_type": "display_data"
    }
   ],
   "source": [
    "fig=px.histogram(df,'ExerciseAngina',color='HeartDisease')\n",
    "fig.show()"
   ]
  },
  {
   "cell_type": "markdown",
   "id": "3f1827bc",
   "metadata": {},
   "source": [
    "### Preparation for Machine Learning Model "
   ]
  },
  {
   "cell_type": "code",
   "execution_count": 399,
   "id": "74af3789",
   "metadata": {},
   "outputs": [],
   "source": [
    "from sklearn.preprocessing import StandardScaler\n",
    "from sklearn.preprocessing import LabelEncoder"
   ]
  },
  {
   "cell_type": "code",
   "execution_count": 400,
   "id": "add69a65",
   "metadata": {},
   "outputs": [],
   "source": [
    "sc=StandardScaler()\n",
    "le=LabelEncoder()"
   ]
  },
  {
   "cell_type": "code",
   "execution_count": 401,
   "id": "e39b7c86",
   "metadata": {},
   "outputs": [
    {
     "data": {
      "text/html": [
       "<div>\n",
       "<style scoped>\n",
       "    .dataframe tbody tr th:only-of-type {\n",
       "        vertical-align: middle;\n",
       "    }\n",
       "\n",
       "    .dataframe tbody tr th {\n",
       "        vertical-align: top;\n",
       "    }\n",
       "\n",
       "    .dataframe thead th {\n",
       "        text-align: right;\n",
       "    }\n",
       "</style>\n",
       "<table border=\"1\" class=\"dataframe\">\n",
       "  <thead>\n",
       "    <tr style=\"text-align: right;\">\n",
       "      <th></th>\n",
       "      <th>Age</th>\n",
       "      <th>Sex</th>\n",
       "      <th>ChestPainType</th>\n",
       "      <th>RestingBP</th>\n",
       "      <th>Cholesterol</th>\n",
       "      <th>FastingBS</th>\n",
       "      <th>RestingECG</th>\n",
       "      <th>MaxHR</th>\n",
       "      <th>ExerciseAngina</th>\n",
       "      <th>Oldpeak</th>\n",
       "      <th>ST_Slope</th>\n",
       "      <th>HeartDisease</th>\n",
       "    </tr>\n",
       "  </thead>\n",
       "  <tbody>\n",
       "    <tr>\n",
       "      <th>0</th>\n",
       "      <td>40</td>\n",
       "      <td>1</td>\n",
       "      <td>1</td>\n",
       "      <td>140</td>\n",
       "      <td>289</td>\n",
       "      <td>0</td>\n",
       "      <td>1</td>\n",
       "      <td>172</td>\n",
       "      <td>0</td>\n",
       "      <td>0.0</td>\n",
       "      <td>2</td>\n",
       "      <td>0</td>\n",
       "    </tr>\n",
       "    <tr>\n",
       "      <th>1</th>\n",
       "      <td>49</td>\n",
       "      <td>0</td>\n",
       "      <td>2</td>\n",
       "      <td>160</td>\n",
       "      <td>180</td>\n",
       "      <td>0</td>\n",
       "      <td>1</td>\n",
       "      <td>156</td>\n",
       "      <td>0</td>\n",
       "      <td>1.0</td>\n",
       "      <td>1</td>\n",
       "      <td>1</td>\n",
       "    </tr>\n",
       "    <tr>\n",
       "      <th>2</th>\n",
       "      <td>37</td>\n",
       "      <td>1</td>\n",
       "      <td>1</td>\n",
       "      <td>130</td>\n",
       "      <td>283</td>\n",
       "      <td>0</td>\n",
       "      <td>2</td>\n",
       "      <td>98</td>\n",
       "      <td>0</td>\n",
       "      <td>0.0</td>\n",
       "      <td>2</td>\n",
       "      <td>0</td>\n",
       "    </tr>\n",
       "    <tr>\n",
       "      <th>3</th>\n",
       "      <td>48</td>\n",
       "      <td>0</td>\n",
       "      <td>0</td>\n",
       "      <td>138</td>\n",
       "      <td>214</td>\n",
       "      <td>0</td>\n",
       "      <td>1</td>\n",
       "      <td>108</td>\n",
       "      <td>1</td>\n",
       "      <td>1.5</td>\n",
       "      <td>1</td>\n",
       "      <td>1</td>\n",
       "    </tr>\n",
       "    <tr>\n",
       "      <th>4</th>\n",
       "      <td>54</td>\n",
       "      <td>1</td>\n",
       "      <td>2</td>\n",
       "      <td>150</td>\n",
       "      <td>195</td>\n",
       "      <td>0</td>\n",
       "      <td>1</td>\n",
       "      <td>122</td>\n",
       "      <td>0</td>\n",
       "      <td>0.0</td>\n",
       "      <td>2</td>\n",
       "      <td>0</td>\n",
       "    </tr>\n",
       "    <tr>\n",
       "      <th>5</th>\n",
       "      <td>39</td>\n",
       "      <td>1</td>\n",
       "      <td>2</td>\n",
       "      <td>120</td>\n",
       "      <td>339</td>\n",
       "      <td>0</td>\n",
       "      <td>1</td>\n",
       "      <td>170</td>\n",
       "      <td>0</td>\n",
       "      <td>0.0</td>\n",
       "      <td>2</td>\n",
       "      <td>0</td>\n",
       "    </tr>\n",
       "    <tr>\n",
       "      <th>6</th>\n",
       "      <td>45</td>\n",
       "      <td>0</td>\n",
       "      <td>1</td>\n",
       "      <td>130</td>\n",
       "      <td>237</td>\n",
       "      <td>0</td>\n",
       "      <td>1</td>\n",
       "      <td>170</td>\n",
       "      <td>0</td>\n",
       "      <td>0.0</td>\n",
       "      <td>2</td>\n",
       "      <td>0</td>\n",
       "    </tr>\n",
       "    <tr>\n",
       "      <th>7</th>\n",
       "      <td>54</td>\n",
       "      <td>1</td>\n",
       "      <td>1</td>\n",
       "      <td>110</td>\n",
       "      <td>208</td>\n",
       "      <td>0</td>\n",
       "      <td>1</td>\n",
       "      <td>142</td>\n",
       "      <td>0</td>\n",
       "      <td>0.0</td>\n",
       "      <td>2</td>\n",
       "      <td>0</td>\n",
       "    </tr>\n",
       "    <tr>\n",
       "      <th>8</th>\n",
       "      <td>37</td>\n",
       "      <td>1</td>\n",
       "      <td>0</td>\n",
       "      <td>140</td>\n",
       "      <td>207</td>\n",
       "      <td>0</td>\n",
       "      <td>1</td>\n",
       "      <td>130</td>\n",
       "      <td>1</td>\n",
       "      <td>1.5</td>\n",
       "      <td>1</td>\n",
       "      <td>1</td>\n",
       "    </tr>\n",
       "    <tr>\n",
       "      <th>9</th>\n",
       "      <td>48</td>\n",
       "      <td>0</td>\n",
       "      <td>1</td>\n",
       "      <td>120</td>\n",
       "      <td>284</td>\n",
       "      <td>0</td>\n",
       "      <td>1</td>\n",
       "      <td>120</td>\n",
       "      <td>0</td>\n",
       "      <td>0.0</td>\n",
       "      <td>2</td>\n",
       "      <td>0</td>\n",
       "    </tr>\n",
       "  </tbody>\n",
       "</table>\n",
       "</div>"
      ],
      "text/plain": [
       "   Age  Sex  ChestPainType  RestingBP  Cholesterol  FastingBS  RestingECG  \\\n",
       "0   40    1              1        140          289          0           1   \n",
       "1   49    0              2        160          180          0           1   \n",
       "2   37    1              1        130          283          0           2   \n",
       "3   48    0              0        138          214          0           1   \n",
       "4   54    1              2        150          195          0           1   \n",
       "5   39    1              2        120          339          0           1   \n",
       "6   45    0              1        130          237          0           1   \n",
       "7   54    1              1        110          208          0           1   \n",
       "8   37    1              0        140          207          0           1   \n",
       "9   48    0              1        120          284          0           1   \n",
       "\n",
       "   MaxHR  ExerciseAngina  Oldpeak  ST_Slope  HeartDisease  \n",
       "0    172               0      0.0         2             0  \n",
       "1    156               0      1.0         1             1  \n",
       "2     98               0      0.0         2             0  \n",
       "3    108               1      1.5         1             1  \n",
       "4    122               0      0.0         2             0  \n",
       "5    170               0      0.0         2             0  \n",
       "6    170               0      0.0         2             0  \n",
       "7    142               0      0.0         2             0  \n",
       "8    130               1      1.5         1             1  \n",
       "9    120               0      0.0         2             0  "
      ]
     },
     "execution_count": 401,
     "metadata": {},
     "output_type": "execute_result"
    }
   ],
   "source": [
    "df['Sex']=le.fit_transform(df['Sex'])\n",
    "df['ChestPainType']=le.fit_transform(df['ChestPainType'])\n",
    "df['ExerciseAngina']=le.fit_transform(df['ExerciseAngina'])\n",
    "df['ST_Slope']=le.fit_transform(df['ST_Slope'])\n",
    "df['RestingECG']=le.fit_transform(df['RestingECG'])\n",
    "\n",
    "df.head(n=10)"
   ]
  },
  {
   "cell_type": "markdown",
   "id": "fe751175",
   "metadata": {},
   "source": [
    "### Checking co-relation "
   ]
  },
  {
   "cell_type": "code",
   "execution_count": 402,
   "id": "992cd28f",
   "metadata": {},
   "outputs": [
    {
     "data": {
      "text/html": [
       "<div>\n",
       "<style scoped>\n",
       "    .dataframe tbody tr th:only-of-type {\n",
       "        vertical-align: middle;\n",
       "    }\n",
       "\n",
       "    .dataframe tbody tr th {\n",
       "        vertical-align: top;\n",
       "    }\n",
       "\n",
       "    .dataframe thead th {\n",
       "        text-align: right;\n",
       "    }\n",
       "</style>\n",
       "<table border=\"1\" class=\"dataframe\">\n",
       "  <thead>\n",
       "    <tr style=\"text-align: right;\">\n",
       "      <th></th>\n",
       "      <th>Age</th>\n",
       "      <th>Sex</th>\n",
       "      <th>ChestPainType</th>\n",
       "      <th>RestingBP</th>\n",
       "      <th>Cholesterol</th>\n",
       "      <th>FastingBS</th>\n",
       "      <th>RestingECG</th>\n",
       "      <th>MaxHR</th>\n",
       "      <th>ExerciseAngina</th>\n",
       "      <th>Oldpeak</th>\n",
       "      <th>ST_Slope</th>\n",
       "      <th>HeartDisease</th>\n",
       "    </tr>\n",
       "  </thead>\n",
       "  <tbody>\n",
       "    <tr>\n",
       "      <th>Age</th>\n",
       "      <td>1.000000</td>\n",
       "      <td>0.055750</td>\n",
       "      <td>-0.077150</td>\n",
       "      <td>0.254399</td>\n",
       "      <td>-0.095282</td>\n",
       "      <td>0.198039</td>\n",
       "      <td>-0.007484</td>\n",
       "      <td>-0.382045</td>\n",
       "      <td>0.215793</td>\n",
       "      <td>0.258612</td>\n",
       "      <td>-0.268264</td>\n",
       "      <td>0.282039</td>\n",
       "    </tr>\n",
       "    <tr>\n",
       "      <th>Sex</th>\n",
       "      <td>0.055750</td>\n",
       "      <td>1.000000</td>\n",
       "      <td>-0.126559</td>\n",
       "      <td>0.005133</td>\n",
       "      <td>-0.200092</td>\n",
       "      <td>0.120076</td>\n",
       "      <td>0.071552</td>\n",
       "      <td>-0.189186</td>\n",
       "      <td>0.190664</td>\n",
       "      <td>0.105734</td>\n",
       "      <td>-0.150693</td>\n",
       "      <td>0.305445</td>\n",
       "    </tr>\n",
       "    <tr>\n",
       "      <th>ChestPainType</th>\n",
       "      <td>-0.077150</td>\n",
       "      <td>-0.126559</td>\n",
       "      <td>1.000000</td>\n",
       "      <td>-0.020647</td>\n",
       "      <td>0.067880</td>\n",
       "      <td>-0.073151</td>\n",
       "      <td>-0.072537</td>\n",
       "      <td>0.289123</td>\n",
       "      <td>-0.354727</td>\n",
       "      <td>-0.177377</td>\n",
       "      <td>0.213521</td>\n",
       "      <td>-0.386828</td>\n",
       "    </tr>\n",
       "    <tr>\n",
       "      <th>RestingBP</th>\n",
       "      <td>0.254399</td>\n",
       "      <td>0.005133</td>\n",
       "      <td>-0.020647</td>\n",
       "      <td>1.000000</td>\n",
       "      <td>0.100893</td>\n",
       "      <td>0.070193</td>\n",
       "      <td>0.022656</td>\n",
       "      <td>-0.112135</td>\n",
       "      <td>0.155101</td>\n",
       "      <td>0.164803</td>\n",
       "      <td>-0.075162</td>\n",
       "      <td>0.107589</td>\n",
       "    </tr>\n",
       "    <tr>\n",
       "      <th>Cholesterol</th>\n",
       "      <td>-0.095282</td>\n",
       "      <td>-0.200092</td>\n",
       "      <td>0.067880</td>\n",
       "      <td>0.100893</td>\n",
       "      <td>1.000000</td>\n",
       "      <td>-0.260974</td>\n",
       "      <td>-0.196544</td>\n",
       "      <td>0.235792</td>\n",
       "      <td>-0.034166</td>\n",
       "      <td>0.050148</td>\n",
       "      <td>0.111471</td>\n",
       "      <td>-0.232741</td>\n",
       "    </tr>\n",
       "    <tr>\n",
       "      <th>FastingBS</th>\n",
       "      <td>0.198039</td>\n",
       "      <td>0.120076</td>\n",
       "      <td>-0.073151</td>\n",
       "      <td>0.070193</td>\n",
       "      <td>-0.260974</td>\n",
       "      <td>1.000000</td>\n",
       "      <td>0.087050</td>\n",
       "      <td>-0.131438</td>\n",
       "      <td>0.060451</td>\n",
       "      <td>0.052698</td>\n",
       "      <td>-0.175774</td>\n",
       "      <td>0.267291</td>\n",
       "    </tr>\n",
       "    <tr>\n",
       "      <th>RestingECG</th>\n",
       "      <td>-0.007484</td>\n",
       "      <td>0.071552</td>\n",
       "      <td>-0.072537</td>\n",
       "      <td>0.022656</td>\n",
       "      <td>-0.196544</td>\n",
       "      <td>0.087050</td>\n",
       "      <td>1.000000</td>\n",
       "      <td>-0.179276</td>\n",
       "      <td>0.077500</td>\n",
       "      <td>-0.020438</td>\n",
       "      <td>-0.006778</td>\n",
       "      <td>0.057384</td>\n",
       "    </tr>\n",
       "    <tr>\n",
       "      <th>MaxHR</th>\n",
       "      <td>-0.382045</td>\n",
       "      <td>-0.189186</td>\n",
       "      <td>0.289123</td>\n",
       "      <td>-0.112135</td>\n",
       "      <td>0.235792</td>\n",
       "      <td>-0.131438</td>\n",
       "      <td>-0.179276</td>\n",
       "      <td>1.000000</td>\n",
       "      <td>-0.370425</td>\n",
       "      <td>-0.160691</td>\n",
       "      <td>0.343419</td>\n",
       "      <td>-0.400421</td>\n",
       "    </tr>\n",
       "    <tr>\n",
       "      <th>ExerciseAngina</th>\n",
       "      <td>0.215793</td>\n",
       "      <td>0.190664</td>\n",
       "      <td>-0.354727</td>\n",
       "      <td>0.155101</td>\n",
       "      <td>-0.034166</td>\n",
       "      <td>0.060451</td>\n",
       "      <td>0.077500</td>\n",
       "      <td>-0.370425</td>\n",
       "      <td>1.000000</td>\n",
       "      <td>0.408752</td>\n",
       "      <td>-0.428706</td>\n",
       "      <td>0.494282</td>\n",
       "    </tr>\n",
       "    <tr>\n",
       "      <th>Oldpeak</th>\n",
       "      <td>0.258612</td>\n",
       "      <td>0.105734</td>\n",
       "      <td>-0.177377</td>\n",
       "      <td>0.164803</td>\n",
       "      <td>0.050148</td>\n",
       "      <td>0.052698</td>\n",
       "      <td>-0.020438</td>\n",
       "      <td>-0.160691</td>\n",
       "      <td>0.408752</td>\n",
       "      <td>1.000000</td>\n",
       "      <td>-0.501921</td>\n",
       "      <td>0.403951</td>\n",
       "    </tr>\n",
       "    <tr>\n",
       "      <th>ST_Slope</th>\n",
       "      <td>-0.268264</td>\n",
       "      <td>-0.150693</td>\n",
       "      <td>0.213521</td>\n",
       "      <td>-0.075162</td>\n",
       "      <td>0.111471</td>\n",
       "      <td>-0.175774</td>\n",
       "      <td>-0.006778</td>\n",
       "      <td>0.343419</td>\n",
       "      <td>-0.428706</td>\n",
       "      <td>-0.501921</td>\n",
       "      <td>1.000000</td>\n",
       "      <td>-0.558771</td>\n",
       "    </tr>\n",
       "    <tr>\n",
       "      <th>HeartDisease</th>\n",
       "      <td>0.282039</td>\n",
       "      <td>0.305445</td>\n",
       "      <td>-0.386828</td>\n",
       "      <td>0.107589</td>\n",
       "      <td>-0.232741</td>\n",
       "      <td>0.267291</td>\n",
       "      <td>0.057384</td>\n",
       "      <td>-0.400421</td>\n",
       "      <td>0.494282</td>\n",
       "      <td>0.403951</td>\n",
       "      <td>-0.558771</td>\n",
       "      <td>1.000000</td>\n",
       "    </tr>\n",
       "  </tbody>\n",
       "</table>\n",
       "</div>"
      ],
      "text/plain": [
       "                     Age       Sex  ChestPainType  RestingBP  Cholesterol  \\\n",
       "Age             1.000000  0.055750      -0.077150   0.254399    -0.095282   \n",
       "Sex             0.055750  1.000000      -0.126559   0.005133    -0.200092   \n",
       "ChestPainType  -0.077150 -0.126559       1.000000  -0.020647     0.067880   \n",
       "RestingBP       0.254399  0.005133      -0.020647   1.000000     0.100893   \n",
       "Cholesterol    -0.095282 -0.200092       0.067880   0.100893     1.000000   \n",
       "FastingBS       0.198039  0.120076      -0.073151   0.070193    -0.260974   \n",
       "RestingECG     -0.007484  0.071552      -0.072537   0.022656    -0.196544   \n",
       "MaxHR          -0.382045 -0.189186       0.289123  -0.112135     0.235792   \n",
       "ExerciseAngina  0.215793  0.190664      -0.354727   0.155101    -0.034166   \n",
       "Oldpeak         0.258612  0.105734      -0.177377   0.164803     0.050148   \n",
       "ST_Slope       -0.268264 -0.150693       0.213521  -0.075162     0.111471   \n",
       "HeartDisease    0.282039  0.305445      -0.386828   0.107589    -0.232741   \n",
       "\n",
       "                FastingBS  RestingECG     MaxHR  ExerciseAngina   Oldpeak  \\\n",
       "Age              0.198039   -0.007484 -0.382045        0.215793  0.258612   \n",
       "Sex              0.120076    0.071552 -0.189186        0.190664  0.105734   \n",
       "ChestPainType   -0.073151   -0.072537  0.289123       -0.354727 -0.177377   \n",
       "RestingBP        0.070193    0.022656 -0.112135        0.155101  0.164803   \n",
       "Cholesterol     -0.260974   -0.196544  0.235792       -0.034166  0.050148   \n",
       "FastingBS        1.000000    0.087050 -0.131438        0.060451  0.052698   \n",
       "RestingECG       0.087050    1.000000 -0.179276        0.077500 -0.020438   \n",
       "MaxHR           -0.131438   -0.179276  1.000000       -0.370425 -0.160691   \n",
       "ExerciseAngina   0.060451    0.077500 -0.370425        1.000000  0.408752   \n",
       "Oldpeak          0.052698   -0.020438 -0.160691        0.408752  1.000000   \n",
       "ST_Slope        -0.175774   -0.006778  0.343419       -0.428706 -0.501921   \n",
       "HeartDisease     0.267291    0.057384 -0.400421        0.494282  0.403951   \n",
       "\n",
       "                ST_Slope  HeartDisease  \n",
       "Age            -0.268264      0.282039  \n",
       "Sex            -0.150693      0.305445  \n",
       "ChestPainType   0.213521     -0.386828  \n",
       "RestingBP      -0.075162      0.107589  \n",
       "Cholesterol     0.111471     -0.232741  \n",
       "FastingBS      -0.175774      0.267291  \n",
       "RestingECG     -0.006778      0.057384  \n",
       "MaxHR           0.343419     -0.400421  \n",
       "ExerciseAngina -0.428706      0.494282  \n",
       "Oldpeak        -0.501921      0.403951  \n",
       "ST_Slope        1.000000     -0.558771  \n",
       "HeartDisease   -0.558771      1.000000  "
      ]
     },
     "execution_count": 402,
     "metadata": {},
     "output_type": "execute_result"
    }
   ],
   "source": [
    "data=df.corr()\n",
    "data"
   ]
  },
  {
   "cell_type": "markdown",
   "id": "26226e22",
   "metadata": {},
   "source": [
    "### As we can see ChestPainType , Cholesterole , MaxHr , ST_Slope has negative correlation with HeartDisease,These columns will be dropped "
   ]
  },
  {
   "cell_type": "code",
   "execution_count": 403,
   "id": "6b968419",
   "metadata": {},
   "outputs": [],
   "source": [
    "col_to_drop=['ChestPainType','Cholesterol','MaxHR','ST_Slope']\n",
    "df.drop(col_to_drop,axis=1,inplace=True)"
   ]
  },
  {
   "cell_type": "code",
   "execution_count": 404,
   "id": "d7133274",
   "metadata": {},
   "outputs": [
    {
     "data": {
      "text/html": [
       "<div>\n",
       "<style scoped>\n",
       "    .dataframe tbody tr th:only-of-type {\n",
       "        vertical-align: middle;\n",
       "    }\n",
       "\n",
       "    .dataframe tbody tr th {\n",
       "        vertical-align: top;\n",
       "    }\n",
       "\n",
       "    .dataframe thead th {\n",
       "        text-align: right;\n",
       "    }\n",
       "</style>\n",
       "<table border=\"1\" class=\"dataframe\">\n",
       "  <thead>\n",
       "    <tr style=\"text-align: right;\">\n",
       "      <th></th>\n",
       "      <th>Age</th>\n",
       "      <th>Sex</th>\n",
       "      <th>RestingBP</th>\n",
       "      <th>FastingBS</th>\n",
       "      <th>RestingECG</th>\n",
       "      <th>ExerciseAngina</th>\n",
       "      <th>Oldpeak</th>\n",
       "      <th>HeartDisease</th>\n",
       "    </tr>\n",
       "  </thead>\n",
       "  <tbody>\n",
       "    <tr>\n",
       "      <th>0</th>\n",
       "      <td>40</td>\n",
       "      <td>1</td>\n",
       "      <td>140</td>\n",
       "      <td>0</td>\n",
       "      <td>1</td>\n",
       "      <td>0</td>\n",
       "      <td>0.0</td>\n",
       "      <td>0</td>\n",
       "    </tr>\n",
       "    <tr>\n",
       "      <th>1</th>\n",
       "      <td>49</td>\n",
       "      <td>0</td>\n",
       "      <td>160</td>\n",
       "      <td>0</td>\n",
       "      <td>1</td>\n",
       "      <td>0</td>\n",
       "      <td>1.0</td>\n",
       "      <td>1</td>\n",
       "    </tr>\n",
       "    <tr>\n",
       "      <th>2</th>\n",
       "      <td>37</td>\n",
       "      <td>1</td>\n",
       "      <td>130</td>\n",
       "      <td>0</td>\n",
       "      <td>2</td>\n",
       "      <td>0</td>\n",
       "      <td>0.0</td>\n",
       "      <td>0</td>\n",
       "    </tr>\n",
       "    <tr>\n",
       "      <th>3</th>\n",
       "      <td>48</td>\n",
       "      <td>0</td>\n",
       "      <td>138</td>\n",
       "      <td>0</td>\n",
       "      <td>1</td>\n",
       "      <td>1</td>\n",
       "      <td>1.5</td>\n",
       "      <td>1</td>\n",
       "    </tr>\n",
       "    <tr>\n",
       "      <th>4</th>\n",
       "      <td>54</td>\n",
       "      <td>1</td>\n",
       "      <td>150</td>\n",
       "      <td>0</td>\n",
       "      <td>1</td>\n",
       "      <td>0</td>\n",
       "      <td>0.0</td>\n",
       "      <td>0</td>\n",
       "    </tr>\n",
       "    <tr>\n",
       "      <th>...</th>\n",
       "      <td>...</td>\n",
       "      <td>...</td>\n",
       "      <td>...</td>\n",
       "      <td>...</td>\n",
       "      <td>...</td>\n",
       "      <td>...</td>\n",
       "      <td>...</td>\n",
       "      <td>...</td>\n",
       "    </tr>\n",
       "    <tr>\n",
       "      <th>913</th>\n",
       "      <td>45</td>\n",
       "      <td>1</td>\n",
       "      <td>110</td>\n",
       "      <td>0</td>\n",
       "      <td>1</td>\n",
       "      <td>0</td>\n",
       "      <td>1.2</td>\n",
       "      <td>1</td>\n",
       "    </tr>\n",
       "    <tr>\n",
       "      <th>914</th>\n",
       "      <td>68</td>\n",
       "      <td>1</td>\n",
       "      <td>144</td>\n",
       "      <td>1</td>\n",
       "      <td>1</td>\n",
       "      <td>0</td>\n",
       "      <td>3.4</td>\n",
       "      <td>1</td>\n",
       "    </tr>\n",
       "    <tr>\n",
       "      <th>915</th>\n",
       "      <td>57</td>\n",
       "      <td>1</td>\n",
       "      <td>130</td>\n",
       "      <td>0</td>\n",
       "      <td>1</td>\n",
       "      <td>1</td>\n",
       "      <td>1.2</td>\n",
       "      <td>1</td>\n",
       "    </tr>\n",
       "    <tr>\n",
       "      <th>916</th>\n",
       "      <td>57</td>\n",
       "      <td>0</td>\n",
       "      <td>130</td>\n",
       "      <td>0</td>\n",
       "      <td>0</td>\n",
       "      <td>0</td>\n",
       "      <td>0.0</td>\n",
       "      <td>1</td>\n",
       "    </tr>\n",
       "    <tr>\n",
       "      <th>917</th>\n",
       "      <td>38</td>\n",
       "      <td>1</td>\n",
       "      <td>138</td>\n",
       "      <td>0</td>\n",
       "      <td>1</td>\n",
       "      <td>0</td>\n",
       "      <td>0.0</td>\n",
       "      <td>0</td>\n",
       "    </tr>\n",
       "  </tbody>\n",
       "</table>\n",
       "<p>918 rows × 8 columns</p>\n",
       "</div>"
      ],
      "text/plain": [
       "     Age  Sex  RestingBP  FastingBS  RestingECG  ExerciseAngina  Oldpeak  \\\n",
       "0     40    1        140          0           1               0      0.0   \n",
       "1     49    0        160          0           1               0      1.0   \n",
       "2     37    1        130          0           2               0      0.0   \n",
       "3     48    0        138          0           1               1      1.5   \n",
       "4     54    1        150          0           1               0      0.0   \n",
       "..   ...  ...        ...        ...         ...             ...      ...   \n",
       "913   45    1        110          0           1               0      1.2   \n",
       "914   68    1        144          1           1               0      3.4   \n",
       "915   57    1        130          0           1               1      1.2   \n",
       "916   57    0        130          0           0               0      0.0   \n",
       "917   38    1        138          0           1               0      0.0   \n",
       "\n",
       "     HeartDisease  \n",
       "0               0  \n",
       "1               1  \n",
       "2               0  \n",
       "3               1  \n",
       "4               0  \n",
       "..            ...  \n",
       "913             1  \n",
       "914             1  \n",
       "915             1  \n",
       "916             1  \n",
       "917             0  \n",
       "\n",
       "[918 rows x 8 columns]"
      ]
     },
     "execution_count": 404,
     "metadata": {},
     "output_type": "execute_result"
    }
   ],
   "source": [
    "df"
   ]
  },
  {
   "cell_type": "markdown",
   "id": "7171866f",
   "metadata": {},
   "source": [
    "### Coverting DataFrame to numpy array"
   ]
  },
  {
   "cell_type": "code",
   "execution_count": 405,
   "id": "5e60896a",
   "metadata": {},
   "outputs": [],
   "source": [
    "df=df.values\n",
    "x=df[:,:-1]\n",
    "y=df[:,-1]"
   ]
  },
  {
   "cell_type": "code",
   "execution_count": 406,
   "id": "981f231f",
   "metadata": {},
   "outputs": [],
   "source": [
    "x=sc.fit_transform(x)"
   ]
  },
  {
   "cell_type": "markdown",
   "id": "2dbcab0a",
   "metadata": {},
   "source": [
    "### Spliting into training and testing DataSet"
   ]
  },
  {
   "cell_type": "code",
   "execution_count": 407,
   "id": "1ec72d8a",
   "metadata": {},
   "outputs": [
    {
     "name": "stdout",
     "output_type": "stream",
     "text": [
      "(734, 7) (734,) (184, 7) (184,)\n"
     ]
    }
   ],
   "source": [
    "split=int(0.8*x.shape[0])\n",
    "x_train=x[:split]\n",
    "\n",
    "y_train=y[:split]\n",
    "\n",
    "x_test=x[split:]\n",
    "y_test=y[split:]\n",
    "\n",
    "print(x_train.shape,y_train.shape,x_test.shape,y_test.shape)"
   ]
  },
  {
   "cell_type": "code",
   "execution_count": 430,
   "id": "2163fa6e",
   "metadata": {},
   "outputs": [],
   "source": [
    "from sklearn.svm import LinearSVC\n",
    "from sklearn.ensemble import RandomForestClassifier\n",
    "from sklearn.tree import DecisionTreeClassifier\n",
    "from sklearn.linear_model import LogisticRegression\n",
    "from sklearn.model_selection import GridSearchCV\n",
    "from sklearn.ensemble import StackingClassifier\n",
    "\n",
    "svm=LinearSVC(C= 0.4,dual=False)\n",
    "rfc=RandomForestClassifier()\n",
    "dt=DecisionTreeClassifier()\n",
    "lr=LogisticRegression()\n"
   ]
  },
  {
   "cell_type": "code",
   "execution_count": 431,
   "id": "bfb94998",
   "metadata": {},
   "outputs": [],
   "source": [
    "params=[\n",
    "    \n",
    "    {\n",
    "       \n",
    "         'C':[0.1,0.2,0.4,0.5,1.0,2.0,5.0]\n",
    "    }\n",
    "]"
   ]
  },
  {
   "cell_type": "code",
   "execution_count": 432,
   "id": "378f9a16",
   "metadata": {},
   "outputs": [],
   "source": [
    "gs=GridSearchCV(estimator=svm,param_grid=params,scoring='accuracy',cv=5)"
   ]
  },
  {
   "cell_type": "code",
   "execution_count": 433,
   "id": "e358b9d2",
   "metadata": {},
   "outputs": [
    {
     "data": {
      "text/plain": [
       "GridSearchCV(cv=5, estimator=LinearSVC(C=0.4, dual=False),\n",
       "             param_grid=[{'C': [0.1, 0.2, 0.4, 0.5, 1.0, 2.0, 5.0]}],\n",
       "             scoring='accuracy')"
      ]
     },
     "execution_count": 433,
     "metadata": {},
     "output_type": "execute_result"
    }
   ],
   "source": [
    "gs.fit(x_train,y_train)"
   ]
  },
  {
   "cell_type": "code",
   "execution_count": 434,
   "id": "06ab00de",
   "metadata": {},
   "outputs": [
    {
     "data": {
      "text/plain": [
       "{'C': 5.0}"
      ]
     },
     "execution_count": 434,
     "metadata": {},
     "output_type": "execute_result"
    }
   ],
   "source": [
    "gs.best_params_"
   ]
  },
  {
   "cell_type": "code",
   "execution_count": 435,
   "id": "755837f1",
   "metadata": {},
   "outputs": [
    {
     "data": {
      "text/plain": [
       "0.7997275204359673"
      ]
     },
     "execution_count": 435,
     "metadata": {},
     "output_type": "execute_result"
    }
   ],
   "source": [
    "gs.score(x_train,y_train)"
   ]
  },
  {
   "cell_type": "code",
   "execution_count": 436,
   "id": "a093fa27",
   "metadata": {},
   "outputs": [
    {
     "data": {
      "text/plain": [
       "0.7717391304347826"
      ]
     },
     "execution_count": 436,
     "metadata": {},
     "output_type": "execute_result"
    }
   ],
   "source": [
    "gs.score(x_test,y_test)"
   ]
  },
  {
   "cell_type": "code",
   "execution_count": 468,
   "id": "73cafe0a",
   "metadata": {},
   "outputs": [],
   "source": [
    "base_models = [\n",
    "    ('rf', RandomForestClassifier(n_estimators= 1400,\n",
    " min_samples_split= 5,\n",
    " max_depth= 80,\n",
    " bootstrap= True)),\n",
    "    ('SVC', LinearSVC(C = 1))]"
   ]
  },
  {
   "cell_type": "code",
   "execution_count": 469,
   "id": "fe8f65f8",
   "metadata": {},
   "outputs": [],
   "source": [
    "meta_model = LogisticRegression()"
   ]
  },
  {
   "cell_type": "code",
   "execution_count": 470,
   "id": "4f7fb4b7",
   "metadata": {},
   "outputs": [],
   "source": [
    "stacking_model = StackingClassifier(estimators=base_models, final_estimator=meta_model, passthrough=True, cv=3)"
   ]
  },
  {
   "cell_type": "code",
   "execution_count": 471,
   "id": "c3cd76a3",
   "metadata": {},
   "outputs": [
    {
     "name": "stderr",
     "output_type": "stream",
     "text": [
      "/opt/homebrew/Caskroom/miniforge/base/envs/tensorflow/lib/python3.9/site-packages/sklearn/svm/_base.py:985: ConvergenceWarning:\n",
      "\n",
      "Liblinear failed to converge, increase the number of iterations.\n",
      "\n"
     ]
    },
    {
     "data": {
      "text/plain": [
       "StackingClassifier(cv=3,\n",
       "                   estimators=[('rf',\n",
       "                                RandomForestClassifier(max_depth=80,\n",
       "                                                       min_samples_split=5,\n",
       "                                                       n_estimators=1400)),\n",
       "                               ('SVC', LinearSVC(C=1))],\n",
       "                   final_estimator=LogisticRegression(), passthrough=True)"
      ]
     },
     "execution_count": 471,
     "metadata": {},
     "output_type": "execute_result"
    }
   ],
   "source": [
    "stacking_model.fit(x_train,y_train)"
   ]
  },
  {
   "cell_type": "code",
   "execution_count": 473,
   "id": "0d2e4167",
   "metadata": {},
   "outputs": [
    {
     "data": {
      "text/plain": [
       "0.7771739130434783"
      ]
     },
     "execution_count": 473,
     "metadata": {},
     "output_type": "execute_result"
    }
   ],
   "source": [
    "stacking_model.score(x_test,y_test)"
   ]
  },
  {
   "cell_type": "code",
   "execution_count": null,
   "id": "c7aa9a56",
   "metadata": {},
   "outputs": [],
   "source": []
  },
  {
   "cell_type": "code",
   "execution_count": null,
   "id": "1d9706be",
   "metadata": {},
   "outputs": [],
   "source": [
    "\n"
   ]
  },
  {
   "cell_type": "code",
   "execution_count": null,
   "id": "1fdf787b",
   "metadata": {},
   "outputs": [],
   "source": []
  },
  {
   "cell_type": "code",
   "execution_count": null,
   "id": "77457b35",
   "metadata": {},
   "outputs": [],
   "source": []
  },
  {
   "cell_type": "code",
   "execution_count": null,
   "id": "8e165b4c",
   "metadata": {},
   "outputs": [],
   "source": []
  },
  {
   "cell_type": "code",
   "execution_count": null,
   "id": "1a0feab4",
   "metadata": {},
   "outputs": [],
   "source": []
  },
  {
   "cell_type": "code",
   "execution_count": null,
   "id": "320342de",
   "metadata": {},
   "outputs": [],
   "source": []
  },
  {
   "cell_type": "code",
   "execution_count": null,
   "id": "0f03e5ca",
   "metadata": {},
   "outputs": [],
   "source": []
  },
  {
   "cell_type": "code",
   "execution_count": null,
   "id": "51925570",
   "metadata": {},
   "outputs": [],
   "source": []
  },
  {
   "cell_type": "code",
   "execution_count": null,
   "id": "bd9bef94",
   "metadata": {},
   "outputs": [],
   "source": []
  },
  {
   "cell_type": "code",
   "execution_count": null,
   "id": "5d91541e",
   "metadata": {},
   "outputs": [],
   "source": []
  }
 ],
 "metadata": {
  "kernelspec": {
   "display_name": "Python 3.9 (tensorflow)",
   "language": "python",
   "name": "tensorflow"
  },
  "language_info": {
   "codemirror_mode": {
    "name": "ipython",
    "version": 3
   },
   "file_extension": ".py",
   "mimetype": "text/x-python",
   "name": "python",
   "nbconvert_exporter": "python",
   "pygments_lexer": "ipython3",
   "version": "3.9.7"
  }
 },
 "nbformat": 4,
 "nbformat_minor": 5
}
