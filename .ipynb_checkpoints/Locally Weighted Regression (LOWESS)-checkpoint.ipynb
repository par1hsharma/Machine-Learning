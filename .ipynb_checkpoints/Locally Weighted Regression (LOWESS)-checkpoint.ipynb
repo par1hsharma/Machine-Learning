{
 "cells": [
  {
   "cell_type": "code",
   "execution_count": 2,
   "id": "b8bbce8b",
   "metadata": {},
   "outputs": [],
   "source": [
    "import pandas as pd\n",
    "import numpy as np\n",
    "import matplotlib.pyplot as plt\n",
    "%matplotlib inline"
   ]
  },
  {
   "cell_type": "code",
   "execution_count": 3,
   "id": "259fd80c",
   "metadata": {},
   "outputs": [],
   "source": [
    "dfx=pd.read_csv('weightedX.csv')\n",
    "dfy=pd.read_csv('weightedY.csv')"
   ]
  },
  {
   "cell_type": "code",
   "execution_count": 4,
   "id": "0314b79b",
   "metadata": {},
   "outputs": [
    {
     "data": {
      "text/html": [
       "<div>\n",
       "<style scoped>\n",
       "    .dataframe tbody tr th:only-of-type {\n",
       "        vertical-align: middle;\n",
       "    }\n",
       "\n",
       "    .dataframe tbody tr th {\n",
       "        vertical-align: top;\n",
       "    }\n",
       "\n",
       "    .dataframe thead th {\n",
       "        text-align: right;\n",
       "    }\n",
       "</style>\n",
       "<table border=\"1\" class=\"dataframe\">\n",
       "  <thead>\n",
       "    <tr style=\"text-align: right;\">\n",
       "      <th></th>\n",
       "      <th>1.2421</th>\n",
       "    </tr>\n",
       "  </thead>\n",
       "  <tbody>\n",
       "    <tr>\n",
       "      <th>0</th>\n",
       "      <td>2.33480</td>\n",
       "    </tr>\n",
       "    <tr>\n",
       "      <th>1</th>\n",
       "      <td>0.13264</td>\n",
       "    </tr>\n",
       "    <tr>\n",
       "      <th>2</th>\n",
       "      <td>2.34700</td>\n",
       "    </tr>\n",
       "    <tr>\n",
       "      <th>3</th>\n",
       "      <td>6.73890</td>\n",
       "    </tr>\n",
       "    <tr>\n",
       "      <th>4</th>\n",
       "      <td>3.70890</td>\n",
       "    </tr>\n",
       "  </tbody>\n",
       "</table>\n",
       "</div>"
      ],
      "text/plain": [
       "    1.2421\n",
       "0  2.33480\n",
       "1  0.13264\n",
       "2  2.34700\n",
       "3  6.73890\n",
       "4  3.70890"
      ]
     },
     "execution_count": 4,
     "metadata": {},
     "output_type": "execute_result"
    }
   ],
   "source": [
    "dfx.head()"
   ]
  },
  {
   "cell_type": "code",
   "execution_count": 5,
   "id": "ce365270",
   "metadata": {},
   "outputs": [
    {
     "data": {
      "text/html": [
       "<div>\n",
       "<style scoped>\n",
       "    .dataframe tbody tr th:only-of-type {\n",
       "        vertical-align: middle;\n",
       "    }\n",
       "\n",
       "    .dataframe tbody tr th {\n",
       "        vertical-align: top;\n",
       "    }\n",
       "\n",
       "    .dataframe thead th {\n",
       "        text-align: right;\n",
       "    }\n",
       "</style>\n",
       "<table border=\"1\" class=\"dataframe\">\n",
       "  <thead>\n",
       "    <tr style=\"text-align: right;\">\n",
       "      <th></th>\n",
       "      <th>1.1718</th>\n",
       "    </tr>\n",
       "  </thead>\n",
       "  <tbody>\n",
       "    <tr>\n",
       "      <th>0</th>\n",
       "      <td>1.88240</td>\n",
       "    </tr>\n",
       "    <tr>\n",
       "      <th>1</th>\n",
       "      <td>0.34283</td>\n",
       "    </tr>\n",
       "    <tr>\n",
       "      <th>2</th>\n",
       "      <td>2.10570</td>\n",
       "    </tr>\n",
       "    <tr>\n",
       "      <th>3</th>\n",
       "      <td>1.64770</td>\n",
       "    </tr>\n",
       "    <tr>\n",
       "      <th>4</th>\n",
       "      <td>2.36240</td>\n",
       "    </tr>\n",
       "  </tbody>\n",
       "</table>\n",
       "</div>"
      ],
      "text/plain": [
       "    1.1718\n",
       "0  1.88240\n",
       "1  0.34283\n",
       "2  2.10570\n",
       "3  1.64770\n",
       "4  2.36240"
      ]
     },
     "execution_count": 5,
     "metadata": {},
     "output_type": "execute_result"
    }
   ],
   "source": [
    "dfy.head()"
   ]
  },
  {
   "cell_type": "code",
   "execution_count": 6,
   "id": "03515f6c",
   "metadata": {},
   "outputs": [
    {
     "name": "stdout",
     "output_type": "stream",
     "text": [
      "(99, 1) (99, 1)\n"
     ]
    }
   ],
   "source": [
    "X=dfx.values\n",
    "Y=dfy.values\n",
    "\n",
    "print(X.shape,Y.shape)"
   ]
  },
  {
   "cell_type": "code",
   "execution_count": 7,
   "id": "11cac1a6",
   "metadata": {},
   "outputs": [
    {
     "data": {
      "image/png": "[encoded data removed]",
      "text/plain": [
       "<Figure size 576x396 with 1 Axes>"
      ]
     },
     "metadata": {},
     "output_type": "display_data"
    }
   ],
   "source": [
    "plt.style.use('seaborn')\n",
    "\n",
    "#Normalise the data\n",
    "X=(X-X.mean())/X.std()\n",
    "\n",
    "plt.scatter(X,Y)\n",
    "plt.show()\n"
   ]
  },
  {
   "cell_type": "markdown",
   "id": "d17387d5",
   "metadata": {},
   "source": [
    "### Find out W (m * m )  diagonal matrix  "
   ]
  },
  {
   "cell_type": "code",
   "execution_count": 11,
   "id": "3780dbdf",
   "metadata": {},
   "outputs": [
    {
     "name": "stdout",
     "output_type": "stream",
     "text": [
      "<class 'numpy.matrix'>\n"
     ]
    }
   ],
   "source": [
    "print(type(np.mat(np.eye(5))))\n",
    "\n",
    "# ndarray = n dimensional array"
   ]
  },
  {
   "cell_type": "code",
   "execution_count": 13,
   "id": "f4e7026b",
   "metadata": {},
   "outputs": [],
   "source": [
    "def getW(query_point,X,tau):\n",
    "    m=X.shape[0]\n",
    "    w=np.mat((np.eye(m)))\n",
    "    \n",
    "    for i in range(m):\n",
    "        xi=X[i]\n",
    "        x=query_point\n",
    "        w[i,i]=np.exp(np.dot((xi-x),(xi-x).T)/(-2*tau*tau))\n",
    "    return w    "
   ]
  },
  {
   "cell_type": "code",
   "execution_count": 16,
   "id": "abf59f92",
   "metadata": {},
   "outputs": [
    {
     "name": "stdout",
     "output_type": "stream",
     "text": [
      "(99, 99)\n",
      "[[0.81327022 0.         0.         ... 0.         0.         0.        ]\n",
      " [0.         0.98353311 0.         ... 0.         0.         0.        ]\n",
      " [0.         0.         0.81193405 ... 0.         0.         0.        ]\n",
      " ...\n",
      " [0.         0.         0.         ... 0.59936711 0.         0.        ]\n",
      " [0.         0.         0.         ... 0.         0.2758226  0.        ]\n",
      " [0.         0.         0.         ... 0.         0.         0.08496804]]\n"
     ]
    }
   ],
   "source": [
    "X=np.mat(X)\n",
    "Y=np.mat(Y)\n",
    "\n",
    "w=getW(-1,X,1)\n",
    "print(w.shape)\n",
    "print(w)"
   ]
  },
  {
   "cell_type": "markdown",
   "id": "11efecdc",
   "metadata": {},
   "source": [
    "### Make Predictions"
   ]
  },
  {
   "cell_type": "code",
   "execution_count": 18,
   "id": "7d018351",
   "metadata": {},
   "outputs": [],
   "source": [
    "def pred(X,Y,query_x,tau):\n",
    "    ones=np.ones((X.shape[0],1))\n",
    "    X_=np.hstack((X,ones))\n",
    "    \n",
    "    print(X_.shape)\n",
    "    print(X_[:5,:])"
   ]
  },
  {
   "cell_type": "code",
   "execution_count": null,
   "id": "8d687ba9",
   "metadata": {},
   "outputs": [],
   "source": []
  }
 ],
 "metadata": {
  "kernelspec": {
   "display_name": "Python 3",
   "language": "python",
   "name": "python3"
  },
  "language_info": {
   "codemirror_mode": {
    "name": "ipython",
    "version": 3
   },
   "file_extension": ".py",
   "mimetype": "text/x-python",
   "name": "python",
   "nbconvert_exporter": "python",
   "pygments_lexer": "ipython3",
   "version": "3.8.8"
  }
 },
 "nbformat": 4,
 "nbformat_minor": 5
}
