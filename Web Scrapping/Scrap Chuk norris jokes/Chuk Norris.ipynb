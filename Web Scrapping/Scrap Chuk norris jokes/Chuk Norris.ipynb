{
 "cells": [
  {
   "cell_type": "code",
   "execution_count": 91,
   "id": "b264e45e",
   "metadata": {},
   "outputs": [],
   "source": [
    "import requests \n",
    "import pandas as pd\n",
    "import json"
   ]
  },
  {
   "cell_type": "code",
   "execution_count": 114,
   "id": "ebfd6811",
   "metadata": {},
   "outputs": [
    {
     "name": "stdout",
     "output_type": "stream",
     "text": [
      "b'{ \"type\": \"success\", \"value\": { \"id\": 15, \"joke\": \"When Chuck Norris goes to donate blood, he declines the syringe, and instead requests a hand gun and a bucket.\", \"categories\": [] } }'\n"
     ]
    }
   ],
   "source": [
    "url=\"http://api.icndb.com/jokes/15\"\n",
    "response=requests.get(url)\n",
    "print(response.content)\n",
    "jokea=json.loads(response.content)\n"
   ]
  },
  {
   "cell_type": "code",
   "execution_count": 115,
   "id": "5bb9fe82",
   "metadata": {},
   "outputs": [
    {
     "name": "stdout",
     "output_type": "stream",
     "text": [
      "When Chuck Norris goes to donate blood, he declines the syringe, and instead requests a hand gun and a bucket.\n"
     ]
    }
   ],
   "source": [
    "print(jokea[\"value\"][\"joke\"])"
   ]
  },
  {
   "cell_type": "code",
   "execution_count": 116,
   "id": "c40ca3da",
   "metadata": {},
   "outputs": [
    {
     "ename": "KeyError",
     "evalue": "'id'",
     "output_type": "error",
     "traceback": [
      "\u001b[0;31m---------------------------------------------------------------------------\u001b[0m",
      "\u001b[0;31mKeyError\u001b[0m                                  Traceback (most recent call last)",
      "\u001b[0;32m<ipython-input-116-1301d4480db6>\u001b[0m in \u001b[0;36m<module>\u001b[0;34m\u001b[0m\n\u001b[0;32m----> 1\u001b[0;31m \u001b[0mprint\u001b[0m\u001b[0;34m(\u001b[0m\u001b[0mjokea\u001b[0m\u001b[0;34m[\u001b[0m\u001b[0;34m\"id\"\u001b[0m\u001b[0;34m]\u001b[0m\u001b[0;34m[\u001b[0m\u001b[0;34m\"joke\"\u001b[0m\u001b[0;34m]\u001b[0m\u001b[0;34m)\u001b[0m\u001b[0;34m\u001b[0m\u001b[0;34m\u001b[0m\u001b[0m\n\u001b[0m",
      "\u001b[0;31mKeyError\u001b[0m: 'id'"
     ]
    }
   ],
   "source": [
    "print(jokea[\"id\"][\"joke\"])"
   ]
  },
  {
   "cell_type": "code",
   "execution_count": 93,
   "id": "e31dd7b5",
   "metadata": {},
   "outputs": [],
   "source": [
    "\n",
    "test=pd.read_csv('/Users/parthsharma/Desktop/Data Science CB/Test/ID.csv').values\n",
    "with open('Submission.csv','w') as f:\n",
    "     for i in test:\n",
    "                joke=[]\n",
    "                url=\"http://api.icndb.com/jokes/{}\".format(int(i))\n",
    "                response=requests.get(url)\n",
    "                result=\"\"\n",
    "                joke=json.loads(response.content)['value']['joke'] #load the joke in json format and extract value and joke column\n",
    "                result+=\"{},\".format(i)+joke+\"\\n\"\n",
    "                #print(result)\n",
    "                f.write(result)\n",
    "                \n",
    "        \n",
    "    \n",
    "            \n"
   ]
  },
  {
   "cell_type": "code",
   "execution_count": null,
   "id": "5b78783b",
   "metadata": {},
   "outputs": [],
   "source": []
  },
  {
   "cell_type": "code",
   "execution_count": null,
   "id": "3638d24e",
   "metadata": {},
   "outputs": [],
   "source": []
  },
  {
   "cell_type": "code",
   "execution_count": 111,
   "id": "ba5a16fe",
   "metadata": {},
   "outputs": [
    {
     "data": {
      "text/html": [
       "<div>\n",
       "<style scoped>\n",
       "    .dataframe tbody tr th:only-of-type {\n",
       "        vertical-align: middle;\n",
       "    }\n",
       "\n",
       "    .dataframe tbody tr th {\n",
       "        vertical-align: top;\n",
       "    }\n",
       "\n",
       "    .dataframe thead th {\n",
       "        text-align: right;\n",
       "    }\n",
       "</style>\n",
       "<table border=\"1\" class=\"dataframe\">\n",
       "  <thead>\n",
       "    <tr style=\"text-align: right;\">\n",
       "      <th></th>\n",
       "      <th>0</th>\n",
       "    </tr>\n",
       "  </thead>\n",
       "  <tbody>\n",
       "    <tr>\n",
       "      <th>0</th>\n",
       "      <td>[1],Chuck Norris uses ribbed condoms inside ou...</td>\n",
       "    </tr>\n",
       "    <tr>\n",
       "      <th>1</th>\n",
       "      <td>[2],MacGyver can build an airplane out of gum ...</td>\n",
       "    </tr>\n",
       "    <tr>\n",
       "      <th>2</th>\n",
       "      <td>[3],Chuck Norris doesn't read books. He stares...</td>\n",
       "    </tr>\n",
       "    <tr>\n",
       "      <th>3</th>\n",
       "      <td>[4],If you ask Chuck Norris what time it is, h...</td>\n",
       "    </tr>\n",
       "    <tr>\n",
       "      <th>4</th>\n",
       "      <td>[5],Chuck Norris lost his virginity before his...</td>\n",
       "    </tr>\n",
       "  </tbody>\n",
       "</table>\n",
       "</div>"
      ],
      "text/plain": [
       "                                                   0\n",
       "0  [1],Chuck Norris uses ribbed condoms inside ou...\n",
       "1  [2],MacGyver can build an airplane out of gum ...\n",
       "2  [3],Chuck Norris doesn't read books. He stares...\n",
       "3  [4],If you ask Chuck Norris what time it is, h...\n",
       "4  [5],Chuck Norris lost his virginity before his..."
      ]
     },
     "execution_count": 111,
     "metadata": {},
     "output_type": "execute_result"
    }
   ],
   "source": [
    "\n",
    "df=pd.read_csv('Submission.csv',engine='python',sep='delimiter',header=None)\n",
    "df.head()"
   ]
  },
  {
   "cell_type": "code",
   "execution_count": null,
   "id": "11fb296a",
   "metadata": {},
   "outputs": [],
   "source": []
  }
 ],
 "metadata": {
  "kernelspec": {
   "display_name": "Python 3",
   "language": "python",
   "name": "python3"
  },
  "language_info": {
   "codemirror_mode": {
    "name": "ipython",
    "version": 3
   },
   "file_extension": ".py",
   "mimetype": "text/x-python",
   "name": "python",
   "nbconvert_exporter": "python",
   "pygments_lexer": "ipython3",
   "version": "3.8.8"
  }
 },
 "nbformat": 4,
 "nbformat_minor": 5
}
